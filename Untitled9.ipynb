{
 "cells": [
  {
   "cell_type": "code",
   "execution_count": 169,
   "metadata": {
    "scrolled": true
   },
   "outputs": [
    {
     "data": {
      "text/html": [
       "<table>\n",
       "<caption>A data.frame: 5 × 4</caption>\n",
       "<thead>\n",
       "\t<tr><th></th><th scope=col>AAPL</th><th scope=col>AMZN</th><th scope=col>FB</th><th scope=col>GOOG</th></tr>\n",
       "\t<tr><th></th><th scope=col>&lt;dbl&gt;</th><th scope=col>&lt;dbl&gt;</th><th scope=col>&lt;dbl&gt;</th><th scope=col>&lt;dbl&gt;</th></tr>\n",
       "</thead>\n",
       "<tbody>\n",
       "\t<tr><th scope=row>1</th><td> 0.00000000</td><td> 0.000000000</td><td> 0.000000000</td><td> 0.000000000</td></tr>\n",
       "\t<tr><th scope=row>2</th><td> 0.01175838</td><td>-0.001231038</td><td>-0.003107666</td><td> 0.009254949</td></tr>\n",
       "\t<tr><th scope=row>3</th><td> 0.01672089</td><td> 0.022661581</td><td> 0.010186464</td><td> 0.021811350</td></tr>\n",
       "\t<tr><th scope=row>4</th><td>-0.06210659</td><td>-0.009044559</td><td>-0.047997222</td><td>-0.013917391</td></tr>\n",
       "\t<tr><th scope=row>5</th><td>-0.05786610</td><td>-0.125819629</td><td> 0.083390921</td><td>-0.000614651</td></tr>\n",
       "</tbody>\n",
       "</table>\n"
      ],
      "text/latex": [
       "A data.frame: 5 × 4\n",
       "\\begin{tabular}{r|llll}\n",
       "  & AAPL & AMZN & FB & GOOG\\\\\n",
       "  & <dbl> & <dbl> & <dbl> & <dbl>\\\\\n",
       "\\hline\n",
       "\t1 &  0.00000000 &  0.000000000 &  0.000000000 &  0.000000000\\\\\n",
       "\t2 &  0.01175838 & -0.001231038 & -0.003107666 &  0.009254949\\\\\n",
       "\t3 &  0.01672089 &  0.022661581 &  0.010186464 &  0.021811350\\\\\n",
       "\t4 & -0.06210659 & -0.009044559 & -0.047997222 & -0.013917391\\\\\n",
       "\t5 & -0.05786610 & -0.125819629 &  0.083390921 & -0.000614651\\\\\n",
       "\\end{tabular}\n"
      ],
      "text/markdown": [
       "\n",
       "A data.frame: 5 × 4\n",
       "\n",
       "| <!--/--> | AAPL &lt;dbl&gt; | AMZN &lt;dbl&gt; | FB &lt;dbl&gt; | GOOG &lt;dbl&gt; |\n",
       "|---|---|---|---|---|\n",
       "| 1 |  0.00000000 |  0.000000000 |  0.000000000 |  0.000000000 |\n",
       "| 2 |  0.01175838 | -0.001231038 | -0.003107666 |  0.009254949 |\n",
       "| 3 |  0.01672089 |  0.022661581 |  0.010186464 |  0.021811350 |\n",
       "| 4 | -0.06210659 | -0.009044559 | -0.047997222 | -0.013917391 |\n",
       "| 5 | -0.05786610 | -0.125819629 |  0.083390921 | -0.000614651 |\n",
       "\n"
      ],
      "text/plain": [
       "  AAPL        AMZN         FB           GOOG        \n",
       "1  0.00000000  0.000000000  0.000000000  0.000000000\n",
       "2  0.01175838 -0.001231038 -0.003107666  0.009254949\n",
       "3  0.01672089  0.022661581  0.010186464  0.021811350\n",
       "4 -0.06210659 -0.009044559 -0.047997222 -0.013917391\n",
       "5 -0.05786610 -0.125819629  0.083390921 -0.000614651"
      ]
     },
     "metadata": {},
     "output_type": "display_data"
    },
    {
     "data": {
      "text/html": [
       "<table>\n",
       "<caption>A data.frame: 5 × 4</caption>\n",
       "<thead>\n",
       "\t<tr><th></th><th scope=col>AAPL</th><th scope=col>AMZN</th><th scope=col>FB</th><th scope=col>GOOG</th></tr>\n",
       "\t<tr><th></th><th scope=col>&lt;dbl&gt;</th><th scope=col>&lt;dbl&gt;</th><th scope=col>&lt;dbl&gt;</th><th scope=col>&lt;dbl&gt;</th></tr>\n",
       "</thead>\n",
       "<tbody>\n",
       "\t<tr><th scope=row>266</th><td>1.257721</td><td>3.167550</td><td>1.955111</td><td>1.0200648</td></tr>\n",
       "\t<tr><th scope=row>267</th><td>1.215077</td><td>3.115293</td><td>1.849447</td><td>0.9766665</td></tr>\n",
       "\t<tr><th scope=row>268</th><td>1.215595</td><td>3.089089</td><td>1.801968</td><td>0.9717133</td></tr>\n",
       "\t<tr><th scope=row>269</th><td>1.259666</td><td>3.111248</td><td>1.833736</td><td>0.9656671</td></tr>\n",
       "\t<tr><th scope=row>270</th><td>1.266665</td><td>3.123031</td><td>1.810946</td><td>0.9672889</td></tr>\n",
       "</tbody>\n",
       "</table>\n"
      ],
      "text/latex": [
       "A data.frame: 5 × 4\n",
       "\\begin{tabular}{r|llll}\n",
       "  & AAPL & AMZN & FB & GOOG\\\\\n",
       "  & <dbl> & <dbl> & <dbl> & <dbl>\\\\\n",
       "\\hline\n",
       "\t266 & 1.257721 & 3.167550 & 1.955111 & 1.0200648\\\\\n",
       "\t267 & 1.215077 & 3.115293 & 1.849447 & 0.9766665\\\\\n",
       "\t268 & 1.215595 & 3.089089 & 1.801968 & 0.9717133\\\\\n",
       "\t269 & 1.259666 & 3.111248 & 1.833736 & 0.9656671\\\\\n",
       "\t270 & 1.266665 & 3.123031 & 1.810946 & 0.9672889\\\\\n",
       "\\end{tabular}\n"
      ],
      "text/markdown": [
       "\n",
       "A data.frame: 5 × 4\n",
       "\n",
       "| <!--/--> | AAPL &lt;dbl&gt; | AMZN &lt;dbl&gt; | FB &lt;dbl&gt; | GOOG &lt;dbl&gt; |\n",
       "|---|---|---|---|---|\n",
       "| 266 | 1.257721 | 3.167550 | 1.955111 | 1.0200648 |\n",
       "| 267 | 1.215077 | 3.115293 | 1.849447 | 0.9766665 |\n",
       "| 268 | 1.215595 | 3.089089 | 1.801968 | 0.9717133 |\n",
       "| 269 | 1.259666 | 3.111248 | 1.833736 | 0.9656671 |\n",
       "| 270 | 1.266665 | 3.123031 | 1.810946 | 0.9672889 |\n",
       "\n"
      ],
      "text/plain": [
       "    AAPL     AMZN     FB       GOOG     \n",
       "266 1.257721 3.167550 1.955111 1.0200648\n",
       "267 1.215077 3.115293 1.849447 0.9766665\n",
       "268 1.215595 3.089089 1.801968 0.9717133\n",
       "269 1.259666 3.111248 1.833736 0.9656671\n",
       "270 1.266665 3.123031 1.810946 0.9672889"
      ]
     },
     "metadata": {},
     "output_type": "display_data"
    }
   ],
   "source": [
    "#ISYE 6402 Spring 2020\n",
    "#Final Initialization Code\n",
    "\n",
    "\n",
    "data <- read.csv(\"Stock growth.csv\", header=TRUE)\n",
    "data <- data[,c(2,3,4,5)]\n",
    "\n",
    "AAPL=data$AAPL\n",
    "AMZN=data$AMZN\n",
    "FB=data$FB\n",
    "GOOG=data$GOOG\n",
    "\n",
    "\n",
    "\n",
    "data.ts <- ts(data)\n",
    "dif.ts <- data.frame(diff(data.ts))\n",
    "\n",
    "train <- data[c(1:261),]\n",
    "train.dif <- dif.ts[c(1:260),]\n",
    "test <- data[c(262:270),]\n",
    "test.dif <- dif.ts[c(261:269),]\n",
    "\n",
    "\n",
    "head(data, n=5)\n",
    "tail(data, n=5)"
   ]
  },
  {
   "cell_type": "code",
   "execution_count": null,
   "metadata": {},
   "outputs": [],
   "source": [
    "Answer:all four sets show constant mean, acf & pacf within the band meaning autocorrelation not chaning by \n",
    "shift in time (only first 1 out is in acf). However, all show clusters of variability toward the recent years\n",
    "and is more pronounced for GOOG and AMZN\n"
   ]
  },
  {
   "cell_type": "code",
   "execution_count": 170,
   "metadata": {
    "scrolled": true
   },
   "outputs": [
    {
     "data": {
      "image/png": "[encoded data removed]",
      "text/plain": [
       "Plot with title \"Series  dif.GOOG\""
      ]
     },
     "metadata": {},
     "output_type": "display_data"
    }
   ],
   "source": [
    "##Exploratory Data Analysis\n",
    "\n",
    "dif.AAPL=ts(dif.ts$AAPL, start=c(2014,1), freq=52)\n",
    "dif.AMZN=ts(dif.ts$AMZN, start=c(2014,1), freq=52)\n",
    "dif.FB=ts(dif.ts$FB, start=c(2014,1), freq=52)\n",
    "dif.GOOG=ts(dif.ts$GOOG, start=c(2014,1), freq=52)\n",
    "\n",
    "\n",
    "#Plots\n",
    "par(mfrow=c(4,3))\n",
    "plot(dif.AAPL, main=\"AAPL\")\n",
    "stats::acf(dif.AAPL, lag.max=52*5)\n",
    "stats::pacf(dif.AAPL, lag.max=52*5)\n",
    "\n",
    "plot(dif.AMZN, main=\"AMZN\")\n",
    "stats::acf(dif.AMZN, lag.max=52*5)\n",
    "stats::pacf(dif.AMZN, lag.max=52*5)\n",
    "\n",
    "plot(dif.FB, main=\"FB\")\n",
    "stats::acf(dif.FB, lag.max=52*5)\n",
    "stats::pacf(dif.FB, lag.max=52*5)\n",
    "\n",
    "plot(dif.GOOG, main=\"GOOG\")\n",
    "stats::acf(dif.GOOG, lag.max=52*5)\n",
    "stats::pacf(dif.GOOG, lag.max=52*5)"
   ]
  },
  {
   "cell_type": "code",
   "execution_count": null,
   "metadata": {},
   "outputs": [],
   "source": [
    "Answer: No, we aplied two different approchaes on two different data sets. not comparable."
   ]
  },
  {
   "cell_type": "code",
   "execution_count": 172,
   "metadata": {
    "scrolled": true
   },
   "outputs": [
    {
     "data": {
      "text/plain": [
       "\n",
       "Call:\n",
       "lm(formula = AMZN ~ x1 + x2)\n",
       "\n",
       "Residuals:\n",
       "    Min      1Q  Median      3Q     Max \n",
       "-1.1362 -0.1559 -0.0383  0.1156  1.0546 \n",
       "\n",
       "Coefficients:\n",
       "            Estimate Std. Error t value Pr(>|t|)    \n",
       "(Intercept) -0.20091    0.05378  -3.736 0.000229 ***\n",
       "x1           0.02447    0.24936   0.098 0.921903    \n",
       "x2           4.01028    0.24228  16.552  < 2e-16 ***\n",
       "---\n",
       "Signif. codes:  0 '***' 0.001 '**' 0.01 '*' 0.05 '.' 0.1 ' ' 1\n",
       "\n",
       "Residual standard error: 0.2967 on 267 degrees of freedom\n",
       "Multiple R-squared:  0.9428,\tAdjusted R-squared:  0.9424 \n",
       "F-statistic:  2202 on 2 and 267 DF,  p-value: < 2.2e-16\n"
      ]
     },
     "metadata": {},
     "output_type": "display_data"
    },
    {
     "data": {
      "text/plain": [
       "\n",
       "Family: gaussian \n",
       "Link function: identity \n",
       "\n",
       "Formula:\n",
       "FB ~ s(time.pts)\n",
       "\n",
       "Parametric coefficients:\n",
       "            Estimate Std. Error t value Pr(>|t|)    \n",
       "(Intercept) 1.099475   0.008985   122.4   <2e-16 ***\n",
       "---\n",
       "Signif. codes:  0 '***' 0.001 '**' 0.01 '*' 0.05 '.' 0.1 ' ' 1\n",
       "\n",
       "Approximate significance of smooth terms:\n",
       "              edf Ref.df     F p-value    \n",
       "s(time.pts) 7.928  8.699 683.9  <2e-16 ***\n",
       "---\n",
       "Signif. codes:  0 '***' 0.001 '**' 0.01 '*' 0.05 '.' 0.1 ' ' 1\n",
       "\n",
       "R-sq.(adj) =  0.957   Deviance explained = 95.8%\n",
       "GCV = 0.022543  Scale est. = 0.021797  n = 270"
      ]
     },
     "metadata": {},
     "output_type": "display_data"
    }
   ],
   "source": [
    "time.pts = c(1:length(AMZN))\n",
    "time.pts = c(time.pts - min(time.pts))/max(time.pts)\n",
    "x1 = time.pts\n",
    "x2 = time.pts^2\n",
    "poly.AMZN= lm(AMZN~x1+x2)\n",
    "summary(poly.AMZN)\n",
    "\n",
    "\n",
    "gam.FB = gam(FB~s(time.pts))\n",
    "summary(gam.FB)"
   ]
  },
  {
   "cell_type": "code",
   "execution_count": 173,
   "metadata": {},
   "outputs": [
    {
     "name": "stdout",
     "output_type": "stream",
     "text": [
      "[1] \"MAE.AMZN\"\n"
     ]
    },
    {
     "data": {
      "text/html": [
       "0.20985860523449"
      ],
      "text/latex": [
       "0.20985860523449"
      ],
      "text/markdown": [
       "0.20985860523449"
      ],
      "text/plain": [
       "[1] 0.2098586"
      ]
     },
     "metadata": {},
     "output_type": "display_data"
    },
    {
     "name": "stdout",
     "output_type": "stream",
     "text": [
      "[1] \"MAE.FB\"\n"
     ]
    },
    {
     "data": {
      "text/html": [
       "0.0979453610757941"
      ],
      "text/latex": [
       "0.0979453610757941"
      ],
      "text/markdown": [
       "0.0979453610757941"
      ],
      "text/plain": [
       "[1] 0.09794536"
      ]
     },
     "metadata": {},
     "output_type": "display_data"
    },
    {
     "name": "stdout",
     "output_type": "stream",
     "text": [
      "[1] \"MSE.AMZN\"\n"
     ]
    },
    {
     "data": {
      "text/html": [
       "0.0870686304659278"
      ],
      "text/latex": [
       "0.0870686304659278"
      ],
      "text/markdown": [
       "0.0870686304659278"
      ],
      "text/plain": [
       "[1] 0.08706863"
      ]
     },
     "metadata": {},
     "output_type": "display_data"
    },
    {
     "name": "stdout",
     "output_type": "stream",
     "text": [
      "[1] \"MSE.FB\"\n"
     ]
    },
    {
     "data": {
      "text/html": [
       "0.0210764728064946"
      ],
      "text/latex": [
       "0.0210764728064946"
      ],
      "text/markdown": [
       "0.0210764728064946"
      ],
      "text/plain": [
       "[1] 0.02107647"
      ]
     },
     "metadata": {},
     "output_type": "display_data"
    }
   ],
   "source": [
    "fit.amzn.poly=fitted(poly.AMZN)\n",
    "fit.fb.gam=fitted(gam.FB)\n",
    "\n",
    "\n",
    "#MAE\n",
    "MAE.AMZN=mean(abs(fit.amzn.poly-AMZN))\n",
    "MAE.FB=mean(abs(fit.fb.gam-FB))\n",
    "\n",
    "#MSE\n",
    "MSE.AMZN=mean((fit.amzn.poly-AMZN)^2)\n",
    "MSE.FB=mean((fit.fb.gam-FB)^2)\n",
    "\n",
    "print(\"MAE.AMZN\")\n",
    "MAE.AMZN\n",
    "print(\"MAE.FB\")\n",
    "MAE.FB\n",
    "\n",
    "print(\"MSE.AMZN\")\n",
    "MSE.AMZN\n",
    "print(\"MSE.FB\")\n",
    "MSE.FB"
   ]
  },
  {
   "cell_type": "code",
   "execution_count": null,
   "metadata": {},
   "outputs": [],
   "source": [
    "Answer: Resiudals show strong patterns left that models didnt capture. Deviation from all the assmptions for both\n",
    "AMZN and FB. No stationarity, no Normality in residuals"
   ]
  },
  {
   "cell_type": "code",
   "execution_count": 174,
   "metadata": {
    "scrolled": true
   },
   "outputs": [
    {
     "data": {
      "image/png": "[encoded data removed]",
      "text/plain": [
       "Plot with title \"QQ-plot: AMZN\""
      ]
     },
     "metadata": {},
     "output_type": "display_data"
    },
    {
     "data": {
      "image/png": "[encoded data removed]",
      "text/plain": [
       "Plot with title \"QQ-plot: FB\""
      ]
     },
     "metadata": {},
     "output_type": "display_data"
    }
   ],
   "source": [
    "resid.AMZN.poly=ts(residuals(poly.AMZN), start=c(2014,1), freq=52)\n",
    "resid.FB.poly=ts(residuals(gam.FB), start=c(2014,1), freq=52)\n",
    "\n",
    "par(mfrow=c(2,2))\n",
    "plot(resid.AMZN.poly, main=\"AMZN resduals\")\n",
    "abline(h=0)\n",
    "stats::acf(resid.AMZN.poly,main=\"AMZN resduals\" )\n",
    "hist(resid.AMZN.poly,xlab='Residuals',main='AMZN')\n",
    "qqnorm(resid.AMZN.poly,main=\"QQ-plot: AMZN\")\n",
    "qqline(resid.AMZN.poly)\n",
    "\n",
    "\n",
    "\n",
    "plot(resid.FB.poly, main=\"FB residuals\")\n",
    "stats::acf(resid.FB.poly, main=\"FB residuals\")\n",
    "hist(resid.FB.poly,main='FB')\n",
    "qqnorm(resid.FB.poly,main=\"QQ-plot: FB\")\n",
    "qqline(resid.FB.poly)"
   ]
  },
  {
   "cell_type": "code",
   "execution_count": null,
   "metadata": {},
   "outputs": [],
   "source": [
    "**********************************************ARIMA*****************************************************"
   ]
  },
  {
   "cell_type": "code",
   "execution_count": null,
   "metadata": {},
   "outputs": [],
   "source": [
    "Answer: acf and pacf have no significant lag except for acf at zero. Overal seems statinary and like a white noise but\n",
    "for and ARMA proces we cant find p and q orders from acf and pacg graphs. That approach is for pure MA or AR"
   ]
  },
  {
   "cell_type": "code",
   "execution_count": 180,
   "metadata": {},
   "outputs": [
    {
     "data": {
      "image/png": "[encoded data removed]",
      "text/plain": [
       "Plot with title \"Series  train.dif$AAPL\""
      ]
     },
     "metadata": {},
     "output_type": "display_data"
    }
   ],
   "source": [
    "par(mfrow=c(2,1))\n",
    "stats::acf(train.dif$AAPL)\n",
    "stats::pacf(train.dif$AAPL)"
   ]
  },
  {
   "cell_type": "code",
   "execution_count": null,
   "metadata": {},
   "outputs": [],
   "source": [
    "Answer: for AAPL, order of (3,1,3) was selected"
   ]
  },
  {
   "cell_type": "code",
   "execution_count": 181,
   "metadata": {},
   "outputs": [],
   "source": [
    "AAPL.train=ts(train$AAPL, start=c(2014,1), freq=52)\n",
    "GOOG.train=ts(train$GOOG, start=c(2014,1), freq=52)"
   ]
  },
  {
   "cell_type": "code",
   "execution_count": 182,
   "metadata": {
    "scrolled": true
   },
   "outputs": [
    {
     "name": "stderr",
     "output_type": "stream",
     "text": [
      "Warning message in stats::arima(x = x, order = order, seasonal = seasonal, xreg = xreg, :\n",
      "\"possible convergence problem: optim gave code = 1\"Warning message in log(s2):\n",
      "\"NaNs produced\"Warning message in stats::arima(x = x, order = order, seasonal = seasonal, xreg = xreg, :\n",
      "\"possible convergence problem: optim gave code = 1\"Warning message in stats::arima(x = x, order = order, seasonal = seasonal, xreg = xreg, :\n",
      "\"possible convergence problem: optim gave code = 1\"Warning message in stats::arima(x = x, order = order, seasonal = seasonal, xreg = xreg, :\n",
      "\"possible convergence problem: optim gave code = 1\"Warning message in log(s2):\n",
      "\"NaNs produced\"Warning message in log(s2):\n",
      "\"NaNs produced\""
     ]
    },
    {
     "data": {
      "text/html": [
       "<table>\n",
       "<caption>A data.frame: 6 × 4</caption>\n",
       "<thead>\n",
       "\t<tr><th></th><th scope=col>p</th><th scope=col>d</th><th scope=col>q</th><th scope=col>AIC</th></tr>\n",
       "\t<tr><th></th><th scope=col>&lt;dbl&gt;</th><th scope=col>&lt;dbl&gt;</th><th scope=col>&lt;dbl&gt;</th><th scope=col>&lt;dbl&gt;</th></tr>\n",
       "</thead>\n",
       "<tbody>\n",
       "\t<tr><th scope=row>69</th><td>4</td><td>1</td><td>4</td><td>-733.1826</td></tr>\n",
       "\t<tr><th scope=row>68</th><td>4</td><td>1</td><td>3</td><td>-734.0249</td></tr>\n",
       "\t<tr><th scope=row>55</th><td>3</td><td>1</td><td>4</td><td>-734.0685</td></tr>\n",
       "\t<tr><th scope=row>41</th><td>2</td><td>1</td><td>4</td><td>-735.2308</td></tr>\n",
       "\t<tr><th scope=row>67</th><td>4</td><td>1</td><td>2</td><td>-735.4337</td></tr>\n",
       "\t<tr><th scope=row>54</th><td>3</td><td>1</td><td>3</td><td>-735.6907</td></tr>\n",
       "</tbody>\n",
       "</table>\n"
      ],
      "text/latex": [
       "A data.frame: 6 × 4\n",
       "\\begin{tabular}{r|llll}\n",
       "  & p & d & q & AIC\\\\\n",
       "  & <dbl> & <dbl> & <dbl> & <dbl>\\\\\n",
       "\\hline\n",
       "\t69 & 4 & 1 & 4 & -733.1826\\\\\n",
       "\t68 & 4 & 1 & 3 & -734.0249\\\\\n",
       "\t55 & 3 & 1 & 4 & -734.0685\\\\\n",
       "\t41 & 2 & 1 & 4 & -735.2308\\\\\n",
       "\t67 & 4 & 1 & 2 & -735.4337\\\\\n",
       "\t54 & 3 & 1 & 3 & -735.6907\\\\\n",
       "\\end{tabular}\n"
      ],
      "text/markdown": [
       "\n",
       "A data.frame: 6 × 4\n",
       "\n",
       "| <!--/--> | p &lt;dbl&gt; | d &lt;dbl&gt; | q &lt;dbl&gt; | AIC &lt;dbl&gt; |\n",
       "|---|---|---|---|---|\n",
       "| 69 | 4 | 1 | 4 | -733.1826 |\n",
       "| 68 | 4 | 1 | 3 | -734.0249 |\n",
       "| 55 | 3 | 1 | 4 | -734.0685 |\n",
       "| 41 | 2 | 1 | 4 | -735.2308 |\n",
       "| 67 | 4 | 1 | 2 | -735.4337 |\n",
       "| 54 | 3 | 1 | 3 | -735.6907 |\n",
       "\n"
      ],
      "text/plain": [
       "   p d q AIC      \n",
       "69 4 1 4 -733.1826\n",
       "68 4 1 3 -734.0249\n",
       "55 3 1 4 -734.0685\n",
       "41 2 1 4 -735.2308\n",
       "67 4 1 2 -735.4337\n",
       "54 3 1 3 -735.6907"
      ]
     },
     "metadata": {},
     "output_type": "display_data"
    }
   ],
   "source": [
    "test_modelA <- function(p,d,q){\n",
    "  model = arima(AAPL.train, order=c(p,d,q), method=\"ML\")\n",
    "  current.aic = AIC(model)\n",
    "  df = data.frame(p,d,q,current.aic)\n",
    "  names(df) <- c(\"p\",\"d\",\"q\",\"AIC\")\n",
    "  #print(paste(p,d,q,current.aic,sep=\" \"))\n",
    "  return(df)\n",
    "}\n",
    "\n",
    "orders = data.frame(Inf,Inf,Inf,Inf)\n",
    "names(orders) <- c(\"p\",\"d\",\"q\",\"AIC\")\n",
    "\n",
    "\n",
    "for (p in 0:4){\n",
    "  for (d in 0:2){\n",
    "    for (q in 0:4) {\n",
    "      possibleError <- tryCatch(\n",
    "        orders<-rbind(orders,test_modelA(p,d,q)),\n",
    "        error=function(e) e\n",
    "      )\n",
    "      if(inherits(possibleError, \"error\")) next\n",
    "      \n",
    "    }\n",
    "  }\n",
    "}\n",
    "orders <- orders[order(-orders$AIC),]\n",
    "tail(orders)\n"
   ]
  },
  {
   "cell_type": "code",
   "execution_count": null,
   "metadata": {},
   "outputs": [],
   "source": [
    "Answer: for GOOG, (2,1,2) is the lowest but (2,1,0) is within 2 AIC and we select (2,1,0)"
   ]
  },
  {
   "cell_type": "code",
   "execution_count": 184,
   "metadata": {},
   "outputs": [
    {
     "name": "stderr",
     "output_type": "stream",
     "text": [
      "Warning message in stats::arima(x = x, order = order, seasonal = seasonal, xreg = xreg, :\n",
      "\"possible convergence problem: optim gave code = 1\"Warning message in log(s2):\n",
      "\"NaNs produced\"Warning message in stats::arima(x = x, order = order, seasonal = seasonal, xreg = xreg, :\n",
      "\"possible convergence problem: optim gave code = 1\"Warning message in log(s2):\n",
      "\"NaNs produced\"Warning message in log(s2):\n",
      "\"NaNs produced\"Warning message in log(s2):\n",
      "\"NaNs produced\"Warning message in log(s2):\n",
      "\"NaNs produced\"Warning message in stats::arima(x = x, order = order, seasonal = seasonal, xreg = xreg, :\n",
      "\"possible convergence problem: optim gave code = 1\""
     ]
    },
    {
     "data": {
      "text/html": [
       "<table>\n",
       "<caption>A data.frame: 6 × 4</caption>\n",
       "<thead>\n",
       "\t<tr><th></th><th scope=col>p</th><th scope=col>d</th><th scope=col>q</th><th scope=col>AIC</th></tr>\n",
       "\t<tr><th></th><th scope=col>&lt;dbl&gt;</th><th scope=col>&lt;dbl&gt;</th><th scope=col>&lt;dbl&gt;</th><th scope=col>&lt;dbl&gt;</th></tr>\n",
       "</thead>\n",
       "<tbody>\n",
       "\t<tr><th scope=row>52</th><td>3</td><td>1</td><td>0</td><td>-872.9408</td></tr>\n",
       "\t<tr><th scope=row>54</th><td>3</td><td>1</td><td>2</td><td>-873.6940</td></tr>\n",
       "\t<tr><th scope=row>40</th><td>2</td><td>1</td><td>3</td><td>-873.7427</td></tr>\n",
       "\t<tr><th scope=row>9</th><td>0</td><td>1</td><td>2</td><td>-873.8059</td></tr>\n",
       "\t<tr><th scope=row>37</th><td>2</td><td>1</td><td>0</td><td>-874.8510</td></tr>\n",
       "\t<tr><th scope=row>39</th><td>2</td><td>1</td><td>2</td><td>-875.5016</td></tr>\n",
       "</tbody>\n",
       "</table>\n"
      ],
      "text/latex": [
       "A data.frame: 6 × 4\n",
       "\\begin{tabular}{r|llll}\n",
       "  & p & d & q & AIC\\\\\n",
       "  & <dbl> & <dbl> & <dbl> & <dbl>\\\\\n",
       "\\hline\n",
       "\t52 & 3 & 1 & 0 & -872.9408\\\\\n",
       "\t54 & 3 & 1 & 2 & -873.6940\\\\\n",
       "\t40 & 2 & 1 & 3 & -873.7427\\\\\n",
       "\t9 & 0 & 1 & 2 & -873.8059\\\\\n",
       "\t37 & 2 & 1 & 0 & -874.8510\\\\\n",
       "\t39 & 2 & 1 & 2 & -875.5016\\\\\n",
       "\\end{tabular}\n"
      ],
      "text/markdown": [
       "\n",
       "A data.frame: 6 × 4\n",
       "\n",
       "| <!--/--> | p &lt;dbl&gt; | d &lt;dbl&gt; | q &lt;dbl&gt; | AIC &lt;dbl&gt; |\n",
       "|---|---|---|---|---|\n",
       "| 52 | 3 | 1 | 0 | -872.9408 |\n",
       "| 54 | 3 | 1 | 2 | -873.6940 |\n",
       "| 40 | 2 | 1 | 3 | -873.7427 |\n",
       "| 9 | 0 | 1 | 2 | -873.8059 |\n",
       "| 37 | 2 | 1 | 0 | -874.8510 |\n",
       "| 39 | 2 | 1 | 2 | -875.5016 |\n",
       "\n"
      ],
      "text/plain": [
       "   p d q AIC      \n",
       "52 3 1 0 -872.9408\n",
       "54 3 1 2 -873.6940\n",
       "40 2 1 3 -873.7427\n",
       "9  0 1 2 -873.8059\n",
       "37 2 1 0 -874.8510\n",
       "39 2 1 2 -875.5016"
      ]
     },
     "metadata": {},
     "output_type": "display_data"
    }
   ],
   "source": [
    "test_modelA <- function(p,d,q){\n",
    "  model = arima(GOOG.train, order=c(p,d,q), method=\"ML\")\n",
    "  current.aic = AIC(model)\n",
    "  df = data.frame(p,d,q,current.aic)\n",
    "  names(df) <- c(\"p\",\"d\",\"q\",\"AIC\")\n",
    "  #print(paste(p,d,q,current.aic,sep=\" \"))\n",
    "  return(df)\n",
    "}\n",
    "\n",
    "orders = data.frame(Inf,Inf,Inf,Inf)\n",
    "names(orders) <- c(\"p\",\"d\",\"q\",\"AIC\")\n",
    "\n",
    "\n",
    "for (p in 0:4){\n",
    "  for (d in 0:2){\n",
    "    for (q in 0:4) {\n",
    "      possibleError <- tryCatch(\n",
    "        orders<-rbind(orders,test_modelA(p,d,q)),\n",
    "        error=function(e) e\n",
    "      )\n",
    "      if(inherits(possibleError, \"error\")) next\n",
    "      \n",
    "    }\n",
    "  }\n",
    "}\n",
    "orders <- orders[order(-orders$AIC),]\n",
    "tail(orders)"
   ]
  },
  {
   "cell_type": "code",
   "execution_count": null,
   "metadata": {},
   "outputs": [],
   "source": [
    "Answer: There is one ar coeffcient between -1 and 1 and therfore not stationary and not causal in AAPL. \n",
    "Also coeffcints in MA are very close and indication of non statinarity.\n",
    "\n",
    "In GOOG, bothe roots are above 1 and stationary\n",
    "[1] \"AAPL AR roots\"\n",
    "0.613048231396822   1.76642589423238   1.76642589423238\n",
    "[1] \"AAPL MA roots\"\n",
    "1.00004688339824    1.00004688339824   2.53443870077484\n",
    "[1] \"GOOG AR roots\"\n",
    "2.21821459142078    2.63935144829276"
   ]
  },
  {
   "cell_type": "code",
   "execution_count": 185,
   "metadata": {
    "scrolled": false
   },
   "outputs": [
    {
     "data": {
      "text/plain": [
       "\n",
       "Call:\n",
       "arima(x = AAPL.train, order = c(3, 1, 3), method = \"ML\")\n",
       "\n",
       "Coefficients:\n",
       "         ar1      ar2     ar3      ma1     ma2      ma3\n",
       "      0.7652  -1.0920  0.5228  -0.7096  1.1242  -0.3945\n",
       "s.e.  0.4571   0.1113  0.4402   0.4986  0.1576   0.5016\n",
       "\n",
       "sigma^2 estimated as 0.003202:  log likelihood = 374.85,  aic = -737.69"
      ]
     },
     "metadata": {},
     "output_type": "display_data"
    },
    {
     "data": {
      "text/plain": [
       "\n",
       "Call:\n",
       "arima(x = GOOG.train, order = c(2, 1, 0), method = \"ML\")\n",
       "\n",
       "Coefficients:\n",
       "          ar1      ar2\n",
       "      -0.0719  -0.1708\n",
       "s.e.   0.0616   0.0620\n",
       "\n",
       "sigma^2 estimated as 0.001977:  log likelihood = 440.43,  aic = -876.85"
      ]
     },
     "metadata": {},
     "output_type": "display_data"
    },
    {
     "name": "stdout",
     "output_type": "stream",
     "text": [
      "[1] \"AAPL AR roots\"\n"
     ]
    },
    {
     "data": {
      "text/html": [
       "<style>\n",
       ".list-inline {list-style: none; margin:0; padding: 0}\n",
       ".list-inline>li {display: inline-block}\n",
       ".list-inline>li:not(:last-child)::after {content: \"\\00b7\"; padding: 0 .5ex}\n",
       "</style>\n",
       "<ol class=list-inline><li>0.613048231396822</li><li>1.76642589423238</li><li>1.76642589423238</li></ol>\n"
      ],
      "text/latex": [
       "\\begin{enumerate*}\n",
       "\\item 0.613048231396822\n",
       "\\item 1.76642589423238\n",
       "\\item 1.76642589423238\n",
       "\\end{enumerate*}\n"
      ],
      "text/markdown": [
       "1. 0.613048231396822\n",
       "2. 1.76642589423238\n",
       "3. 1.76642589423238\n",
       "\n",
       "\n"
      ],
      "text/plain": [
       "[1] 0.6130482 1.7664259 1.7664259"
      ]
     },
     "metadata": {},
     "output_type": "display_data"
    },
    {
     "name": "stdout",
     "output_type": "stream",
     "text": [
      "[1] \"AAPL MA roots\"\n"
     ]
    },
    {
     "data": {
      "text/html": [
       "<style>\n",
       ".list-inline {list-style: none; margin:0; padding: 0}\n",
       ".list-inline>li {display: inline-block}\n",
       ".list-inline>li:not(:last-child)::after {content: \"\\00b7\"; padding: 0 .5ex}\n",
       "</style>\n",
       "<ol class=list-inline><li>1.00004688339824</li><li>1.00004688339824</li><li>2.53443870077484</li></ol>\n"
      ],
      "text/latex": [
       "\\begin{enumerate*}\n",
       "\\item 1.00004688339824\n",
       "\\item 1.00004688339824\n",
       "\\item 2.53443870077484\n",
       "\\end{enumerate*}\n"
      ],
      "text/markdown": [
       "1. 1.00004688339824\n",
       "2. 1.00004688339824\n",
       "3. 2.53443870077484\n",
       "\n",
       "\n"
      ],
      "text/plain": [
       "[1] 1.000047 1.000047 2.534439"
      ]
     },
     "metadata": {},
     "output_type": "display_data"
    },
    {
     "name": "stdout",
     "output_type": "stream",
     "text": [
      "[1] \"GOOG AR roots\"\n"
     ]
    },
    {
     "data": {
      "text/html": [
       "<style>\n",
       ".list-inline {list-style: none; margin:0; padding: 0}\n",
       ".list-inline>li {display: inline-block}\n",
       ".list-inline>li:not(:last-child)::after {content: \"\\00b7\"; padding: 0 .5ex}\n",
       "</style>\n",
       "<ol class=list-inline><li>2.21821459142078</li><li>2.63935144829276</li></ol>\n"
      ],
      "text/latex": [
       "\\begin{enumerate*}\n",
       "\\item 2.21821459142078\n",
       "\\item 2.63935144829276\n",
       "\\end{enumerate*}\n"
      ],
      "text/markdown": [
       "1. 2.21821459142078\n",
       "2. 2.63935144829276\n",
       "\n",
       "\n"
      ],
      "text/plain": [
       "[1] 2.218215 2.639351"
      ]
     },
     "metadata": {},
     "output_type": "display_data"
    }
   ],
   "source": [
    "arima.AAPL = arima(AAPL.train, order = c(3,1,3), method = \"ML\") \n",
    "arima.GOOG = arima(GOOG.train, order = c(2,1,0), method = \"ML\") \n",
    "\n",
    "arima.AAPL\n",
    "arima.GOOG\n",
    "\n",
    "print(\"AAPL AR roots\")\n",
    "abs(polyroot(c(1, coef(arima.AAPL)[1:3])))\n",
    "print(\"AAPL MA roots\")\n",
    "abs(polyroot(c(1, coef(arima.AAPL)[4:6])))\n",
    "\n",
    "print(\"GOOG AR roots\")\n",
    "abs(polyroot(c(1, coef(arima.GOOG)[1:2])))\n"
   ]
  },
  {
   "cell_type": "code",
   "execution_count": 186,
   "metadata": {
    "scrolled": true
   },
   "outputs": [
    {
     "name": "stdout",
     "output_type": "stream",
     "text": [
      "[1] \"MAPE AAPL\"\n"
     ]
    },
    {
     "data": {
      "text/html": [
       "0.116600610921583"
      ],
      "text/latex": [
       "0.116600610921583"
      ],
      "text/markdown": [
       "0.116600610921583"
      ],
      "text/plain": [
       "[1] 0.1166006"
      ]
     },
     "metadata": {},
     "output_type": "display_data"
    },
    {
     "name": "stdout",
     "output_type": "stream",
     "text": [
      "[1] \"MAPE GOOG\"\n"
     ]
    },
    {
     "data": {
      "text/html": [
       "0.12559363693683"
      ],
      "text/latex": [
       "0.12559363693683"
      ],
      "text/markdown": [
       "0.12559363693683"
      ],
      "text/plain": [
       "[1] 0.1255936"
      ]
     },
     "metadata": {},
     "output_type": "display_data"
    },
    {
     "name": "stdout",
     "output_type": "stream",
     "text": [
      "[1] \"Precision AAPL\"\n"
     ]
    },
    {
     "data": {
      "text/html": [
       "1.79276775433398"
      ],
      "text/latex": [
       "1.79276775433398"
      ],
      "text/markdown": [
       "1.79276775433398"
      ],
      "text/plain": [
       "[1] 1.792768"
      ]
     },
     "metadata": {},
     "output_type": "display_data"
    },
    {
     "name": "stdout",
     "output_type": "stream",
     "text": [
      "[1] \"Precision GOOG\"\n"
     ]
    },
    {
     "data": {
      "text/html": [
       "7.11795284077865"
      ],
      "text/latex": [
       "7.11795284077865"
      ],
      "text/markdown": [
       "7.11795284077865"
      ],
      "text/plain": [
       "[1] 7.117953"
      ]
     },
     "metadata": {},
     "output_type": "display_data"
    }
   ],
   "source": [
    "AAPL.arima.pred=predict(arima.AAPL, n.ahead=9)\n",
    "GOOG.arima.pred=predict(arima.GOOG, n.ahead=9)\n",
    "\n",
    "#MAPE\n",
    "print(\"MAPE AAPL\")\n",
    "mean(abs(AAPL.arima.pred$pred - test$AAPL)/abs(test$AAPL))\n",
    "print(\"MAPE GOOG\")\n",
    "mean(abs(GOOG.arima.pred$pred - test$GOOG)/abs(test$GOOG))\n",
    "#Precision\n",
    "print(\"Precision AAPL\")\n",
    "sum((AAPL.arima.pred$pred-test$AAPL)^2)/sum((test$AAPL-mean(test$AAPL))^2)\n",
    "print(\"Precision GOOG\")\n",
    "sum((GOOG.arima.pred$pred-test$GOOG)^2)/sum((test$GOOG-mean(test$GOOG))^2)"
   ]
  },
  {
   "cell_type": "code",
   "execution_count": null,
   "metadata": {},
   "outputs": [],
   "source": [
    "Answer: Model underpredicts. It also dsnt capture the variations.\n",
    "Not very good model but acceptable since true value within confidence band"
   ]
  },
  {
   "cell_type": "code",
   "execution_count": 188,
   "metadata": {
    "scrolled": false
   },
   "outputs": [
    {
     "data": {
      "image/png": "[encoded data removed]",
      "text/plain": [
       "Plot with title \"GOOG ARIMA Forecast\""
      ]
     },
     "metadata": {},
     "output_type": "display_data"
    }
   ],
   "source": [
    "ubound = GOOG.arima.pred$pred +1.96*GOOG.arima.pred$se\n",
    "lbound = GOOG.arima.pred$pred-1.96*GOOG.arima.pred$se\n",
    "ymin = min(lbound)\n",
    "ymax = max(ubound)\n",
    "\n",
    "par(mfrow=c(2,2))\n",
    "\n",
    "plot(1:9, test$GOOG,type=\"l\", ylim=c(ymin,ymax), xlab=\"Time\", ylab = 'GOOG', main=\"GOOG ARIMA Forecast\")\n",
    "points(1:9,GOOG.arima.pred$pred ,col=\"red\")\n",
    "lines(1:9,ubound,lty=3,lwd= 2, col=\"blue\")\n",
    "lines(1:9,lbound,lty=3,lwd= 2, col=\"blue\")"
   ]
  },
  {
   "cell_type": "code",
   "execution_count": null,
   "metadata": {},
   "outputs": [],
   "source": [
    "******************************************************VAR***********************"
   ]
  },
  {
   "cell_type": "code",
   "execution_count": null,
   "metadata": {},
   "outputs": [],
   "source": [
    "Answer: p selected=2\n",
    "all tests are have very small p value meaning reject null hypothesis and therfore no constant variance, no normality\n",
    "and residuals are correlated"
   ]
  },
  {
   "cell_type": "code",
   "execution_count": 189,
   "metadata": {},
   "outputs": [
    {
     "data": {
      "text/html": [
       "<style>\n",
       ".dl-inline {width: auto; margin:0; padding: 0}\n",
       ".dl-inline>dt, .dl-inline>dd {float: none; width: auto; display: inline-block}\n",
       ".dl-inline>dt::after {content: \":\\0020\"; padding-right: .5ex}\n",
       ".dl-inline>dt:not(:first-of-type) {padding-left: .5ex}\n",
       "</style><dl class=dl-inline><dt>AIC(n)</dt><dd>2</dd><dt>HQ(n)</dt><dd>1</dd><dt>SC(n)</dt><dd>1</dd><dt>FPE(n)</dt><dd>2</dd></dl>\n"
      ],
      "text/latex": [
       "\\begin{description*}\n",
       "\\item[AIC(n)] 2\n",
       "\\item[HQ(n)] 1\n",
       "\\item[SC(n)] 1\n",
       "\\item[FPE(n)] 2\n",
       "\\end{description*}\n"
      ],
      "text/markdown": [
       "AIC(n)\n",
       ":   2HQ(n)\n",
       ":   1SC(n)\n",
       ":   1FPE(n)\n",
       ":   2\n",
       "\n"
      ],
      "text/plain": [
       "AIC(n)  HQ(n)  SC(n) FPE(n) \n",
       "     2      1      1      2 "
      ]
     },
     "metadata": {},
     "output_type": "display_data"
    }
   ],
   "source": [
    "##Model Selection\n",
    "var.train.dif=ts(train.dif, start=c(2014,1), freq=52)\n",
    "data.train=ts.union(var.train.dif)\n",
    "\n",
    "VARselect(data.train, lag.max = 30, type=\"both\")$selection\n"
   ]
  },
  {
   "cell_type": "code",
   "execution_count": 123,
   "metadata": {
    "scrolled": true
   },
   "outputs": [
    {
     "data": {
      "text/plain": [
       "\n",
       "\tARCH (multivariate)\n",
       "\n",
       "data:  Residuals of VAR object model.var\n",
       "Chi-squared = 1017.8, df = 500, p-value < 2.2e-16\n",
       "\n",
       "$arch.mul\n",
       "\n",
       "\tARCH (multivariate)\n",
       "\n",
       "data:  Residuals of VAR object model.var\n",
       "Chi-squared = 1017.8, df = 500, p-value < 2.2e-16\n",
       "\n"
      ]
     },
     "metadata": {},
     "output_type": "display_data"
    },
    {
     "data": {
      "text/plain": [
       "$JB\n",
       "\n",
       "\tJB-Test (multivariate)\n",
       "\n",
       "data:  Residuals of VAR object model.var\n",
       "Chi-squared = 4228.8, df = 8, p-value < 2.2e-16\n",
       "\n",
       "\n",
       "$Skewness\n",
       "\n",
       "\tSkewness only (multivariate)\n",
       "\n",
       "data:  Residuals of VAR object model.var\n",
       "Chi-squared = 171.34, df = 4, p-value < 2.2e-16\n",
       "\n",
       "\n",
       "$Kurtosis\n",
       "\n",
       "\tKurtosis only (multivariate)\n",
       "\n",
       "data:  Residuals of VAR object model.var\n",
       "Chi-squared = 4057.5, df = 4, p-value < 2.2e-16\n",
       "\n",
       "\n",
       "$jb.mul\n",
       "$jb.mul$JB\n",
       "\n",
       "\tJB-Test (multivariate)\n",
       "\n",
       "data:  Residuals of VAR object model.var\n",
       "Chi-squared = 4228.8, df = 8, p-value < 2.2e-16\n",
       "\n",
       "\n",
       "$jb.mul$Skewness\n",
       "\n",
       "\tSkewness only (multivariate)\n",
       "\n",
       "data:  Residuals of VAR object model.var\n",
       "Chi-squared = 171.34, df = 4, p-value < 2.2e-16\n",
       "\n",
       "\n",
       "$jb.mul$Kurtosis\n",
       "\n",
       "\tKurtosis only (multivariate)\n",
       "\n",
       "data:  Residuals of VAR object model.var\n",
       "Chi-squared = 4057.5, df = 4, p-value < 2.2e-16\n",
       "\n",
       "\n"
      ]
     },
     "metadata": {},
     "output_type": "display_data"
    },
    {
     "data": {
      "text/plain": [
       "\n",
       "\tPortmanteau Test (asymptotic)\n",
       "\n",
       "data:  Residuals of VAR object model.var\n",
       "Chi-squared = 310.42, df = 224, p-value = 0.0001156\n",
       "\n",
       "$serial\n",
       "\n",
       "\tPortmanteau Test (asymptotic)\n",
       "\n",
       "data:  Residuals of VAR object model.var\n",
       "Chi-squared = 310.42, df = 224, p-value = 0.0001156\n",
       "\n"
      ]
     },
     "metadata": {},
     "output_type": "display_data"
    }
   ],
   "source": [
    "model.var=VAR(data.train, p=2,type=\"both\")\n",
    "#summary(model.var)\n",
    "arch.test(model.var)\n",
    "normality.test(model.var)\n",
    "serial.test(model.var)\n"
   ]
  },
  {
   "cell_type": "code",
   "execution_count": null,
   "metadata": {},
   "outputs": [],
   "source": [
    "Answer: \n",
    "I see two diffenet pattern here. For AAPL the measures got worse but for GOOG improved. \n",
    "Here I think AAPL is not very dependent on others and VAR didnt do much good but GOOG is getting impact from paramerets.\n",
    "Maybe one can guess no granger causality from other 3 companies on AAPL."
   ]
  },
  {
   "cell_type": "code",
   "execution_count": 190,
   "metadata": {
    "scrolled": true
   },
   "outputs": [
    {
     "name": "stdout",
     "output_type": "stream",
     "text": [
      "[1] \"MAPE AAPL\"\n"
     ]
    },
    {
     "data": {
      "text/html": [
       "1.36446471879353"
      ],
      "text/latex": [
       "1.36446471879353"
      ],
      "text/markdown": [
       "1.36446471879353"
      ],
      "text/plain": [
       "[1] 1.364465"
      ]
     },
     "metadata": {},
     "output_type": "display_data"
    },
    {
     "name": "stdout",
     "output_type": "stream",
     "text": [
      "[1] \"MAPE GOOG\"\n"
     ]
    },
    {
     "data": {
      "text/html": [
       "2.99182972957393"
      ],
      "text/latex": [
       "2.99182972957393"
      ],
      "text/markdown": [
       "2.99182972957393"
      ],
      "text/plain": [
       "[1] 2.99183"
      ]
     },
     "metadata": {},
     "output_type": "display_data"
    },
    {
     "name": "stdout",
     "output_type": "stream",
     "text": [
      "[1] \"Precision AAPL\"\n"
     ]
    },
    {
     "data": {
      "text/html": [
       "1.24867501366047"
      ],
      "text/latex": [
       "1.24867501366047"
      ],
      "text/markdown": [
       "1.24867501366047"
      ],
      "text/plain": [
       "[1] 1.248675"
      ]
     },
     "metadata": {},
     "output_type": "display_data"
    },
    {
     "name": "stdout",
     "output_type": "stream",
     "text": [
      "[1] \"Precision GOOG\"\n"
     ]
    },
    {
     "data": {
      "text/html": [
       "0.975213655344881"
      ],
      "text/latex": [
       "0.975213655344881"
      ],
      "text/markdown": [
       "0.975213655344881"
      ],
      "text/plain": [
       "[1] 0.9752137"
      ]
     },
     "metadata": {},
     "output_type": "display_data"
    }
   ],
   "source": [
    "pred.var = predict(model.var, n.ahead = 9)\n",
    "\n",
    "\n",
    "AAPL.fit.var = pred.var[[1]]$AAPL[,1]\n",
    "GOOG.fit.var = pred.var[[1]]$GOOG[,1]\n",
    "\n",
    "#MAPE\n",
    "MAPE.AAPL = mean(abs(AAPL.fit.var - test.dif$AAPL)/abs(test.dif$AAPL))\n",
    "MAPE.GOOG = mean(abs(GOOG.fit.var - test.dif$GOOG)/abs(test.dif$GOOG))\n",
    "\n",
    "#Precision\n",
    "Precision.AAPL = sum((AAPL.fit.var-test.dif$AAPL)^2)/sum((test.dif$AAPL-mean(test.dif$AAPL))^2)\n",
    "Precision.GOOG = sum((GOOG.fit.var-test.dif$GOOG)^2)/sum((test.dif$GOOG-mean(test.dif$GOOG))^2)\n",
    "\n",
    "print(\"MAPE AAPL\")\n",
    "MAPE.AAPL \n",
    "print(\"MAPE GOOG\")\n",
    "MAPE.GOOG \n",
    "\n",
    "#Precision\n",
    "print(\"Precision AAPL\")\n",
    "Precision.AAPL\n",
    "print(\"Precision GOOG\")\n",
    "Precision.GOOG \n"
   ]
  },
  {
   "cell_type": "code",
   "execution_count": null,
   "metadata": {},
   "outputs": [],
   "source": [
    "****************************************GARCH********************************"
   ]
  },
  {
   "cell_type": "code",
   "execution_count": null,
   "metadata": {},
   "outputs": [],
   "source": [
    "Answer: Selected is arma(1,0) garch(1,1)\n",
    "\n",
    "Yt=0.0031727+0.9970383Yt-1+Zt\n",
    "\n",
    "sigma_t^2=0.0001013+0.1444465Zt-1^2+0.8197287sigma_t-1^2\n",
    "\n"
   ]
  },
  {
   "cell_type": "code",
   "execution_count": 191,
   "metadata": {
    "scrolled": false
   },
   "outputs": [
    {
     "name": "stdout",
     "output_type": "stream",
     "text": [
      "[1] \"0 0 -3.33651778013112\"\n",
      "[1] \"0 1 -3.35273791316552\"\n",
      "[1] \"0 2 -3.33256377537417\"\n",
      "[1] \"1 0 -3.33624199793839\"\n",
      "[1] \"1 1 -3.38406629795307\"\n",
      "[1] \"1 2 -3.37503067952085\"\n",
      "[1] \"2 0 -3.31944762690579\"\n",
      "[1] \"2 1 -3.36137669319369\"\n",
      "[1] \"2 2 -3.35371064479329\"\n"
     ]
    },
    {
     "data": {
      "text/html": [
       "<table>\n",
       "<caption>A data.frame: 6 × 3</caption>\n",
       "<thead>\n",
       "\t<tr><th></th><th scope=col>m</th><th scope=col>n</th><th scope=col>BIC</th></tr>\n",
       "\t<tr><th></th><th scope=col>&lt;dbl&gt;</th><th scope=col>&lt;dbl&gt;</th><th scope=col>&lt;dbl&gt;</th></tr>\n",
       "</thead>\n",
       "<tbody>\n",
       "\t<tr><th scope=row>2</th><td>0</td><td>0</td><td>-3.336518</td></tr>\n",
       "\t<tr><th scope=row>3</th><td>0</td><td>1</td><td>-3.352738</td></tr>\n",
       "\t<tr><th scope=row>10</th><td>2</td><td>2</td><td>-3.353711</td></tr>\n",
       "\t<tr><th scope=row>9</th><td>2</td><td>1</td><td>-3.361377</td></tr>\n",
       "\t<tr><th scope=row>7</th><td>1</td><td>2</td><td>-3.375031</td></tr>\n",
       "\t<tr><th scope=row>6</th><td>1</td><td>1</td><td>-3.384066</td></tr>\n",
       "</tbody>\n",
       "</table>\n"
      ],
      "text/latex": [
       "A data.frame: 6 × 3\n",
       "\\begin{tabular}{r|lll}\n",
       "  & m & n & BIC\\\\\n",
       "  & <dbl> & <dbl> & <dbl>\\\\\n",
       "\\hline\n",
       "\t2 & 0 & 0 & -3.336518\\\\\n",
       "\t3 & 0 & 1 & -3.352738\\\\\n",
       "\t10 & 2 & 2 & -3.353711\\\\\n",
       "\t9 & 2 & 1 & -3.361377\\\\\n",
       "\t7 & 1 & 2 & -3.375031\\\\\n",
       "\t6 & 1 & 1 & -3.384066\\\\\n",
       "\\end{tabular}\n"
      ],
      "text/markdown": [
       "\n",
       "A data.frame: 6 × 3\n",
       "\n",
       "| <!--/--> | m &lt;dbl&gt; | n &lt;dbl&gt; | BIC &lt;dbl&gt; |\n",
       "|---|---|---|---|\n",
       "| 2 | 0 | 0 | -3.336518 |\n",
       "| 3 | 0 | 1 | -3.352738 |\n",
       "| 10 | 2 | 2 | -3.353711 |\n",
       "| 9 | 2 | 1 | -3.361377 |\n",
       "| 7 | 1 | 2 | -3.375031 |\n",
       "| 6 | 1 | 1 | -3.384066 |\n",
       "\n"
      ],
      "text/plain": [
       "   m n BIC      \n",
       "2  0 0 -3.336518\n",
       "3  0 1 -3.352738\n",
       "10 2 2 -3.353711\n",
       "9  2 1 -3.361377\n",
       "7  1 2 -3.375031\n",
       "6  1 1 -3.384066"
      ]
     },
     "metadata": {},
     "output_type": "display_data"
    }
   ],
   "source": [
    "#GARCH update\n",
    "test_modelAGG <- function(m,n){\n",
    "  spec = ugarchspec(variance.model=list(garchOrder=c(m,n)),\n",
    "                    mean.model=list(armaOrder=c(1,1), \n",
    "                                    include.mean=T), distribution.model=\"std\")    \n",
    "  fit = ugarchfit(spec, train$GOOG, solver = 'hybrid')\n",
    "  current.bic = infocriteria(fit)[2]\n",
    "  df = data.frame(m,n,current.bic)\n",
    "  names(df) <- c(\"m\",\"n\",\"BIC\")\n",
    "  print(paste(m,n,current.bic,sep=\" \"))\n",
    "  return(df)\n",
    "}\n",
    "\n",
    "orders = data.frame(Inf,Inf,Inf)\n",
    "names(orders) <- c(\"m\",\"n\",\"BIC\")\n",
    "\n",
    "\n",
    "for (m in 0:2){\n",
    "  for (n in 0:2){\n",
    "    possibleError <- tryCatch(\n",
    "      orders<-rbind(orders,test_modelAGG(m,n)),\n",
    "      error=function(e) e\n",
    "    )\n",
    "    if(inherits(possibleError, \"error\")) next\n",
    "  }\n",
    "}\n",
    "orders <- orders[order(-orders$BIC),]\n",
    "tail(orders)"
   ]
  },
  {
   "cell_type": "code",
   "execution_count": 192,
   "metadata": {
    "scrolled": false
   },
   "outputs": [
    {
     "name": "stdout",
     "output_type": "stream",
     "text": [
      "[1] \"0 0 0.0717381298661982\"\n",
      "[1] \"0 1 -0.805591101528872\"\n",
      "[1] \"0 2 -1.36976132068664\"\n",
      "[1] \"0 3 -1.7587570677331\"\n",
      "[1] \"0 4 -1.94016199559539\"\n"
     ]
    },
    {
     "name": "stderr",
     "output_type": "stream",
     "text": [
      "Warning message in arima(data, order = c(modelinc[2], 0, modelinc[3]), include.mean = modelinc[1], :\n",
      "\"possible convergence problem: optim gave code = 1\""
     ]
    },
    {
     "name": "stdout",
     "output_type": "stream",
     "text": [
      "[1] \"1 0 -3.39629866804102\"\n",
      "[1] \"1 1 -3.384066297871\"\n",
      "[1] \"1 2 -3.37366791987464\"\n",
      "[1] \"1 3 -3.35704480493681\"\n",
      "[1] \"1 4 -3.33727035858523\"\n",
      "[1] \"2 0 -3.38487119648788\"\n",
      "[1] \"2 1 -3.37313870716823\"\n",
      "[1] \"2 2 -3.36221547716773\"\n",
      "[1] \"2 3 -3.34318353069626\"\n",
      "[1] \"2 4 -3.39307132635665\"\n",
      "[1] \"3 0 -3.38481652538328\"\n",
      "[1] \"3 1 -3.36371758211347\"\n",
      "[1] \"3 2 -3.37348376054928\"\n",
      "[1] \"3 3 -3.35701316220222\"\n",
      "[1] \"3 4 -3.33508432773667\"\n",
      "[1] \"4 0 -3.3658394406842\"\n",
      "[1] \"4 1 -3.34460542263777\"\n",
      "[1] \"4 2 -3.35596048868544\"\n",
      "[1] \"4 3 -3.32977526367827\"\n"
     ]
    },
    {
     "name": "stderr",
     "output_type": "stream",
     "text": [
      "Warning message in arima(data, order = c(modelinc[2], 0, modelinc[3]), include.mean = modelinc[1], :\n",
      "\"possible convergence problem: optim gave code = 1\""
     ]
    },
    {
     "name": "stdout",
     "output_type": "stream",
     "text": [
      "[1] \"4 4 -3.31709212899351\"\n"
     ]
    },
    {
     "data": {
      "text/html": [
       "<table>\n",
       "<caption>A data.frame: 6 × 3</caption>\n",
       "<thead>\n",
       "\t<tr><th></th><th scope=col>p</th><th scope=col>q</th><th scope=col>BIC</th></tr>\n",
       "\t<tr><th></th><th scope=col>&lt;dbl&gt;</th><th scope=col>&lt;dbl&gt;</th><th scope=col>&lt;dbl&gt;</th></tr>\n",
       "</thead>\n",
       "<tbody>\n",
       "\t<tr><th scope=row>9</th><td>1</td><td>2</td><td>-3.373668</td></tr>\n",
       "\t<tr><th scope=row>8</th><td>1</td><td>1</td><td>-3.384066</td></tr>\n",
       "\t<tr><th scope=row>17</th><td>3</td><td>0</td><td>-3.384817</td></tr>\n",
       "\t<tr><th scope=row>12</th><td>2</td><td>0</td><td>-3.384871</td></tr>\n",
       "\t<tr><th scope=row>16</th><td>2</td><td>4</td><td>-3.393071</td></tr>\n",
       "\t<tr><th scope=row>7</th><td>1</td><td>0</td><td>-3.396299</td></tr>\n",
       "</tbody>\n",
       "</table>\n"
      ],
      "text/latex": [
       "A data.frame: 6 × 3\n",
       "\\begin{tabular}{r|lll}\n",
       "  & p & q & BIC\\\\\n",
       "  & <dbl> & <dbl> & <dbl>\\\\\n",
       "\\hline\n",
       "\t9 & 1 & 2 & -3.373668\\\\\n",
       "\t8 & 1 & 1 & -3.384066\\\\\n",
       "\t17 & 3 & 0 & -3.384817\\\\\n",
       "\t12 & 2 & 0 & -3.384871\\\\\n",
       "\t16 & 2 & 4 & -3.393071\\\\\n",
       "\t7 & 1 & 0 & -3.396299\\\\\n",
       "\\end{tabular}\n"
      ],
      "text/markdown": [
       "\n",
       "A data.frame: 6 × 3\n",
       "\n",
       "| <!--/--> | p &lt;dbl&gt; | q &lt;dbl&gt; | BIC &lt;dbl&gt; |\n",
       "|---|---|---|---|\n",
       "| 9 | 1 | 2 | -3.373668 |\n",
       "| 8 | 1 | 1 | -3.384066 |\n",
       "| 17 | 3 | 0 | -3.384817 |\n",
       "| 12 | 2 | 0 | -3.384871 |\n",
       "| 16 | 2 | 4 | -3.393071 |\n",
       "| 7 | 1 | 0 | -3.396299 |\n",
       "\n"
      ],
      "text/plain": [
       "   p q BIC      \n",
       "9  1 2 -3.373668\n",
       "8  1 1 -3.384066\n",
       "17 3 0 -3.384817\n",
       "12 2 0 -3.384871\n",
       "16 2 4 -3.393071\n",
       "7  1 0 -3.396299"
      ]
     },
     "metadata": {},
     "output_type": "display_data"
    }
   ],
   "source": [
    "#ARMA update\n",
    "#ARIMA-GARCH ARIMA order\n",
    "test_modelAGA <- function(p,q){\n",
    "  spec = ugarchspec(variance.model=list(garchOrder=c(1,1)),\n",
    "                    mean.model=list(armaOrder=c(p,q), \n",
    "                                    include.mean=T), distribution.model=\"std\")    \n",
    "  fit = ugarchfit(spec, train$GOOG, solver = 'hybrid')\n",
    "  current.bic = infocriteria(fit)[2]\n",
    "  df = data.frame(p,q,current.bic)\n",
    "  names(df) <- c(\"p\",\"q\",\"BIC\")\n",
    "  print(paste(p,q,current.bic,sep=\" \"))\n",
    "  return(df)\n",
    "}\n",
    "\n",
    "orders = data.frame(Inf,Inf,Inf)\n",
    "names(orders) <- c(\"p\",\"q\",\"BIC\")\n",
    "\n",
    "\n",
    "for (p in 0:4){\n",
    "  for (q in 0:4){\n",
    "    possibleError <- tryCatch(\n",
    "      orders<-rbind(orders,test_modelAGA(p,q)),\n",
    "      error=function(e) e\n",
    "    )\n",
    "    if(inherits(possibleError, \"error\")) next\n",
    "  }\n",
    "}\n",
    "orders <- orders[order(-orders$BIC),]\n",
    "tail(orders)"
   ]
  },
  {
   "cell_type": "code",
   "execution_count": 193,
   "metadata": {
    "scrolled": false
   },
   "outputs": [
    {
     "name": "stderr",
     "output_type": "stream",
     "text": [
      "Warning message in arima(data, order = c(modelinc[2], 0, modelinc[3]), include.mean = modelinc[1], :\n",
      "\"possible convergence problem: optim gave code = 1\""
     ]
    },
    {
     "name": "stdout",
     "output_type": "stream",
     "text": [
      "[1] \"0 0 -3.34959893384065\"\n"
     ]
    },
    {
     "name": "stderr",
     "output_type": "stream",
     "text": [
      "Warning message in arima(data, order = c(modelinc[2], 0, modelinc[3]), include.mean = modelinc[1], :\n",
      "\"possible convergence problem: optim gave code = 1\""
     ]
    },
    {
     "name": "stdout",
     "output_type": "stream",
     "text": [
      "[1] \"0 1 -3.36551322295168\"\n"
     ]
    },
    {
     "name": "stderr",
     "output_type": "stream",
     "text": [
      "Warning message in arima(data, order = c(modelinc[2], 0, modelinc[3]), include.mean = modelinc[1], :\n",
      "\"possible convergence problem: optim gave code = 1\""
     ]
    },
    {
     "name": "stdout",
     "output_type": "stream",
     "text": [
      "[1] \"0 2 -3.34528905355052\"\n"
     ]
    },
    {
     "name": "stderr",
     "output_type": "stream",
     "text": [
      "Warning message in arima(data, order = c(modelinc[2], 0, modelinc[3]), include.mean = modelinc[1], :\n",
      "\"possible convergence problem: optim gave code = 1\""
     ]
    },
    {
     "name": "stdout",
     "output_type": "stream",
     "text": [
      "[1] \"1 0 -3.34821201665357\"\n"
     ]
    },
    {
     "name": "stderr",
     "output_type": "stream",
     "text": [
      "Warning message in arima(data, order = c(modelinc[2], 0, modelinc[3]), include.mean = modelinc[1], :\n",
      "\"possible convergence problem: optim gave code = 1\""
     ]
    },
    {
     "name": "stdout",
     "output_type": "stream",
     "text": [
      "[1] \"1 1 -3.39629866807033\"\n"
     ]
    },
    {
     "name": "stderr",
     "output_type": "stream",
     "text": [
      "Warning message in arima(data, order = c(modelinc[2], 0, modelinc[3]), include.mean = modelinc[1], :\n",
      "\"possible convergence problem: optim gave code = 1\""
     ]
    },
    {
     "name": "stdout",
     "output_type": "stream",
     "text": [
      "[1] \"1 2 -3.37807948392398\"\n"
     ]
    },
    {
     "name": "stderr",
     "output_type": "stream",
     "text": [
      "Warning message in arima(data, order = c(modelinc[2], 0, modelinc[3]), include.mean = modelinc[1], :\n",
      "\"possible convergence problem: optim gave code = 1\""
     ]
    },
    {
     "name": "stdout",
     "output_type": "stream",
     "text": [
      "[1] \"2 0 -3.33444148212633\"\n"
     ]
    },
    {
     "name": "stderr",
     "output_type": "stream",
     "text": [
      "Warning message in arima(data, order = c(modelinc[2], 0, modelinc[3]), include.mean = modelinc[1], :\n",
      "\"possible convergence problem: optim gave code = 1\""
     ]
    },
    {
     "name": "stdout",
     "output_type": "stream",
     "text": [
      "[1] \"2 1 -3.3735416719899\"\n"
     ]
    },
    {
     "name": "stderr",
     "output_type": "stream",
     "text": [
      "Warning message in arima(data, order = c(modelinc[2], 0, modelinc[3]), include.mean = modelinc[1], :\n",
      "\"possible convergence problem: optim gave code = 1\""
     ]
    },
    {
     "name": "stdout",
     "output_type": "stream",
     "text": [
      "[1] \"2 2 -3.35793653426794\"\n"
     ]
    },
    {
     "data": {
      "text/html": [
       "<table>\n",
       "<caption>A data.frame: 6 × 3</caption>\n",
       "<thead>\n",
       "\t<tr><th></th><th scope=col>m</th><th scope=col>n</th><th scope=col>BIC</th></tr>\n",
       "\t<tr><th></th><th scope=col>&lt;dbl&gt;</th><th scope=col>&lt;dbl&gt;</th><th scope=col>&lt;dbl&gt;</th></tr>\n",
       "</thead>\n",
       "<tbody>\n",
       "\t<tr><th scope=row>2</th><td>0</td><td>0</td><td>-3.349599</td></tr>\n",
       "\t<tr><th scope=row>10</th><td>2</td><td>2</td><td>-3.357937</td></tr>\n",
       "\t<tr><th scope=row>3</th><td>0</td><td>1</td><td>-3.365513</td></tr>\n",
       "\t<tr><th scope=row>9</th><td>2</td><td>1</td><td>-3.373542</td></tr>\n",
       "\t<tr><th scope=row>7</th><td>1</td><td>2</td><td>-3.378079</td></tr>\n",
       "\t<tr><th scope=row>6</th><td>1</td><td>1</td><td>-3.396299</td></tr>\n",
       "</tbody>\n",
       "</table>\n"
      ],
      "text/latex": [
       "A data.frame: 6 × 3\n",
       "\\begin{tabular}{r|lll}\n",
       "  & m & n & BIC\\\\\n",
       "  & <dbl> & <dbl> & <dbl>\\\\\n",
       "\\hline\n",
       "\t2 & 0 & 0 & -3.349599\\\\\n",
       "\t10 & 2 & 2 & -3.357937\\\\\n",
       "\t3 & 0 & 1 & -3.365513\\\\\n",
       "\t9 & 2 & 1 & -3.373542\\\\\n",
       "\t7 & 1 & 2 & -3.378079\\\\\n",
       "\t6 & 1 & 1 & -3.396299\\\\\n",
       "\\end{tabular}\n"
      ],
      "text/markdown": [
       "\n",
       "A data.frame: 6 × 3\n",
       "\n",
       "| <!--/--> | m &lt;dbl&gt; | n &lt;dbl&gt; | BIC &lt;dbl&gt; |\n",
       "|---|---|---|---|\n",
       "| 2 | 0 | 0 | -3.349599 |\n",
       "| 10 | 2 | 2 | -3.357937 |\n",
       "| 3 | 0 | 1 | -3.365513 |\n",
       "| 9 | 2 | 1 | -3.373542 |\n",
       "| 7 | 1 | 2 | -3.378079 |\n",
       "| 6 | 1 | 1 | -3.396299 |\n",
       "\n"
      ],
      "text/plain": [
       "   m n BIC      \n",
       "2  0 0 -3.349599\n",
       "10 2 2 -3.357937\n",
       "3  0 1 -3.365513\n",
       "9  2 1 -3.373542\n",
       "7  1 2 -3.378079\n",
       "6  1 1 -3.396299"
      ]
     },
     "metadata": {},
     "output_type": "display_data"
    }
   ],
   "source": [
    "#GARCH update\n",
    "test_modelAGG <- function(m,n){\n",
    "  spec = ugarchspec(variance.model=list(garchOrder=c(m,n)),\n",
    "                    mean.model=list(armaOrder=c(1,0), \n",
    "                                    include.mean=T), distribution.model=\"std\")    \n",
    "  fit = ugarchfit(spec, train$GOOG, solver = 'hybrid')\n",
    "  current.bic = infocriteria(fit)[2]\n",
    "  df = data.frame(m,n,current.bic)\n",
    "  names(df) <- c(\"m\",\"n\",\"BIC\")\n",
    "  print(paste(m,n,current.bic,sep=\" \"))\n",
    "  return(df)\n",
    "}\n",
    "\n",
    "orders = data.frame(Inf,Inf,Inf)\n",
    "names(orders) <- c(\"m\",\"n\",\"BIC\")\n",
    "\n",
    "\n",
    "for (m in 0:2){\n",
    "  for (n in 0:2){\n",
    "    possibleError <- tryCatch(\n",
    "      orders<-rbind(orders,test_modelAGG(m,n)),\n",
    "      error=function(e) e\n",
    "    )\n",
    "    if(inherits(possibleError, \"error\")) next\n",
    "  }\n",
    "}\n",
    "orders <- orders[order(-orders$BIC),]\n",
    "tail(orders)"
   ]
  },
  {
   "cell_type": "code",
   "execution_count": 194,
   "metadata": {
    "scrolled": false
   },
   "outputs": [
    {
     "name": "stderr",
     "output_type": "stream",
     "text": [
      "Warning message in arima(data, order = c(modelinc[2], 0, modelinc[3]), include.mean = modelinc[1], :\n",
      "\"possible convergence problem: optim gave code = 1\""
     ]
    },
    {
     "data": {
      "text/plain": [
       "\n",
       "*---------------------------------*\n",
       "*          GARCH Model Fit        *\n",
       "*---------------------------------*\n",
       "\n",
       "Conditional Variance Dynamics \t\n",
       "-----------------------------------\n",
       "GARCH Model\t: sGARCH(1,1)\n",
       "Mean Model\t: ARFIMA(1,0,0)\n",
       "Distribution\t: std \n",
       "\n",
       "Optimal Parameters\n",
       "------------------------------------\n",
       "        Estimate  Std. Error    t value Pr(>|t|)\n",
       "mu      0.000000    0.030624  -0.000001 0.999999\n",
       "ar1     1.000000    0.005773 173.227822 0.000000\n",
       "omega   0.000051    0.000046   1.110670 0.266711\n",
       "alpha1  0.091792    0.041566   2.208349 0.027220\n",
       "beta1   0.894547    0.048550  18.425246 0.000000\n",
       "shape   6.051465    2.341785   2.584124 0.009763\n",
       "\n",
       "Robust Standard Errors:\n",
       "        Estimate  Std. Error    t value Pr(>|t|)\n",
       "mu      0.000000    0.003099  -0.000008 0.999994\n",
       "ar1     1.000000    0.006327 158.062841 0.000000\n",
       "omega   0.000051    0.000035   1.437343 0.150621\n",
       "alpha1  0.091792    0.030141   3.045408 0.002324\n",
       "beta1   0.894547    0.033535  26.675402 0.000000\n",
       "shape   6.051465    2.320064   2.608318 0.009099\n",
       "\n",
       "LogLikelihood : 459.9105 \n",
       "\n",
       "Information Criteria\n",
       "------------------------------------\n",
       "                    \n",
       "Akaike       -3.4782\n",
       "Bayes        -3.3963\n",
       "Shibata      -3.4793\n",
       "Hannan-Quinn -3.4453\n",
       "\n",
       "Weighted Ljung-Box Test on Standardized Residuals\n",
       "------------------------------------\n",
       "                        statistic p-value\n",
       "Lag[1]                     0.5821 0.44550\n",
       "Lag[2*(p+q)+(p+q)-1][2]    2.7678 0.05524\n",
       "Lag[4*(p+q)+(p+q)-1][5]    4.7910 0.12526\n",
       "d.o.f=1\n",
       "H0 : No serial correlation\n",
       "\n",
       "Weighted Ljung-Box Test on Standardized Squared Residuals\n",
       "------------------------------------\n",
       "                        statistic p-value\n",
       "Lag[1]                      1.787  0.1813\n",
       "Lag[2*(p+q)+(p+q)-1][5]     2.594  0.4862\n",
       "Lag[4*(p+q)+(p+q)-1][9]     3.616  0.6544\n",
       "d.o.f=2\n",
       "\n",
       "Weighted ARCH LM Tests\n",
       "------------------------------------\n",
       "            Statistic Shape Scale P-Value\n",
       "ARCH Lag[3]    0.1553 0.500 2.000  0.6935\n",
       "ARCH Lag[5]    1.2019 1.440 1.667  0.6741\n",
       "ARCH Lag[7]    1.4880 2.315 1.543  0.8238\n",
       "\n",
       "Nyblom stability test\n",
       "------------------------------------\n",
       "Joint Statistic:  1.2259\n",
       "Individual Statistics:             \n",
       "mu     1.3347\n",
       "ar1    0.2860\n",
       "omega  0.2161\n",
       "alpha1 0.3569\n",
       "beta1  0.3402\n",
       "shape  0.5658\n",
       "\n",
       "Asymptotic Critical Values (10% 5% 1%)\n",
       "Joint Statistic:     \t 1.49 1.68 2.12\n",
       "Individual Statistic:\t 0.35 0.47 0.75\n",
       "\n",
       "Sign Bias Test\n",
       "------------------------------------\n",
       "                   t-value   prob sig\n",
       "Sign Bias           1.1551 0.2491    \n",
       "Negative Sign Bias  0.5358 0.5926    \n",
       "Positive Sign Bias  1.6146 0.1076    \n",
       "Joint Effect        2.8941 0.4082    \n",
       "\n",
       "\n",
       "Adjusted Pearson Goodness-of-Fit Test:\n",
       "------------------------------------\n",
       "  group statistic p-value(g-1)\n",
       "1    20     22.60       0.2553\n",
       "2    30     23.25       0.7648\n",
       "3    40     31.87       0.7839\n",
       "4    50     43.79       0.6838\n",
       "\n",
       "\n",
       "Elapsed time : 0.1196818 \n"
      ]
     },
     "metadata": {},
     "output_type": "display_data"
    }
   ],
   "source": [
    "spec = ugarchspec(variance.model=list(garchOrder=c(1,1)),\n",
    "                    mean.model=list(armaOrder=c(1,0), \n",
    "                                    include.mean=T), distribution.model=\"std\")    \n",
    "  GOOG.garchfit.1 = ugarchfit(spec, train$GOOG, solver = 'hybrid')\n",
    "\n",
    "GOOG.garchfit.1\n"
   ]
  },
  {
   "cell_type": "code",
   "execution_count": 160,
   "metadata": {},
   "outputs": [
    {
     "name": "stderr",
     "output_type": "stream",
     "text": [
      "Warning message in sqrt(diag(fit$cvar)):\n",
      "\"NaNs produced\""
     ]
    },
    {
     "data": {
      "text/plain": [
       "\n",
       "Title:\n",
       " GARCH Modelling \n",
       "\n",
       "Call:\n",
       " garchFit(formula = ~arma(1, 0) + garch(1, 1), data = train$GOOG, \n",
       "    trace = FALSE) \n",
       "\n",
       "Mean and Variance Equation:\n",
       " data ~ arma(1, 0) + garch(1, 1)\n",
       "<environment: 0x0000000051b19cb0>\n",
       " [data = train$GOOG]\n",
       "\n",
       "Conditional Distribution:\n",
       " norm \n",
       "\n",
       "Coefficient(s):\n",
       "        mu         ar1       omega      alpha1       beta1  \n",
       "0.00317265  0.99703828  0.00010129  0.14444646  0.81972875  \n",
       "\n",
       "Std. Errors:\n",
       " based on Hessian \n",
       "\n",
       "Error Analysis:\n",
       "        Estimate  Std. Error  t value Pr(>|t|)    \n",
       "mu     0.0031727   0.0031898    0.995     0.32    \n",
       "ar1    0.9970383   0.0073288  136.043  < 2e-16 ***\n",
       "omega  0.0001013          NA       NA       NA    \n",
       "alpha1 0.1444465   0.0324222    4.455 8.38e-06 ***\n",
       "beta1  0.8197287   0.0362615   22.606  < 2e-16 ***\n",
       "---\n",
       "Signif. codes:  0 '***' 0.001 '**' 0.01 '*' 0.05 '.' 0.1 ' ' 1\n",
       "\n",
       "Log Likelihood:\n",
       " 454.281    normalized:  1.74054 \n",
       "\n",
       "Description:\n",
       " Sat Apr 25 13:42:40 2020 by user: bbalamdari \n"
      ]
     },
     "metadata": {},
     "output_type": "display_data"
    }
   ],
   "source": [
    "GOOG.garchFit = garchFit(~ arma(1,0) + garch(1,1), data = train$GOOG, trace = FALSE)\n",
    "GOOG.garchFit\n"
   ]
  },
  {
   "cell_type": "code",
   "execution_count": 161,
   "metadata": {},
   "outputs": [
    {
     "data": {
      "text/plain": [
       "\n",
       "\tJarque Bera Test\n",
       "\n",
       "data:  resid.garch\n",
       "X-squared = 47.606, df = 2, p-value = 4.596e-11\n"
      ]
     },
     "metadata": {},
     "output_type": "display_data"
    }
   ],
   "source": [
    "#residuals(GOOG.garchFit)\n",
    "\n",
    "resid.garch=residuals(GOOG.garchfit.1)\n",
    "jarque.bera.test(resid.garch)\n",
    "\n",
    "#arch.test(resid.garch)"
   ]
  },
  {
   "cell_type": "code",
   "execution_count": 165,
   "metadata": {},
   "outputs": [],
   "source": [
    "train.52 <- train$GOOG[0:(length(train)-52)]\n",
    "train.52.ts <- ts(train.52,start=c(2014,1),freq=52)\n",
    "\n",
    "test.52 <- train.52[(length(train.52)-51):length(train.52)]\n",
    "test.ts <- ts(test.52,start=c(2018,1),freq=52)\n",
    "\n",
    "\n"
   ]
  },
  {
   "cell_type": "code",
   "execution_count": 166,
   "metadata": {},
   "outputs": [],
   "source": [
    "nfore = length(test.ts)\n",
    "fore.series = NULL\n",
    "fore.sigma = NULL\n",
    "\n",
    "\n",
    "\n",
    "for(f in 1: nfore){\n",
    "    ## Fit models\n",
    "    data = train.ts\n",
    "    if(f>2)\n",
    "       data = c(train.ts,test.ts[1:(f-1)])\n",
    "    final.model= ugarchfit(spec, data, solver = 'hybrid')\n",
    "    ## Forecast\n",
    "    fore = ugarchforecast(final.model, n.ahead=1)\n",
    "    fore.series = c(fore.series, fore@forecast$seriesFor)\n",
    "    fore.sigma = c(fore.sigma, fore@forecast$sigmaFor)\n",
    "}\n"
   ]
  },
  {
   "cell_type": "code",
   "execution_count": 168,
   "metadata": {},
   "outputs": [
    {
     "name": "stdout",
     "output_type": "stream",
     "text": [
      "[1] \"MAPE:ARMA-GARCH\"\n"
     ]
    },
    {
     "data": {
      "text/html": [
       "0.0599009193081505"
      ],
      "text/latex": [
       "0.0599009193081505"
      ],
      "text/markdown": [
       "0.0599009193081505"
      ],
      "text/plain": [
       "[1] 0.05990092"
      ]
     },
     "metadata": {},
     "output_type": "display_data"
    },
    {
     "name": "stdout",
     "output_type": "stream",
     "text": [
      "[1] \"PM: ARMA(1,0)-GARCH(1,1)\"\n"
     ]
    },
    {
     "data": {
      "text/html": [
       "0.29972274267568"
      ],
      "text/latex": [
       "0.29972274267568"
      ],
      "text/markdown": [
       "0.29972274267568"
      ],
      "text/plain": [
       "[1] 0.2997227"
      ]
     },
     "metadata": {},
     "output_type": "display_data"
    },
    {
     "name": "stdout",
     "output_type": "stream",
     "text": [
      "[1] \"ARIMA Approach:\"\n",
      "[1] \"MAPE GOOG\"\n"
     ]
    },
    {
     "data": {
      "text/html": [
       "0.12559363693683"
      ],
      "text/latex": [
       "0.12559363693683"
      ],
      "text/markdown": [
       "0.12559363693683"
      ],
      "text/plain": [
       "[1] 0.1255936"
      ]
     },
     "metadata": {},
     "output_type": "display_data"
    },
    {
     "name": "stdout",
     "output_type": "stream",
     "text": [
      "[1] \"Precision GOOG\"\n"
     ]
    },
    {
     "data": {
      "text/html": [
       "7.11795284077865"
      ],
      "text/latex": [
       "7.11795284077865"
      ],
      "text/markdown": [
       "7.11795284077865"
      ],
      "text/plain": [
       "[1] 7.117953"
      ]
     },
     "metadata": {},
     "output_type": "display_data"
    }
   ],
   "source": [
    "## MAPE and Precision\n",
    "MAPE.garch = mean(abs(fore.series - test.ts)/test.ts)\n",
    "Precision.garch = sum((fore.series - test.ts)^2)/sum((test.ts-mean(test.ts))^2)\n",
    "\n",
    "print(\"MAPE:ARMA-GARCH\")\n",
    "MAPE.garch\n",
    "print(\"PM: ARMA(1,0)-GARCH(1,1)\")\n",
    "Precision.garch\n",
    "\n",
    "\n",
    "print(\"ARIMA Approach:\")\n",
    "#MAPE\n",
    "print(\"MAPE GOOG\")\n",
    "mean(abs(GOOG.arima.pred$pred - test$GOOG)/abs(test$GOOG))\n",
    "#Precision\n",
    "print(\"Precision GOOG\")\n",
    "sum((GOOG.arima.pred$pred-test$GOOG)^2)/sum((test$GOOG-mean(test$GOOG))^2)"
   ]
  }
 ],
 "metadata": {
  "kernelspec": {
   "display_name": "R",
   "language": "R",
   "name": "ir"
  },
  "language_info": {
   "codemirror_mode": "r",
   "file_extension": ".r",
   "mimetype": "text/x-r-source",
   "name": "R",
   "pygments_lexer": "r",
   "version": "3.6.1"
  }
 },
 "nbformat": 4,
 "nbformat_minor": 2
}
