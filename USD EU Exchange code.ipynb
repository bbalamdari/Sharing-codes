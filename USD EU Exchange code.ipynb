{
 "cells": [
  {
   "cell_type": "code",
   "execution_count": 1,
   "metadata": {
    "scrolled": true
   },
   "outputs": [
    {
     "name": "stderr",
     "output_type": "stream",
     "text": [
      "Loading required package: zoo\n",
      "\n",
      "Attaching package: 'zoo'\n",
      "\n",
      "The following objects are masked from 'package:base':\n",
      "\n",
      "    as.Date, as.Date.numeric\n",
      "\n",
      "Registered S3 method overwritten by 'xts':\n",
      "  method     from\n",
      "  as.zoo.xts zoo \n",
      "\n",
      "Attaching package: 'xts'\n",
      "\n",
      "The following objects are masked from 'package:data.table':\n",
      "\n",
      "    first, last\n",
      "\n",
      "Installing package into 'C:/Users/bbalamdari/OneDrive - Ecolab/Documents/R/win-library/3.6'\n",
      "(as 'lib' is unspecified)\n"
     ]
    },
    {
     "name": "stdout",
     "output_type": "stream",
     "text": [
      "package 'tseries' successfully unpacked and MD5 sums checked\n"
     ]
    },
    {
     "name": "stderr",
     "output_type": "stream",
     "text": [
      "Warning message:\n",
      "\"cannot remove prior installation of package 'tseries'\"Warning message in file.copy(savedcopy, lib, recursive = TRUE):\n",
      "\"problem copying C:\\Users\\bbalamdari\\OneDrive - Ecolab\\Documents\\R\\win-library\\3.6\\00LOCK\\tseries\\libs\\x64\\tseries.dll to C:\\Users\\bbalamdari\\OneDrive - Ecolab\\Documents\\R\\win-library\\3.6\\tseries\\libs\\x64\\tseries.dll: Permission denied\"Warning message:\n",
      "\"restored 'tseries'\""
     ]
    },
    {
     "name": "stdout",
     "output_type": "stream",
     "text": [
      "\n",
      "The downloaded binary packages are in\n",
      "\tC:\\Users\\bbalamdari\\AppData\\Local\\Temp\\RtmpQNRSi8\\downloaded_packages\n"
     ]
    },
    {
     "name": "stderr",
     "output_type": "stream",
     "text": [
      "Warning message:\n",
      "\"package 'tseries' was built under R version 3.6.3\"Registered S3 method overwritten by 'quantmod':\n",
      "  method            from\n",
      "  as.zoo.data.frame zoo \n",
      "Installing package into 'C:/Users/bbalamdari/OneDrive - Ecolab/Documents/R/win-library/3.6'\n",
      "(as 'lib' is unspecified)\n"
     ]
    },
    {
     "name": "stdout",
     "output_type": "stream",
     "text": [
      "package 'rugarch' successfully unpacked and MD5 sums checked\n"
     ]
    },
    {
     "name": "stderr",
     "output_type": "stream",
     "text": [
      "Warning message:\n",
      "\"cannot remove prior installation of package 'rugarch'\"Warning message in file.copy(savedcopy, lib, recursive = TRUE):\n",
      "\"problem copying C:\\Users\\bbalamdari\\OneDrive - Ecolab\\Documents\\R\\win-library\\3.6\\00LOCK\\rugarch\\libs\\x64\\rugarch.dll to C:\\Users\\bbalamdari\\OneDrive - Ecolab\\Documents\\R\\win-library\\3.6\\rugarch\\libs\\x64\\rugarch.dll: Permission denied\"Warning message:\n",
      "\"restored 'rugarch'\""
     ]
    },
    {
     "name": "stdout",
     "output_type": "stream",
     "text": [
      "\n",
      "The downloaded binary packages are in\n",
      "\tC:\\Users\\bbalamdari\\AppData\\Local\\Temp\\RtmpQNRSi8\\downloaded_packages\n"
     ]
    },
    {
     "name": "stderr",
     "output_type": "stream",
     "text": [
      "Warning message:\n",
      "\"package 'rugarch' was built under R version 3.6.3\"Loading required package: parallel\n",
      "\n",
      "Attaching package: 'rugarch'\n",
      "\n",
      "The following object is masked from 'package:stats':\n",
      "\n",
      "    sigma\n",
      "\n"
     ]
    }
   ],
   "source": [
    "library(data.table)\n",
    "library(xts)\n",
    "install.packages(\"tseries\")\n",
    "library(tseries)\n",
    "install.packages(\"rugarch\")\n",
    "library(rugarch)\n",
    "#Load data\n",
    "#USD/EUR data\n"
   ]
  },
  {
   "cell_type": "code",
   "execution_count": 2,
   "metadata": {},
   "outputs": [
    {
     "data": {
      "text/html": [
       "<table>\n",
       "<caption>A data.frame: 5 × 2</caption>\n",
       "<thead>\n",
       "\t<tr><th></th><th scope=col>Date</th><th scope=col>Rate</th></tr>\n",
       "\t<tr><th></th><th scope=col>&lt;fct&gt;</th><th scope=col>&lt;dbl&gt;</th></tr>\n",
       "</thead>\n",
       "<tbody>\n",
       "\t<tr><th scope=row>1</th><td>1/4/1999</td><td>0.842695</td></tr>\n",
       "\t<tr><th scope=row>2</th><td>1/5/1999</td><td>0.850335</td></tr>\n",
       "\t<tr><th scope=row>3</th><td>1/6/1999</td><td>0.859952</td></tr>\n",
       "\t<tr><th scope=row>4</th><td>1/7/1999</td><td>0.856112</td></tr>\n",
       "\t<tr><th scope=row>5</th><td>1/8/1999</td><td>0.865177</td></tr>\n",
       "</tbody>\n",
       "</table>\n"
      ],
      "text/latex": [
       "A data.frame: 5 × 2\n",
       "\\begin{tabular}{r|ll}\n",
       "  & Date & Rate\\\\\n",
       "  & <fct> & <dbl>\\\\\n",
       "\\hline\n",
       "\t1 & 1/4/1999 & 0.842695\\\\\n",
       "\t2 & 1/5/1999 & 0.850335\\\\\n",
       "\t3 & 1/6/1999 & 0.859952\\\\\n",
       "\t4 & 1/7/1999 & 0.856112\\\\\n",
       "\t5 & 1/8/1999 & 0.865177\\\\\n",
       "\\end{tabular}\n"
      ],
      "text/markdown": [
       "\n",
       "A data.frame: 5 × 2\n",
       "\n",
       "| <!--/--> | Date &lt;fct&gt; | Rate &lt;dbl&gt; |\n",
       "|---|---|---|\n",
       "| 1 | 1/4/1999 | 0.842695 |\n",
       "| 2 | 1/5/1999 | 0.850335 |\n",
       "| 3 | 1/6/1999 | 0.859952 |\n",
       "| 4 | 1/7/1999 | 0.856112 |\n",
       "| 5 | 1/8/1999 | 0.865177 |\n",
       "\n"
      ],
      "text/plain": [
       "  Date     Rate    \n",
       "1 1/4/1999 0.842695\n",
       "2 1/5/1999 0.850335\n",
       "3 1/6/1999 0.859952\n",
       "4 1/7/1999 0.856112\n",
       "5 1/8/1999 0.865177"
      ]
     },
     "metadata": {},
     "output_type": "display_data"
    },
    {
     "data": {
      "text/html": [
       "<table>\n",
       "<caption>A data.frame: 10 × 2</caption>\n",
       "<thead>\n",
       "\t<tr><th></th><th scope=col>Date</th><th scope=col>Rate</th></tr>\n",
       "\t<tr><th></th><th scope=col>&lt;fct&gt;</th><th scope=col>&lt;dbl&gt;</th></tr>\n",
       "</thead>\n",
       "<tbody>\n",
       "\t<tr><th scope=row>6316</th><td>8/16/2017</td><td>0.855055</td></tr>\n",
       "\t<tr><th scope=row>6317</th><td>8/17/2017</td><td>0.851265</td></tr>\n",
       "\t<tr><th scope=row>6318</th><td>8/18/2017</td><td>0.851125</td></tr>\n",
       "\t<tr><th scope=row>6319</th><td>8/19/2017</td><td>0.850310</td></tr>\n",
       "\t<tr><th scope=row>6320</th><td>8/20/2017</td><td>0.850230</td></tr>\n",
       "\t<tr><th scope=row>6321</th><td>8/21/2017</td><td>0.845835</td></tr>\n",
       "\t<tr><th scope=row>6322</th><td>8/23/2017</td><td>0.847325</td></tr>\n",
       "\t<tr><th scope=row>6323</th><td>8/24/2017</td><td>0.846860</td></tr>\n",
       "\t<tr><th scope=row>6324</th><td>8/25/2017</td><td>0.841585</td></tr>\n",
       "\t<tr><th scope=row>6325</th><td>8/26/2017</td><td>0.838770</td></tr>\n",
       "</tbody>\n",
       "</table>\n"
      ],
      "text/latex": [
       "A data.frame: 10 × 2\n",
       "\\begin{tabular}{r|ll}\n",
       "  & Date & Rate\\\\\n",
       "  & <fct> & <dbl>\\\\\n",
       "\\hline\n",
       "\t6316 & 8/16/2017 & 0.855055\\\\\n",
       "\t6317 & 8/17/2017 & 0.851265\\\\\n",
       "\t6318 & 8/18/2017 & 0.851125\\\\\n",
       "\t6319 & 8/19/2017 & 0.850310\\\\\n",
       "\t6320 & 8/20/2017 & 0.850230\\\\\n",
       "\t6321 & 8/21/2017 & 0.845835\\\\\n",
       "\t6322 & 8/23/2017 & 0.847325\\\\\n",
       "\t6323 & 8/24/2017 & 0.846860\\\\\n",
       "\t6324 & 8/25/2017 & 0.841585\\\\\n",
       "\t6325 & 8/26/2017 & 0.838770\\\\\n",
       "\\end{tabular}\n"
      ],
      "text/markdown": [
       "\n",
       "A data.frame: 10 × 2\n",
       "\n",
       "| <!--/--> | Date &lt;fct&gt; | Rate &lt;dbl&gt; |\n",
       "|---|---|---|\n",
       "| 6316 | 8/16/2017 | 0.855055 |\n",
       "| 6317 | 8/17/2017 | 0.851265 |\n",
       "| 6318 | 8/18/2017 | 0.851125 |\n",
       "| 6319 | 8/19/2017 | 0.850310 |\n",
       "| 6320 | 8/20/2017 | 0.850230 |\n",
       "| 6321 | 8/21/2017 | 0.845835 |\n",
       "| 6322 | 8/23/2017 | 0.847325 |\n",
       "| 6323 | 8/24/2017 | 0.846860 |\n",
       "| 6324 | 8/25/2017 | 0.841585 |\n",
       "| 6325 | 8/26/2017 | 0.838770 |\n",
       "\n"
      ],
      "text/plain": [
       "     Date      Rate    \n",
       "6316 8/16/2017 0.855055\n",
       "6317 8/17/2017 0.851265\n",
       "6318 8/18/2017 0.851125\n",
       "6319 8/19/2017 0.850310\n",
       "6320 8/20/2017 0.850230\n",
       "6321 8/21/2017 0.845835\n",
       "6322 8/23/2017 0.847325\n",
       "6323 8/24/2017 0.846860\n",
       "6324 8/25/2017 0.841585\n",
       "6325 8/26/2017 0.838770"
      ]
     },
     "metadata": {},
     "output_type": "display_data"
    }
   ],
   "source": [
    "data=read.csv(\"exchange_rate_USD_EUR_daily.csv\",header=TRUE)\n",
    "\n",
    "head(data, n=5)\n",
    "tail(data, n=10)"
   ]
  },
  {
   "cell_type": "code",
   "execution_count": 3,
   "metadata": {},
   "outputs": [
    {
     "data": {
      "text/html": [
       "<table>\n",
       "<caption>A data.frame: 5 × 2</caption>\n",
       "<thead>\n",
       "\t<tr><th></th><th scope=col>Date</th><th scope=col>rate</th></tr>\n",
       "\t<tr><th></th><th scope=col>&lt;fct&gt;</th><th scope=col>&lt;dbl&gt;</th></tr>\n",
       "</thead>\n",
       "<tbody>\n",
       "\t<tr><th scope=row>1</th><td>1/4/1999</td><td>0.842695</td></tr>\n",
       "\t<tr><th scope=row>2</th><td>1/5/1999</td><td>0.850335</td></tr>\n",
       "\t<tr><th scope=row>3</th><td>1/6/1999</td><td>0.859952</td></tr>\n",
       "\t<tr><th scope=row>4</th><td>1/7/1999</td><td>0.856112</td></tr>\n",
       "\t<tr><th scope=row>5</th><td>1/8/1999</td><td>0.865177</td></tr>\n",
       "</tbody>\n",
       "</table>\n"
      ],
      "text/latex": [
       "A data.frame: 5 × 2\n",
       "\\begin{tabular}{r|ll}\n",
       "  & Date & rate\\\\\n",
       "  & <fct> & <dbl>\\\\\n",
       "\\hline\n",
       "\t1 & 1/4/1999 & 0.842695\\\\\n",
       "\t2 & 1/5/1999 & 0.850335\\\\\n",
       "\t3 & 1/6/1999 & 0.859952\\\\\n",
       "\t4 & 1/7/1999 & 0.856112\\\\\n",
       "\t5 & 1/8/1999 & 0.865177\\\\\n",
       "\\end{tabular}\n"
      ],
      "text/markdown": [
       "\n",
       "A data.frame: 5 × 2\n",
       "\n",
       "| <!--/--> | Date &lt;fct&gt; | rate &lt;dbl&gt; |\n",
       "|---|---|---|\n",
       "| 1 | 1/4/1999 | 0.842695 |\n",
       "| 2 | 1/5/1999 | 0.850335 |\n",
       "| 3 | 1/6/1999 | 0.859952 |\n",
       "| 4 | 1/7/1999 | 0.856112 |\n",
       "| 5 | 1/8/1999 | 0.865177 |\n",
       "\n"
      ],
      "text/plain": [
       "  Date     rate    \n",
       "1 1/4/1999 0.842695\n",
       "2 1/5/1999 0.850335\n",
       "3 1/6/1999 0.859952\n",
       "4 1/7/1999 0.856112\n",
       "5 1/8/1999 0.865177"
      ]
     },
     "metadata": {},
     "output_type": "display_data"
    }
   ],
   "source": [
    "names(data)[names(data) == \"Rate\"] <- \"rate\"\n",
    "head(data, n=5)\n",
    "data=ts(data[,2], start=c(1999,4), freq=365.24)"
   ]
  },
  {
   "cell_type": "code",
   "execution_count": 11,
   "metadata": {
    "scrolled": false
   },
   "outputs": [
    {
     "data": {
      "image/png": "[encoded data removed]",
      "text/plain": [
       "Plot with title \"Histogram of diff.rate\""
      ]
     },
     "metadata": {},
     "output_type": "display_data"
    },
    {
     "data": {
      "image/png": "[encoded data removed]",
      "text/plain": [
       "Plot with title \"PACF USD/EUR Exchange Rate\""
      ]
     },
     "metadata": {},
     "output_type": "display_data"
    },
    {
     "data": {
      "image/png": "[encoded data removed]",
      "text/plain": [
       "Plot with title \"PACF Difference USD/EUR Exchange Rate Daily Changes\""
      ]
     },
     "metadata": {},
     "output_type": "display_data"
    }
   ],
   "source": [
    "par(mfrow=c(2,2))\n",
    "#Exploratory analysis\n",
    "#Plot original exchange rates\n",
    "plot(data,type='l',main='USD/EUR Exchange Rate',ylab=\"Exchange rate\")\n",
    "\n",
    "#Differencing the series\n",
    "diff.rate=diff(data)\n",
    "diff.rate = diff.rate[!is.na(diff.rate)]\n",
    "diff.rate=ts(diff.rate, start=c(1999,5), freq=365.24)\n",
    "#Plot differenced series\n",
    "ts.plot(diff.rate,type='l',main='USD/EUR Exchange Rate Daily Changes',ylab=\"Difference\")\n",
    "hist(diff.rate)\n",
    "\n",
    "#ACF & PACF plots on original series\n",
    "par(mfcol=c(1,2))\n",
    "acf(data,main='ACF USD/EUR Exchange Rate')\n",
    "pacf(data,main='PACF USD/EUR Exchange Rate')\n",
    "\n",
    "#ACF & PACF plots on differenced series\n",
    "par(mfcol=c(1,2))\n",
    "acf(diff.rate,main='ACF Difference USD/EUR Exchange Rate Daily Changes')\n",
    "pacf(diff.rate,main='PACF Difference USD/EUR Exchange Rate Daily Changes')"
   ]
  },
  {
   "cell_type": "code",
   "execution_count": 12,
   "metadata": {
    "scrolled": true
   },
   "outputs": [
    {
     "name": "stdout",
     "output_type": "stream",
     "text": [
      "[1] \"0 0 0 -48643.3023298416\"\n",
      "[1] \"0 0 1 -48652.2051543726\"\n",
      "[1] \"0 0 2 -48650.4315092656\"\n",
      "[1] \"0 0 3 -48650.4073716963\"\n",
      "[1] \"0 1 0 -43996.5263336942\"\n",
      "[1] \"0 1 1 -48625.8578150923\"\n",
      "[1] \"0 1 2 -48634.6740657549\"\n",
      "[1] \"0 1 3 -48632.9124775997\"\n",
      "[1] \"1 0 0 -48652.3273687509\"\n",
      "[1] \"1 0 1 -48650.2680000177\"\n",
      "[1] \"1 0 2 -48648.4599173128\"\n",
      "[1] \"1 0 3 -48651.8549595746\"\n",
      "[1] \"1 1 0 -46020.4440601772\"\n",
      "[1] \"1 1 1 -48634.7994833853\"\n",
      "[1] \"1 1 2 -48632.9075458068\"\n",
      "[1] \"1 1 3 -48630.8964576728\"\n",
      "[1] \"2 0 0 -48650.5106979108\"\n",
      "[1] \"2 0 1 -48648.490672258\"\n",
      "[1] \"2 0 2 -48647.6053285125\"\n",
      "[1] \"2 0 3 -48674.9538214349\"\n",
      "[1] \"2 1 0 -46751.2817381983\"\n",
      "[1] \"2 1 1 -48632.9937173489\"\n",
      "[1] \"2 1 2 -48630.93357494\"\n",
      "[1] \"2 1 3 -48629.312593605\"\n",
      "[1] \"3 0 0 -48649.7081055663\"\n",
      "[1] \"3 0 1 -48651.4549183778\"\n",
      "[1] \"3 0 2 -48674.2616830644\"\n",
      "[1] \"3 0 3 -48648.9180683144\"\n",
      "[1] \"3 1 0 -47090.3720421235\"\n",
      "[1] \"3 1 1 -48632.1637789884\"\n",
      "[1] \"3 1 2 -48629.014026038\"\n",
      "[1] \"3 1 3 -48627.4930481984\"\n",
      "[1] \"4 0 0 -48657.9760866247\"\n",
      "[1] \"4 0 1 -48655.9078543043\"\n",
      "[1] \"4 0 2 -48653.9067874674\"\n",
      "[1] \"4 0 3 -48674.4394594741\"\n",
      "[1] \"4 1 0 -47414.3700023631\"\n",
      "[1] \"4 1 1 -48640.3512144866\"\n"
     ]
    },
    {
     "name": "stderr",
     "output_type": "stream",
     "text": [
      "Warning message in log(s2):\n",
      "\"NaNs produced\""
     ]
    },
    {
     "name": "stdout",
     "output_type": "stream",
     "text": [
      "[1] \"4 1 2 -48638.9535202327\"\n",
      "[1] \"4 1 3 -48638.0362581365\"\n",
      "[1] \"5 0 0 -48656.2318397554\"\n",
      "[1] \"5 0 1 -48654.2255610137\"\n",
      "[1] \"5 0 2 -48652.219798447\"\n",
      "[1] \"5 0 3 -48652.8344689978\"\n",
      "[1] \"5 1 0 -47607.6771082017\"\n",
      "[1] \"5 1 1 -48638.6198663105\"\n",
      "[1] \"5 1 2 -48637.0352355483\"\n",
      "[1] \"5 1 3 -48636.3271589299\"\n",
      "[1] \"6 0 0 -48654.340541217\"\n",
      "[1] \"6 0 1 -48652.3192451662\"\n",
      "[1] \"6 0 2 -48650.3144714906\"\n",
      "[1] \"6 0 3 -48673.6063142139\"\n",
      "[1] \"6 1 0 -47790.4842035755\"\n",
      "[1] \"6 1 1 -48636.7204202349\"\n",
      "[1] \"6 1 2 -48635.6162247883\"\n",
      "[1] \"6 1 3 -48633.4335636531\"\n"
     ]
    },
    {
     "data": {
      "text/html": [
       "<table>\n",
       "<caption>A data.frame: 6 × 4</caption>\n",
       "<thead>\n",
       "\t<tr><th></th><th scope=col>p</th><th scope=col>d</th><th scope=col>q</th><th scope=col>AIC</th></tr>\n",
       "\t<tr><th></th><th scope=col>&lt;dbl&gt;</th><th scope=col>&lt;dbl&gt;</th><th scope=col>&lt;dbl&gt;</th><th scope=col>&lt;dbl&gt;</th></tr>\n",
       "</thead>\n",
       "<tbody>\n",
       "\t<tr><th scope=row>42</th><td>5</td><td>0</td><td>0</td><td>-48656.23</td></tr>\n",
       "\t<tr><th scope=row>34</th><td>4</td><td>0</td><td>0</td><td>-48657.98</td></tr>\n",
       "\t<tr><th scope=row>53</th><td>6</td><td>0</td><td>3</td><td>-48673.61</td></tr>\n",
       "\t<tr><th scope=row>28</th><td>3</td><td>0</td><td>2</td><td>-48674.26</td></tr>\n",
       "\t<tr><th scope=row>37</th><td>4</td><td>0</td><td>3</td><td>-48674.44</td></tr>\n",
       "\t<tr><th scope=row>21</th><td>2</td><td>0</td><td>3</td><td>-48674.95</td></tr>\n",
       "</tbody>\n",
       "</table>\n"
      ],
      "text/latex": [
       "A data.frame: 6 × 4\n",
       "\\begin{tabular}{r|llll}\n",
       "  & p & d & q & AIC\\\\\n",
       "  & <dbl> & <dbl> & <dbl> & <dbl>\\\\\n",
       "\\hline\n",
       "\t42 & 5 & 0 & 0 & -48656.23\\\\\n",
       "\t34 & 4 & 0 & 0 & -48657.98\\\\\n",
       "\t53 & 6 & 0 & 3 & -48673.61\\\\\n",
       "\t28 & 3 & 0 & 2 & -48674.26\\\\\n",
       "\t37 & 4 & 0 & 3 & -48674.44\\\\\n",
       "\t21 & 2 & 0 & 3 & -48674.95\\\\\n",
       "\\end{tabular}\n"
      ],
      "text/markdown": [
       "\n",
       "A data.frame: 6 × 4\n",
       "\n",
       "| <!--/--> | p &lt;dbl&gt; | d &lt;dbl&gt; | q &lt;dbl&gt; | AIC &lt;dbl&gt; |\n",
       "|---|---|---|---|---|\n",
       "| 42 | 5 | 0 | 0 | -48656.23 |\n",
       "| 34 | 4 | 0 | 0 | -48657.98 |\n",
       "| 53 | 6 | 0 | 3 | -48673.61 |\n",
       "| 28 | 3 | 0 | 2 | -48674.26 |\n",
       "| 37 | 4 | 0 | 3 | -48674.44 |\n",
       "| 21 | 2 | 0 | 3 | -48674.95 |\n",
       "\n"
      ],
      "text/plain": [
       "   p d q AIC      \n",
       "42 5 0 0 -48656.23\n",
       "34 4 0 0 -48657.98\n",
       "53 6 0 3 -48673.61\n",
       "28 3 0 2 -48674.26\n",
       "37 4 0 3 -48674.44\n",
       "21 2 0 3 -48674.95"
      ]
     },
     "metadata": {},
     "output_type": "display_data"
    }
   ],
   "source": [
    "## Order selection -- AIC\n",
    "\n",
    "test_modelA <- function(p,d,q){\n",
    " mod = arima(diff.rate, order=c(p,d,q), method=\"ML\")\n",
    " current.aic = AIC(mod)\n",
    " df = data.frame(p,d,q,current.aic)\n",
    " names(df) <- c(\"p\",\"d\",\"q\",\"AIC\")\n",
    " print(paste(p,d,q,current.aic,sep=\" \"))\n",
    "    \n",
    " return(df)\n",
    " }\n",
    " \n",
    " orders = data.frame(Inf,Inf,Inf,Inf)\n",
    " names(orders) <- c(\"p\",\"d\",\"q\",\"AIC\")\n",
    " \n",
    " \n",
    " for (p in 0:6){\n",
    "   for (d in 0:1){\n",
    "     for (q in 0:3) {\n",
    "       possibleError <- tryCatch(\n",
    "         orders<-rbind(orders,test_modelA(p,d,q)),\n",
    "         error=function(e) e\n",
    "       )\n",
    "       if(inherits(possibleError, \"error\")) next\n",
    " \n",
    "     }\n",
    "   }\n",
    " }\n",
    " orders <- orders[order(-orders$AIC),]\n",
    " tail(orders)\n"
   ]
  },
  {
   "cell_type": "code",
   "execution_count": 13,
   "metadata": {},
   "outputs": [],
   "source": [
    "final.arima=arima(diff.rate, order=c(6,0,3))\n"
   ]
  },
  {
   "cell_type": "code",
   "execution_count": 14,
   "metadata": {
    "scrolled": false
   },
   "outputs": [
    {
     "data": {
      "image/png": "[encoded data removed]",
      "text/plain": [
       "Plot with title \"Squared Residuals of USD/EUR ARIMA Fit\""
      ]
     },
     "metadata": {},
     "output_type": "display_data"
    },
    {
     "data": {
      "text/plain": [
       "\n",
       "\tBox-Ljung test\n",
       "\n",
       "data:  resids\n",
       "X-squared = 1.373, df = 1, p-value = 0.2413\n"
      ]
     },
     "metadata": {},
     "output_type": "display_data"
    },
    {
     "data": {
      "text/plain": [
       "\n",
       "\tBox-Ljung test\n",
       "\n",
       "data:  (resids)^2\n",
       "X-squared = 645.71, df = 1, p-value < 2.2e-16\n"
      ]
     },
     "metadata": {},
     "output_type": "display_data"
    },
    {
     "data": {
      "image/png": "[encoded data removed]",
      "text/plain": [
       "Plot with title \"ACF Squared Residuals of USD/EUR ARIMA Fit\""
      ]
     },
     "metadata": {},
     "output_type": "display_data"
    }
   ],
   "source": [
    "#Residual Analysis\n",
    "resids = resid(final.arima)\n",
    "squared.resids=resids^2\n",
    "\n",
    "par(mfcol=c(2,1))\n",
    "plot(resids,main='Residuals of USD/EUR ARIMA Fit')\n",
    "plot(squared.resids,main='Squared Residuals of USD/EUR ARIMA Fit')\n",
    "\n",
    "par(mfcol=c(2,1))\n",
    "acf(resids,main='ACF Residuals of USD/EUR ARIMA Fit')\n",
    "acf(squared.resids,main='ACF Squared Residuals of USD/EUR ARIMA Fit')\n",
    "\n",
    "\n",
    "#test for serial correlation\n",
    "Box.test(resids,lag=10,type='Ljung',fitdf=9)\n",
    "#test for arch effect\n",
    "Box.test((resids)^2,lag=10,type='Ljung',fitdf=9)"
   ]
  },
  {
   "cell_type": "code",
   "execution_count": 16,
   "metadata": {
    "scrolled": false
   },
   "outputs": [
    {
     "data": {
      "text/plain": [
       "\n",
       "Call:\n",
       "garch(x = resids, order = c(0, 8), trace = F)\n",
       "\n",
       "Model:\n",
       "GARCH(0,8)\n",
       "\n",
       "Residuals:\n",
       "       Min         1Q     Median         3Q        Max \n",
       "-19.539408  -0.409037  -0.002846   0.393720   6.243732 \n",
       "\n",
       "Coefficient(s):\n",
       "    Estimate  Std. Error  t value Pr(>|t|)    \n",
       "a0 8.503e-06   2.282e-07   37.264  < 2e-16 ***\n",
       "a1 4.764e-02   5.837e-03    8.163 2.22e-16 ***\n",
       "a2 1.919e-02   5.795e-03    3.312 0.000926 ***\n",
       "a3 2.998e-02   5.170e-03    5.798 6.71e-09 ***\n",
       "a4 4.089e-02   2.801e-03   14.599  < 2e-16 ***\n",
       "a5 1.607e-01   4.053e-03   39.654  < 2e-16 ***\n",
       "a6 9.908e-02   9.136e-03   10.845  < 2e-16 ***\n",
       "a7 2.984e-01   7.278e-03   41.005  < 2e-16 ***\n",
       "a8 1.322e-01   1.130e-02   11.699  < 2e-16 ***\n",
       "---\n",
       "Signif. codes:  0 '***' 0.001 '**' 0.01 '*' 0.05 '.' 0.1 ' ' 1\n",
       "\n",
       "Diagnostic Tests:\n",
       "\tJarque Bera Test\n",
       "\n",
       "data:  Residuals\n",
       "X-squared = 274589, df = 2, p-value < 2.2e-16\n",
       "\n",
       "\n",
       "\tBox-Ljung test\n",
       "\n",
       "data:  Squared.Residuals\n",
       "X-squared = 2.4379, df = 1, p-value = 0.1184\n"
      ]
     },
     "metadata": {},
     "output_type": "display_data"
    },
    {
     "data": {
      "image/png": "[encoded data removed]",
      "text/plain": [
       "Plot with title \"Squared Residuals\""
      ]
     },
     "metadata": {},
     "output_type": "display_data"
    }
   ],
   "source": [
    "#ARCH Fit\n",
    "par(mfrow=c(2,2))\n",
    "# What order?\n",
    "pacf(resids^2, ,main=\"Squared Residuals\")\n",
    "\n",
    "#from tseries\n",
    "garch.fit = garch(resids, order = c(0,8),trace=F)\n",
    "\n",
    "summary(garch.fit)\n",
    "\n"
   ]
  },
  {
   "cell_type": "code",
   "execution_count": 22,
   "metadata": {
    "scrolled": false
   },
   "outputs": [
    {
     "data": {
      "text/plain": [
       "\n",
       "\tBox-Ljung test\n",
       "\n",
       "data:  resids.fgarch\n",
       "X-squared = 10.643, df = 1, p-value = 0.001105\n"
      ]
     },
     "metadata": {},
     "output_type": "display_data"
    },
    {
     "data": {
      "text/plain": [
       "\n",
       "\tBox-Ljung test\n",
       "\n",
       "data:  resids.fgarch^2\n",
       "X-squared = 6.1521, df = 1, p-value = 0.01313\n"
      ]
     },
     "metadata": {},
     "output_type": "display_data"
    },
    {
     "data": {
      "image/png": "[encoded data removed]",
      "text/plain": [
       "Plot with title \"ACF of Squared ARCH Residuals (USD/EUR)\""
      ]
     },
     "metadata": {},
     "output_type": "display_data"
    }
   ],
   "source": [
    "#Evaluate goodness of fit\n",
    "resids.fgarch = residuals(garch.fit)[-(1:8)]\n",
    "par(mfcol=c(2,1))\n",
    "acf(resids.fgarch,main=\"ACF of Squared ARCH Residuals (USD/EUR)\")\n",
    "acf(resids.fgarch^2,main=\"ACF of Squared ARCH Residuals (USD/EUR)\")\n",
    "Box.test(resids.fgarch,lag=9,type='Ljung',fitdf=8)\n",
    "Box.test(resids.fgarch^2,lag=9,type='Ljung',fitdf=8)\n"
   ]
  },
  {
   "cell_type": "code",
   "execution_count": 23,
   "metadata": {},
   "outputs": [
    {
     "data": {
      "text/html": [
       "6324"
      ],
      "text/latex": [
       "6324"
      ],
      "text/markdown": [
       "6324"
      ],
      "text/plain": [
       "[1] 6324"
      ]
     },
     "metadata": {},
     "output_type": "display_data"
    }
   ],
   "source": [
    "#GARCH Model\n",
    "#Divide data into training and testing\n",
    "#Predict July and August\n",
    "length(diff.rate)\n",
    "data.test=diff.rate[(6272:length(diff.rate))]\n",
    "data.train=diff.rate[-c(6272:length(diff.rate))]"
   ]
  },
  {
   "cell_type": "code",
   "execution_count": 24,
   "metadata": {},
   "outputs": [
    {
     "name": "stdout",
     "output_type": "stream",
     "text": [
      "[1] \"0 0 -8.06123032656953\"\n",
      "[1] \"0 1 -8.05218954842176\"\n",
      "[1] \"0 2 717.099994826641\"\n",
      "[1] \"1 0 -8.08286361990716\"\n",
      "[1] \"1 1 -8.14500931121593\"\n",
      "[1] \"1 2 -8.14621705185512\"\n",
      "[1] \"2 0 -8.07967090560403\"\n",
      "[1] \"2 1 -8.14361050708129\"\n",
      "[1] \"2 2 -8.14475924150061\"\n"
     ]
    },
    {
     "data": {
      "text/html": [
       "<table>\n",
       "<caption>A data.frame: 6 × 3</caption>\n",
       "<thead>\n",
       "\t<tr><th></th><th scope=col>m</th><th scope=col>n</th><th scope=col>BIC</th></tr>\n",
       "\t<tr><th></th><th scope=col>&lt;dbl&gt;</th><th scope=col>&lt;dbl&gt;</th><th scope=col>&lt;dbl&gt;</th></tr>\n",
       "</thead>\n",
       "<tbody>\n",
       "\t<tr><th scope=row>8</th><td>2</td><td>0</td><td>-8.079671</td></tr>\n",
       "\t<tr><th scope=row>5</th><td>1</td><td>0</td><td>-8.082864</td></tr>\n",
       "\t<tr><th scope=row>9</th><td>2</td><td>1</td><td>-8.143611</td></tr>\n",
       "\t<tr><th scope=row>10</th><td>2</td><td>2</td><td>-8.144759</td></tr>\n",
       "\t<tr><th scope=row>6</th><td>1</td><td>1</td><td>-8.145009</td></tr>\n",
       "\t<tr><th scope=row>7</th><td>1</td><td>2</td><td>-8.146217</td></tr>\n",
       "</tbody>\n",
       "</table>\n"
      ],
      "text/latex": [
       "A data.frame: 6 × 3\n",
       "\\begin{tabular}{r|lll}\n",
       "  & m & n & BIC\\\\\n",
       "  & <dbl> & <dbl> & <dbl>\\\\\n",
       "\\hline\n",
       "\t8 & 2 & 0 & -8.079671\\\\\n",
       "\t5 & 1 & 0 & -8.082864\\\\\n",
       "\t9 & 2 & 1 & -8.143611\\\\\n",
       "\t10 & 2 & 2 & -8.144759\\\\\n",
       "\t6 & 1 & 1 & -8.145009\\\\\n",
       "\t7 & 1 & 2 & -8.146217\\\\\n",
       "\\end{tabular}\n"
      ],
      "text/markdown": [
       "\n",
       "A data.frame: 6 × 3\n",
       "\n",
       "| <!--/--> | m &lt;dbl&gt; | n &lt;dbl&gt; | BIC &lt;dbl&gt; |\n",
       "|---|---|---|---|\n",
       "| 8 | 2 | 0 | -8.079671 |\n",
       "| 5 | 1 | 0 | -8.082864 |\n",
       "| 9 | 2 | 1 | -8.143611 |\n",
       "| 10 | 2 | 2 | -8.144759 |\n",
       "| 6 | 1 | 1 | -8.145009 |\n",
       "| 7 | 1 | 2 | -8.146217 |\n",
       "\n"
      ],
      "text/plain": [
       "   m n BIC      \n",
       "8  2 0 -8.079671\n",
       "5  1 0 -8.082864\n",
       "9  2 1 -8.143611\n",
       "10 2 2 -8.144759\n",
       "6  1 1 -8.145009\n",
       "7  1 2 -8.146217"
      ]
     },
     "metadata": {},
     "output_type": "display_data"
    }
   ],
   "source": [
    "#Initial GARCH Order\n",
    "#ARIMA-GARCH GARCH order\n",
    "test_modelAGG <- function(m,n){\n",
    "  spec = ugarchspec(variance.model=list(garchOrder=c(m,n)),\n",
    "                    mean.model=list(armaOrder=c(6,3), \n",
    "                                    include.mean=T), distribution.model=\"std\")    \n",
    "  fit = ugarchfit(spec, data.train, solver = 'hybrid')\n",
    "  current.bic = infocriteria(fit)[2]\n",
    "  df = data.frame(m,n,current.bic)\n",
    "  names(df) <- c(\"m\",\"n\",\"BIC\")\n",
    "  print(paste(m,n,current.bic,sep=\" \"))\n",
    "  return(df)\n",
    "}\n",
    "\n",
    "orders = data.frame(Inf,Inf,Inf)\n",
    "names(orders) <- c(\"m\",\"n\",\"BIC\")\n",
    "\n",
    "\n",
    "for (m in 0:2){\n",
    "  for (n in 0:2){\n",
    "    possibleError <- tryCatch(\n",
    "      orders<-rbind(orders,test_modelAGG(m,n)),\n",
    "      error=function(e) e\n",
    "    )\n",
    "    if(inherits(possibleError, \"error\")) next\n",
    "  }\n",
    "}\n",
    "orders <- orders[order(-orders$BIC),]\n",
    "tail(orders)\n",
    "\n"
   ]
  },
  {
   "cell_type": "code",
   "execution_count": 25,
   "metadata": {},
   "outputs": [
    {
     "name": "stdout",
     "output_type": "stream",
     "text": [
      "[1] \"0 0 -8.15594491394701\"\n",
      "[1] \"0 1 -8.15548804566102\"\n",
      "[1] \"0 2 -8.15416578536148\"\n",
      "[1] \"1 0 -8.15555481543749\"\n",
      "[1] \"1 1 -8.15418654705561\"\n",
      "[1] \"1 2 -8.15274086205067\"\n",
      "[1] \"2 0 -8.15418747551815\"\n",
      "[1] \"2 1 -8.15282983237886\"\n",
      "[1] \"2 2 -8.15160295741267\"\n"
     ]
    },
    {
     "data": {
      "text/html": [
       "<table>\n",
       "<caption>A data.frame: 6 × 3</caption>\n",
       "<thead>\n",
       "\t<tr><th></th><th scope=col>p</th><th scope=col>q</th><th scope=col>BIC</th></tr>\n",
       "\t<tr><th></th><th scope=col>&lt;dbl&gt;</th><th scope=col>&lt;dbl&gt;</th><th scope=col>&lt;dbl&gt;</th></tr>\n",
       "</thead>\n",
       "<tbody>\n",
       "\t<tr><th scope=row>4</th><td>0</td><td>2</td><td>-8.154166</td></tr>\n",
       "\t<tr><th scope=row>6</th><td>1</td><td>1</td><td>-8.154187</td></tr>\n",
       "\t<tr><th scope=row>8</th><td>2</td><td>0</td><td>-8.154187</td></tr>\n",
       "\t<tr><th scope=row>3</th><td>0</td><td>1</td><td>-8.155488</td></tr>\n",
       "\t<tr><th scope=row>5</th><td>1</td><td>0</td><td>-8.155555</td></tr>\n",
       "\t<tr><th scope=row>2</th><td>0</td><td>0</td><td>-8.155945</td></tr>\n",
       "</tbody>\n",
       "</table>\n"
      ],
      "text/latex": [
       "A data.frame: 6 × 3\n",
       "\\begin{tabular}{r|lll}\n",
       "  & p & q & BIC\\\\\n",
       "  & <dbl> & <dbl> & <dbl>\\\\\n",
       "\\hline\n",
       "\t4 & 0 & 2 & -8.154166\\\\\n",
       "\t6 & 1 & 1 & -8.154187\\\\\n",
       "\t8 & 2 & 0 & -8.154187\\\\\n",
       "\t3 & 0 & 1 & -8.155488\\\\\n",
       "\t5 & 1 & 0 & -8.155555\\\\\n",
       "\t2 & 0 & 0 & -8.155945\\\\\n",
       "\\end{tabular}\n"
      ],
      "text/markdown": [
       "\n",
       "A data.frame: 6 × 3\n",
       "\n",
       "| <!--/--> | p &lt;dbl&gt; | q &lt;dbl&gt; | BIC &lt;dbl&gt; |\n",
       "|---|---|---|---|\n",
       "| 4 | 0 | 2 | -8.154166 |\n",
       "| 6 | 1 | 1 | -8.154187 |\n",
       "| 8 | 2 | 0 | -8.154187 |\n",
       "| 3 | 0 | 1 | -8.155488 |\n",
       "| 5 | 1 | 0 | -8.155555 |\n",
       "| 2 | 0 | 0 | -8.155945 |\n",
       "\n"
      ],
      "text/plain": [
       "  p q BIC      \n",
       "4 0 2 -8.154166\n",
       "6 1 1 -8.154187\n",
       "8 2 0 -8.154187\n",
       "3 0 1 -8.155488\n",
       "5 1 0 -8.155555\n",
       "2 0 0 -8.155945"
      ]
     },
     "metadata": {},
     "output_type": "display_data"
    }
   ],
   "source": [
    "#ARMA update\n",
    "#ARIMA-GARCH ARIMA order\n",
    "test_modelAGA <- function(p,q){\n",
    "  spec = ugarchspec(variance.model=list(garchOrder=c(1,2)),\n",
    "                    mean.model=list(armaOrder=c(p,q), \n",
    "                                    include.mean=T), distribution.model=\"std\")    \n",
    "  fit = ugarchfit(spec, data.train, solver = 'hybrid')\n",
    "  current.bic = infocriteria(fit)[2]\n",
    "  df = data.frame(p,q,current.bic)\n",
    "  names(df) <- c(\"p\",\"q\",\"BIC\")\n",
    "  print(paste(p,q,current.bic,sep=\" \"))\n",
    "  return(df)\n",
    "}\n",
    "\n",
    "orders = data.frame(Inf,Inf,Inf)\n",
    "names(orders) <- c(\"p\",\"q\",\"BIC\")\n",
    "\n",
    "\n",
    "for (p in 0:2){\n",
    "  for (q in 0:2){\n",
    "    possibleError <- tryCatch(\n",
    "      orders<-rbind(orders,test_modelAGA(p,q)),\n",
    "      error=function(e) e\n",
    "    )\n",
    "    if(inherits(possibleError, \"error\")) next\n",
    "  }\n",
    "}\n",
    "orders <- orders[order(-orders$BIC),]\n",
    "tail(orders)\n",
    "\n",
    "#[1] 0 0"
   ]
  },
  {
   "cell_type": "code",
   "execution_count": 26,
   "metadata": {},
   "outputs": [
    {
     "name": "stdout",
     "output_type": "stream",
     "text": [
      "[1] \"0 0 -8.07190173121561\"\n",
      "[1] \"0 1 -8.06192479068802\"\n",
      "[1] \"0 2 -8.06465411657727\"\n",
      "[1] \"1 0 -8.09314843556384\"\n",
      "[1] \"1 1 -8.15475682360052\"\n",
      "[1] \"1 2 -8.15594678171895\"\n",
      "[1] \"2 0 -8.09160170934307\"\n",
      "[1] \"2 1 -8.1533254638182\"\n",
      "[1] \"2 2 -8.15455070196722\"\n"
     ]
    },
    {
     "data": {
      "text/html": [
       "<table>\n",
       "<caption>A data.frame: 6 × 3</caption>\n",
       "<thead>\n",
       "\t<tr><th></th><th scope=col>m</th><th scope=col>n</th><th scope=col>BIC</th></tr>\n",
       "\t<tr><th></th><th scope=col>&lt;dbl&gt;</th><th scope=col>&lt;dbl&gt;</th><th scope=col>&lt;dbl&gt;</th></tr>\n",
       "</thead>\n",
       "<tbody>\n",
       "\t<tr><th scope=row>8</th><td>2</td><td>0</td><td>-8.091602</td></tr>\n",
       "\t<tr><th scope=row>5</th><td>1</td><td>0</td><td>-8.093148</td></tr>\n",
       "\t<tr><th scope=row>9</th><td>2</td><td>1</td><td>-8.153325</td></tr>\n",
       "\t<tr><th scope=row>10</th><td>2</td><td>2</td><td>-8.154551</td></tr>\n",
       "\t<tr><th scope=row>6</th><td>1</td><td>1</td><td>-8.154757</td></tr>\n",
       "\t<tr><th scope=row>7</th><td>1</td><td>2</td><td>-8.155947</td></tr>\n",
       "</tbody>\n",
       "</table>\n"
      ],
      "text/latex": [
       "A data.frame: 6 × 3\n",
       "\\begin{tabular}{r|lll}\n",
       "  & m & n & BIC\\\\\n",
       "  & <dbl> & <dbl> & <dbl>\\\\\n",
       "\\hline\n",
       "\t8 & 2 & 0 & -8.091602\\\\\n",
       "\t5 & 1 & 0 & -8.093148\\\\\n",
       "\t9 & 2 & 1 & -8.153325\\\\\n",
       "\t10 & 2 & 2 & -8.154551\\\\\n",
       "\t6 & 1 & 1 & -8.154757\\\\\n",
       "\t7 & 1 & 2 & -8.155947\\\\\n",
       "\\end{tabular}\n"
      ],
      "text/markdown": [
       "\n",
       "A data.frame: 6 × 3\n",
       "\n",
       "| <!--/--> | m &lt;dbl&gt; | n &lt;dbl&gt; | BIC &lt;dbl&gt; |\n",
       "|---|---|---|---|\n",
       "| 8 | 2 | 0 | -8.091602 |\n",
       "| 5 | 1 | 0 | -8.093148 |\n",
       "| 9 | 2 | 1 | -8.153325 |\n",
       "| 10 | 2 | 2 | -8.154551 |\n",
       "| 6 | 1 | 1 | -8.154757 |\n",
       "| 7 | 1 | 2 | -8.155947 |\n",
       "\n"
      ],
      "text/plain": [
       "   m n BIC      \n",
       "8  2 0 -8.091602\n",
       "5  1 0 -8.093148\n",
       "9  2 1 -8.153325\n",
       "10 2 2 -8.154551\n",
       "6  1 1 -8.154757\n",
       "7  1 2 -8.155947"
      ]
     },
     "metadata": {},
     "output_type": "display_data"
    }
   ],
   "source": [
    "#GARCH update\n",
    "test_modelAGG <- function(m,n){\n",
    "  spec = ugarchspec(variance.model=list(garchOrder=c(m,n)),\n",
    "                    mean.model=list(armaOrder=c(0,0), \n",
    "                                    include.mean=T), distribution.model=\"std\")    \n",
    "  fit = ugarchfit(spec, data.train, solver = 'hybrid')\n",
    "  current.bic = infocriteria(fit)[2]\n",
    "  df = data.frame(m,n,current.bic)\n",
    "  names(df) <- c(\"m\",\"n\",\"BIC\")\n",
    "  print(paste(m,n,current.bic,sep=\" \"))\n",
    "  return(df)\n",
    "}\n",
    "\n",
    "orders = data.frame(Inf,Inf,Inf)\n",
    "names(orders) <- c(\"m\",\"n\",\"BIC\")\n",
    "\n",
    "\n",
    "for (m in 0:2){\n",
    "  for (n in 0:2){\n",
    "    possibleError <- tryCatch(\n",
    "      orders<-rbind(orders,test_modelAGG(m,n)),\n",
    "      error=function(e) e\n",
    "    )\n",
    "    if(inherits(possibleError, \"error\")) next\n",
    "  }\n",
    "}\n",
    "orders <- orders[order(-orders$BIC),]\n",
    "tail(orders)\n",
    "#[1] 1 2"
   ]
  },
  {
   "cell_type": "code",
   "execution_count": 27,
   "metadata": {},
   "outputs": [
    {
     "data": {
      "text/html": [
       "<table>\n",
       "<caption>A matrix: 4 × 1 of type dbl</caption>\n",
       "<thead>\n",
       "\t<tr><th></th><th scope=col></th></tr>\n",
       "</thead>\n",
       "<tbody>\n",
       "\t<tr><th scope=row>Akaike</th><td>-8.162349</td></tr>\n",
       "\t<tr><th scope=row>Bayes</th><td>-8.146218</td></tr>\n",
       "\t<tr><th scope=row>Shibata</th><td>-8.162361</td></tr>\n",
       "\t<tr><th scope=row>Hannan-Quinn</th><td>-8.156760</td></tr>\n",
       "</tbody>\n",
       "</table>\n"
      ],
      "text/latex": [
       "A matrix: 4 × 1 of type dbl\n",
       "\\begin{tabular}{r|l}\n",
       "  & \\\\\n",
       "\\hline\n",
       "\tAkaike & -8.162349\\\\\n",
       "\tBayes & -8.146218\\\\\n",
       "\tShibata & -8.162361\\\\\n",
       "\tHannan-Quinn & -8.156760\\\\\n",
       "\\end{tabular}\n"
      ],
      "text/markdown": [
       "\n",
       "A matrix: 4 × 1 of type dbl\n",
       "\n",
       "| <!--/--> | <!----> |\n",
       "|---|---|\n",
       "| Akaike | -8.162349 |\n",
       "| Bayes | -8.146218 |\n",
       "| Shibata | -8.162361 |\n",
       "| Hannan-Quinn | -8.156760 |\n",
       "\n"
      ],
      "text/plain": [
       "                      \n",
       "Akaike       -8.162349\n",
       "Bayes        -8.146218\n",
       "Shibata      -8.162361\n",
       "Hannan-Quinn -8.156760"
      ]
     },
     "metadata": {},
     "output_type": "display_data"
    },
    {
     "data": {
      "text/html": [
       "<table>\n",
       "<caption>A matrix: 4 × 1 of type dbl</caption>\n",
       "<thead>\n",
       "\t<tr><th></th><th scope=col></th></tr>\n",
       "</thead>\n",
       "<tbody>\n",
       "\t<tr><th scope=row>Akaike</th><td>-8.162397</td></tr>\n",
       "\t<tr><th scope=row>Bayes</th><td>-8.155945</td></tr>\n",
       "\t<tr><th scope=row>Shibata</th><td>-8.162399</td></tr>\n",
       "\t<tr><th scope=row>Hannan-Quinn</th><td>-8.160162</td></tr>\n",
       "</tbody>\n",
       "</table>\n"
      ],
      "text/latex": [
       "A matrix: 4 × 1 of type dbl\n",
       "\\begin{tabular}{r|l}\n",
       "  & \\\\\n",
       "\\hline\n",
       "\tAkaike & -8.162397\\\\\n",
       "\tBayes & -8.155945\\\\\n",
       "\tShibata & -8.162399\\\\\n",
       "\tHannan-Quinn & -8.160162\\\\\n",
       "\\end{tabular}\n"
      ],
      "text/markdown": [
       "\n",
       "A matrix: 4 × 1 of type dbl\n",
       "\n",
       "| <!--/--> | <!----> |\n",
       "|---|---|\n",
       "| Akaike | -8.162397 |\n",
       "| Bayes | -8.155945 |\n",
       "| Shibata | -8.162399 |\n",
       "| Hannan-Quinn | -8.160162 |\n",
       "\n"
      ],
      "text/plain": [
       "                      \n",
       "Akaike       -8.162397\n",
       "Bayes        -8.155945\n",
       "Shibata      -8.162399\n",
       "Hannan-Quinn -8.160162"
      ]
     },
     "metadata": {},
     "output_type": "display_data"
    }
   ],
   "source": [
    "#Goodness of Fit \n",
    "spec.1 = ugarchspec(variance.model=list(garchOrder=c(1,2)),\n",
    "mean.model=list(armaOrder=c(6,3), \n",
    "include.mean=T), distribution.model=\"std\")    \n",
    "final.model.1 = ugarchfit(spec.1, data.train, solver = 'hybrid')\n",
    "\n",
    "spec.2 = ugarchspec(variance.model=list(garchOrder=c(1,2)),\n",
    "mean.model=list(armaOrder=c(0,0), \n",
    "include.mean=T), distribution.model=\"std\")    \n",
    "final.model.2 = ugarchfit(spec.2, data.train, solver = 'hybrid')\n",
    "\n",
    "\n",
    "#Compare Information Criteria\n",
    "infocriteria(final.model.1)\n",
    "infocriteria(final.model.2)"
   ]
  },
  {
   "cell_type": "code",
   "execution_count": 40,
   "metadata": {
    "scrolled": false
   },
   "outputs": [
    {
     "data": {
      "text/plain": [
       "\n",
       "*---------------------------------*\n",
       "*          GARCH Model Fit        *\n",
       "*---------------------------------*\n",
       "\n",
       "Conditional Variance Dynamics \t\n",
       "-----------------------------------\n",
       "GARCH Model\t: sGARCH(1,2)\n",
       "Mean Model\t: ARFIMA(6,0,3)\n",
       "Distribution\t: std \n",
       "\n",
       "Optimal Parameters\n",
       "------------------------------------\n",
       "        Estimate  Std. Error    t value Pr(>|t|)\n",
       "mu     -0.000018    0.000035   -0.49548 0.620260\n",
       "ar1    -0.442167    0.048659   -9.08706 0.000000\n",
       "ar2    -0.560169    0.026941  -20.79278 0.000000\n",
       "ar3    -0.868225    0.011433  -75.94259 0.000000\n",
       "ar4    -0.037600    0.012200   -3.08188 0.002057\n",
       "ar5    -0.009823    0.011178   -0.87877 0.379524\n",
       "ar6    -0.013643    0.009887   -1.37993 0.167610\n",
       "ma1     0.415141    0.047742    8.69544 0.000000\n",
       "ma2     0.552405    0.026158   21.11814 0.000000\n",
       "ma3     0.845522    0.001991  424.77091 0.000000\n",
       "omega   0.000000    0.000000    0.40072 0.688627\n",
       "alpha1  0.044582    0.003532   12.62357 0.000000\n",
       "beta1   0.101155    0.000689  146.90630 0.000000\n",
       "beta2   0.853262    0.000646 1320.40646 0.000000\n",
       "shape   3.063483    0.141096   21.71201 0.000000\n",
       "\n",
       "Robust Standard Errors:\n",
       "        Estimate  Std. Error   t value Pr(>|t|)\n",
       "mu     -0.000018    0.000038  -0.46731 0.640277\n",
       "ar1    -0.442167    0.082174  -5.38087 0.000000\n",
       "ar2    -0.560169    0.048996 -11.43299 0.000000\n",
       "ar3    -0.868225    0.010561 -82.21259 0.000000\n",
       "ar4    -0.037600    0.014249  -2.63884 0.008319\n",
       "ar5    -0.009823    0.011755  -0.83563 0.403362\n",
       "ar6    -0.013643    0.009939  -1.37269 0.169848\n",
       "ma1     0.415141    0.084568   4.90899 0.000001\n",
       "ma2     0.552405    0.049421  11.17744 0.000000\n",
       "ma3     0.845522    0.002755 306.95647 0.000000\n",
       "omega   0.000000    0.000006   0.02187 0.982552\n",
       "alpha1  0.044582    0.082947   0.53748 0.590937\n",
       "beta1   0.101155    0.011508   8.78960 0.000000\n",
       "beta2   0.853262    0.011081  77.00322 0.000000\n",
       "shape   3.063483    3.303227   0.92742 0.353708\n",
       "\n",
       "LogLikelihood : 25834.72 \n",
       "\n",
       "Information Criteria\n",
       "------------------------------------\n",
       "                    \n",
       "Akaike       -8.1669\n",
       "Bayes        -8.1509\n",
       "Shibata      -8.1669\n",
       "Hannan-Quinn -8.1614\n",
       "\n",
       "Weighted Ljung-Box Test on Standardized Residuals\n",
       "------------------------------------\n",
       "                         statistic p-value\n",
       "Lag[1]                     0.08133  0.7755\n",
       "Lag[2*(p+q)+(p+q)-1][26]   7.04414  1.0000\n",
       "Lag[4*(p+q)+(p+q)-1][44]  13.17060  0.9990\n",
       "d.o.f=9\n",
       "H0 : No serial correlation\n",
       "\n",
       "Weighted Ljung-Box Test on Standardized Squared Residuals\n",
       "------------------------------------\n",
       "                         statistic p-value\n",
       "Lag[1]                       3.613 0.05735\n",
       "Lag[2*(p+q)+(p+q)-1][8]     12.079 0.01147\n",
       "Lag[4*(p+q)+(p+q)-1][14]    14.617 0.02980\n",
       "d.o.f=3\n",
       "\n",
       "Weighted ARCH LM Tests\n",
       "------------------------------------\n",
       "            Statistic Shape Scale   P-Value\n",
       "ARCH Lag[4]     12.52 0.500 2.000 0.0004031\n",
       "ARCH Lag[6]     12.53 1.461 1.711 0.0019807\n",
       "ARCH Lag[8]     12.54 2.368 1.583 0.0059866\n",
       "\n",
       "Nyblom stability test\n",
       "------------------------------------\n",
       "Joint Statistic:  1318.004\n",
       "Individual Statistics:                \n",
       "mu       0.29091\n",
       "ar1      0.05004\n",
       "ar2      0.28476\n",
       "ar3      0.07228\n",
       "ar4      0.23477\n",
       "ar5      0.18264\n",
       "ar6      0.15519\n",
       "ma1      0.04419\n",
       "ma2      0.27862\n",
       "ma3      0.07399\n",
       "omega  420.32286\n",
       "alpha1   3.15452\n",
       "beta1    2.45808\n",
       "beta2    2.46763\n",
       "shape    1.50477\n",
       "\n",
       "Asymptotic Critical Values (10% 5% 1%)\n",
       "Joint Statistic:     \t 3.26 3.54 4.07\n",
       "Individual Statistic:\t 0.35 0.47 0.75\n",
       "\n",
       "Sign Bias Test\n",
       "------------------------------------\n",
       "                   t-value    prob sig\n",
       "Sign Bias            2.184 0.02898  **\n",
       "Negative Sign Bias   0.774 0.43896    \n",
       "Positive Sign Bias   1.252 0.21051    \n",
       "Joint Effect         4.888 0.18016    \n",
       "\n",
       "\n",
       "Adjusted Pearson Goodness-of-Fit Test:\n",
       "------------------------------------\n",
       "  group statistic p-value(g-1)\n",
       "1    20      1374   6.007e-280\n",
       "2    30      1671    0.000e+00\n",
       "3    40      1743    0.000e+00\n",
       "4    50      1824    0.000e+00\n",
       "\n",
       "\n",
       "Elapsed time : 6.25469 \n"
      ]
     },
     "metadata": {},
     "output_type": "display_data"
    }
   ],
   "source": [
    "final.model.1 "
   ]
  },
  {
   "cell_type": "code",
   "execution_count": 33,
   "metadata": {
    "scrolled": false
   },
   "outputs": [
    {
     "data": {
      "text/plain": [
       "\n",
       "\tBox-Ljung test\n",
       "\n",
       "data:  resids.final.model\n",
       "X-squared = 10.918, df = 1, p-value = 0.0009524\n"
      ]
     },
     "metadata": {},
     "output_type": "display_data"
    },
    {
     "data": {
      "text/plain": [
       "\n",
       "\tBox-Ljung test\n",
       "\n",
       "data:  resids.final.model^2\n",
       "X-squared = 397.78, df = 1, p-value < 2.2e-16\n"
      ]
     },
     "metadata": {},
     "output_type": "display_data"
    },
    {
     "data": {
      "image/png": "[encoded data removed]",
      "text/plain": [
       "Plot with title \"ACF of Squared GARCH Residuals (USD/EUR)\""
      ]
     },
     "metadata": {},
     "output_type": "display_data"
    },
    {
     "data": {
      "image/png": "[encoded data removed]",
      "text/plain": [
       "Plot with title \"Normal Q-Q Plot\""
      ]
     },
     "metadata": {},
     "output_type": "display_data"
    }
   ],
   "source": [
    "#Residual Analysis \n",
    "resids.final.model = residuals(final.model.2)\n",
    "par(mfcol=c(2,1))\n",
    "acf(resids.final.model,main=\"ACF of GARCH Residuals (USD/EUR)\")\n",
    "acf(resids.final.model^2,main=\"ACF of Squared GARCH Residuals (USD/EUR)\")                    \n",
    "Box.test(resids.final.model,lag=1,fitdf=0,type='Ljung')\n",
    "Box.test(resids.final.model^2,lag=1,fitdf=0,type='Ljung')\n",
    "qqnorm(resids.final.model)"
   ]
  },
  {
   "cell_type": "code",
   "execution_count": 34,
   "metadata": {},
   "outputs": [
    {
     "data": {
      "text/html": [
       "53"
      ],
      "text/latex": [
       "53"
      ],
      "text/markdown": [
       "53"
      ],
      "text/plain": [
       "[1] 53"
      ]
     },
     "metadata": {},
     "output_type": "display_data"
    }
   ],
   "source": [
    "nfore = length(data.test)\n",
    "nfore"
   ]
  },
  {
   "cell_type": "code",
   "execution_count": 42,
   "metadata": {},
   "outputs": [
    {
     "name": "stderr",
     "output_type": "stream",
     "text": [
      "Warning message in .makefitmodel(garchmodel = \"sGARCH\", f = .sgarchLLH, T = T, m = m, :\n",
      "\"\n",
      "rugarch-->warning: failed to invert hessian\n",
      "\""
     ]
    }
   ],
   "source": [
    "#Prediction of the return time series and the volatility sigma\n",
    "nfore = length(data.test)\n",
    "fore.series.1 = NULL\n",
    "fore.sigma.1 = NULL\n",
    "fore.series.2 = NULL\n",
    "fore.sigma.2 = NULL\n",
    "for(f in 1: nfore)\n",
    "{\n",
    "#Fit models\n",
    "data = data.train\n",
    "if(f>2)\n",
    "data = c(data.train,data.test[1:(f-1)])  \n",
    "final.model.1 = ugarchfit(spec.1, data, solver = 'hybrid')    \n",
    "final.model.2 = ugarchfit(spec.2, data, solver = 'hybrid')\n",
    "#Forecast\n",
    "fore = ugarchforecast(final.model.1, n.ahead=1)\n",
    "fore.series.1 = c(fore.series.1, fore@forecast$seriesFor)\n",
    "fore.sigma.1 = c(fore.sigma.1, fore@forecast$sigmaFor)\n",
    "fore = ugarchforecast(final.model.2, n.ahead=1)\n",
    "fore.series.2 = c(fore.series.2, fore@forecast$seriesFor)\n",
    "fore.sigma.2 = c(fore.sigma.2, fore@forecast$sigmaFor)\n",
    "\n",
    "}\n",
    "fore.series.1[is.nan(fore.series.1)]=0"
   ]
  },
  {
   "cell_type": "code",
   "execution_count": 50,
   "metadata": {},
   "outputs": [
    {
     "data": {
      "text/html": [
       "9.86413245503549e-06"
      ],
      "text/latex": [
       "9.86413245503549e-06"
      ],
      "text/markdown": [
       "9.86413245503549e-06"
      ],
      "text/plain": [
       "[1] 9.864132e-06"
      ]
     },
     "metadata": {},
     "output_type": "display_data"
    },
    {
     "data": {
      "text/html": [
       "9.76418112465005e-06"
      ],
      "text/latex": [
       "9.76418112465005e-06"
      ],
      "text/markdown": [
       "9.76418112465005e-06"
      ],
      "text/plain": [
       "[1] 9.764181e-06"
      ]
     },
     "metadata": {},
     "output_type": "display_data"
    },
    {
     "data": {
      "text/html": [
       "0.00222960602614474"
      ],
      "text/latex": [
       "0.00222960602614474"
      ],
      "text/markdown": [
       "0.00222960602614474"
      ],
      "text/plain": [
       "[1] 0.002229606"
      ]
     },
     "metadata": {},
     "output_type": "display_data"
    },
    {
     "data": {
      "text/html": [
       "0.00219314953316784"
      ],
      "text/latex": [
       "0.00219314953316784"
      ],
      "text/markdown": [
       "0.00219314953316784"
      ],
      "text/plain": [
       "[1] 0.00219315"
      ]
     },
     "metadata": {},
     "output_type": "display_data"
    },
    {
     "data": {
      "text/html": [
       "11.5783693604547"
      ],
      "text/latex": [
       "11.5783693604547"
      ],
      "text/markdown": [
       "11.5783693604547"
      ],
      "text/plain": [
       "[1] 11.57837"
      ]
     },
     "metadata": {},
     "output_type": "display_data"
    },
    {
     "data": {
      "text/html": [
       "2.72844448694194"
      ],
      "text/latex": [
       "2.72844448694194"
      ],
      "text/markdown": [
       "2.72844448694194"
      ],
      "text/plain": [
       "[1] 2.728444"
      ]
     },
     "metadata": {},
     "output_type": "display_data"
    },
    {
     "data": {
      "text/html": [
       "1.05952074721885"
      ],
      "text/latex": [
       "1.05952074721885"
      ],
      "text/markdown": [
       "1.05952074721885"
      ],
      "text/plain": [
       "[1] 1.059521"
      ]
     },
     "metadata": {},
     "output_type": "display_data"
    },
    {
     "data": {
      "text/html": [
       "1.04878483012343"
      ],
      "text/latex": [
       "1.04878483012343"
      ],
      "text/markdown": [
       "1.04878483012343"
      ],
      "text/plain": [
       "[1] 1.048785"
      ]
     },
     "metadata": {},
     "output_type": "display_data"
    }
   ],
   "source": [
    "#Compute Accuracy Measures \n",
    "#Mean Squared Prediction Error (MSPE)\n",
    "mean((fore.series.1 - data.test)^2)\n",
    "mean((fore.series.2 - data.test)^2)\n",
    "#Mean Absolute Prediction Error (MAE)\n",
    "mean(abs(fore.series.1 - data.test))\n",
    "mean(abs(fore.series.2 - data.test))\n",
    "#Mean Absolute Percentage Error (MAPE)\n",
    "mean(abs(fore.series.1 - data.test)/(data.test+0.000001))\n",
    "mean(abs(fore.series.2 - data.test)/(data.test+0.000001))\n",
    "#Precision Measure (PM)\n",
    "sum((fore.series.1 - data.test)^2)/sum((data.test-mean(data.test))^2)\n",
    "sum((fore.series.2 - data.test)^2)/sum((data.test-mean(data.test))^2)"
   ]
  },
  {
   "cell_type": "code",
   "execution_count": 51,
   "metadata": {
    "scrolled": true
   },
   "outputs": [
    {
     "data": {
      "text/html": [
       "<style>\n",
       ".list-inline {list-style: none; margin:0; padding: 0}\n",
       ".list-inline>li {display: inline-block}\n",
       ".list-inline>li:not(:last-child)::after {content: \"\\00b7\"; padding: 0 .5ex}\n",
       "</style>\n",
       "<ol class=list-inline><li>-0.00126999999999999</li><li>0</li><li>0.00553000000000003</li><li>0.000684999999999936</li><li>0.000665000000000027</li><li>-0.00588</li><li>0.000454999999999983</li><li>0.000539999999999985</li><li>-4.99999999992173e-06</li><li>0.000439999999999996</li><li>-0.00359000000000009</li><li>0.00197500000000006</li><li>0.00216499999999997</li><li>-0.00503999999999993</li><li>-0.00116000000000005</li><li>0</li><li>-0.000290000000000012</li><li>-0.00667499999999999</li><li>0.00321499999999997</li><li>-0.00860299999999992</li><li>-0.00258700000000001</li><li>0.000594999999999901</li><li>0</li><li>0.00178500000000004</li><li>-0.00120999999999993</li><li>0.00195999999999996</li><li>-0.00300500000000004</li><li>-0.00554999999999994</li><li>-0.000759999999999983</li><li>0</li><li>-0.00395500000000004</li><li>0.000430000000000041</li><li>-0.00457000000000007</li><li>-0.000144999999999951</li><li>0.00847500000000001</li><li>-0.00159500000000001</li><li>-9.00000000000345e-05</li><li>-0.00111499999999998</li><li>-0.00205</li><li>-6.49999999999817e-05</li><li>0</li><li>0.00193500000000002</li><li>0.00414999999999999</li><li>0.00290999999999997</li><li>-0.00378999999999996</li><li>-0.000140000000000029</li><li>-0.00081500000000001</li><li>-7.9999999999969e-05</li><li>-0.00439500000000004</li><li>0.00148999999999999</li><li>-0.000465000000000049</li><li>-0.00527499999999992</li><li>-0.00281500000000001</li></ol>\n"
      ],
      "text/latex": [
       "\\begin{enumerate*}\n",
       "\\item -0.00126999999999999\n",
       "\\item 0\n",
       "\\item 0.00553000000000003\n",
       "\\item 0.000684999999999936\n",
       "\\item 0.000665000000000027\n",
       "\\item -0.00588\n",
       "\\item 0.000454999999999983\n",
       "\\item 0.000539999999999985\n",
       "\\item -4.99999999992173e-06\n",
       "\\item 0.000439999999999996\n",
       "\\item -0.00359000000000009\n",
       "\\item 0.00197500000000006\n",
       "\\item 0.00216499999999997\n",
       "\\item -0.00503999999999993\n",
       "\\item -0.00116000000000005\n",
       "\\item 0\n",
       "\\item -0.000290000000000012\n",
       "\\item -0.00667499999999999\n",
       "\\item 0.00321499999999997\n",
       "\\item -0.00860299999999992\n",
       "\\item -0.00258700000000001\n",
       "\\item 0.000594999999999901\n",
       "\\item 0\n",
       "\\item 0.00178500000000004\n",
       "\\item -0.00120999999999993\n",
       "\\item 0.00195999999999996\n",
       "\\item -0.00300500000000004\n",
       "\\item -0.00554999999999994\n",
       "\\item -0.000759999999999983\n",
       "\\item 0\n",
       "\\item -0.00395500000000004\n",
       "\\item 0.000430000000000041\n",
       "\\item -0.00457000000000007\n",
       "\\item -0.000144999999999951\n",
       "\\item 0.00847500000000001\n",
       "\\item -0.00159500000000001\n",
       "\\item -9.00000000000345e-05\n",
       "\\item -0.00111499999999998\n",
       "\\item -0.00205\n",
       "\\item -6.49999999999817e-05\n",
       "\\item 0\n",
       "\\item 0.00193500000000002\n",
       "\\item 0.00414999999999999\n",
       "\\item 0.00290999999999997\n",
       "\\item -0.00378999999999996\n",
       "\\item -0.000140000000000029\n",
       "\\item -0.00081500000000001\n",
       "\\item -7.9999999999969e-05\n",
       "\\item -0.00439500000000004\n",
       "\\item 0.00148999999999999\n",
       "\\item -0.000465000000000049\n",
       "\\item -0.00527499999999992\n",
       "\\item -0.00281500000000001\n",
       "\\end{enumerate*}\n"
      ],
      "text/markdown": [
       "1. -0.00126999999999999\n",
       "2. 0\n",
       "3. 0.00553000000000003\n",
       "4. 0.000684999999999936\n",
       "5. 0.000665000000000027\n",
       "6. -0.00588\n",
       "7. 0.000454999999999983\n",
       "8. 0.000539999999999985\n",
       "9. -4.99999999992173e-06\n",
       "10. 0.000439999999999996\n",
       "11. -0.00359000000000009\n",
       "12. 0.00197500000000006\n",
       "13. 0.00216499999999997\n",
       "14. -0.00503999999999993\n",
       "15. -0.00116000000000005\n",
       "16. 0\n",
       "17. -0.000290000000000012\n",
       "18. -0.00667499999999999\n",
       "19. 0.00321499999999997\n",
       "20. -0.00860299999999992\n",
       "21. -0.00258700000000001\n",
       "22. 0.000594999999999901\n",
       "23. 0\n",
       "24. 0.00178500000000004\n",
       "25. -0.00120999999999993\n",
       "26. 0.00195999999999996\n",
       "27. -0.00300500000000004\n",
       "28. -0.00554999999999994\n",
       "29. -0.000759999999999983\n",
       "30. 0\n",
       "31. -0.00395500000000004\n",
       "32. 0.000430000000000041\n",
       "33. -0.00457000000000007\n",
       "34. -0.000144999999999951\n",
       "35. 0.00847500000000001\n",
       "36. -0.00159500000000001\n",
       "37. -9.00000000000345e-05\n",
       "38. -0.00111499999999998\n",
       "39. -0.00205\n",
       "40. -6.49999999999817e-05\n",
       "41. 0\n",
       "42. 0.00193500000000002\n",
       "43. 0.00414999999999999\n",
       "44. 0.00290999999999997\n",
       "45. -0.00378999999999996\n",
       "46. -0.000140000000000029\n",
       "47. -0.00081500000000001\n",
       "48. -7.9999999999969e-05\n",
       "49. -0.00439500000000004\n",
       "50. 0.00148999999999999\n",
       "51. -0.000465000000000049\n",
       "52. -0.00527499999999992\n",
       "53. -0.00281500000000001\n",
       "\n",
       "\n"
      ],
      "text/plain": [
       " [1] -0.001270  0.000000  0.005530  0.000685  0.000665 -0.005880  0.000455\n",
       " [8]  0.000540 -0.000005  0.000440 -0.003590  0.001975  0.002165 -0.005040\n",
       "[15] -0.001160  0.000000 -0.000290 -0.006675  0.003215 -0.008603 -0.002587\n",
       "[22]  0.000595  0.000000  0.001785 -0.001210  0.001960 -0.003005 -0.005550\n",
       "[29] -0.000760  0.000000 -0.003955  0.000430 -0.004570 -0.000145  0.008475\n",
       "[36] -0.001595 -0.000090 -0.001115 -0.002050 -0.000065  0.000000  0.001935\n",
       "[43]  0.004150  0.002910 -0.003790 -0.000140 -0.000815 -0.000080 -0.004395\n",
       "[50]  0.001490 -0.000465 -0.005275 -0.002815"
      ]
     },
     "metadata": {},
     "output_type": "display_data"
    },
    {
     "data": {
      "text/html": [
       "<dl>\n",
       "\t<dt>$Fore</dt>\n",
       "\t\t<dd><style>\n",
       ".list-inline {list-style: none; margin:0; padding: 0}\n",
       ".list-inline>li {display: inline-block}\n",
       ".list-inline>li:not(:last-child)::after {content: \"\\00b7\"; padding: 0 .5ex}\n",
       "</style>\n",
       "<ol class=list-inline><li>-2.93563033344112e-05</li><li>-2.9350243142716e-05</li><li>-3.40914153952428e-05</li><li>-3.19305448377336e-05</li><li>-2.73418172131784e-05</li><li>-2.86536081401645e-05</li><li>-2.96208936891646e-05</li><li>-2.91503540206651e-05</li><li>-3.48851470763959e-05</li><li>-2.78904268816982e-05</li><li>-2.89078280400355e-05</li><li>-3.28935653850797e-05</li><li>-2.74514562520302e-05</li><li>-2.84713515907386e-05</li><li>-3.12490817548502e-05</li><li>-3.62602216501543e-05</li><li>-3.44797489307082e-05</li><li>-3.50842523116922e-05</li><li>-2.70083624410826e-05</li><li>-2.94083855905821e-05</li><li>-2.36020460196294e-05</li><li>-3.04057770242214e-05</li><li>-3.02255867402675e-05</li><li>-2.51299766255109e-05</li><li>-2.97188698146642e-05</li><li>-3.01328180068687e-05</li><li>-2.9062482437803e-05</li><li>-2.95595338258837e-05</li><li>-3.10571615234067e-05</li><li>-2.89761328308358e-05</li><li>-2.5914287235974e-05</li><li>-2.80773806543183e-05</li><li>-3.25662330491075e-05</li><li>-6.94465646563761e-07</li><li>-3.09245540712321e-06</li><li>-2.9789659382684e-05</li><li>-3.21240904525594e-05</li><li>-3.22321916680046e-05</li><li>-3.26090465599105e-05</li><li>-3.32382502043593e-05</li><li>-3.58652880794098e-05</li><li>-3.34143106150175e-05</li><li>-3.2814330660308e-05</li><li>-3.19651348227561e-05</li><li>-3.12593349960901e-05</li><li>-3.11704889613049e-05</li><li>-3.90144976280193e-05</li><li>-2.83089530033007e-05</li><li>-3.21486842842569e-05</li><li>-3.3459101016484e-05</li><li>-2.94242962342209e-05</li><li>-3.29132363410175e-05</li><li>-1.74891136105015e-05</li></ol>\n",
       "</dd>\n",
       "\t<dt>$&lt;NA&gt;</dt>\n",
       "\t\t<dd>0</dd>\n",
       "\t<dt>$&lt;NA&gt;</dt>\n",
       "\t\t<dd>0.00553000000000003</dd>\n",
       "\t<dt>$&lt;NA&gt;</dt>\n",
       "\t\t<dd>0.000684999999999936</dd>\n",
       "\t<dt>$&lt;NA&gt;</dt>\n",
       "\t\t<dd>0.000665000000000027</dd>\n",
       "\t<dt>$&lt;NA&gt;</dt>\n",
       "\t\t<dd>-0.00588</dd>\n",
       "\t<dt>$&lt;NA&gt;</dt>\n",
       "\t\t<dd>0.000454999999999983</dd>\n",
       "\t<dt>$&lt;NA&gt;</dt>\n",
       "\t\t<dd>0.000539999999999985</dd>\n",
       "\t<dt>$&lt;NA&gt;</dt>\n",
       "\t\t<dd>-4.99999999992173e-06</dd>\n",
       "\t<dt>$&lt;NA&gt;</dt>\n",
       "\t\t<dd>0.000439999999999996</dd>\n",
       "\t<dt>$&lt;NA&gt;</dt>\n",
       "\t\t<dd>-0.00359000000000009</dd>\n",
       "\t<dt>$&lt;NA&gt;</dt>\n",
       "\t\t<dd>0.00197500000000006</dd>\n",
       "\t<dt>$&lt;NA&gt;</dt>\n",
       "\t\t<dd>0.00216499999999997</dd>\n",
       "\t<dt>$&lt;NA&gt;</dt>\n",
       "\t\t<dd>-0.00503999999999993</dd>\n",
       "\t<dt>$&lt;NA&gt;</dt>\n",
       "\t\t<dd>-0.00116000000000005</dd>\n",
       "\t<dt>$&lt;NA&gt;</dt>\n",
       "\t\t<dd>0</dd>\n",
       "\t<dt>$&lt;NA&gt;</dt>\n",
       "\t\t<dd>-0.000290000000000012</dd>\n",
       "\t<dt>$&lt;NA&gt;</dt>\n",
       "\t\t<dd>-0.00667499999999999</dd>\n",
       "\t<dt>$&lt;NA&gt;</dt>\n",
       "\t\t<dd>0.00321499999999997</dd>\n",
       "\t<dt>$&lt;NA&gt;</dt>\n",
       "\t\t<dd>-0.00860299999999992</dd>\n",
       "\t<dt>$&lt;NA&gt;</dt>\n",
       "\t\t<dd>-0.00258700000000001</dd>\n",
       "\t<dt>$&lt;NA&gt;</dt>\n",
       "\t\t<dd>0.000594999999999901</dd>\n",
       "\t<dt>$&lt;NA&gt;</dt>\n",
       "\t\t<dd>0</dd>\n",
       "\t<dt>$&lt;NA&gt;</dt>\n",
       "\t\t<dd>0.00178500000000004</dd>\n",
       "\t<dt>$&lt;NA&gt;</dt>\n",
       "\t\t<dd>-0.00120999999999993</dd>\n",
       "\t<dt>$&lt;NA&gt;</dt>\n",
       "\t\t<dd>0.00195999999999996</dd>\n",
       "\t<dt>$&lt;NA&gt;</dt>\n",
       "\t\t<dd>-0.00300500000000004</dd>\n",
       "\t<dt>$&lt;NA&gt;</dt>\n",
       "\t\t<dd>-0.00554999999999994</dd>\n",
       "\t<dt>$&lt;NA&gt;</dt>\n",
       "\t\t<dd>-0.000759999999999983</dd>\n",
       "\t<dt>$&lt;NA&gt;</dt>\n",
       "\t\t<dd>0</dd>\n",
       "\t<dt>$&lt;NA&gt;</dt>\n",
       "\t\t<dd>-0.00395500000000004</dd>\n",
       "\t<dt>$&lt;NA&gt;</dt>\n",
       "\t\t<dd>0.000430000000000041</dd>\n",
       "\t<dt>$&lt;NA&gt;</dt>\n",
       "\t\t<dd>-0.00457000000000007</dd>\n",
       "\t<dt>$&lt;NA&gt;</dt>\n",
       "\t\t<dd>-0.000144999999999951</dd>\n",
       "\t<dt>$&lt;NA&gt;</dt>\n",
       "\t\t<dd>0.00847500000000001</dd>\n",
       "\t<dt>$&lt;NA&gt;</dt>\n",
       "\t\t<dd>-0.00159500000000001</dd>\n",
       "\t<dt>$&lt;NA&gt;</dt>\n",
       "\t\t<dd>-9.00000000000345e-05</dd>\n",
       "\t<dt>$&lt;NA&gt;</dt>\n",
       "\t\t<dd>-0.00111499999999998</dd>\n",
       "\t<dt>$&lt;NA&gt;</dt>\n",
       "\t\t<dd>-0.00205</dd>\n",
       "\t<dt>$&lt;NA&gt;</dt>\n",
       "\t\t<dd>-6.49999999999817e-05</dd>\n",
       "\t<dt>$&lt;NA&gt;</dt>\n",
       "\t\t<dd>0</dd>\n",
       "\t<dt>$&lt;NA&gt;</dt>\n",
       "\t\t<dd>0.00193500000000002</dd>\n",
       "\t<dt>$&lt;NA&gt;</dt>\n",
       "\t\t<dd>0.00414999999999999</dd>\n",
       "\t<dt>$&lt;NA&gt;</dt>\n",
       "\t\t<dd>0.00290999999999997</dd>\n",
       "\t<dt>$&lt;NA&gt;</dt>\n",
       "\t\t<dd>-0.00378999999999996</dd>\n",
       "\t<dt>$&lt;NA&gt;</dt>\n",
       "\t\t<dd>-0.000140000000000029</dd>\n",
       "\t<dt>$&lt;NA&gt;</dt>\n",
       "\t\t<dd>-0.00081500000000001</dd>\n",
       "\t<dt>$&lt;NA&gt;</dt>\n",
       "\t\t<dd>-7.9999999999969e-05</dd>\n",
       "\t<dt>$&lt;NA&gt;</dt>\n",
       "\t\t<dd>-0.00439500000000004</dd>\n",
       "\t<dt>$&lt;NA&gt;</dt>\n",
       "\t\t<dd>0.00148999999999999</dd>\n",
       "\t<dt>$&lt;NA&gt;</dt>\n",
       "\t\t<dd>-0.000465000000000049</dd>\n",
       "\t<dt>$&lt;NA&gt;</dt>\n",
       "\t\t<dd>-0.00527499999999992</dd>\n",
       "\t<dt>$&lt;NA&gt;</dt>\n",
       "\t\t<dd>-0.00281500000000001</dd>\n",
       "</dl>\n"
      ],
      "text/latex": [
       "\\begin{description}\n",
       "\\item[\\$Fore] \\begin{enumerate*}\n",
       "\\item -2.93563033344112e-05\n",
       "\\item -2.9350243142716e-05\n",
       "\\item -3.40914153952428e-05\n",
       "\\item -3.19305448377336e-05\n",
       "\\item -2.73418172131784e-05\n",
       "\\item -2.86536081401645e-05\n",
       "\\item -2.96208936891646e-05\n",
       "\\item -2.91503540206651e-05\n",
       "\\item -3.48851470763959e-05\n",
       "\\item -2.78904268816982e-05\n",
       "\\item -2.89078280400355e-05\n",
       "\\item -3.28935653850797e-05\n",
       "\\item -2.74514562520302e-05\n",
       "\\item -2.84713515907386e-05\n",
       "\\item -3.12490817548502e-05\n",
       "\\item -3.62602216501543e-05\n",
       "\\item -3.44797489307082e-05\n",
       "\\item -3.50842523116922e-05\n",
       "\\item -2.70083624410826e-05\n",
       "\\item -2.94083855905821e-05\n",
       "\\item -2.36020460196294e-05\n",
       "\\item -3.04057770242214e-05\n",
       "\\item -3.02255867402675e-05\n",
       "\\item -2.51299766255109e-05\n",
       "\\item -2.97188698146642e-05\n",
       "\\item -3.01328180068687e-05\n",
       "\\item -2.9062482437803e-05\n",
       "\\item -2.95595338258837e-05\n",
       "\\item -3.10571615234067e-05\n",
       "\\item -2.89761328308358e-05\n",
       "\\item -2.5914287235974e-05\n",
       "\\item -2.80773806543183e-05\n",
       "\\item -3.25662330491075e-05\n",
       "\\item -6.94465646563761e-07\n",
       "\\item -3.09245540712321e-06\n",
       "\\item -2.9789659382684e-05\n",
       "\\item -3.21240904525594e-05\n",
       "\\item -3.22321916680046e-05\n",
       "\\item -3.26090465599105e-05\n",
       "\\item -3.32382502043593e-05\n",
       "\\item -3.58652880794098e-05\n",
       "\\item -3.34143106150175e-05\n",
       "\\item -3.2814330660308e-05\n",
       "\\item -3.19651348227561e-05\n",
       "\\item -3.12593349960901e-05\n",
       "\\item -3.11704889613049e-05\n",
       "\\item -3.90144976280193e-05\n",
       "\\item -2.83089530033007e-05\n",
       "\\item -3.21486842842569e-05\n",
       "\\item -3.3459101016484e-05\n",
       "\\item -2.94242962342209e-05\n",
       "\\item -3.29132363410175e-05\n",
       "\\item -1.74891136105015e-05\n",
       "\\end{enumerate*}\n",
       "\n",
       "\\item[\\$<NA>] 0\n",
       "\\item[\\$<NA>] 0.00553000000000003\n",
       "\\item[\\$<NA>] 0.000684999999999936\n",
       "\\item[\\$<NA>] 0.000665000000000027\n",
       "\\item[\\$<NA>] -0.00588\n",
       "\\item[\\$<NA>] 0.000454999999999983\n",
       "\\item[\\$<NA>] 0.000539999999999985\n",
       "\\item[\\$<NA>] -4.99999999992173e-06\n",
       "\\item[\\$<NA>] 0.000439999999999996\n",
       "\\item[\\$<NA>] -0.00359000000000009\n",
       "\\item[\\$<NA>] 0.00197500000000006\n",
       "\\item[\\$<NA>] 0.00216499999999997\n",
       "\\item[\\$<NA>] -0.00503999999999993\n",
       "\\item[\\$<NA>] -0.00116000000000005\n",
       "\\item[\\$<NA>] 0\n",
       "\\item[\\$<NA>] -0.000290000000000012\n",
       "\\item[\\$<NA>] -0.00667499999999999\n",
       "\\item[\\$<NA>] 0.00321499999999997\n",
       "\\item[\\$<NA>] -0.00860299999999992\n",
       "\\item[\\$<NA>] -0.00258700000000001\n",
       "\\item[\\$<NA>] 0.000594999999999901\n",
       "\\item[\\$<NA>] 0\n",
       "\\item[\\$<NA>] 0.00178500000000004\n",
       "\\item[\\$<NA>] -0.00120999999999993\n",
       "\\item[\\$<NA>] 0.00195999999999996\n",
       "\\item[\\$<NA>] -0.00300500000000004\n",
       "\\item[\\$<NA>] -0.00554999999999994\n",
       "\\item[\\$<NA>] -0.000759999999999983\n",
       "\\item[\\$<NA>] 0\n",
       "\\item[\\$<NA>] -0.00395500000000004\n",
       "\\item[\\$<NA>] 0.000430000000000041\n",
       "\\item[\\$<NA>] -0.00457000000000007\n",
       "\\item[\\$<NA>] -0.000144999999999951\n",
       "\\item[\\$<NA>] 0.00847500000000001\n",
       "\\item[\\$<NA>] -0.00159500000000001\n",
       "\\item[\\$<NA>] -9.00000000000345e-05\n",
       "\\item[\\$<NA>] -0.00111499999999998\n",
       "\\item[\\$<NA>] -0.00205\n",
       "\\item[\\$<NA>] -6.49999999999817e-05\n",
       "\\item[\\$<NA>] 0\n",
       "\\item[\\$<NA>] 0.00193500000000002\n",
       "\\item[\\$<NA>] 0.00414999999999999\n",
       "\\item[\\$<NA>] 0.00290999999999997\n",
       "\\item[\\$<NA>] -0.00378999999999996\n",
       "\\item[\\$<NA>] -0.000140000000000029\n",
       "\\item[\\$<NA>] -0.00081500000000001\n",
       "\\item[\\$<NA>] -7.9999999999969e-05\n",
       "\\item[\\$<NA>] -0.00439500000000004\n",
       "\\item[\\$<NA>] 0.00148999999999999\n",
       "\\item[\\$<NA>] -0.000465000000000049\n",
       "\\item[\\$<NA>] -0.00527499999999992\n",
       "\\item[\\$<NA>] -0.00281500000000001\n",
       "\\end{description}\n"
      ],
      "text/markdown": [
       "$Fore\n",
       ":   1. -2.93563033344112e-05\n",
       "2. -2.9350243142716e-05\n",
       "3. -3.40914153952428e-05\n",
       "4. -3.19305448377336e-05\n",
       "5. -2.73418172131784e-05\n",
       "6. -2.86536081401645e-05\n",
       "7. -2.96208936891646e-05\n",
       "8. -2.91503540206651e-05\n",
       "9. -3.48851470763959e-05\n",
       "10. -2.78904268816982e-05\n",
       "11. -2.89078280400355e-05\n",
       "12. -3.28935653850797e-05\n",
       "13. -2.74514562520302e-05\n",
       "14. -2.84713515907386e-05\n",
       "15. -3.12490817548502e-05\n",
       "16. -3.62602216501543e-05\n",
       "17. -3.44797489307082e-05\n",
       "18. -3.50842523116922e-05\n",
       "19. -2.70083624410826e-05\n",
       "20. -2.94083855905821e-05\n",
       "21. -2.36020460196294e-05\n",
       "22. -3.04057770242214e-05\n",
       "23. -3.02255867402675e-05\n",
       "24. -2.51299766255109e-05\n",
       "25. -2.97188698146642e-05\n",
       "26. -3.01328180068687e-05\n",
       "27. -2.9062482437803e-05\n",
       "28. -2.95595338258837e-05\n",
       "29. -3.10571615234067e-05\n",
       "30. -2.89761328308358e-05\n",
       "31. -2.5914287235974e-05\n",
       "32. -2.80773806543183e-05\n",
       "33. -3.25662330491075e-05\n",
       "34. -6.94465646563761e-07\n",
       "35. -3.09245540712321e-06\n",
       "36. -2.9789659382684e-05\n",
       "37. -3.21240904525594e-05\n",
       "38. -3.22321916680046e-05\n",
       "39. -3.26090465599105e-05\n",
       "40. -3.32382502043593e-05\n",
       "41. -3.58652880794098e-05\n",
       "42. -3.34143106150175e-05\n",
       "43. -3.2814330660308e-05\n",
       "44. -3.19651348227561e-05\n",
       "45. -3.12593349960901e-05\n",
       "46. -3.11704889613049e-05\n",
       "47. -3.90144976280193e-05\n",
       "48. -2.83089530033007e-05\n",
       "49. -3.21486842842569e-05\n",
       "50. -3.3459101016484e-05\n",
       "51. -2.94242962342209e-05\n",
       "52. -3.29132363410175e-05\n",
       "53. -1.74891136105015e-05\n",
       "\n",
       "\n",
       "\n",
       "$&lt;NA&gt;\n",
       ":   0\n",
       "$&lt;NA&gt;\n",
       ":   0.00553000000000003\n",
       "$&lt;NA&gt;\n",
       ":   0.000684999999999936\n",
       "$&lt;NA&gt;\n",
       ":   0.000665000000000027\n",
       "$&lt;NA&gt;\n",
       ":   -0.00588\n",
       "$&lt;NA&gt;\n",
       ":   0.000454999999999983\n",
       "$&lt;NA&gt;\n",
       ":   0.000539999999999985\n",
       "$&lt;NA&gt;\n",
       ":   -4.99999999992173e-06\n",
       "$&lt;NA&gt;\n",
       ":   0.000439999999999996\n",
       "$&lt;NA&gt;\n",
       ":   -0.00359000000000009\n",
       "$&lt;NA&gt;\n",
       ":   0.00197500000000006\n",
       "$&lt;NA&gt;\n",
       ":   0.00216499999999997\n",
       "$&lt;NA&gt;\n",
       ":   -0.00503999999999993\n",
       "$&lt;NA&gt;\n",
       ":   -0.00116000000000005\n",
       "$&lt;NA&gt;\n",
       ":   0\n",
       "$&lt;NA&gt;\n",
       ":   -0.000290000000000012\n",
       "$&lt;NA&gt;\n",
       ":   -0.00667499999999999\n",
       "$&lt;NA&gt;\n",
       ":   0.00321499999999997\n",
       "$&lt;NA&gt;\n",
       ":   -0.00860299999999992\n",
       "$&lt;NA&gt;\n",
       ":   -0.00258700000000001\n",
       "$&lt;NA&gt;\n",
       ":   0.000594999999999901\n",
       "$&lt;NA&gt;\n",
       ":   0\n",
       "$&lt;NA&gt;\n",
       ":   0.00178500000000004\n",
       "$&lt;NA&gt;\n",
       ":   -0.00120999999999993\n",
       "$&lt;NA&gt;\n",
       ":   0.00195999999999996\n",
       "$&lt;NA&gt;\n",
       ":   -0.00300500000000004\n",
       "$&lt;NA&gt;\n",
       ":   -0.00554999999999994\n",
       "$&lt;NA&gt;\n",
       ":   -0.000759999999999983\n",
       "$&lt;NA&gt;\n",
       ":   0\n",
       "$&lt;NA&gt;\n",
       ":   -0.00395500000000004\n",
       "$&lt;NA&gt;\n",
       ":   0.000430000000000041\n",
       "$&lt;NA&gt;\n",
       ":   -0.00457000000000007\n",
       "$&lt;NA&gt;\n",
       ":   -0.000144999999999951\n",
       "$&lt;NA&gt;\n",
       ":   0.00847500000000001\n",
       "$&lt;NA&gt;\n",
       ":   -0.00159500000000001\n",
       "$&lt;NA&gt;\n",
       ":   -9.00000000000345e-05\n",
       "$&lt;NA&gt;\n",
       ":   -0.00111499999999998\n",
       "$&lt;NA&gt;\n",
       ":   -0.00205\n",
       "$&lt;NA&gt;\n",
       ":   -6.49999999999817e-05\n",
       "$&lt;NA&gt;\n",
       ":   0\n",
       "$&lt;NA&gt;\n",
       ":   0.00193500000000002\n",
       "$&lt;NA&gt;\n",
       ":   0.00414999999999999\n",
       "$&lt;NA&gt;\n",
       ":   0.00290999999999997\n",
       "$&lt;NA&gt;\n",
       ":   -0.00378999999999996\n",
       "$&lt;NA&gt;\n",
       ":   -0.000140000000000029\n",
       "$&lt;NA&gt;\n",
       ":   -0.00081500000000001\n",
       "$&lt;NA&gt;\n",
       ":   -7.9999999999969e-05\n",
       "$&lt;NA&gt;\n",
       ":   -0.00439500000000004\n",
       "$&lt;NA&gt;\n",
       ":   0.00148999999999999\n",
       "$&lt;NA&gt;\n",
       ":   -0.000465000000000049\n",
       "$&lt;NA&gt;\n",
       ":   -0.00527499999999992\n",
       "$&lt;NA&gt;\n",
       ":   -0.00281500000000001\n",
       "\n",
       "\n"
      ],
      "text/plain": [
       "$Fore\n",
       " [1] -2.935630e-05 -2.935024e-05 -3.409142e-05 -3.193054e-05 -2.734182e-05\n",
       " [6] -2.865361e-05 -2.962089e-05 -2.915035e-05 -3.488515e-05 -2.789043e-05\n",
       "[11] -2.890783e-05 -3.289357e-05 -2.745146e-05 -2.847135e-05 -3.124908e-05\n",
       "[16] -3.626022e-05 -3.447975e-05 -3.508425e-05 -2.700836e-05 -2.940839e-05\n",
       "[21] -2.360205e-05 -3.040578e-05 -3.022559e-05 -2.512998e-05 -2.971887e-05\n",
       "[26] -3.013282e-05 -2.906248e-05 -2.955953e-05 -3.105716e-05 -2.897613e-05\n",
       "[31] -2.591429e-05 -2.807738e-05 -3.256623e-05 -6.944656e-07 -3.092455e-06\n",
       "[36] -2.978966e-05 -3.212409e-05 -3.223219e-05 -3.260905e-05 -3.323825e-05\n",
       "[41] -3.586529e-05 -3.341431e-05 -3.281433e-05 -3.196513e-05 -3.125933e-05\n",
       "[46] -3.117049e-05 -3.901450e-05 -2.830895e-05 -3.214868e-05 -3.345910e-05\n",
       "[51] -2.942430e-05 -3.291324e-05 -1.748911e-05\n",
       "\n",
       "$<NA>\n",
       "[1] 0\n",
       "\n",
       "$<NA>\n",
       "[1] 0.00553\n",
       "\n",
       "$<NA>\n",
       "[1] 0.000685\n",
       "\n",
       "$<NA>\n",
       "[1] 0.000665\n",
       "\n",
       "$<NA>\n",
       "[1] -0.00588\n",
       "\n",
       "$<NA>\n",
       "[1] 0.000455\n",
       "\n",
       "$<NA>\n",
       "[1] 0.00054\n",
       "\n",
       "$<NA>\n",
       "[1] -5e-06\n",
       "\n",
       "$<NA>\n",
       "[1] 0.00044\n",
       "\n",
       "$<NA>\n",
       "[1] -0.00359\n",
       "\n",
       "$<NA>\n",
       "[1] 0.001975\n",
       "\n",
       "$<NA>\n",
       "[1] 0.002165\n",
       "\n",
       "$<NA>\n",
       "[1] -0.00504\n",
       "\n",
       "$<NA>\n",
       "[1] -0.00116\n",
       "\n",
       "$<NA>\n",
       "[1] 0\n",
       "\n",
       "$<NA>\n",
       "[1] -0.00029\n",
       "\n",
       "$<NA>\n",
       "[1] -0.006675\n",
       "\n",
       "$<NA>\n",
       "[1] 0.003215\n",
       "\n",
       "$<NA>\n",
       "[1] -0.008603\n",
       "\n",
       "$<NA>\n",
       "[1] -0.002587\n",
       "\n",
       "$<NA>\n",
       "[1] 0.000595\n",
       "\n",
       "$<NA>\n",
       "[1] 0\n",
       "\n",
       "$<NA>\n",
       "[1] 0.001785\n",
       "\n",
       "$<NA>\n",
       "[1] -0.00121\n",
       "\n",
       "$<NA>\n",
       "[1] 0.00196\n",
       "\n",
       "$<NA>\n",
       "[1] -0.003005\n",
       "\n",
       "$<NA>\n",
       "[1] -0.00555\n",
       "\n",
       "$<NA>\n",
       "[1] -0.00076\n",
       "\n",
       "$<NA>\n",
       "[1] 0\n",
       "\n",
       "$<NA>\n",
       "[1] -0.003955\n",
       "\n",
       "$<NA>\n",
       "[1] 0.00043\n",
       "\n",
       "$<NA>\n",
       "[1] -0.00457\n",
       "\n",
       "$<NA>\n",
       "[1] -0.000145\n",
       "\n",
       "$<NA>\n",
       "[1] 0.008475\n",
       "\n",
       "$<NA>\n",
       "[1] -0.001595\n",
       "\n",
       "$<NA>\n",
       "[1] -9e-05\n",
       "\n",
       "$<NA>\n",
       "[1] -0.001115\n",
       "\n",
       "$<NA>\n",
       "[1] -0.00205\n",
       "\n",
       "$<NA>\n",
       "[1] -6.5e-05\n",
       "\n",
       "$<NA>\n",
       "[1] 0\n",
       "\n",
       "$<NA>\n",
       "[1] 0.001935\n",
       "\n",
       "$<NA>\n",
       "[1] 0.00415\n",
       "\n",
       "$<NA>\n",
       "[1] 0.00291\n",
       "\n",
       "$<NA>\n",
       "[1] -0.00379\n",
       "\n",
       "$<NA>\n",
       "[1] -0.00014\n",
       "\n",
       "$<NA>\n",
       "[1] -0.000815\n",
       "\n",
       "$<NA>\n",
       "[1] -8e-05\n",
       "\n",
       "$<NA>\n",
       "[1] -0.004395\n",
       "\n",
       "$<NA>\n",
       "[1] 0.00149\n",
       "\n",
       "$<NA>\n",
       "[1] -0.000465\n",
       "\n",
       "$<NA>\n",
       "[1] -0.005275\n",
       "\n",
       "$<NA>\n",
       "[1] -0.002815\n"
      ]
     },
     "metadata": {},
     "output_type": "display_data"
    }
   ],
   "source": [
    "data.test\n",
    "data.plot"
   ]
  },
  {
   "cell_type": "code",
   "execution_count": 54,
   "metadata": {},
   "outputs": [
    {
     "name": "stderr",
     "output_type": "stream",
     "text": [
      "Warning message in data.plot$Fore = fore.series.1:\n",
      "\"Coercing LHS to a list\""
     ]
    },
    {
     "data": {
      "image/png": "[encoded data removed]",
      "text/plain": [
       "Plot with title \"Mean Prediction Comparison (USD/EUR)\""
      ]
     },
     "metadata": {},
     "output_type": "display_data"
    }
   ],
   "source": [
    "#Mean Prediction Comparison Plot\n",
    "n=length(data)\n",
    "ymin = min(c(as.vector(data.test),fore.series.1,fore.series.2))\n",
    "ymax = max(c(as.vector(data.test),fore.series.1,fore.series.2))\n",
    "data.plot = data.test\n",
    "names(data.plot)=\"Fore\"\n",
    "data.plot$Fore=fore.series.1\n",
    "plot(data.test,type=\"l\", ylim=c(ymin,ymax), xlab=\" \", \n",
    "ylab=\"USD/EUR Exchange Rate\",main=\"Mean Prediction Comparison (USD/EUR)\")\n",
    "\n",
    "\n",
    "points(fore.series.1,lwd= 2, col=\"blue\")\n",
    "\n",
    "data.plot$Fore=fore.series.2\n",
    "points(fore.series.2,lwd= 2, col=\"brown\")\n"
   ]
  },
  {
   "cell_type": "code",
   "execution_count": 53,
   "metadata": {},
   "outputs": [
    {
     "ename": "ERROR",
     "evalue": "Error in plot.window(...): need finite 'ylim' values\n",
     "output_type": "error",
     "traceback": [
      "Error in plot.window(...): need finite 'ylim' values\nTraceback:\n",
      "1. plot(data.test^2, type = \"l\", ylim = c(ymin, ymax), xlab = \" \", \n .     ylab = \"USD/EUR Exchange Rate\", main = \"Variance Prediction Comparison (USD/EUR)\")",
      "2. plot(data.test^2, type = \"l\", ylim = c(ymin, ymax), xlab = \" \", \n .     ylab = \"USD/EUR Exchange Rate\", main = \"Variance Prediction Comparison (USD/EUR)\")",
      "3. plot.default(data.test^2, type = \"l\", ylim = c(ymin, ymax), xlab = \" \", \n .     ylab = \"USD/EUR Exchange Rate\", main = \"Variance Prediction Comparison (USD/EUR)\")",
      "4. localWindow(xlim, ylim, log, asp, ...)",
      "5. plot.window(...)"
     ]
    },
    {
     "data": {
      "image/png": "[encoded data removed]",
      "text/plain": [
       "plot without title"
      ]
     },
     "metadata": {},
     "output_type": "display_data"
    }
   ],
   "source": [
    "#Compare squared observed time series with variance forecasts\n",
    "ymin = min(c(as.vector(data.test^2),fore.sigma.1^2,fore.sigma.2^2))\n",
    "ymax = max(c(as.vector(data.test^2),fore.sigma.1^2,fore.sigma.2^2))\n",
    "plot(data.test^2,type=\"l\", ylim=c(ymin,ymax), xlab=\" \", ylab=\"USD/EUR Exchange Rate\",\n",
    "main=\"Variance Prediction Comparison (USD/EUR)\")\n",
    "data.plot$Fore=fore.sigma.1^2\n",
    "points(fore.sigma.1^2,lwd= 2, col=\"blue\")\n",
    "data.plot$Fore=fore.sigma.2^2\n",
    "points(fore.sigma.2^2,lwd= 2, col=\"brown\")\n"
   ]
  },
  {
   "cell_type": "code",
   "execution_count": 103,
   "metadata": {},
   "outputs": [
    {
     "name": "stderr",
     "output_type": "stream",
     "text": [
      "Installing package into 'C:/Users/bbalamdari/OneDrive - Ecolab/Documents/R/win-library/3.6'\n",
      "(as 'lib' is unspecified)\n",
      "also installing the dependencies 'deSolve', 'fracdiff', 'mnormt', 'tseriesChaos', 'forecast'\n",
      "\n"
     ]
    },
    {
     "name": "stdout",
     "output_type": "stream",
     "text": [
      "package 'deSolve' successfully unpacked and MD5 sums checked\n",
      "package 'fracdiff' successfully unpacked and MD5 sums checked\n",
      "package 'mnormt' successfully unpacked and MD5 sums checked\n",
      "package 'tseriesChaos' successfully unpacked and MD5 sums checked\n",
      "package 'forecast' successfully unpacked and MD5 sums checked\n",
      "package 'tsDyn' successfully unpacked and MD5 sums checked\n",
      "\n",
      "The downloaded binary packages are in\n",
      "\tC:\\Users\\bbalamdari\\AppData\\Local\\Temp\\Rtmpiy4VQK\\downloaded_packages\n"
     ]
    },
    {
     "name": "stderr",
     "output_type": "stream",
     "text": [
      "Warning message:\n",
      "\"package 'tsDyn' was built under R version 3.6.3\""
     ]
    }
   ],
   "source": [
    "#Other models\n",
    "library(data.table)\n",
    "library(xts)\n",
    "library(tseries)\n",
    "library(rugarch)\n",
    "install.packages(\"tsDyn\")\n",
    "library(tsDyn)"
   ]
  },
  {
   "cell_type": "code",
   "execution_count": 107,
   "metadata": {},
   "outputs": [],
   "source": [
    "#Divide data into training and testing\n",
    "#Predict July and August\n",
    "#data.test=diff.rate[6272:nrow(diff.rate),]\n",
    "#data.train=diff.rate[-c(6272:nrow(diff.rate)),]\n",
    "\n",
    "spec.1 = ugarchspec(variance.model=list(garchOrder=c(1,2)),\n",
    "mean.model=list(armaOrder=c(0,0), include.mean=T), distribution.model=\"std\")    \n",
    "spec.2 = ugarchspec(variance.model=list(model = \"gjrGARCH\",garchOrder=c(1,2)),\n",
    "mean.model=list(armaOrder=c(0,0), include.mean=T), distribution.model=\"std\")\n",
    "spec.3 = ugarchspec(variance.model=list(model = \"eGARCH\",garchOrder=c(1,2)),\n",
    "mean.model=list(armaOrder=c(0,0),include.mean=T), distribution.model=\"std\")\n",
    "spec.4 = ugarchspec(variance.model=list(model = \"apARCH\",garchOrder=c(1,2)),\n",
    "mean.model=list(armaOrder=c(0,0), include.mean=T), distribution.model=\"std\")\n",
    "spec.5 = ugarchspec(variance.model=list(model = \"iGARCH\",garchOrder=c(1,2)),\n",
    "mean.model=list(armaOrder=c(0,0), include.mean=T), distribution.model=\"std\")\n",
    "\n",
    "\n"
   ]
  },
  {
   "cell_type": "code",
   "execution_count": null,
   "metadata": {},
   "outputs": [],
   "source": [
    "#Prediction of the return time series and the volatility sigma\n",
    "nfore = length(data.test)\n",
    "fore.series.1 = NULL; fore.sigma.1 = NULL\n",
    "fore.series.2 = NULL; fore.sigma.2 = NULL\n",
    "fore.series.3 = NULL; fore.sigma.3 = NULL\n",
    "fore.series.4 = NULL; fore.sigma.4 = NULL\n",
    "fore.series.5 = NULL; fore.sigma.5 = NULL\n",
    "for(f in 1: nfore)\n",
    "{\n",
    "#Fit models\n",
    "data = data.train\n",
    "if(f>2)\n",
    "data = c(data.train,data.test[1:(f-1)])  \n",
    "final.model.1 = ugarchfit(spec.1, data, solver = 'hybrid')    \n",
    "final.model.2 = ugarchfit(spec.2, data, solver = 'hybrid')\n",
    "final.model.3 = ugarchfit(spec.3, data, solver = 'hybrid')\n",
    "final.model.4 = ugarchfit(spec.4, data, solver = 'hybrid')\n",
    "final.model.5 = ugarchfit(spec.5, data, solver = 'hybrid')\n",
    "mod.6=setar(data, m=2, thDelay=1)\n",
    "mod.7=aar(data, m=2)\n",
    "mod.8=nnetTs(data, m=2, size=3, control=list(maxit=1e5))\n",
    "#Forecast\n",
    "fore = ugarchforecast(final.model.1, n.ahead=1)\n",
    "fore.series.1 = c(fore.series.1, fore@forecast$seriesFor)\n",
    "          fore.sigma.1 = c(fore.sigma.1, fore@forecast$sigmaFor)\n",
    "fore = ugarchforecast(final.model.2, n.ahead=1)\n",
    "fore.series.2 = c(fore.series.2, fore@forecast$seriesFor)\n",
    "          fore.sigma.2 = c(fore.sigma.2, fore@forecast$sigmaFor)\n",
    "fore = ugarchforecast(final.model.3, n.ahead=1)\n",
    "fore.series.3 = c(fore.series.3, fore@forecast$seriesFor)\n",
    "            fore.sigma.3 = c(fore.sigma.3, fore@forecast$sigmaFor)\n",
    "fore = ugarchforecast(final.model.4, n.ahead=1)\n",
    "fore.series.4 = c(fore.series.4, fore@forecast$seriesFor)\n",
    "fore = ugarchforecast(final.model.5, n.ahead=1)\n",
    "           fore.sigma.4 = c(fore.sigma.4, fore@forecast$sigmaFor)\n",
    "fore.series.5 = c(fore.series.5, fore@forecast$seriesFor)\n",
    "            fore.sigma.5 = c(fore.sigma.5, fore@forecast$sigmaFor)\n",
    "}\n",
    "\n",
    "\n",
    "\n"
   ]
  },
  {
   "cell_type": "code",
   "execution_count": null,
   "metadata": {},
   "outputs": [],
   "source": [
    "#Compare squared observed time series with variance forecasts\n",
    "ymin = min(c(as.vector(data.test^2),fore.sigma.1^2,fore.sigma.2^2,fore.sigma.3^2, \n",
    "                    fore.sigma.4^2, fore.sigma.5^2))\n",
    "ymax = max(c(as.vector(data.test^2),fore.sigma.1^2,fore.sigma.2^2,fore.sigma.3^2, \n",
    "                    fore.sigma.4^2, fore.sigma.5^2))\n",
    "plot(data.test^2,type=\"l\", ylim=c(ymin,ymax), xlab=\" \", ylab=\"USD/EUR Exchange Rate\",\n",
    "main=\"Variance Prediction Comparison (USD/EUR)\")\n",
    "data.plot$Fore=fore.sigma.1^2\n",
    "points(data.plot,lwd= 2, col=\"blue\")\n",
    "data.plot$Fore=fore.sigma.2^2\n",
    "points(data.plot,lwd= 2, col=\"brown\")\n",
    "        data.plot$Fore=fore.sigma.3^2\n",
    "points(data.plot,lwd= 2, col=\"purple\")\n",
    "        #data.plot$Fore=fore.sigma.4^2\n",
    "#points(data.plot,lwd= 2, col=\"green\")\n",
    "        data.plot$Fore=fore.sigma.5^2\n",
    "points(data.plot,lwd= 2, col=\"pink\")"
   ]
  }
 ],
 "metadata": {
  "kernelspec": {
   "display_name": "R",
   "language": "R",
   "name": "ir"
  },
  "language_info": {
   "codemirror_mode": "r",
   "file_extension": ".r",
   "mimetype": "text/x-r-source",
   "name": "R",
   "pygments_lexer": "r",
   "version": "3.6.1"
  }
 },
 "nbformat": 4,
 "nbformat_minor": 2
}
