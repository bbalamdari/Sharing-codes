{
 "cells": [
  {
   "cell_type": "code",
   "execution_count": 1,
   "metadata": {},
   "outputs": [
    {
     "name": "stderr",
     "output_type": "stream",
     "text": [
      "\n",
      "Attaching package: 'TSA'\n",
      "\n",
      "The following objects are masked from 'package:stats':\n",
      "\n",
      "    acf, arima\n",
      "\n",
      "The following object is masked from 'package:utils':\n",
      "\n",
      "    tar\n",
      "\n",
      "Loading required package: nlme\n",
      "This is mgcv 1.8-28. For overview type 'help(\"mgcv-package\")'.\n",
      "Installing package into 'C:/Users/bbalamdari/OneDrive - Ecolab/Documents/R/win-library/3.6'\n",
      "(as 'lib' is unspecified)\n"
     ]
    },
    {
     "name": "stdout",
     "output_type": "stream",
     "text": [
      "package 'aod' successfully unpacked and MD5 sums checked\n",
      "\n",
      "The downloaded binary packages are in\n",
      "\tC:\\Users\\bbalamdari\\AppData\\Local\\Temp\\Rtmpkfpxo7\\downloaded_packages\n"
     ]
    },
    {
     "name": "stderr",
     "output_type": "stream",
     "text": [
      "Warning message:\n",
      "\"package 'aod' was built under R version 3.6.3\"\n",
      "Attaching package: 'aod'\n",
      "\n",
      "The following object is masked from 'package:mgcv':\n",
      "\n",
      "    negbin\n",
      "\n",
      "Loading required package: strucchange\n",
      "Loading required package: zoo\n",
      "\n",
      "Attaching package: 'zoo'\n",
      "\n",
      "The following objects are masked from 'package:base':\n",
      "\n",
      "    as.Date, as.Date.numeric\n",
      "\n",
      "Loading required package: sandwich\n",
      "Loading required package: urca\n",
      "Loading required package: lmtest\n",
      "Installing package into 'C:/Users/bbalamdari/OneDrive - Ecolab/Documents/R/win-library/3.6'\n",
      "(as 'lib' is unspecified)\n"
     ]
    },
    {
     "name": "stdout",
     "output_type": "stream",
     "text": [
      "package 'tseries' successfully unpacked and MD5 sums checked\n",
      "\n",
      "The downloaded binary packages are in\n",
      "\tC:\\Users\\bbalamdari\\AppData\\Local\\Temp\\Rtmpkfpxo7\\downloaded_packages\n"
     ]
    },
    {
     "name": "stderr",
     "output_type": "stream",
     "text": [
      "Warning message:\n",
      "\"package 'tseries' was built under R version 3.6.3\"Registered S3 method overwritten by 'xts':\n",
      "  method     from\n",
      "  as.zoo.xts zoo \n",
      "Registered S3 method overwritten by 'quantmod':\n",
      "  method            from\n",
      "  as.zoo.data.frame zoo \n",
      "Installing package into 'C:/Users/bbalamdari/OneDrive - Ecolab/Documents/R/win-library/3.6'\n",
      "(as 'lib' is unspecified)\n"
     ]
    },
    {
     "name": "stdout",
     "output_type": "stream",
     "text": [
      "package 'forecast' successfully unpacked and MD5 sums checked\n",
      "\n",
      "The downloaded binary packages are in\n",
      "\tC:\\Users\\bbalamdari\\AppData\\Local\\Temp\\Rtmpkfpxo7\\downloaded_packages\n"
     ]
    },
    {
     "name": "stderr",
     "output_type": "stream",
     "text": [
      "Warning message:\n",
      "\"package 'forecast' was built under R version 3.6.3\"Registered S3 methods overwritten by 'forecast':\n",
      "  method       from\n",
      "  fitted.Arima TSA \n",
      "  plot.Arima   TSA \n",
      "\n",
      "Attaching package: 'forecast'\n",
      "\n",
      "The following object is masked from 'package:nlme':\n",
      "\n",
      "    getResponse\n",
      "\n"
     ]
    }
   ],
   "source": [
    "library(TSA)\n",
    "library(mgcv)\n",
    "install.packages(\"aod\")\n",
    "library(\"aod\")\n",
    "library(\"MASS\")\n",
    "library(vars)\n",
    "install.packages(\"tseries\")\n",
    "library(tseries)\n",
    "install.packages(\"forecast\")\n",
    "library(forecast)"
   ]
  },
  {
   "cell_type": "code",
   "execution_count": 3,
   "metadata": {
    "scrolled": false
   },
   "outputs": [
    {
     "data": {
      "text/html": [
       "<table>\n",
       "<caption>A data.frame: 5 × 13</caption>\n",
       "<thead>\n",
       "\t<tr><th></th><th scope=col>Year</th><th scope=col>Jan</th><th scope=col>Feb</th><th scope=col>Mar</th><th scope=col>Apr</th><th scope=col>May</th><th scope=col>Jun</th><th scope=col>Jul</th><th scope=col>Aug</th><th scope=col>Sept</th><th scope=col>Oct</th><th scope=col>Nov</th><th scope=col>Dec</th></tr>\n",
       "\t<tr><th></th><th scope=col>&lt;int&gt;</th><th scope=col>&lt;dbl&gt;</th><th scope=col>&lt;dbl&gt;</th><th scope=col>&lt;dbl&gt;</th><th scope=col>&lt;dbl&gt;</th><th scope=col>&lt;dbl&gt;</th><th scope=col>&lt;dbl&gt;</th><th scope=col>&lt;dbl&gt;</th><th scope=col>&lt;fct&gt;</th><th scope=col>&lt;fct&gt;</th><th scope=col>&lt;fct&gt;</th><th scope=col>&lt;fct&gt;</th><th scope=col>&lt;fct&gt;</th></tr>\n",
       "</thead>\n",
       "<tbody>\n",
       "\t<tr><th scope=row>1</th><td>1950</td><td>55.4</td><td>50.8</td><td>50.2</td><td>58.8</td><td>72.8</td><td>77.5</td><td>77.5</td><td>76.2</td><td>71.4</td><td>65.9</td><td>47.6</td><td>40.6</td></tr>\n",
       "\t<tr><th scope=row>2</th><td>1951</td><td>45.3</td><td>47.5</td><td>53.0</td><td>60.0</td><td>70.1</td><td>77.5</td><td>79.1</td><td>80.9</td><td>73.8</td><td>65.1</td><td>47.5</td><td>47.1</td></tr>\n",
       "\t<tr><th scope=row>3</th><td>1952</td><td>49.3</td><td>48.4</td><td>51.5</td><td>61.6</td><td>71.9</td><td>82.3</td><td>82.0</td><td>78.2</td><td>71.5</td><td>58.9</td><td>52.8</td><td>43.6</td></tr>\n",
       "\t<tr><th scope=row>4</th><td>1953</td><td>47.0</td><td>47.4</td><td>54.6</td><td>59.5</td><td>73.3</td><td>78.2</td><td>78.7</td><td>78.9</td><td>72.2</td><td>64  </td><td>52.7</td><td>43.8</td></tr>\n",
       "\t<tr><th scope=row>5</th><td>1954</td><td>45.1</td><td>50.1</td><td>53.0</td><td>65.5</td><td>64.2</td><td>78.0</td><td>82.1</td><td>82.5</td><td>77.8</td><td>64.5</td><td>49.5</td><td>43.7</td></tr>\n",
       "</tbody>\n",
       "</table>\n"
      ],
      "text/latex": [
       "A data.frame: 5 × 13\n",
       "\\begin{tabular}{r|lllllllllllll}\n",
       "  & Year & Jan & Feb & Mar & Apr & May & Jun & Jul & Aug & Sept & Oct & Nov & Dec\\\\\n",
       "  & <int> & <dbl> & <dbl> & <dbl> & <dbl> & <dbl> & <dbl> & <dbl> & <fct> & <fct> & <fct> & <fct> & <fct>\\\\\n",
       "\\hline\n",
       "\t1 & 1950 & 55.4 & 50.8 & 50.2 & 58.8 & 72.8 & 77.5 & 77.5 & 76.2 & 71.4 & 65.9 & 47.6 & 40.6\\\\\n",
       "\t2 & 1951 & 45.3 & 47.5 & 53.0 & 60.0 & 70.1 & 77.5 & 79.1 & 80.9 & 73.8 & 65.1 & 47.5 & 47.1\\\\\n",
       "\t3 & 1952 & 49.3 & 48.4 & 51.5 & 61.6 & 71.9 & 82.3 & 82.0 & 78.2 & 71.5 & 58.9 & 52.8 & 43.6\\\\\n",
       "\t4 & 1953 & 47.0 & 47.4 & 54.6 & 59.5 & 73.3 & 78.2 & 78.7 & 78.9 & 72.2 & 64   & 52.7 & 43.8\\\\\n",
       "\t5 & 1954 & 45.1 & 50.1 & 53.0 & 65.5 & 64.2 & 78.0 & 82.1 & 82.5 & 77.8 & 64.5 & 49.5 & 43.7\\\\\n",
       "\\end{tabular}\n"
      ],
      "text/markdown": [
       "\n",
       "A data.frame: 5 × 13\n",
       "\n",
       "| <!--/--> | Year &lt;int&gt; | Jan &lt;dbl&gt; | Feb &lt;dbl&gt; | Mar &lt;dbl&gt; | Apr &lt;dbl&gt; | May &lt;dbl&gt; | Jun &lt;dbl&gt; | Jul &lt;dbl&gt; | Aug &lt;fct&gt; | Sept &lt;fct&gt; | Oct &lt;fct&gt; | Nov &lt;fct&gt; | Dec &lt;fct&gt; |\n",
       "|---|---|---|---|---|---|---|---|---|---|---|---|---|---|\n",
       "| 1 | 1950 | 55.4 | 50.8 | 50.2 | 58.8 | 72.8 | 77.5 | 77.5 | 76.2 | 71.4 | 65.9 | 47.6 | 40.6 |\n",
       "| 2 | 1951 | 45.3 | 47.5 | 53.0 | 60.0 | 70.1 | 77.5 | 79.1 | 80.9 | 73.8 | 65.1 | 47.5 | 47.1 |\n",
       "| 3 | 1952 | 49.3 | 48.4 | 51.5 | 61.6 | 71.9 | 82.3 | 82.0 | 78.2 | 71.5 | 58.9 | 52.8 | 43.6 |\n",
       "| 4 | 1953 | 47.0 | 47.4 | 54.6 | 59.5 | 73.3 | 78.2 | 78.7 | 78.9 | 72.2 | 64   | 52.7 | 43.8 |\n",
       "| 5 | 1954 | 45.1 | 50.1 | 53.0 | 65.5 | 64.2 | 78.0 | 82.1 | 82.5 | 77.8 | 64.5 | 49.5 | 43.7 |\n",
       "\n"
      ],
      "text/plain": [
       "  Year Jan  Feb  Mar  Apr  May  Jun  Jul  Aug  Sept Oct  Nov  Dec \n",
       "1 1950 55.4 50.8 50.2 58.8 72.8 77.5 77.5 76.2 71.4 65.9 47.6 40.6\n",
       "2 1951 45.3 47.5 53.0 60.0 70.1 77.5 79.1 80.9 73.8 65.1 47.5 47.1\n",
       "3 1952 49.3 48.4 51.5 61.6 71.9 82.3 82.0 78.2 71.5 58.9 52.8 43.6\n",
       "4 1953 47.0 47.4 54.6 59.5 73.3 78.2 78.7 78.9 72.2 64   52.7 43.8\n",
       "5 1954 45.1 50.1 53.0 65.5 64.2 78.0 82.1 82.5 77.8 64.5 49.5 43.7"
      ]
     },
     "metadata": {},
     "output_type": "display_data"
    },
    {
     "data": {
      "text/html": [
       "<table>\n",
       "<caption>A data.frame: 5 × 3</caption>\n",
       "<thead>\n",
       "\t<tr><th></th><th scope=col>V1</th><th scope=col>V2</th><th scope=col>V3</th></tr>\n",
       "\t<tr><th></th><th scope=col>&lt;int&gt;</th><th scope=col>&lt;int&gt;</th><th scope=col>&lt;dbl&gt;</th></tr>\n",
       "</thead>\n",
       "<tbody>\n",
       "\t<tr><th scope=row>1</th><td>1956</td><td>1</td><td> 706.2</td></tr>\n",
       "\t<tr><th scope=row>2</th><td>1956</td><td>2</td><td> 626.8</td></tr>\n",
       "\t<tr><th scope=row>3</th><td>1956</td><td>3</td><td> 619.0</td></tr>\n",
       "\t<tr><th scope=row>4</th><td>1956</td><td>4</td><td>1421.0</td></tr>\n",
       "\t<tr><th scope=row>5</th><td>1956</td><td>5</td><td>1808.0</td></tr>\n",
       "</tbody>\n",
       "</table>\n"
      ],
      "text/latex": [
       "A data.frame: 5 × 3\n",
       "\\begin{tabular}{r|lll}\n",
       "  & V1 & V2 & V3\\\\\n",
       "  & <int> & <int> & <dbl>\\\\\n",
       "\\hline\n",
       "\t1 & 1956 & 1 &  706.2\\\\\n",
       "\t2 & 1956 & 2 &  626.8\\\\\n",
       "\t3 & 1956 & 3 &  619.0\\\\\n",
       "\t4 & 1956 & 4 & 1421.0\\\\\n",
       "\t5 & 1956 & 5 & 1808.0\\\\\n",
       "\\end{tabular}\n"
      ],
      "text/markdown": [
       "\n",
       "A data.frame: 5 × 3\n",
       "\n",
       "| <!--/--> | V1 &lt;int&gt; | V2 &lt;int&gt; | V3 &lt;dbl&gt; |\n",
       "|---|---|---|---|\n",
       "| 1 | 1956 | 1 |  706.2 |\n",
       "| 2 | 1956 | 2 |  626.8 |\n",
       "| 3 | 1956 | 3 |  619.0 |\n",
       "| 4 | 1956 | 4 | 1421.0 |\n",
       "| 5 | 1956 | 5 | 1808.0 |\n",
       "\n"
      ],
      "text/plain": [
       "  V1   V2 V3    \n",
       "1 1956 1   706.2\n",
       "2 1956 2   626.8\n",
       "3 1956 3   619.0\n",
       "4 1956 4  1421.0\n",
       "5 1956 5  1808.0"
      ]
     },
     "metadata": {},
     "output_type": "display_data"
    },
    {
     "data": {
      "text/html": [
       "<table>\n",
       "<caption>A data.frame: 5 × 13</caption>\n",
       "<thead>\n",
       "\t<tr><th></th><th scope=col>Year</th><th scope=col>Jan</th><th scope=col>Feb</th><th scope=col>Mar</th><th scope=col>Apr</th><th scope=col>May</th><th scope=col>Jun</th><th scope=col>Jul</th><th scope=col>Aug</th><th scope=col>Sept</th><th scope=col>Oct</th><th scope=col>Nov</th><th scope=col>Dec</th></tr>\n",
       "\t<tr><th></th><th scope=col>&lt;int&gt;</th><th scope=col>&lt;dbl&gt;</th><th scope=col>&lt;dbl&gt;</th><th scope=col>&lt;dbl&gt;</th><th scope=col>&lt;dbl&gt;</th><th scope=col>&lt;dbl&gt;</th><th scope=col>&lt;dbl&gt;</th><th scope=col>&lt;dbl&gt;</th><th scope=col>&lt;dbl&gt;</th><th scope=col>&lt;dbl&gt;</th><th scope=col>&lt;fct&gt;</th><th scope=col>&lt;dbl&gt;</th><th scope=col>&lt;dbl&gt;</th></tr>\n",
       "</thead>\n",
       "<tbody>\n",
       "\t<tr><th scope=row>1</th><td>1950</td><td>2.06</td><td>3.02</td><td>4.01</td><td>1.45</td><td>3.73</td><td>4.08</td><td>7.39</td><td>5.51</td><td>3.61</td><td>2.57</td><td>0.81</td><td>2.94</td></tr>\n",
       "\t<tr><th scope=row>2</th><td>1951</td><td>2.25</td><td>3.78</td><td>4.60</td><td>4.88</td><td>0.47</td><td>4.86</td><td>7.41</td><td>1.17</td><td>5.58</td><td>2.78</td><td>2.63</td><td>8.36</td></tr>\n",
       "\t<tr><th scope=row>3</th><td>1952</td><td>3.46</td><td>4.49</td><td>8.61</td><td>1.92</td><td>3.94</td><td>3.11</td><td>1.20</td><td>7.05</td><td>1.61</td><td>0.75</td><td>2.12</td><td>5.93</td></tr>\n",
       "\t<tr><th scope=row>4</th><td>1953</td><td>5.39</td><td>5.95</td><td>3.41</td><td>6.86</td><td>3.58</td><td>2.09</td><td>4.38</td><td>1.67</td><td>7.32</td><td>0.09</td><td>1.35</td><td>8.25</td></tr>\n",
       "\t<tr><th scope=row>5</th><td>1954</td><td>3.73</td><td>2.70</td><td>3.07</td><td>1.91</td><td>3.31</td><td>2.08</td><td>6.31</td><td>1.14</td><td>0.26</td><td>0.17</td><td>4.12</td><td>3.00</td></tr>\n",
       "</tbody>\n",
       "</table>\n"
      ],
      "text/latex": [
       "A data.frame: 5 × 13\n",
       "\\begin{tabular}{r|lllllllllllll}\n",
       "  & Year & Jan & Feb & Mar & Apr & May & Jun & Jul & Aug & Sept & Oct & Nov & Dec\\\\\n",
       "  & <int> & <dbl> & <dbl> & <dbl> & <dbl> & <dbl> & <dbl> & <dbl> & <dbl> & <dbl> & <fct> & <dbl> & <dbl>\\\\\n",
       "\\hline\n",
       "\t1 & 1950 & 2.06 & 3.02 & 4.01 & 1.45 & 3.73 & 4.08 & 7.39 & 5.51 & 3.61 & 2.57 & 0.81 & 2.94\\\\\n",
       "\t2 & 1951 & 2.25 & 3.78 & 4.60 & 4.88 & 0.47 & 4.86 & 7.41 & 1.17 & 5.58 & 2.78 & 2.63 & 8.36\\\\\n",
       "\t3 & 1952 & 3.46 & 4.49 & 8.61 & 1.92 & 3.94 & 3.11 & 1.20 & 7.05 & 1.61 & 0.75 & 2.12 & 5.93\\\\\n",
       "\t4 & 1953 & 5.39 & 5.95 & 3.41 & 6.86 & 3.58 & 2.09 & 4.38 & 1.67 & 7.32 & 0.09 & 1.35 & 8.25\\\\\n",
       "\t5 & 1954 & 3.73 & 2.70 & 3.07 & 1.91 & 3.31 & 2.08 & 6.31 & 1.14 & 0.26 & 0.17 & 4.12 & 3.00\\\\\n",
       "\\end{tabular}\n"
      ],
      "text/markdown": [
       "\n",
       "A data.frame: 5 × 13\n",
       "\n",
       "| <!--/--> | Year &lt;int&gt; | Jan &lt;dbl&gt; | Feb &lt;dbl&gt; | Mar &lt;dbl&gt; | Apr &lt;dbl&gt; | May &lt;dbl&gt; | Jun &lt;dbl&gt; | Jul &lt;dbl&gt; | Aug &lt;dbl&gt; | Sept &lt;dbl&gt; | Oct &lt;fct&gt; | Nov &lt;dbl&gt; | Dec &lt;dbl&gt; |\n",
       "|---|---|---|---|---|---|---|---|---|---|---|---|---|---|\n",
       "| 1 | 1950 | 2.06 | 3.02 | 4.01 | 1.45 | 3.73 | 4.08 | 7.39 | 5.51 | 3.61 | 2.57 | 0.81 | 2.94 |\n",
       "| 2 | 1951 | 2.25 | 3.78 | 4.60 | 4.88 | 0.47 | 4.86 | 7.41 | 1.17 | 5.58 | 2.78 | 2.63 | 8.36 |\n",
       "| 3 | 1952 | 3.46 | 4.49 | 8.61 | 1.92 | 3.94 | 3.11 | 1.20 | 7.05 | 1.61 | 0.75 | 2.12 | 5.93 |\n",
       "| 4 | 1953 | 5.39 | 5.95 | 3.41 | 6.86 | 3.58 | 2.09 | 4.38 | 1.67 | 7.32 | 0.09 | 1.35 | 8.25 |\n",
       "| 5 | 1954 | 3.73 | 2.70 | 3.07 | 1.91 | 3.31 | 2.08 | 6.31 | 1.14 | 0.26 | 0.17 | 4.12 | 3.00 |\n",
       "\n"
      ],
      "text/plain": [
       "  Year Jan  Feb  Mar  Apr  May  Jun  Jul  Aug  Sept Oct  Nov  Dec \n",
       "1 1950 2.06 3.02 4.01 1.45 3.73 4.08 7.39 5.51 3.61 2.57 0.81 2.94\n",
       "2 1951 2.25 3.78 4.60 4.88 0.47 4.86 7.41 1.17 5.58 2.78 2.63 8.36\n",
       "3 1952 3.46 4.49 8.61 1.92 3.94 3.11 1.20 7.05 1.61 0.75 2.12 5.93\n",
       "4 1953 5.39 5.95 3.41 6.86 3.58 2.09 4.38 1.67 7.32 0.09 1.35 8.25\n",
       "5 1954 3.73 2.70 3.07 1.91 3.31 2.08 6.31 1.14 0.26 0.17 4.12 3.00"
      ]
     },
     "metadata": {},
     "output_type": "display_data"
    }
   ],
   "source": [
    "temp = read.csv(\"Temperature.csv\",header=T)\n",
    "\n",
    "river = read.csv(\"RiverFlow.csv\",header=F)\n",
    "\n",
    "rain  = read.csv(\"Precipitation .csv\")\n",
    "\n",
    "head(temp, n=5)\n",
    "head(river, n=5)\n",
    "head(rain, n=5)"
   ]
  },
  {
   "cell_type": "code",
   "execution_count": 4,
   "metadata": {},
   "outputs": [],
   "source": [
    "#Fill in missing value in rain for October, 1964\n",
    "#using the average between September and November\n",
    "rain[,11]=as.numeric(rain[,11])\n",
    "rain[14,11]=0.5*(as.numeric(rain[14,10])+as.numeric(rain[14,12]))\n",
    "rain[,11]=as.factor(rain[,11])"
   ]
  },
  {
   "cell_type": "code",
   "execution_count": 5,
   "metadata": {},
   "outputs": [],
   "source": [
    "## All variables for the same time period\n",
    "temp = as.vector(t(temp[,-1]))\n",
    "temp = temp[-c(1:(12*6))]\n",
    "temp = temp[-c(736:744)]\n",
    "rain = as.vector(t(rain[,-1]))\n",
    "rain = rain[-c(1:(12*6))]\n",
    "rain = rain[-c(736:744)]\n",
    "river = as.vector(river[,3])"
   ]
  },
  {
   "cell_type": "code",
   "execution_count": 6,
   "metadata": {},
   "outputs": [],
   "source": [
    "temp.ts = ts(as.numeric(temp),start=1956, freq=12)\n",
    "rain.ts = ts(as.numeric(rain),start=1956, freq=12)\n",
    "river.ts = ts(as.numeric(river),start=1956, freq=12)"
   ]
  },
  {
   "cell_type": "code",
   "execution_count": 7,
   "metadata": {
    "scrolled": false
   },
   "outputs": [
    {
     "data": {
      "image/png": "[encoded data removed]",
      "text/plain": [
       "plot without title"
      ]
     },
     "metadata": {},
     "output_type": "display_data"
    },
    {
     "data": {
      "image/png": "[encoded data removed]",
      "text/plain": [
       "Plot with title \"rain.ts\""
      ]
     },
     "metadata": {},
     "output_type": "display_data"
    },
    {
     "data": {
      "image/png": "[encoded data removed]",
      "text/plain": [
       "Plot with title \"rain.ts\""
      ]
     },
     "metadata": {},
     "output_type": "display_data"
    }
   ],
   "source": [
    "data.ts = ts.union(river.ts,temp.ts,rain.ts)\n",
    "par(mfrow=c(2,2))\n",
    "plot(data.ts, type=\"l\",main=\"\")\n",
    "stats::acf(data.ts, mar=c(5,3,1.9,0))  \n",
    "stats::pacf(data.ts, mar=c(3.5,3,1.9,0))\n"
   ]
  },
  {
   "cell_type": "code",
   "execution_count": 8,
   "metadata": {
    "scrolled": false
   },
   "outputs": [
    {
     "name": "stderr",
     "output_type": "stream",
     "text": [
      "Warning message in adf.test(river.ts, alternative = \"stationary\"):\n",
      "\"p-value smaller than printed p-value\""
     ]
    },
    {
     "data": {
      "text/plain": [
       "\n",
       "\tAugmented Dickey-Fuller Test\n",
       "\n",
       "data:  river.ts\n",
       "Dickey-Fuller = -6.9666, Lag order = 9, p-value = 0.01\n",
       "alternative hypothesis: stationary\n"
      ]
     },
     "metadata": {},
     "output_type": "display_data"
    },
    {
     "name": "stderr",
     "output_type": "stream",
     "text": [
      "Warning message in adf.test(rain.ts, alternative = \"stationary\"):\n",
      "\"p-value smaller than printed p-value\""
     ]
    },
    {
     "data": {
      "text/plain": [
       "\n",
       "\tAugmented Dickey-Fuller Test\n",
       "\n",
       "data:  rain.ts\n",
       "Dickey-Fuller = -13.634, Lag order = 9, p-value = 0.01\n",
       "alternative hypothesis: stationary\n"
      ]
     },
     "metadata": {},
     "output_type": "display_data"
    },
    {
     "name": "stderr",
     "output_type": "stream",
     "text": [
      "Warning message in adf.test(temp.ts, alternative = \"stationary\"):\n",
      "\"p-value smaller than printed p-value\""
     ]
    },
    {
     "data": {
      "text/plain": [
       "\n",
       "\tAugmented Dickey-Fuller Test\n",
       "\n",
       "data:  temp.ts\n",
       "Dickey-Fuller = -8.7844, Lag order = 9, p-value = 0.01\n",
       "alternative hypothesis: stationary\n"
      ]
     },
     "metadata": {},
     "output_type": "display_data"
    }
   ],
   "source": [
    "\n",
    "adf.test(river.ts, alternative = \"stationary\")\n",
    "adf.test(rain.ts, alternative = \"stationary\")\n",
    "adf.test(temp.ts, alternative = \"stationary\")\n",
    "\n"
   ]
  },
  {
   "cell_type": "code",
   "execution_count": 9,
   "metadata": {
    "scrolled": true
   },
   "outputs": [
    {
     "data": {
      "text/html": [
       "0"
      ],
      "text/latex": [
       "0"
      ],
      "text/markdown": [
       "0"
      ],
      "text/plain": [
       "[1] 0"
      ]
     },
     "metadata": {},
     "output_type": "display_data"
    },
    {
     "data": {
      "text/html": [
       "0"
      ],
      "text/latex": [
       "0"
      ],
      "text/markdown": [
       "0"
      ],
      "text/plain": [
       "[1] 0"
      ]
     },
     "metadata": {},
     "output_type": "display_data"
    },
    {
     "data": {
      "text/html": [
       "0"
      ],
      "text/latex": [
       "0"
      ],
      "text/markdown": [
       "0"
      ],
      "text/plain": [
       "[1] 0"
      ]
     },
     "metadata": {},
     "output_type": "display_data"
    }
   ],
   "source": [
    "\n",
    "#Determine differencing order to achieve stationarity \n",
    "ndiffs(river.ts, alpha = 0.05, test = c(\"adf\"))\n",
    "ndiffs(rain.ts, alpha = 0.05, test = c(\"adf\"))\n",
    "ndiffs(temp.ts, alpha = 0.05, test = c(\"adf\"))\n"
   ]
  },
  {
   "cell_type": "code",
   "execution_count": 10,
   "metadata": {
    "scrolled": false
   },
   "outputs": [
    {
     "data": {
      "image/png": "[encoded data removed]",
      "text/plain": [
       "plot without title"
      ]
     },
     "metadata": {},
     "output_type": "display_data"
    },
    {
     "data": {
      "image/png": "[encoded data removed]",
      "text/plain": [
       "plot without title"
      ]
     },
     "metadata": {},
     "output_type": "display_data"
    },
    {
     "data": {
      "image/png": "[encoded data removed]",
      "text/plain": [
       "Plot with title \"drain\""
      ]
     },
     "metadata": {},
     "output_type": "display_data"
    }
   ],
   "source": [
    "#Log transformation\n",
    "plot(log(data.ts), type=\"l\",main=\"\")\n",
    "\n",
    "#Using seasonal differencing of 12 months and log transformation\n",
    "dtemp=diff(log(temp.ts),differences = 12)\n",
    "drain=diff(log(rain.ts),differences = 12)\n",
    "driver=diff(log(river.ts),differences = 12)\n",
    "ddata.ts = ts.union(driver,dtemp,drain)\n",
    "\n",
    "par(mfrow=c(2,2))\n",
    "plot(ddata.ts,xlab=\"time\",main=\"\",type=\"l\")\n",
    "stats::acf(ddata.ts, mar=c(3.5,3,1.9,0))\n",
    "#pacf(ddata.ts, mar=c(3.5,3,1.9,0))\n"
   ]
  },
  {
   "cell_type": "code",
   "execution_count": 13,
   "metadata": {},
   "outputs": [],
   "source": [
    "#### Data preparation for models: Testing Vs Training ###################\n",
    "data=data.ts\n",
    "n = nrow(data)\n",
    "## Training data: 1956 to 2015\n",
    "data.train=data[1:(n-15),]\n",
    "## Test data: 2016 and 3 months in 2017\n",
    "data.test=data[(n-14):n,]\n",
    "\n"
   ]
  },
  {
   "cell_type": "code",
   "execution_count": 14,
   "metadata": {},
   "outputs": [],
   "source": [
    "ts_river=ts(log(data.train[,\"river.ts\"]),start=1956, freq=12)\n",
    "ts_rain=ts(log(data.train[,\"rain.ts\"]),start=1956, freq=12)\n",
    "ts_temp=ts(log(data.train[,\"temp.ts\"]),start=1956, freq=12)\n",
    "\n",
    "\n",
    "ts_river2=ts(log(data.test[,\"river.ts\"]),start=2016, freq=12)\n",
    "ts_rain2=ts(log(data.test[,\"rain.ts\"]),start=2016, freq=12)\n",
    "ts_temp2=ts(log(data.test[,\"temp.ts\"]),start=2016, freq=12)\n"
   ]
  },
  {
   "cell_type": "code",
   "execution_count": 15,
   "metadata": {},
   "outputs": [
    {
     "data": {
      "text/html": [
       "<table>\n",
       "<caption>A matrix: 5 × 3 of type dbl</caption>\n",
       "<thead>\n",
       "\t<tr><th scope=col>river.ts</th><th scope=col>temp.ts</th><th scope=col>rain.ts</th></tr>\n",
       "</thead>\n",
       "<tbody>\n",
       "\t<tr><td> 706.2</td><td>41.5</td><td>1.88</td></tr>\n",
       "\t<tr><td> 626.8</td><td>51.1</td><td>6.57</td></tr>\n",
       "\t<tr><td> 619.0</td><td>53.9</td><td>5.93</td></tr>\n",
       "\t<tr><td>1421.0</td><td>61.0</td><td>5.18</td></tr>\n",
       "\t<tr><td>1808.0</td><td>72.4</td><td>2.60</td></tr>\n",
       "</tbody>\n",
       "</table>\n"
      ],
      "text/latex": [
       "A matrix: 5 × 3 of type dbl\n",
       "\\begin{tabular}{lll}\n",
       " river.ts & temp.ts & rain.ts\\\\\n",
       "\\hline\n",
       "\t  706.2 & 41.5 & 1.88\\\\\n",
       "\t  626.8 & 51.1 & 6.57\\\\\n",
       "\t  619.0 & 53.9 & 5.93\\\\\n",
       "\t 1421.0 & 61.0 & 5.18\\\\\n",
       "\t 1808.0 & 72.4 & 2.60\\\\\n",
       "\\end{tabular}\n"
      ],
      "text/markdown": [
       "\n",
       "A matrix: 5 × 3 of type dbl\n",
       "\n",
       "| river.ts | temp.ts | rain.ts |\n",
       "|---|---|---|\n",
       "|  706.2 | 41.5 | 1.88 |\n",
       "|  626.8 | 51.1 | 6.57 |\n",
       "|  619.0 | 53.9 | 5.93 |\n",
       "| 1421.0 | 61.0 | 5.18 |\n",
       "| 1808.0 | 72.4 | 2.60 |\n",
       "\n"
      ],
      "text/plain": [
       "     river.ts temp.ts rain.ts\n",
       "[1,]  706.2   41.5    1.88   \n",
       "[2,]  626.8   51.1    6.57   \n",
       "[3,]  619.0   53.9    5.93   \n",
       "[4,] 1421.0   61.0    5.18   \n",
       "[5,] 1808.0   72.4    2.60   "
      ]
     },
     "metadata": {},
     "output_type": "display_data"
    }
   ],
   "source": [
    "head(data.train,n=5)"
   ]
  },
  {
   "cell_type": "code",
   "execution_count": 16,
   "metadata": {
    "scrolled": false
   },
   "outputs": [
    {
     "name": "stderr",
     "output_type": "stream",
     "text": [
      "Warning message in log(s2):\n",
      "\"NaNs produced\"Warning message in log(s2):\n",
      "\"NaNs produced\"Warning message in log(s2):\n",
      "\"NaNs produced\"Warning message in log(s2):\n",
      "\"NaNs produced\"Warning message in stats::arima(x = x, order = order, seasonal = seasonal, xreg = xreg, :\n",
      "\"possible convergence problem: optim gave code = 1\"Warning message in log(s2):\n",
      "\"NaNs produced\"Warning message in log(s2):\n",
      "\"NaNs produced\"Warning message in log(s2):\n",
      "\"NaNs produced\"Warning message in log(s2):\n",
      "\"NaNs produced\"Warning message in log(s2):\n",
      "\"NaNs produced\"Warning message in log(s2):\n",
      "\"NaNs produced\"Warning message in log(s2):\n",
      "\"NaNs produced\"Warning message in log(s2):\n",
      "\"NaNs produced\"Warning message in stats::arima(x = x, order = order, seasonal = seasonal, xreg = xreg, :\n",
      "\"possible convergence problem: optim gave code = 1\"Warning message in stats::arima(x = x, order = order, seasonal = seasonal, xreg = xreg, :\n",
      "\"possible convergence problem: optim gave code = 1\"Warning message in log(s2):\n",
      "\"NaNs produced\"Warning message in stats::arima(x = x, order = order, seasonal = seasonal, xreg = xreg, :\n",
      "\"possible convergence problem: optim gave code = 1\"Warning message in log(s2):\n",
      "\"NaNs produced\"Warning message in log(s2):\n",
      "\"NaNs produced\"Warning message in log(s2):\n",
      "\"NaNs produced\"Warning message in log(s2):\n",
      "\"NaNs produced\"Warning message in log(s2):\n",
      "\"NaNs produced\"Warning message in stats::arima(x = x, order = order, seasonal = seasonal, xreg = xreg, :\n",
      "\"possible convergence problem: optim gave code = 1\"Warning message in log(s2):\n",
      "\"NaNs produced\"Warning message in log(s2):\n",
      "\"NaNs produced\"Warning message in stats::arima(x = x, order = order, seasonal = seasonal, xreg = xreg, :\n",
      "\"possible convergence problem: optim gave code = 1\"Warning message in log(s2):\n",
      "\"NaNs produced\"Warning message in log(s2):\n",
      "\"NaNs produced\"Warning message in log(s2):\n",
      "\"NaNs produced\"Warning message in log(s2):\n",
      "\"NaNs produced\"Warning message in log(s2):\n",
      "\"NaNs produced\"Warning message in stats::arima(x = x, order = order, seasonal = seasonal, xreg = xreg, :\n",
      "\"possible convergence problem: optim gave code = 1\"Warning message in log(s2):\n",
      "\"NaNs produced\"Warning message in stats::arima(x = x, order = order, seasonal = seasonal, xreg = xreg, :\n",
      "\"possible convergence problem: optim gave code = 1\"Warning message in stats::arima(x = x, order = order, seasonal = seasonal, xreg = xreg, :\n",
      "\"possible convergence problem: optim gave code = 1\"Warning message in log(s2):\n",
      "\"NaNs produced\"Warning message in log(s2):\n",
      "\"NaNs produced\"Warning message in log(s2):\n",
      "\"NaNs produced\"Warning message in log(s2):\n",
      "\"NaNs produced\"Warning message in log(s2):\n",
      "\"NaNs produced\"Warning message in log(s2):\n",
      "\"NaNs produced\"Warning message in log(s2):\n",
      "\"NaNs produced\"Warning message in log(s2):\n",
      "\"NaNs produced\"Warning message in log(s2):\n",
      "\"NaNs produced\"Warning message in log(s2):\n",
      "\"NaNs produced\"Warning message in log(s2):\n",
      "\"NaNs produced\"Warning message in stats::arima(x = x, order = order, seasonal = seasonal, xreg = xreg, :\n",
      "\"possible convergence problem: optim gave code = 1\"Warning message in log(s2):\n",
      "\"NaNs produced\"Warning message in log(s2):\n",
      "\"NaNs produced\"Warning message in log(s2):\n",
      "\"NaNs produced\"Warning message in log(s2):\n",
      "\"NaNs produced\"Warning message in log(s2):\n",
      "\"NaNs produced\"Warning message in log(s2):\n",
      "\"NaNs produced\"Warning message in log(s2):\n",
      "\"NaNs produced\"Warning message in log(s2):\n",
      "\"NaNs produced\"Warning message in stats::arima(x = x, order = order, seasonal = seasonal, xreg = xreg, :\n",
      "\"possible convergence problem: optim gave code = 1\"Warning message in log(s2):\n",
      "\"NaNs produced\"Warning message in log(s2):\n",
      "\"NaNs produced\"Warning message in log(s2):\n",
      "\"NaNs produced\"Warning message in stats::arima(x = x, order = order, seasonal = seasonal, xreg = xreg, :\n",
      "\"possible convergence problem: optim gave code = 1\"Warning message in stats::arima(x = x, order = order, seasonal = seasonal, xreg = xreg, :\n",
      "\"possible convergence problem: optim gave code = 1\"Warning message in log(s2):\n",
      "\"NaNs produced\"Warning message in log(s2):\n",
      "\"NaNs produced\"Warning message in stats::arima(x = x, order = order, seasonal = seasonal, xreg = xreg, :\n",
      "\"possible convergence problem: optim gave code = 1\"Warning message in log(s2):\n",
      "\"NaNs produced\"Warning message in log(s2):\n",
      "\"NaNs produced\"Warning message in stats::arima(x = x, order = order, seasonal = seasonal, xreg = xreg, :\n",
      "\"possible convergence problem: optim gave code = 1\"Warning message in log(s2):\n",
      "\"NaNs produced\"Warning message in log(s2):\n",
      "\"NaNs produced\"Warning message in log(s2):\n",
      "\"NaNs produced\"Warning message in log(s2):\n",
      "\"NaNs produced\""
     ]
    }
   ],
   "source": [
    "#### Univariate ARIMA model\n",
    "\n",
    "final.aic = Inf\n",
    "final.order = c(0,0,0,0)\n",
    "for (p in 1:6) for (d in 0:1) for (q in 1:6) for(s in 0:2){\n",
    "   current.aic = AIC(arima(ts_river, order=c(p, d, q), seasonal = list(order=c(0,s,0),\n",
    "   period=12), method=\"ML\"))\n",
    "   if (current.aic < final.aic) {\n",
    "     final.aic = current.aic\n",
    "     final.order = c(p, d, q,s)\n",
    "     \n",
    "   }\n",
    " }\n",
    "\n",
    "# [1] 1 0 4 2 \n",
    " "
   ]
  },
  {
   "cell_type": "code",
   "execution_count": 17,
   "metadata": {
    "scrolled": true
   },
   "outputs": [
    {
     "data": {
      "text/html": [
       "<style>\n",
       ".list-inline {list-style: none; margin:0; padding: 0}\n",
       ".list-inline>li {display: inline-block}\n",
       ".list-inline>li:not(:last-child)::after {content: \"\\00b7\"; padding: 0 .5ex}\n",
       "</style>\n",
       "<ol class=list-inline><li>1</li><li>0</li><li>4</li><li>0</li></ol>\n"
      ],
      "text/latex": [
       "\\begin{enumerate*}\n",
       "\\item 1\n",
       "\\item 0\n",
       "\\item 4\n",
       "\\item 0\n",
       "\\end{enumerate*}\n"
      ],
      "text/markdown": [
       "1. 1\n",
       "2. 0\n",
       "3. 4\n",
       "4. 0\n",
       "\n",
       "\n"
      ],
      "text/plain": [
       "[1] 1 0 4 0"
      ]
     },
     "metadata": {},
     "output_type": "display_data"
    }
   ],
   "source": [
    "final.order"
   ]
  },
  {
   "cell_type": "code",
   "execution_count": 18,
   "metadata": {
    "scrolled": false
   },
   "outputs": [
    {
     "data": {
      "text/plain": [
       "\n",
       "\tBox-Pierce test\n",
       "\n",
       "data:  model.arima$resid\n",
       "X-squared = 0.59603, df = 1, p-value = 0.4401\n"
      ]
     },
     "metadata": {},
     "output_type": "display_data"
    },
    {
     "data": {
      "text/plain": [
       "\n",
       "\tBox-Ljung test\n",
       "\n",
       "data:  model.arima$resid\n",
       "X-squared = 0.60167, df = 1, p-value = 0.4379\n"
      ]
     },
     "metadata": {},
     "output_type": "display_data"
    },
    {
     "data": {
      "image/png": "[encoded data removed]",
      "text/plain": [
       "Plot with title \"Normal Q-Q Plot\""
      ]
     },
     "metadata": {},
     "output_type": "display_data"
    }
   ],
   "source": [
    "model.arima = stats::arima(ts_river, order=c(1,0,4),seasonal = list(order=c(0,2,0),\n",
    "   period=12), method=\"ML\") \n",
    "\n",
    "## Residual analysis\n",
    "par(mfrow=c(2,2))\n",
    "plot(resid(model.arima), ylab='Residuals',type='o',main=\"Residual Plot\")\n",
    "abline(h=0)\n",
    "acf(resid(model.arima),main=\"ACF: Residuals\")\n",
    "hist(resid(model.arima),xlab='Residuals',main='Histogram: Residuals')\n",
    "qqnorm(resid(model.arima),ylab=\"Sample Q\",xlab=\"Theoretical Q\")\n",
    "qqline(resid(model.arima))\n",
    "\n",
    "Box.test(model.arima$resid, lag = (1+4+1), type = \"Box-Pierce\", fitdf = (1+4))\n",
    "Box.test(model.arima$resid, lag = (1+4+1), type = \"Ljung-Box\", fitdf = (1+4))"
   ]
  },
  {
   "cell_type": "code",
   "execution_count": 21,
   "metadata": {
    "scrolled": false
   },
   "outputs": [
    {
     "data": {
      "image/png": "[encoded data removed]",
      "text/plain": [
       "Plot with title \"Forecasts from ARIMA(1,0,4)(0,2,0)[12]\""
      ]
     },
     "metadata": {},
     "output_type": "display_data"
    }
   ],
   "source": [
    "#plot(forecast(model.arima,h=15))\n",
    "\n",
    "fore = forecast(model.arima,h=15)\n",
    "fore=as.data.frame(fore)\n",
    "point.fore = ts(fore[,1],start=2016, freq=12)\n",
    "lo.fore = ts(fore[,4],start=2016, freq=12)\n",
    "up.fore = ts(fore[,5],start=2016, freq=12)\n",
    "ymin=min(c(log(river[(n-50):n]),lo.fore))\n",
    "ymax=max(c(log(river)[(n-50):n],up.fore))\n",
    "\n",
    "par(mfrow=c(2,2))\n",
    "plot(ts(log(as.numeric(river[(n-50):n])),start=2012, freq=12), ylim=c(ymin,ymax), ylab=\"Log-River Flow\", type=\"l\",main=\"\")\n",
    "points(point.fore,lwd=2,col=\"red\")\n",
    "lines(lo.fore,lty=3,lwd= 2, col=\"blue\")\n",
    "lines(up.fore,lty=3,lwd= 2, col=\"blue\")\n",
    "plot(forecast(model.arima,h=15))"
   ]
  },
  {
   "cell_type": "code",
   "execution_count": 22,
   "metadata": {},
   "outputs": [
    {
     "data": {
      "text/html": [
       "<table>\n",
       "<caption>A data.frame: 15 × 5</caption>\n",
       "<thead>\n",
       "\t<tr><th></th><th scope=col>Point Forecast</th><th scope=col>Lo 80</th><th scope=col>Hi 80</th><th scope=col>Lo 95</th><th scope=col>Hi 95</th></tr>\n",
       "\t<tr><th></th><th scope=col>&lt;dbl&gt;</th><th scope=col>&lt;dbl&gt;</th><th scope=col>&lt;dbl&gt;</th><th scope=col>&lt;dbl&gt;</th><th scope=col>&lt;dbl&gt;</th></tr>\n",
       "</thead>\n",
       "<tbody>\n",
       "\t<tr><th scope=row>Jan 2016</th><td>7.239303</td><td>6.151640</td><td> 8.326966</td><td>5.575866</td><td> 8.902739</td></tr>\n",
       "\t<tr><th scope=row>Feb 2016</th><td>7.523018</td><td>6.180548</td><td> 8.865488</td><td>5.469888</td><td> 9.576148</td></tr>\n",
       "\t<tr><th scope=row>Mar 2016</th><td>7.854018</td><td>6.398402</td><td> 9.309633</td><td>5.627845</td><td>10.080190</td></tr>\n",
       "\t<tr><th scope=row>Apr 2016</th><td>7.143800</td><td>5.640603</td><td> 8.646998</td><td>4.844858</td><td> 9.442742</td></tr>\n",
       "\t<tr><th scope=row>May 2016</th><td>7.360291</td><td>5.853198</td><td> 8.867384</td><td>5.055391</td><td> 9.665191</td></tr>\n",
       "\t<tr><th scope=row>Jun 2016</th><td>7.787819</td><td>6.279615</td><td> 9.296024</td><td>5.481219</td><td>10.094420</td></tr>\n",
       "\t<tr><th scope=row>Jul 2016</th><td>7.683566</td><td>6.175044</td><td> 9.192089</td><td>5.376480</td><td> 9.990653</td></tr>\n",
       "\t<tr><th scope=row>Aug 2016</th><td>6.894158</td><td>5.385544</td><td> 8.402771</td><td>4.586932</td><td> 9.201383</td></tr>\n",
       "\t<tr><th scope=row>Sep 2016</th><td>7.274399</td><td>5.765760</td><td> 8.783039</td><td>4.967135</td><td> 9.581664</td></tr>\n",
       "\t<tr><th scope=row>Oct 2016</th><td>7.684520</td><td>6.175873</td><td> 9.193167</td><td>5.377244</td><td> 9.991796</td></tr>\n",
       "\t<tr><th scope=row>Nov 2016</th><td>8.240398</td><td>6.731749</td><td> 9.749047</td><td>5.933119</td><td>10.547678</td></tr>\n",
       "\t<tr><th scope=row>Dec 2016</th><td>8.328666</td><td>6.820016</td><td> 9.837315</td><td>6.021385</td><td>10.635946</td></tr>\n",
       "\t<tr><th scope=row>Jan 2017</th><td>7.433456</td><td>4.785587</td><td>10.081326</td><td>3.383889</td><td>11.483023</td></tr>\n",
       "\t<tr><th scope=row>Feb 2017</th><td>7.770507</td><td>4.690038</td><td>10.850976</td><td>3.059336</td><td>12.481678</td></tr>\n",
       "\t<tr><th scope=row>Mar 2017</th><td>8.303327</td><td>5.023674</td><td>11.582980</td><td>3.287530</td><td>13.319123</td></tr>\n",
       "</tbody>\n",
       "</table>\n"
      ],
      "text/latex": [
       "A data.frame: 15 × 5\n",
       "\\begin{tabular}{r|lllll}\n",
       "  & Point Forecast & Lo 80 & Hi 80 & Lo 95 & Hi 95\\\\\n",
       "  & <dbl> & <dbl> & <dbl> & <dbl> & <dbl>\\\\\n",
       "\\hline\n",
       "\tJan 2016 & 7.239303 & 6.151640 &  8.326966 & 5.575866 &  8.902739\\\\\n",
       "\tFeb 2016 & 7.523018 & 6.180548 &  8.865488 & 5.469888 &  9.576148\\\\\n",
       "\tMar 2016 & 7.854018 & 6.398402 &  9.309633 & 5.627845 & 10.080190\\\\\n",
       "\tApr 2016 & 7.143800 & 5.640603 &  8.646998 & 4.844858 &  9.442742\\\\\n",
       "\tMay 2016 & 7.360291 & 5.853198 &  8.867384 & 5.055391 &  9.665191\\\\\n",
       "\tJun 2016 & 7.787819 & 6.279615 &  9.296024 & 5.481219 & 10.094420\\\\\n",
       "\tJul 2016 & 7.683566 & 6.175044 &  9.192089 & 5.376480 &  9.990653\\\\\n",
       "\tAug 2016 & 6.894158 & 5.385544 &  8.402771 & 4.586932 &  9.201383\\\\\n",
       "\tSep 2016 & 7.274399 & 5.765760 &  8.783039 & 4.967135 &  9.581664\\\\\n",
       "\tOct 2016 & 7.684520 & 6.175873 &  9.193167 & 5.377244 &  9.991796\\\\\n",
       "\tNov 2016 & 8.240398 & 6.731749 &  9.749047 & 5.933119 & 10.547678\\\\\n",
       "\tDec 2016 & 8.328666 & 6.820016 &  9.837315 & 6.021385 & 10.635946\\\\\n",
       "\tJan 2017 & 7.433456 & 4.785587 & 10.081326 & 3.383889 & 11.483023\\\\\n",
       "\tFeb 2017 & 7.770507 & 4.690038 & 10.850976 & 3.059336 & 12.481678\\\\\n",
       "\tMar 2017 & 8.303327 & 5.023674 & 11.582980 & 3.287530 & 13.319123\\\\\n",
       "\\end{tabular}\n"
      ],
      "text/markdown": [
       "\n",
       "A data.frame: 15 × 5\n",
       "\n",
       "| <!--/--> | Point Forecast &lt;dbl&gt; | Lo 80 &lt;dbl&gt; | Hi 80 &lt;dbl&gt; | Lo 95 &lt;dbl&gt; | Hi 95 &lt;dbl&gt; |\n",
       "|---|---|---|---|---|---|\n",
       "| Jan 2016 | 7.239303 | 6.151640 |  8.326966 | 5.575866 |  8.902739 |\n",
       "| Feb 2016 | 7.523018 | 6.180548 |  8.865488 | 5.469888 |  9.576148 |\n",
       "| Mar 2016 | 7.854018 | 6.398402 |  9.309633 | 5.627845 | 10.080190 |\n",
       "| Apr 2016 | 7.143800 | 5.640603 |  8.646998 | 4.844858 |  9.442742 |\n",
       "| May 2016 | 7.360291 | 5.853198 |  8.867384 | 5.055391 |  9.665191 |\n",
       "| Jun 2016 | 7.787819 | 6.279615 |  9.296024 | 5.481219 | 10.094420 |\n",
       "| Jul 2016 | 7.683566 | 6.175044 |  9.192089 | 5.376480 |  9.990653 |\n",
       "| Aug 2016 | 6.894158 | 5.385544 |  8.402771 | 4.586932 |  9.201383 |\n",
       "| Sep 2016 | 7.274399 | 5.765760 |  8.783039 | 4.967135 |  9.581664 |\n",
       "| Oct 2016 | 7.684520 | 6.175873 |  9.193167 | 5.377244 |  9.991796 |\n",
       "| Nov 2016 | 8.240398 | 6.731749 |  9.749047 | 5.933119 | 10.547678 |\n",
       "| Dec 2016 | 8.328666 | 6.820016 |  9.837315 | 6.021385 | 10.635946 |\n",
       "| Jan 2017 | 7.433456 | 4.785587 | 10.081326 | 3.383889 | 11.483023 |\n",
       "| Feb 2017 | 7.770507 | 4.690038 | 10.850976 | 3.059336 | 12.481678 |\n",
       "| Mar 2017 | 8.303327 | 5.023674 | 11.582980 | 3.287530 | 13.319123 |\n",
       "\n"
      ],
      "text/plain": [
       "         Point Forecast Lo 80    Hi 80     Lo 95    Hi 95    \n",
       "Jan 2016 7.239303       6.151640  8.326966 5.575866  8.902739\n",
       "Feb 2016 7.523018       6.180548  8.865488 5.469888  9.576148\n",
       "Mar 2016 7.854018       6.398402  9.309633 5.627845 10.080190\n",
       "Apr 2016 7.143800       5.640603  8.646998 4.844858  9.442742\n",
       "May 2016 7.360291       5.853198  8.867384 5.055391  9.665191\n",
       "Jun 2016 7.787819       6.279615  9.296024 5.481219 10.094420\n",
       "Jul 2016 7.683566       6.175044  9.192089 5.376480  9.990653\n",
       "Aug 2016 6.894158       5.385544  8.402771 4.586932  9.201383\n",
       "Sep 2016 7.274399       5.765760  8.783039 4.967135  9.581664\n",
       "Oct 2016 7.684520       6.175873  9.193167 5.377244  9.991796\n",
       "Nov 2016 8.240398       6.731749  9.749047 5.933119 10.547678\n",
       "Dec 2016 8.328666       6.820016  9.837315 6.021385 10.635946\n",
       "Jan 2017 7.433456       4.785587 10.081326 3.383889 11.483023\n",
       "Feb 2017 7.770507       4.690038 10.850976 3.059336 12.481678\n",
       "Mar 2017 8.303327       5.023674 11.582980 3.287530 13.319123"
      ]
     },
     "metadata": {},
     "output_type": "display_data"
    }
   ],
   "source": [
    "fore"
   ]
  },
  {
   "cell_type": "code",
   "execution_count": 23,
   "metadata": {
    "scrolled": true
   },
   "outputs": [
    {
     "data": {
      "text/html": [
       "<table>\n",
       "<caption>A Time Series: 60 × 12</caption>\n",
       "<thead>\n",
       "\t<tr><th></th><th scope=col>Jan</th><th scope=col>Feb</th><th scope=col>Mar</th><th scope=col>Apr</th><th scope=col>May</th><th scope=col>Jun</th><th scope=col>Jul</th><th scope=col>Aug</th><th scope=col>Sep</th><th scope=col>Oct</th><th scope=col>Nov</th><th scope=col>Dec</th></tr>\n",
       "</thead>\n",
       "<tbody>\n",
       "\t<tr><th scope=row>1956</th><td> 0.63127178</td><td> 1.88251383</td><td> 1.78002421</td><td> 1.64480506</td><td> 0.95551145</td><td> 0.79299252</td><td> 1.98237983</td><td> 0.09531018</td><td> 1.82293509</td><td> 3.33220451</td><td> 0.43825493</td><td> 1.13783300</td></tr>\n",
       "\t<tr><th scope=row>1957</th><td> 1.67709656</td><td> 0.64710324</td><td> 1.54543258</td><td> 1.79840401</td><td> 1.22377543</td><td> 1.11841492</td><td> 1.15057203</td><td> 1.25846099</td><td> 1.66770682</td><td> 3.61091791</td><td> 1.90210753</td><td> 1.11514159</td></tr>\n",
       "\t<tr><th scope=row>1958</th><td> 1.35583515</td><td> 1.77664583</td><td> 1.64673370</td><td> 1.50407740</td><td> 1.41342303</td><td> 1.40854497</td><td> 2.18041746</td><td> 1.26976054</td><td> 1.14422280</td><td> 3.04452244</td><td> 0.76080583</td><td> 0.94778940</td></tr>\n",
       "\t<tr><th scope=row>1959</th><td> 1.21787571</td><td> 1.28370777</td><td> 1.88858365</td><td> 1.04027671</td><td> 1.67709656</td><td> 0.40546511</td><td> 1.18478998</td><td> 0.35065687</td><td> 1.24126859</td><td> 4.07753744</td><td> 0.30010459</td><td> 0.83724752</td></tr>\n",
       "\t<tr><th scope=row>1960</th><td> 2.31845844</td><td> 1.66203036</td><td> 1.66013103</td><td> 1.52388002</td><td>-0.04082199</td><td> 0.23111172</td><td> 0.81093022</td><td> 1.72276660</td><td> 1.57691472</td><td> 3.58351894</td><td>-0.11653382</td><td> 0.90016135</td></tr>\n",
       "\t<tr><th scope=row>1961</th><td> 0.55388511</td><td> 2.54709867</td><td> 1.99197552</td><td> 1.61143592</td><td> 1.15688120</td><td> 1.99877364</td><td> 0.78390154</td><td> 1.59736533</td><td> 0.51879379</td><td> 0.69314718</td><td> 0.87129337</td><td> 2.29455292</td></tr>\n",
       "\t<tr><th scope=row>1962</th><td> 1.65632150</td><td> 1.62727783</td><td> 1.90508815</td><td> 1.78507048</td><td>-0.96758403</td><td> 1.47932923</td><td> 1.65822808</td><td> 0.19062036</td><td> 1.25561604</td><td> 2.89037176</td><td> 1.82293509</td><td> 0.85015093</td></tr>\n",
       "\t<tr><th scope=row>1963</th><td> 1.62924054</td><td> 1.17557333</td><td> 1.77833645</td><td> 1.76644166</td><td> 1.53901545</td><td> 1.89911799</td><td> 2.09433015</td><td>-0.12783337</td><td> 1.64673370</td><td> 1.50407740</td><td> 1.33762919</td><td> 1.76814960</td></tr>\n",
       "\t<tr><th scope=row>1964</th><td> 1.79342475</td><td> 1.42791604</td><td> 2.25234388</td><td> 2.16102153</td><td> 0.95165788</td><td> 1.05779029</td><td> 1.96571278</td><td> 1.41098697</td><td> 0.32208350</td><td> 3.97029191</td><td> 1.13462273</td><td> 1.59533899</td></tr>\n",
       "\t<tr><th scope=row>1965</th><td> 1.31908561</td><td> 1.46093790</td><td> 1.78170913</td><td> 1.13140211</td><td> 0.92028275</td><td> 1.96711236</td><td> 1.52388002</td><td> 0.42526774</td><td> 1.10525683</td><td> 3.43398720</td><td> 0.84156719</td><td> 0.53062825</td></tr>\n",
       "\t<tr><th scope=row>1966</th><td> 1.78170913</td><td> 1.95160817</td><td> 1.39128190</td><td> 1.43270073</td><td> 1.76473080</td><td> 1.08180517</td><td> 1.19996478</td><td> 1.37118072</td><td> 0.76546784</td><td> 4.09434456</td><td> 1.57277393</td><td> 1.52605630</td></tr>\n",
       "\t<tr><th scope=row>1967</th><td> 1.57897870</td><td> 1.32175584</td><td> 1.28923265</td><td> 1.03318448</td><td> 1.59938758</td><td> 1.11841492</td><td> 1.86562932</td><td> 2.16217294</td><td> 0.64185389</td><td> 3.52636052</td><td> 1.70837786</td><td> 1.90359895</td></tr>\n",
       "\t<tr><th scope=row>1968</th><td> 1.40364300</td><td> 0.33647224</td><td> 1.51292701</td><td> 1.84530024</td><td> 1.85941812</td><td> 0.97455964</td><td> 1.67522565</td><td> 1.41827741</td><td> 0.25464222</td><td> 3.68887945</td><td> 1.57069708</td><td> 1.58719230</td></tr>\n",
       "\t<tr><th scope=row>1969</th><td> 1.04731899</td><td> 1.16315081</td><td> 1.38629436</td><td> 1.74046617</td><td> 2.03861955</td><td> 0.00000000</td><td> 0.97077892</td><td> 1.81156210</td><td> 1.31908561</td><td> 2.89037176</td><td> 0.98207847</td><td> 1.18478998</td></tr>\n",
       "\t<tr><th scope=row>1970</th><td> 1.08180517</td><td> 1.09527339</td><td> 1.93730177</td><td> 1.17557333</td><td> 1.10194008</td><td> 0.96317432</td><td> 1.27815220</td><td> 1.18172720</td><td> 0.59883650</td><td> 4.06044301</td><td> 0.62057649</td><td> 1.30291275</td></tr>\n",
       "\t<tr><th scope=row>1971</th><td> 1.48160454</td><td> 1.75267208</td><td> 2.15755932</td><td> 1.40854497</td><td> 0.75141609</td><td> 1.20297230</td><td> 2.10657021</td><td> 1.01523068</td><td> 1.19996478</td><td> 1.94591015</td><td> 1.22964055</td><td> 1.02604160</td></tr>\n",
       "\t<tr><th scope=row>1972</th><td> 2.22570405</td><td> 1.15057203</td><td> 1.50185270</td><td> 0.83724752</td><td> 1.45395301</td><td> 1.39624469</td><td> 1.33762919</td><td> 1.02245093</td><td> 0.62057649</td><td> 3.73766962</td><td> 1.37624403</td><td> 2.03077637</td></tr>\n",
       "\t<tr><th scope=row>1973</th><td> 2.18492705</td><td> 1.23547147</td><td> 2.25444472</td><td> 1.39376638</td><td> 1.96571278</td><td> 1.20896035</td><td> 0.74193734</td><td> 0.30010459</td><td> 1.42551507</td><td> 2.30258509</td><td> 0.83724752</td><td> 2.09309787</td></tr>\n",
       "\t<tr><th scope=row>1974</th><td> 1.67896398</td><td> 1.85159947</td><td> 0.89199804</td><td> 1.31372367</td><td> 1.34286480</td><td> 1.16315081</td><td> 1.53471437</td><td> 1.83418019</td><td> 0.05826891</td><td> 2.70805020</td><td> 1.35840916</td><td> 1.66959184</td></tr>\n",
       "\t<tr><th scope=row>1975</th><td> 1.82293509</td><td> 2.19499988</td><td> 2.11745961</td><td> 1.45395301</td><td> 1.53039471</td><td> 1.70837786</td><td> 2.14241634</td><td> 1.19392247</td><td> 1.09527339</td><td> 3.95124372</td><td> 1.53039471</td><td> 1.21194097</td></tr>\n",
       "\t<tr><th scope=row>1976</th><td> 1.63899671</td><td> 0.60976557</td><td> 2.39333946</td><td> 0.39877612</td><td> 1.94448056</td><td> 0.85866162</td><td> 1.45628673</td><td>-0.69314718</td><td>-0.32850407</td><td> 3.82864140</td><td> 1.41342303</td><td> 1.38879124</td></tr>\n",
       "\t<tr><th scope=row>1977</th><td> 1.24990174</td><td> 0.76080583</td><td> 1.83736998</td><td> 0.57097955</td><td> 0.71294981</td><td> 1.10856262</td><td> 1.44926916</td><td> 1.44220199</td><td> 1.58923521</td><td> 3.89182030</td><td> 1.97129938</td><td> 0.85866162</td></tr>\n",
       "\t<tr><th scope=row>1978</th><td> 1.95018671</td><td>-0.26136476</td><td> 0.96698385</td><td> 1.24990174</td><td> 1.98513086</td><td> 1.05082162</td><td> 0.94000726</td><td> 1.73342389</td><td>-0.06187540</td><td> 2.77258872</td><td> 1.08518927</td><td> 1.32175584</td></tr>\n",
       "\t<tr><th scope=row>1979</th><td> 1.61541998</td><td> 1.74221902</td><td> 1.16002092</td><td> 2.47317139</td><td> 0.88789126</td><td> 0.37843644</td><td> 1.28647403</td><td> 1.98513086</td><td> 1.80500470</td><td> 3.36729583</td><td> 1.64673370</td><td>-0.37106368</td></tr>\n",
       "\t<tr><th scope=row>1980</th><td> 1.73871025</td><td> 0.98954119</td><td> 2.45616418</td><td> 0.63127178</td><td> 2.12465388</td><td> 1.50185270</td><td>-0.27443685</td><td> 0.46373402</td><td> 1.56234630</td><td> 2.99573227</td><td> 0.76080583</td><td> 0.25464222</td></tr>\n",
       "\t<tr><th scope=row>1981</th><td>-0.17435339</td><td> 1.89009537</td><td> 1.36863943</td><td> 0.72270598</td><td> 1.35840916</td><td> 0.98954119</td><td> 1.00795792</td><td> 1.01523068</td><td> 1.66203036</td><td> 3.71357207</td><td> 0.61518564</td><td> 1.83258146</td></tr>\n",
       "\t<tr><th scope=row>1982</th><td> 1.55814462</td><td> 1.94448056</td><td> 1.33236602</td><td> 1.79508726</td><td> 0.95551145</td><td> 1.80664808</td><td> 1.84213568</td><td> 0.37156356</td><td> 1.09861229</td><td> 4.00733319</td><td> 1.42310833</td><td> 1.65441128</td></tr>\n",
       "\t<tr><th scope=row>1983</th><td> 1.12817109</td><td> 1.60743591</td><td> 1.89911799</td><td> 1.56653041</td><td> 0.35065687</td><td> 0.41871033</td><td> 0.61518564</td><td> 0.05826891</td><td> 2.01756614</td><td> 3.21887582</td><td> 2.00955541</td><td> 2.22678338</td></tr>\n",
       "\t<tr><th scope=row>1984</th><td> 1.53901545</td><td> 1.78674693</td><td> 1.76301700</td><td> 1.89009537</td><td> 1.88251383</td><td>-0.30110509</td><td> 2.41680624</td><td> 1.86562932</td><td>-3.21887582</td><td> 2.94443898</td><td> 0.74193734</td><td> 1.29472717</td></tr>\n",
       "\t<tr><th scope=row>1985</th><td> 1.41342303</td><td> 1.60542989</td><td> 0.62057649</td><td> 1.01160091</td><td> 1.54543258</td><td> 0.71294981</td><td> 2.29455292</td><td> 1.51951320</td><td> 0.96698385</td><td> 3.98898405</td><td> 1.44220199</td><td> 0.82417544</td></tr>\n",
       "\t<tr><th scope=row>1986</th><td>-0.12783337</td><td> 0.90016135</td><td> 1.41827741</td><td>-0.71334989</td><td> 1.08180517</td><td> 0.77932488</td><td> 1.18478998</td><td> 1.80500470</td><td> 1.30291275</td><td> 3.93182563</td><td> 1.82454929</td><td> 1.10856262</td></tr>\n",
       "\t<tr><th scope=row>1987</th><td> 1.72810944</td><td> 1.81319475</td><td> 1.69377906</td><td> 0.14842001</td><td> 1.00795792</td><td> 1.85002838</td><td> 1.99470031</td><td> 0.19885086</td><td> 1.10525683</td><td> 2.19722458</td><td> 0.85866162</td><td> 1.41827741</td></tr>\n",
       "\t<tr><th scope=row>1988</th><td> 1.53471437</td><td> 1.19996478</td><td> 0.94390590</td><td> 1.80170980</td><td> 0.53649337</td><td>-1.83258146</td><td> 1.61740608</td><td> 1.59330853</td><td> 1.84845481</td><td> 3.89182030</td><td> 1.58309394</td><td> 0.19062036</td></tr>\n",
       "\t<tr><th scope=row>1989</th><td> 0.94390590</td><td> 1.45861502</td><td> 1.34807315</td><td> 1.65632150</td><td> 1.85941812</td><td> 2.23430625</td><td> 2.03470565</td><td> 0.75612198</td><td> 2.45444744</td><td> 3.13549422</td><td> 1.37876609</td><td> 1.50185270</td></tr>\n",
       "\t<tr><th scope=row>1990</th><td> 2.13653051</td><td> 2.27726729</td><td> 2.12345843</td><td> 1.01523068</td><td> 1.66013103</td><td> 0.32930375</td><td> 1.24990174</td><td> 1.53471437</td><td> 1.10194008</td><td> 4.04305127</td><td> 0.23901690</td><td> 1.11185752</td></tr>\n",
       "\t<tr><th scope=row>1991</th><td> 1.53901545</td><td> 1.13140211</td><td> 1.94304892</td><td> 1.66392610</td><td> 1.99470031</td><td> 2.30158459</td><td> 1.76130026</td><td> 1.47476301</td><td> 0.70803579</td><td> 2.07944154</td><td> 1.16002092</td><td> 0.98954119</td></tr>\n",
       "\t<tr><th scope=row>1992</th><td> 1.27536280</td><td> 1.37118072</td><td> 1.33762919</td><td> 0.02955880</td><td> 0.54812141</td><td> 1.42069579</td><td> 2.20055237</td><td> 1.61740608</td><td> 2.14593128</td><td> 3.66356165</td><td> 2.30657711</td><td> 1.85316810</td></tr>\n",
       "\t<tr><th scope=row>1993</th><td> 1.37118072</td><td> 1.48839958</td><td> 1.74571553</td><td> 1.01884732</td><td> 1.58309394</td><td> 1.79342475</td><td> 1.11514159</td><td> 1.08518927</td><td> 1.36353737</td><td> 3.85014760</td><td> 1.38879124</td><td> 0.93216408</td></tr>\n",
       "\t<tr><th scope=row>1994</th><td> 1.63119940</td><td> 1.32441896</td><td> 1.75267208</td><td> 1.30291275</td><td> 0.77010822</td><td> 0.89199804</td><td> 2.87412945</td><td> 1.42551507</td><td> 1.76814960</td><td> 3.87120101</td><td> 1.18478998</td><td> 0.46373402</td></tr>\n",
       "\t<tr><th scope=row>1995</th><td> 1.21194097</td><td> 1.90805992</td><td> 0.97832612</td><td> 1.09861229</td><td> 0.75141609</td><td> 1.37876609</td><td>-0.56211892</td><td> 1.76130026</td><td> 0.92425890</td><td> 3.29583687</td><td> 2.00148000</td><td> 1.27256560</td></tr>\n",
       "\t<tr><th scope=row>1996</th><td> 2.11142459</td><td> 1.34025042</td><td> 1.85941812</td><td> 1.06815308</td><td> 0.75141609</td><td> 0.53062825</td><td> 0.76080583</td><td> 1.53901545</td><td> 1.46325540</td><td> 2.56494936</td><td> 1.16938136</td><td> 1.42069579</td></tr>\n",
       "\t<tr><th scope=row>1997</th><td> 1.73165555</td><td> 2.07065304</td><td> 0.77932488</td><td> 1.45395301</td><td> 1.21194097</td><td> 1.36353737</td><td> 1.54968791</td><td> 0.27763174</td><td> 1.57484647</td><td> 3.91202301</td><td> 1.20597081</td><td> 1.61938824</td></tr>\n",
       "\t<tr><th scope=row>1998</th><td> 1.76301700</td><td> 1.96009478</td><td> 1.83258146</td><td> 1.63315444</td><td> 0.20701417</td><td> 1.27536280</td><td> 1.07500242</td><td> 1.71199450</td><td> 1.49290410</td><td> 1.79175947</td><td> 0.67803354</td><td> 0.64185389</td></tr>\n",
       "\t<tr><th scope=row>1999</th><td> 1.67335124</td><td> 0.67803354</td><td> 1.19996478</td><td> 0.13102826</td><td> 1.48613970</td><td> 1.76301700</td><td> 1.23256026</td><td> 0.23111172</td><td> 1.43270073</td><td> 3.46573590</td><td> 1.20597081</td><td> 0.79299252</td></tr>\n",
       "\t<tr><th scope=row>2000</th><td> 1.58719230</td><td> 0.23111172</td><td> 1.28923265</td><td> 0.96698385</td><td> 0.62057649</td><td> 0.10436002</td><td> 0.99325177</td><td> 1.39376638</td><td> 1.59533899</td><td> 2.48490665</td><td> 1.61342993</td><td> 0.96317432</td></tr>\n",
       "\t<tr><th scope=row>2001</th><td> 1.01884732</td><td> 1.28370777</td><td> 2.20607419</td><td> 1.19088756</td><td> 1.19694819</td><td> 1.90061387</td><td> 0.93216408</td><td> 0.02955880</td><td> 0.78390154</td><td> 2.39789527</td><td>-0.13926207</td><td> 0.79750720</td></tr>\n",
       "\t<tr><th scope=row>2002</th><td> 1.67709656</td><td> 0.93216408</td><td> 1.70292826</td><td> 0.60431597</td><td> 1.25846099</td><td> 1.03318448</td><td> 0.95165788</td><td>-0.26136476</td><td> 1.85473427</td><td> 4.02535169</td><td> 1.67896398</td><td> 1.65441128</td></tr>\n",
       "\t<tr><th scope=row>2003</th><td> 0.69314718</td><td> 1.25561604</td><td> 1.95727391</td><td> 1.23547147</td><td> 2.29656702</td><td> 1.99333884</td><td> 1.67709656</td><td> 1.24703229</td><td> 0.88376754</td><td> 2.83321334</td><td> 1.42791604</td><td> 0.98954119</td></tr>\n",
       "\t<tr><th scope=row>2004</th><td> 1.04380405</td><td> 1.52605630</td><td> 0.03922071</td><td> 1.02961942</td><td> 0.94778940</td><td> 1.79009141</td><td> 0.78845736</td><td> 1.28923265</td><td> 2.61373952</td><td> 3.40119738</td><td> 1.98237983</td><td> 1.57277393</td></tr>\n",
       "\t<tr><th scope=row>2005</th><td> 0.94390590</td><td> 1.71918878</td><td> 2.01356880</td><td> 1.47247206</td><td> 0.68309684</td><td> 1.06815308</td><td> 2.68307422</td><td> 2.11384297</td><td>-2.65926004</td><td> 3.25809654</td><td> 1.06815308</td><td> 1.30019166</td></tr>\n",
       "\t<tr><th scope=row>2006</th><td> 1.62924054</td><td> 1.70474809</td><td> 1.07500242</td><td> 0.90825856</td><td> 1.05082162</td><td> 1.75785792</td><td> 0.27002714</td><td> 2.15871472</td><td> 1.19694819</td><td> 3.73766962</td><td> 1.47932923</td><td> 1.12492960</td></tr>\n",
       "\t<tr><th scope=row>2007</th><td> 1.37371558</td><td> 0.96698385</td><td> 0.27002714</td><td> 0.58221562</td><td> 0.71783979</td><td> 1.29746315</td><td> 0.61518564</td><td> 1.24703229</td><td> 1.07158362</td><td> 3.49650756</td><td>-0.04082199</td><td> 1.56444055</td></tr>\n",
       "\t<tr><th scope=row>2008</th><td> 1.04731899</td><td> 1.52822786</td><td> 1.64287269</td><td> 1.16938136</td><td> 1.02961942</td><td>-0.54472718</td><td> 1.96990565</td><td> 1.32707500</td><td>-0.28768207</td><td> 3.78418963</td><td> 0.97077892</td><td> 1.47932923</td></tr>\n",
       "\t<tr><th scope=row>2009</th><td> 1.05779029</td><td> 1.30833282</td><td> 1.96431123</td><td> 1.64480506</td><td> 1.51292701</td><td> 0.85015093</td><td> 1.61342993</td><td> 1.81482474</td><td> 2.19053559</td><td> 4.11087386</td><td> 1.74919985</td><td> 2.20827441</td></tr>\n",
       "\t<tr><th scope=row>2010</th><td> 1.68268837</td><td> 1.42791604</td><td> 1.44456327</td><td> 0.94000726</td><td> 1.92716411</td><td> 1.65057986</td><td> 1.47476301</td><td> 1.19996478</td><td> 0.47000363</td><td> 3.76120012</td><td> 1.70110510</td><td> 0.48242615</td></tr>\n",
       "\t<tr><th scope=row>2011</th><td> 0.96698385</td><td> 1.44691898</td><td> 2.20386912</td><td> 1.11841492</td><td> 1.07500242</td><td> 0.78845736</td><td> 0.98207847</td><td> 0.41210965</td><td> 0.83290912</td><td> 3.09104245</td><td> 0.91228271</td><td> 1.48839958</td></tr>\n",
       "\t<tr><th scope=row>2012</th><td> 1.63705308</td><td> 0.80200159</td><td> 1.25846099</td><td> 0.80200159</td><td> 1.22671229</td><td> 0.82417544</td><td> 1.26129787</td><td> 1.35840916</td><td> 0.31481074</td><td> 3.17805383</td><td> 0.51282363</td><td> 1.78002421</td></tr>\n",
       "\t<tr><th scope=row>2013</th><td> 1.58923521</td><td> 2.01490302</td><td> 1.52169900</td><td> 1.70656462</td><td> 1.66013103</td><td> 2.25863321</td><td> 2.13771045</td><td> 1.65632150</td><td> 1.00795792</td><td> 3.58351894</td><td> 0.62593843</td><td> 2.05412373</td></tr>\n",
       "\t<tr><th scope=row>2014</th><td> 1.20896035</td><td> 1.33762919</td><td> 1.13783300</td><td> 1.77495235</td><td> 0.82855182</td><td> 1.62924054</td><td> 1.52605630</td><td> 1.75785792</td><td>-0.28768207</td><td> 3.80666249</td><td> 1.34807315</td><td> 1.70656462</td></tr>\n",
       "\t<tr><th scope=row>2015</th><td> 1.47247206</td><td> 1.42310833</td><td> 1.09192330</td><td> 2.05284086</td><td> 1.49065438</td><td> 1.93296964</td><td> 1.61143592</td><td> 1.75267208</td><td> 1.36863943</td><td> 3.55534806</td><td> 2.07693841</td><td> 2.52652832</td></tr>\n",
       "</tbody>\n",
       "</table>\n"
      ],
      "text/latex": [
       "A Time Series: 60 × 12\n",
       "\\begin{tabular}{r|llllllllllll}\n",
       "  & Jan & Feb & Mar & Apr & May & Jun & Jul & Aug & Sep & Oct & Nov & Dec\\\\\n",
       "\\hline\n",
       "\t1956 &  0.63127178 &  1.88251383 &  1.78002421 &  1.64480506 &  0.95551145 &  0.79299252 &  1.98237983 &  0.09531018 &  1.82293509 &  3.33220451 &  0.43825493 &  1.13783300\\\\\n",
       "\t1957 &  1.67709656 &  0.64710324 &  1.54543258 &  1.79840401 &  1.22377543 &  1.11841492 &  1.15057203 &  1.25846099 &  1.66770682 &  3.61091791 &  1.90210753 &  1.11514159\\\\\n",
       "\t1958 &  1.35583515 &  1.77664583 &  1.64673370 &  1.50407740 &  1.41342303 &  1.40854497 &  2.18041746 &  1.26976054 &  1.14422280 &  3.04452244 &  0.76080583 &  0.94778940\\\\\n",
       "\t1959 &  1.21787571 &  1.28370777 &  1.88858365 &  1.04027671 &  1.67709656 &  0.40546511 &  1.18478998 &  0.35065687 &  1.24126859 &  4.07753744 &  0.30010459 &  0.83724752\\\\\n",
       "\t1960 &  2.31845844 &  1.66203036 &  1.66013103 &  1.52388002 & -0.04082199 &  0.23111172 &  0.81093022 &  1.72276660 &  1.57691472 &  3.58351894 & -0.11653382 &  0.90016135\\\\\n",
       "\t1961 &  0.55388511 &  2.54709867 &  1.99197552 &  1.61143592 &  1.15688120 &  1.99877364 &  0.78390154 &  1.59736533 &  0.51879379 &  0.69314718 &  0.87129337 &  2.29455292\\\\\n",
       "\t1962 &  1.65632150 &  1.62727783 &  1.90508815 &  1.78507048 & -0.96758403 &  1.47932923 &  1.65822808 &  0.19062036 &  1.25561604 &  2.89037176 &  1.82293509 &  0.85015093\\\\\n",
       "\t1963 &  1.62924054 &  1.17557333 &  1.77833645 &  1.76644166 &  1.53901545 &  1.89911799 &  2.09433015 & -0.12783337 &  1.64673370 &  1.50407740 &  1.33762919 &  1.76814960\\\\\n",
       "\t1964 &  1.79342475 &  1.42791604 &  2.25234388 &  2.16102153 &  0.95165788 &  1.05779029 &  1.96571278 &  1.41098697 &  0.32208350 &  3.97029191 &  1.13462273 &  1.59533899\\\\\n",
       "\t1965 &  1.31908561 &  1.46093790 &  1.78170913 &  1.13140211 &  0.92028275 &  1.96711236 &  1.52388002 &  0.42526774 &  1.10525683 &  3.43398720 &  0.84156719 &  0.53062825\\\\\n",
       "\t1966 &  1.78170913 &  1.95160817 &  1.39128190 &  1.43270073 &  1.76473080 &  1.08180517 &  1.19996478 &  1.37118072 &  0.76546784 &  4.09434456 &  1.57277393 &  1.52605630\\\\\n",
       "\t1967 &  1.57897870 &  1.32175584 &  1.28923265 &  1.03318448 &  1.59938758 &  1.11841492 &  1.86562932 &  2.16217294 &  0.64185389 &  3.52636052 &  1.70837786 &  1.90359895\\\\\n",
       "\t1968 &  1.40364300 &  0.33647224 &  1.51292701 &  1.84530024 &  1.85941812 &  0.97455964 &  1.67522565 &  1.41827741 &  0.25464222 &  3.68887945 &  1.57069708 &  1.58719230\\\\\n",
       "\t1969 &  1.04731899 &  1.16315081 &  1.38629436 &  1.74046617 &  2.03861955 &  0.00000000 &  0.97077892 &  1.81156210 &  1.31908561 &  2.89037176 &  0.98207847 &  1.18478998\\\\\n",
       "\t1970 &  1.08180517 &  1.09527339 &  1.93730177 &  1.17557333 &  1.10194008 &  0.96317432 &  1.27815220 &  1.18172720 &  0.59883650 &  4.06044301 &  0.62057649 &  1.30291275\\\\\n",
       "\t1971 &  1.48160454 &  1.75267208 &  2.15755932 &  1.40854497 &  0.75141609 &  1.20297230 &  2.10657021 &  1.01523068 &  1.19996478 &  1.94591015 &  1.22964055 &  1.02604160\\\\\n",
       "\t1972 &  2.22570405 &  1.15057203 &  1.50185270 &  0.83724752 &  1.45395301 &  1.39624469 &  1.33762919 &  1.02245093 &  0.62057649 &  3.73766962 &  1.37624403 &  2.03077637\\\\\n",
       "\t1973 &  2.18492705 &  1.23547147 &  2.25444472 &  1.39376638 &  1.96571278 &  1.20896035 &  0.74193734 &  0.30010459 &  1.42551507 &  2.30258509 &  0.83724752 &  2.09309787\\\\\n",
       "\t1974 &  1.67896398 &  1.85159947 &  0.89199804 &  1.31372367 &  1.34286480 &  1.16315081 &  1.53471437 &  1.83418019 &  0.05826891 &  2.70805020 &  1.35840916 &  1.66959184\\\\\n",
       "\t1975 &  1.82293509 &  2.19499988 &  2.11745961 &  1.45395301 &  1.53039471 &  1.70837786 &  2.14241634 &  1.19392247 &  1.09527339 &  3.95124372 &  1.53039471 &  1.21194097\\\\\n",
       "\t1976 &  1.63899671 &  0.60976557 &  2.39333946 &  0.39877612 &  1.94448056 &  0.85866162 &  1.45628673 & -0.69314718 & -0.32850407 &  3.82864140 &  1.41342303 &  1.38879124\\\\\n",
       "\t1977 &  1.24990174 &  0.76080583 &  1.83736998 &  0.57097955 &  0.71294981 &  1.10856262 &  1.44926916 &  1.44220199 &  1.58923521 &  3.89182030 &  1.97129938 &  0.85866162\\\\\n",
       "\t1978 &  1.95018671 & -0.26136476 &  0.96698385 &  1.24990174 &  1.98513086 &  1.05082162 &  0.94000726 &  1.73342389 & -0.06187540 &  2.77258872 &  1.08518927 &  1.32175584\\\\\n",
       "\t1979 &  1.61541998 &  1.74221902 &  1.16002092 &  2.47317139 &  0.88789126 &  0.37843644 &  1.28647403 &  1.98513086 &  1.80500470 &  3.36729583 &  1.64673370 & -0.37106368\\\\\n",
       "\t1980 &  1.73871025 &  0.98954119 &  2.45616418 &  0.63127178 &  2.12465388 &  1.50185270 & -0.27443685 &  0.46373402 &  1.56234630 &  2.99573227 &  0.76080583 &  0.25464222\\\\\n",
       "\t1981 & -0.17435339 &  1.89009537 &  1.36863943 &  0.72270598 &  1.35840916 &  0.98954119 &  1.00795792 &  1.01523068 &  1.66203036 &  3.71357207 &  0.61518564 &  1.83258146\\\\\n",
       "\t1982 &  1.55814462 &  1.94448056 &  1.33236602 &  1.79508726 &  0.95551145 &  1.80664808 &  1.84213568 &  0.37156356 &  1.09861229 &  4.00733319 &  1.42310833 &  1.65441128\\\\\n",
       "\t1983 &  1.12817109 &  1.60743591 &  1.89911799 &  1.56653041 &  0.35065687 &  0.41871033 &  0.61518564 &  0.05826891 &  2.01756614 &  3.21887582 &  2.00955541 &  2.22678338\\\\\n",
       "\t1984 &  1.53901545 &  1.78674693 &  1.76301700 &  1.89009537 &  1.88251383 & -0.30110509 &  2.41680624 &  1.86562932 & -3.21887582 &  2.94443898 &  0.74193734 &  1.29472717\\\\\n",
       "\t1985 &  1.41342303 &  1.60542989 &  0.62057649 &  1.01160091 &  1.54543258 &  0.71294981 &  2.29455292 &  1.51951320 &  0.96698385 &  3.98898405 &  1.44220199 &  0.82417544\\\\\n",
       "\t1986 & -0.12783337 &  0.90016135 &  1.41827741 & -0.71334989 &  1.08180517 &  0.77932488 &  1.18478998 &  1.80500470 &  1.30291275 &  3.93182563 &  1.82454929 &  1.10856262\\\\\n",
       "\t1987 &  1.72810944 &  1.81319475 &  1.69377906 &  0.14842001 &  1.00795792 &  1.85002838 &  1.99470031 &  0.19885086 &  1.10525683 &  2.19722458 &  0.85866162 &  1.41827741\\\\\n",
       "\t1988 &  1.53471437 &  1.19996478 &  0.94390590 &  1.80170980 &  0.53649337 & -1.83258146 &  1.61740608 &  1.59330853 &  1.84845481 &  3.89182030 &  1.58309394 &  0.19062036\\\\\n",
       "\t1989 &  0.94390590 &  1.45861502 &  1.34807315 &  1.65632150 &  1.85941812 &  2.23430625 &  2.03470565 &  0.75612198 &  2.45444744 &  3.13549422 &  1.37876609 &  1.50185270\\\\\n",
       "\t1990 &  2.13653051 &  2.27726729 &  2.12345843 &  1.01523068 &  1.66013103 &  0.32930375 &  1.24990174 &  1.53471437 &  1.10194008 &  4.04305127 &  0.23901690 &  1.11185752\\\\\n",
       "\t1991 &  1.53901545 &  1.13140211 &  1.94304892 &  1.66392610 &  1.99470031 &  2.30158459 &  1.76130026 &  1.47476301 &  0.70803579 &  2.07944154 &  1.16002092 &  0.98954119\\\\\n",
       "\t1992 &  1.27536280 &  1.37118072 &  1.33762919 &  0.02955880 &  0.54812141 &  1.42069579 &  2.20055237 &  1.61740608 &  2.14593128 &  3.66356165 &  2.30657711 &  1.85316810\\\\\n",
       "\t1993 &  1.37118072 &  1.48839958 &  1.74571553 &  1.01884732 &  1.58309394 &  1.79342475 &  1.11514159 &  1.08518927 &  1.36353737 &  3.85014760 &  1.38879124 &  0.93216408\\\\\n",
       "\t1994 &  1.63119940 &  1.32441896 &  1.75267208 &  1.30291275 &  0.77010822 &  0.89199804 &  2.87412945 &  1.42551507 &  1.76814960 &  3.87120101 &  1.18478998 &  0.46373402\\\\\n",
       "\t1995 &  1.21194097 &  1.90805992 &  0.97832612 &  1.09861229 &  0.75141609 &  1.37876609 & -0.56211892 &  1.76130026 &  0.92425890 &  3.29583687 &  2.00148000 &  1.27256560\\\\\n",
       "\t1996 &  2.11142459 &  1.34025042 &  1.85941812 &  1.06815308 &  0.75141609 &  0.53062825 &  0.76080583 &  1.53901545 &  1.46325540 &  2.56494936 &  1.16938136 &  1.42069579\\\\\n",
       "\t1997 &  1.73165555 &  2.07065304 &  0.77932488 &  1.45395301 &  1.21194097 &  1.36353737 &  1.54968791 &  0.27763174 &  1.57484647 &  3.91202301 &  1.20597081 &  1.61938824\\\\\n",
       "\t1998 &  1.76301700 &  1.96009478 &  1.83258146 &  1.63315444 &  0.20701417 &  1.27536280 &  1.07500242 &  1.71199450 &  1.49290410 &  1.79175947 &  0.67803354 &  0.64185389\\\\\n",
       "\t1999 &  1.67335124 &  0.67803354 &  1.19996478 &  0.13102826 &  1.48613970 &  1.76301700 &  1.23256026 &  0.23111172 &  1.43270073 &  3.46573590 &  1.20597081 &  0.79299252\\\\\n",
       "\t2000 &  1.58719230 &  0.23111172 &  1.28923265 &  0.96698385 &  0.62057649 &  0.10436002 &  0.99325177 &  1.39376638 &  1.59533899 &  2.48490665 &  1.61342993 &  0.96317432\\\\\n",
       "\t2001 &  1.01884732 &  1.28370777 &  2.20607419 &  1.19088756 &  1.19694819 &  1.90061387 &  0.93216408 &  0.02955880 &  0.78390154 &  2.39789527 & -0.13926207 &  0.79750720\\\\\n",
       "\t2002 &  1.67709656 &  0.93216408 &  1.70292826 &  0.60431597 &  1.25846099 &  1.03318448 &  0.95165788 & -0.26136476 &  1.85473427 &  4.02535169 &  1.67896398 &  1.65441128\\\\\n",
       "\t2003 &  0.69314718 &  1.25561604 &  1.95727391 &  1.23547147 &  2.29656702 &  1.99333884 &  1.67709656 &  1.24703229 &  0.88376754 &  2.83321334 &  1.42791604 &  0.98954119\\\\\n",
       "\t2004 &  1.04380405 &  1.52605630 &  0.03922071 &  1.02961942 &  0.94778940 &  1.79009141 &  0.78845736 &  1.28923265 &  2.61373952 &  3.40119738 &  1.98237983 &  1.57277393\\\\\n",
       "\t2005 &  0.94390590 &  1.71918878 &  2.01356880 &  1.47247206 &  0.68309684 &  1.06815308 &  2.68307422 &  2.11384297 & -2.65926004 &  3.25809654 &  1.06815308 &  1.30019166\\\\\n",
       "\t2006 &  1.62924054 &  1.70474809 &  1.07500242 &  0.90825856 &  1.05082162 &  1.75785792 &  0.27002714 &  2.15871472 &  1.19694819 &  3.73766962 &  1.47932923 &  1.12492960\\\\\n",
       "\t2007 &  1.37371558 &  0.96698385 &  0.27002714 &  0.58221562 &  0.71783979 &  1.29746315 &  0.61518564 &  1.24703229 &  1.07158362 &  3.49650756 & -0.04082199 &  1.56444055\\\\\n",
       "\t2008 &  1.04731899 &  1.52822786 &  1.64287269 &  1.16938136 &  1.02961942 & -0.54472718 &  1.96990565 &  1.32707500 & -0.28768207 &  3.78418963 &  0.97077892 &  1.47932923\\\\\n",
       "\t2009 &  1.05779029 &  1.30833282 &  1.96431123 &  1.64480506 &  1.51292701 &  0.85015093 &  1.61342993 &  1.81482474 &  2.19053559 &  4.11087386 &  1.74919985 &  2.20827441\\\\\n",
       "\t2010 &  1.68268837 &  1.42791604 &  1.44456327 &  0.94000726 &  1.92716411 &  1.65057986 &  1.47476301 &  1.19996478 &  0.47000363 &  3.76120012 &  1.70110510 &  0.48242615\\\\\n",
       "\t2011 &  0.96698385 &  1.44691898 &  2.20386912 &  1.11841492 &  1.07500242 &  0.78845736 &  0.98207847 &  0.41210965 &  0.83290912 &  3.09104245 &  0.91228271 &  1.48839958\\\\\n",
       "\t2012 &  1.63705308 &  0.80200159 &  1.25846099 &  0.80200159 &  1.22671229 &  0.82417544 &  1.26129787 &  1.35840916 &  0.31481074 &  3.17805383 &  0.51282363 &  1.78002421\\\\\n",
       "\t2013 &  1.58923521 &  2.01490302 &  1.52169900 &  1.70656462 &  1.66013103 &  2.25863321 &  2.13771045 &  1.65632150 &  1.00795792 &  3.58351894 &  0.62593843 &  2.05412373\\\\\n",
       "\t2014 &  1.20896035 &  1.33762919 &  1.13783300 &  1.77495235 &  0.82855182 &  1.62924054 &  1.52605630 &  1.75785792 & -0.28768207 &  3.80666249 &  1.34807315 &  1.70656462\\\\\n",
       "\t2015 &  1.47247206 &  1.42310833 &  1.09192330 &  2.05284086 &  1.49065438 &  1.93296964 &  1.61143592 &  1.75267208 &  1.36863943 &  3.55534806 &  2.07693841 &  2.52652832\\\\\n",
       "\\end{tabular}\n"
      ],
      "text/markdown": [
       "\n",
       "A Time Series: 60 × 12\n",
       "\n",
       "| <!--/--> | Jan | Feb | Mar | Apr | May | Jun | Jul | Aug | Sep | Oct | Nov | Dec |\n",
       "|---|---|---|---|---|---|---|---|---|---|---|---|---|\n",
       "| 1956 |  0.63127178 |  1.88251383 |  1.78002421 |  1.64480506 |  0.95551145 |  0.79299252 |  1.98237983 |  0.09531018 |  1.82293509 |  3.33220451 |  0.43825493 |  1.13783300 |\n",
       "| 1957 |  1.67709656 |  0.64710324 |  1.54543258 |  1.79840401 |  1.22377543 |  1.11841492 |  1.15057203 |  1.25846099 |  1.66770682 |  3.61091791 |  1.90210753 |  1.11514159 |\n",
       "| 1958 |  1.35583515 |  1.77664583 |  1.64673370 |  1.50407740 |  1.41342303 |  1.40854497 |  2.18041746 |  1.26976054 |  1.14422280 |  3.04452244 |  0.76080583 |  0.94778940 |\n",
       "| 1959 |  1.21787571 |  1.28370777 |  1.88858365 |  1.04027671 |  1.67709656 |  0.40546511 |  1.18478998 |  0.35065687 |  1.24126859 |  4.07753744 |  0.30010459 |  0.83724752 |\n",
       "| 1960 |  2.31845844 |  1.66203036 |  1.66013103 |  1.52388002 | -0.04082199 |  0.23111172 |  0.81093022 |  1.72276660 |  1.57691472 |  3.58351894 | -0.11653382 |  0.90016135 |\n",
       "| 1961 |  0.55388511 |  2.54709867 |  1.99197552 |  1.61143592 |  1.15688120 |  1.99877364 |  0.78390154 |  1.59736533 |  0.51879379 |  0.69314718 |  0.87129337 |  2.29455292 |\n",
       "| 1962 |  1.65632150 |  1.62727783 |  1.90508815 |  1.78507048 | -0.96758403 |  1.47932923 |  1.65822808 |  0.19062036 |  1.25561604 |  2.89037176 |  1.82293509 |  0.85015093 |\n",
       "| 1963 |  1.62924054 |  1.17557333 |  1.77833645 |  1.76644166 |  1.53901545 |  1.89911799 |  2.09433015 | -0.12783337 |  1.64673370 |  1.50407740 |  1.33762919 |  1.76814960 |\n",
       "| 1964 |  1.79342475 |  1.42791604 |  2.25234388 |  2.16102153 |  0.95165788 |  1.05779029 |  1.96571278 |  1.41098697 |  0.32208350 |  3.97029191 |  1.13462273 |  1.59533899 |\n",
       "| 1965 |  1.31908561 |  1.46093790 |  1.78170913 |  1.13140211 |  0.92028275 |  1.96711236 |  1.52388002 |  0.42526774 |  1.10525683 |  3.43398720 |  0.84156719 |  0.53062825 |\n",
       "| 1966 |  1.78170913 |  1.95160817 |  1.39128190 |  1.43270073 |  1.76473080 |  1.08180517 |  1.19996478 |  1.37118072 |  0.76546784 |  4.09434456 |  1.57277393 |  1.52605630 |\n",
       "| 1967 |  1.57897870 |  1.32175584 |  1.28923265 |  1.03318448 |  1.59938758 |  1.11841492 |  1.86562932 |  2.16217294 |  0.64185389 |  3.52636052 |  1.70837786 |  1.90359895 |\n",
       "| 1968 |  1.40364300 |  0.33647224 |  1.51292701 |  1.84530024 |  1.85941812 |  0.97455964 |  1.67522565 |  1.41827741 |  0.25464222 |  3.68887945 |  1.57069708 |  1.58719230 |\n",
       "| 1969 |  1.04731899 |  1.16315081 |  1.38629436 |  1.74046617 |  2.03861955 |  0.00000000 |  0.97077892 |  1.81156210 |  1.31908561 |  2.89037176 |  0.98207847 |  1.18478998 |\n",
       "| 1970 |  1.08180517 |  1.09527339 |  1.93730177 |  1.17557333 |  1.10194008 |  0.96317432 |  1.27815220 |  1.18172720 |  0.59883650 |  4.06044301 |  0.62057649 |  1.30291275 |\n",
       "| 1971 |  1.48160454 |  1.75267208 |  2.15755932 |  1.40854497 |  0.75141609 |  1.20297230 |  2.10657021 |  1.01523068 |  1.19996478 |  1.94591015 |  1.22964055 |  1.02604160 |\n",
       "| 1972 |  2.22570405 |  1.15057203 |  1.50185270 |  0.83724752 |  1.45395301 |  1.39624469 |  1.33762919 |  1.02245093 |  0.62057649 |  3.73766962 |  1.37624403 |  2.03077637 |\n",
       "| 1973 |  2.18492705 |  1.23547147 |  2.25444472 |  1.39376638 |  1.96571278 |  1.20896035 |  0.74193734 |  0.30010459 |  1.42551507 |  2.30258509 |  0.83724752 |  2.09309787 |\n",
       "| 1974 |  1.67896398 |  1.85159947 |  0.89199804 |  1.31372367 |  1.34286480 |  1.16315081 |  1.53471437 |  1.83418019 |  0.05826891 |  2.70805020 |  1.35840916 |  1.66959184 |\n",
       "| 1975 |  1.82293509 |  2.19499988 |  2.11745961 |  1.45395301 |  1.53039471 |  1.70837786 |  2.14241634 |  1.19392247 |  1.09527339 |  3.95124372 |  1.53039471 |  1.21194097 |\n",
       "| 1976 |  1.63899671 |  0.60976557 |  2.39333946 |  0.39877612 |  1.94448056 |  0.85866162 |  1.45628673 | -0.69314718 | -0.32850407 |  3.82864140 |  1.41342303 |  1.38879124 |\n",
       "| 1977 |  1.24990174 |  0.76080583 |  1.83736998 |  0.57097955 |  0.71294981 |  1.10856262 |  1.44926916 |  1.44220199 |  1.58923521 |  3.89182030 |  1.97129938 |  0.85866162 |\n",
       "| 1978 |  1.95018671 | -0.26136476 |  0.96698385 |  1.24990174 |  1.98513086 |  1.05082162 |  0.94000726 |  1.73342389 | -0.06187540 |  2.77258872 |  1.08518927 |  1.32175584 |\n",
       "| 1979 |  1.61541998 |  1.74221902 |  1.16002092 |  2.47317139 |  0.88789126 |  0.37843644 |  1.28647403 |  1.98513086 |  1.80500470 |  3.36729583 |  1.64673370 | -0.37106368 |\n",
       "| 1980 |  1.73871025 |  0.98954119 |  2.45616418 |  0.63127178 |  2.12465388 |  1.50185270 | -0.27443685 |  0.46373402 |  1.56234630 |  2.99573227 |  0.76080583 |  0.25464222 |\n",
       "| 1981 | -0.17435339 |  1.89009537 |  1.36863943 |  0.72270598 |  1.35840916 |  0.98954119 |  1.00795792 |  1.01523068 |  1.66203036 |  3.71357207 |  0.61518564 |  1.83258146 |\n",
       "| 1982 |  1.55814462 |  1.94448056 |  1.33236602 |  1.79508726 |  0.95551145 |  1.80664808 |  1.84213568 |  0.37156356 |  1.09861229 |  4.00733319 |  1.42310833 |  1.65441128 |\n",
       "| 1983 |  1.12817109 |  1.60743591 |  1.89911799 |  1.56653041 |  0.35065687 |  0.41871033 |  0.61518564 |  0.05826891 |  2.01756614 |  3.21887582 |  2.00955541 |  2.22678338 |\n",
       "| 1984 |  1.53901545 |  1.78674693 |  1.76301700 |  1.89009537 |  1.88251383 | -0.30110509 |  2.41680624 |  1.86562932 | -3.21887582 |  2.94443898 |  0.74193734 |  1.29472717 |\n",
       "| 1985 |  1.41342303 |  1.60542989 |  0.62057649 |  1.01160091 |  1.54543258 |  0.71294981 |  2.29455292 |  1.51951320 |  0.96698385 |  3.98898405 |  1.44220199 |  0.82417544 |\n",
       "| 1986 | -0.12783337 |  0.90016135 |  1.41827741 | -0.71334989 |  1.08180517 |  0.77932488 |  1.18478998 |  1.80500470 |  1.30291275 |  3.93182563 |  1.82454929 |  1.10856262 |\n",
       "| 1987 |  1.72810944 |  1.81319475 |  1.69377906 |  0.14842001 |  1.00795792 |  1.85002838 |  1.99470031 |  0.19885086 |  1.10525683 |  2.19722458 |  0.85866162 |  1.41827741 |\n",
       "| 1988 |  1.53471437 |  1.19996478 |  0.94390590 |  1.80170980 |  0.53649337 | -1.83258146 |  1.61740608 |  1.59330853 |  1.84845481 |  3.89182030 |  1.58309394 |  0.19062036 |\n",
       "| 1989 |  0.94390590 |  1.45861502 |  1.34807315 |  1.65632150 |  1.85941812 |  2.23430625 |  2.03470565 |  0.75612198 |  2.45444744 |  3.13549422 |  1.37876609 |  1.50185270 |\n",
       "| 1990 |  2.13653051 |  2.27726729 |  2.12345843 |  1.01523068 |  1.66013103 |  0.32930375 |  1.24990174 |  1.53471437 |  1.10194008 |  4.04305127 |  0.23901690 |  1.11185752 |\n",
       "| 1991 |  1.53901545 |  1.13140211 |  1.94304892 |  1.66392610 |  1.99470031 |  2.30158459 |  1.76130026 |  1.47476301 |  0.70803579 |  2.07944154 |  1.16002092 |  0.98954119 |\n",
       "| 1992 |  1.27536280 |  1.37118072 |  1.33762919 |  0.02955880 |  0.54812141 |  1.42069579 |  2.20055237 |  1.61740608 |  2.14593128 |  3.66356165 |  2.30657711 |  1.85316810 |\n",
       "| 1993 |  1.37118072 |  1.48839958 |  1.74571553 |  1.01884732 |  1.58309394 |  1.79342475 |  1.11514159 |  1.08518927 |  1.36353737 |  3.85014760 |  1.38879124 |  0.93216408 |\n",
       "| 1994 |  1.63119940 |  1.32441896 |  1.75267208 |  1.30291275 |  0.77010822 |  0.89199804 |  2.87412945 |  1.42551507 |  1.76814960 |  3.87120101 |  1.18478998 |  0.46373402 |\n",
       "| 1995 |  1.21194097 |  1.90805992 |  0.97832612 |  1.09861229 |  0.75141609 |  1.37876609 | -0.56211892 |  1.76130026 |  0.92425890 |  3.29583687 |  2.00148000 |  1.27256560 |\n",
       "| 1996 |  2.11142459 |  1.34025042 |  1.85941812 |  1.06815308 |  0.75141609 |  0.53062825 |  0.76080583 |  1.53901545 |  1.46325540 |  2.56494936 |  1.16938136 |  1.42069579 |\n",
       "| 1997 |  1.73165555 |  2.07065304 |  0.77932488 |  1.45395301 |  1.21194097 |  1.36353737 |  1.54968791 |  0.27763174 |  1.57484647 |  3.91202301 |  1.20597081 |  1.61938824 |\n",
       "| 1998 |  1.76301700 |  1.96009478 |  1.83258146 |  1.63315444 |  0.20701417 |  1.27536280 |  1.07500242 |  1.71199450 |  1.49290410 |  1.79175947 |  0.67803354 |  0.64185389 |\n",
       "| 1999 |  1.67335124 |  0.67803354 |  1.19996478 |  0.13102826 |  1.48613970 |  1.76301700 |  1.23256026 |  0.23111172 |  1.43270073 |  3.46573590 |  1.20597081 |  0.79299252 |\n",
       "| 2000 |  1.58719230 |  0.23111172 |  1.28923265 |  0.96698385 |  0.62057649 |  0.10436002 |  0.99325177 |  1.39376638 |  1.59533899 |  2.48490665 |  1.61342993 |  0.96317432 |\n",
       "| 2001 |  1.01884732 |  1.28370777 |  2.20607419 |  1.19088756 |  1.19694819 |  1.90061387 |  0.93216408 |  0.02955880 |  0.78390154 |  2.39789527 | -0.13926207 |  0.79750720 |\n",
       "| 2002 |  1.67709656 |  0.93216408 |  1.70292826 |  0.60431597 |  1.25846099 |  1.03318448 |  0.95165788 | -0.26136476 |  1.85473427 |  4.02535169 |  1.67896398 |  1.65441128 |\n",
       "| 2003 |  0.69314718 |  1.25561604 |  1.95727391 |  1.23547147 |  2.29656702 |  1.99333884 |  1.67709656 |  1.24703229 |  0.88376754 |  2.83321334 |  1.42791604 |  0.98954119 |\n",
       "| 2004 |  1.04380405 |  1.52605630 |  0.03922071 |  1.02961942 |  0.94778940 |  1.79009141 |  0.78845736 |  1.28923265 |  2.61373952 |  3.40119738 |  1.98237983 |  1.57277393 |\n",
       "| 2005 |  0.94390590 |  1.71918878 |  2.01356880 |  1.47247206 |  0.68309684 |  1.06815308 |  2.68307422 |  2.11384297 | -2.65926004 |  3.25809654 |  1.06815308 |  1.30019166 |\n",
       "| 2006 |  1.62924054 |  1.70474809 |  1.07500242 |  0.90825856 |  1.05082162 |  1.75785792 |  0.27002714 |  2.15871472 |  1.19694819 |  3.73766962 |  1.47932923 |  1.12492960 |\n",
       "| 2007 |  1.37371558 |  0.96698385 |  0.27002714 |  0.58221562 |  0.71783979 |  1.29746315 |  0.61518564 |  1.24703229 |  1.07158362 |  3.49650756 | -0.04082199 |  1.56444055 |\n",
       "| 2008 |  1.04731899 |  1.52822786 |  1.64287269 |  1.16938136 |  1.02961942 | -0.54472718 |  1.96990565 |  1.32707500 | -0.28768207 |  3.78418963 |  0.97077892 |  1.47932923 |\n",
       "| 2009 |  1.05779029 |  1.30833282 |  1.96431123 |  1.64480506 |  1.51292701 |  0.85015093 |  1.61342993 |  1.81482474 |  2.19053559 |  4.11087386 |  1.74919985 |  2.20827441 |\n",
       "| 2010 |  1.68268837 |  1.42791604 |  1.44456327 |  0.94000726 |  1.92716411 |  1.65057986 |  1.47476301 |  1.19996478 |  0.47000363 |  3.76120012 |  1.70110510 |  0.48242615 |\n",
       "| 2011 |  0.96698385 |  1.44691898 |  2.20386912 |  1.11841492 |  1.07500242 |  0.78845736 |  0.98207847 |  0.41210965 |  0.83290912 |  3.09104245 |  0.91228271 |  1.48839958 |\n",
       "| 2012 |  1.63705308 |  0.80200159 |  1.25846099 |  0.80200159 |  1.22671229 |  0.82417544 |  1.26129787 |  1.35840916 |  0.31481074 |  3.17805383 |  0.51282363 |  1.78002421 |\n",
       "| 2013 |  1.58923521 |  2.01490302 |  1.52169900 |  1.70656462 |  1.66013103 |  2.25863321 |  2.13771045 |  1.65632150 |  1.00795792 |  3.58351894 |  0.62593843 |  2.05412373 |\n",
       "| 2014 |  1.20896035 |  1.33762919 |  1.13783300 |  1.77495235 |  0.82855182 |  1.62924054 |  1.52605630 |  1.75785792 | -0.28768207 |  3.80666249 |  1.34807315 |  1.70656462 |\n",
       "| 2015 |  1.47247206 |  1.42310833 |  1.09192330 |  2.05284086 |  1.49065438 |  1.93296964 |  1.61143592 |  1.75267208 |  1.36863943 |  3.55534806 |  2.07693841 |  2.52652832 |\n",
       "\n"
      ],
      "text/plain": [
       "     Jan         Feb         Mar         Apr         May         Jun        \n",
       "1956  0.63127178  1.88251383  1.78002421  1.64480506  0.95551145  0.79299252\n",
       "1957  1.67709656  0.64710324  1.54543258  1.79840401  1.22377543  1.11841492\n",
       "1958  1.35583515  1.77664583  1.64673370  1.50407740  1.41342303  1.40854497\n",
       "1959  1.21787571  1.28370777  1.88858365  1.04027671  1.67709656  0.40546511\n",
       "1960  2.31845844  1.66203036  1.66013103  1.52388002 -0.04082199  0.23111172\n",
       "1961  0.55388511  2.54709867  1.99197552  1.61143592  1.15688120  1.99877364\n",
       "1962  1.65632150  1.62727783  1.90508815  1.78507048 -0.96758403  1.47932923\n",
       "1963  1.62924054  1.17557333  1.77833645  1.76644166  1.53901545  1.89911799\n",
       "1964  1.79342475  1.42791604  2.25234388  2.16102153  0.95165788  1.05779029\n",
       "1965  1.31908561  1.46093790  1.78170913  1.13140211  0.92028275  1.96711236\n",
       "1966  1.78170913  1.95160817  1.39128190  1.43270073  1.76473080  1.08180517\n",
       "1967  1.57897870  1.32175584  1.28923265  1.03318448  1.59938758  1.11841492\n",
       "1968  1.40364300  0.33647224  1.51292701  1.84530024  1.85941812  0.97455964\n",
       "1969  1.04731899  1.16315081  1.38629436  1.74046617  2.03861955  0.00000000\n",
       "1970  1.08180517  1.09527339  1.93730177  1.17557333  1.10194008  0.96317432\n",
       "1971  1.48160454  1.75267208  2.15755932  1.40854497  0.75141609  1.20297230\n",
       "1972  2.22570405  1.15057203  1.50185270  0.83724752  1.45395301  1.39624469\n",
       "1973  2.18492705  1.23547147  2.25444472  1.39376638  1.96571278  1.20896035\n",
       "1974  1.67896398  1.85159947  0.89199804  1.31372367  1.34286480  1.16315081\n",
       "1975  1.82293509  2.19499988  2.11745961  1.45395301  1.53039471  1.70837786\n",
       "1976  1.63899671  0.60976557  2.39333946  0.39877612  1.94448056  0.85866162\n",
       "1977  1.24990174  0.76080583  1.83736998  0.57097955  0.71294981  1.10856262\n",
       "1978  1.95018671 -0.26136476  0.96698385  1.24990174  1.98513086  1.05082162\n",
       "1979  1.61541998  1.74221902  1.16002092  2.47317139  0.88789126  0.37843644\n",
       "1980  1.73871025  0.98954119  2.45616418  0.63127178  2.12465388  1.50185270\n",
       "1981 -0.17435339  1.89009537  1.36863943  0.72270598  1.35840916  0.98954119\n",
       "1982  1.55814462  1.94448056  1.33236602  1.79508726  0.95551145  1.80664808\n",
       "1983  1.12817109  1.60743591  1.89911799  1.56653041  0.35065687  0.41871033\n",
       "1984  1.53901545  1.78674693  1.76301700  1.89009537  1.88251383 -0.30110509\n",
       "1985  1.41342303  1.60542989  0.62057649  1.01160091  1.54543258  0.71294981\n",
       "1986 -0.12783337  0.90016135  1.41827741 -0.71334989  1.08180517  0.77932488\n",
       "1987  1.72810944  1.81319475  1.69377906  0.14842001  1.00795792  1.85002838\n",
       "1988  1.53471437  1.19996478  0.94390590  1.80170980  0.53649337 -1.83258146\n",
       "1989  0.94390590  1.45861502  1.34807315  1.65632150  1.85941812  2.23430625\n",
       "1990  2.13653051  2.27726729  2.12345843  1.01523068  1.66013103  0.32930375\n",
       "1991  1.53901545  1.13140211  1.94304892  1.66392610  1.99470031  2.30158459\n",
       "1992  1.27536280  1.37118072  1.33762919  0.02955880  0.54812141  1.42069579\n",
       "1993  1.37118072  1.48839958  1.74571553  1.01884732  1.58309394  1.79342475\n",
       "1994  1.63119940  1.32441896  1.75267208  1.30291275  0.77010822  0.89199804\n",
       "1995  1.21194097  1.90805992  0.97832612  1.09861229  0.75141609  1.37876609\n",
       "1996  2.11142459  1.34025042  1.85941812  1.06815308  0.75141609  0.53062825\n",
       "1997  1.73165555  2.07065304  0.77932488  1.45395301  1.21194097  1.36353737\n",
       "1998  1.76301700  1.96009478  1.83258146  1.63315444  0.20701417  1.27536280\n",
       "1999  1.67335124  0.67803354  1.19996478  0.13102826  1.48613970  1.76301700\n",
       "2000  1.58719230  0.23111172  1.28923265  0.96698385  0.62057649  0.10436002\n",
       "2001  1.01884732  1.28370777  2.20607419  1.19088756  1.19694819  1.90061387\n",
       "2002  1.67709656  0.93216408  1.70292826  0.60431597  1.25846099  1.03318448\n",
       "2003  0.69314718  1.25561604  1.95727391  1.23547147  2.29656702  1.99333884\n",
       "2004  1.04380405  1.52605630  0.03922071  1.02961942  0.94778940  1.79009141\n",
       "2005  0.94390590  1.71918878  2.01356880  1.47247206  0.68309684  1.06815308\n",
       "2006  1.62924054  1.70474809  1.07500242  0.90825856  1.05082162  1.75785792\n",
       "2007  1.37371558  0.96698385  0.27002714  0.58221562  0.71783979  1.29746315\n",
       "2008  1.04731899  1.52822786  1.64287269  1.16938136  1.02961942 -0.54472718\n",
       "2009  1.05779029  1.30833282  1.96431123  1.64480506  1.51292701  0.85015093\n",
       "2010  1.68268837  1.42791604  1.44456327  0.94000726  1.92716411  1.65057986\n",
       "2011  0.96698385  1.44691898  2.20386912  1.11841492  1.07500242  0.78845736\n",
       "2012  1.63705308  0.80200159  1.25846099  0.80200159  1.22671229  0.82417544\n",
       "2013  1.58923521  2.01490302  1.52169900  1.70656462  1.66013103  2.25863321\n",
       "2014  1.20896035  1.33762919  1.13783300  1.77495235  0.82855182  1.62924054\n",
       "2015  1.47247206  1.42310833  1.09192330  2.05284086  1.49065438  1.93296964\n",
       "     Jul         Aug         Sep         Oct         Nov         Dec        \n",
       "1956  1.98237983  0.09531018  1.82293509  3.33220451  0.43825493  1.13783300\n",
       "1957  1.15057203  1.25846099  1.66770682  3.61091791  1.90210753  1.11514159\n",
       "1958  2.18041746  1.26976054  1.14422280  3.04452244  0.76080583  0.94778940\n",
       "1959  1.18478998  0.35065687  1.24126859  4.07753744  0.30010459  0.83724752\n",
       "1960  0.81093022  1.72276660  1.57691472  3.58351894 -0.11653382  0.90016135\n",
       "1961  0.78390154  1.59736533  0.51879379  0.69314718  0.87129337  2.29455292\n",
       "1962  1.65822808  0.19062036  1.25561604  2.89037176  1.82293509  0.85015093\n",
       "1963  2.09433015 -0.12783337  1.64673370  1.50407740  1.33762919  1.76814960\n",
       "1964  1.96571278  1.41098697  0.32208350  3.97029191  1.13462273  1.59533899\n",
       "1965  1.52388002  0.42526774  1.10525683  3.43398720  0.84156719  0.53062825\n",
       "1966  1.19996478  1.37118072  0.76546784  4.09434456  1.57277393  1.52605630\n",
       "1967  1.86562932  2.16217294  0.64185389  3.52636052  1.70837786  1.90359895\n",
       "1968  1.67522565  1.41827741  0.25464222  3.68887945  1.57069708  1.58719230\n",
       "1969  0.97077892  1.81156210  1.31908561  2.89037176  0.98207847  1.18478998\n",
       "1970  1.27815220  1.18172720  0.59883650  4.06044301  0.62057649  1.30291275\n",
       "1971  2.10657021  1.01523068  1.19996478  1.94591015  1.22964055  1.02604160\n",
       "1972  1.33762919  1.02245093  0.62057649  3.73766962  1.37624403  2.03077637\n",
       "1973  0.74193734  0.30010459  1.42551507  2.30258509  0.83724752  2.09309787\n",
       "1974  1.53471437  1.83418019  0.05826891  2.70805020  1.35840916  1.66959184\n",
       "1975  2.14241634  1.19392247  1.09527339  3.95124372  1.53039471  1.21194097\n",
       "1976  1.45628673 -0.69314718 -0.32850407  3.82864140  1.41342303  1.38879124\n",
       "1977  1.44926916  1.44220199  1.58923521  3.89182030  1.97129938  0.85866162\n",
       "1978  0.94000726  1.73342389 -0.06187540  2.77258872  1.08518927  1.32175584\n",
       "1979  1.28647403  1.98513086  1.80500470  3.36729583  1.64673370 -0.37106368\n",
       "1980 -0.27443685  0.46373402  1.56234630  2.99573227  0.76080583  0.25464222\n",
       "1981  1.00795792  1.01523068  1.66203036  3.71357207  0.61518564  1.83258146\n",
       "1982  1.84213568  0.37156356  1.09861229  4.00733319  1.42310833  1.65441128\n",
       "1983  0.61518564  0.05826891  2.01756614  3.21887582  2.00955541  2.22678338\n",
       "1984  2.41680624  1.86562932 -3.21887582  2.94443898  0.74193734  1.29472717\n",
       "1985  2.29455292  1.51951320  0.96698385  3.98898405  1.44220199  0.82417544\n",
       "1986  1.18478998  1.80500470  1.30291275  3.93182563  1.82454929  1.10856262\n",
       "1987  1.99470031  0.19885086  1.10525683  2.19722458  0.85866162  1.41827741\n",
       "1988  1.61740608  1.59330853  1.84845481  3.89182030  1.58309394  0.19062036\n",
       "1989  2.03470565  0.75612198  2.45444744  3.13549422  1.37876609  1.50185270\n",
       "1990  1.24990174  1.53471437  1.10194008  4.04305127  0.23901690  1.11185752\n",
       "1991  1.76130026  1.47476301  0.70803579  2.07944154  1.16002092  0.98954119\n",
       "1992  2.20055237  1.61740608  2.14593128  3.66356165  2.30657711  1.85316810\n",
       "1993  1.11514159  1.08518927  1.36353737  3.85014760  1.38879124  0.93216408\n",
       "1994  2.87412945  1.42551507  1.76814960  3.87120101  1.18478998  0.46373402\n",
       "1995 -0.56211892  1.76130026  0.92425890  3.29583687  2.00148000  1.27256560\n",
       "1996  0.76080583  1.53901545  1.46325540  2.56494936  1.16938136  1.42069579\n",
       "1997  1.54968791  0.27763174  1.57484647  3.91202301  1.20597081  1.61938824\n",
       "1998  1.07500242  1.71199450  1.49290410  1.79175947  0.67803354  0.64185389\n",
       "1999  1.23256026  0.23111172  1.43270073  3.46573590  1.20597081  0.79299252\n",
       "2000  0.99325177  1.39376638  1.59533899  2.48490665  1.61342993  0.96317432\n",
       "2001  0.93216408  0.02955880  0.78390154  2.39789527 -0.13926207  0.79750720\n",
       "2002  0.95165788 -0.26136476  1.85473427  4.02535169  1.67896398  1.65441128\n",
       "2003  1.67709656  1.24703229  0.88376754  2.83321334  1.42791604  0.98954119\n",
       "2004  0.78845736  1.28923265  2.61373952  3.40119738  1.98237983  1.57277393\n",
       "2005  2.68307422  2.11384297 -2.65926004  3.25809654  1.06815308  1.30019166\n",
       "2006  0.27002714  2.15871472  1.19694819  3.73766962  1.47932923  1.12492960\n",
       "2007  0.61518564  1.24703229  1.07158362  3.49650756 -0.04082199  1.56444055\n",
       "2008  1.96990565  1.32707500 -0.28768207  3.78418963  0.97077892  1.47932923\n",
       "2009  1.61342993  1.81482474  2.19053559  4.11087386  1.74919985  2.20827441\n",
       "2010  1.47476301  1.19996478  0.47000363  3.76120012  1.70110510  0.48242615\n",
       "2011  0.98207847  0.41210965  0.83290912  3.09104245  0.91228271  1.48839958\n",
       "2012  1.26129787  1.35840916  0.31481074  3.17805383  0.51282363  1.78002421\n",
       "2013  2.13771045  1.65632150  1.00795792  3.58351894  0.62593843  2.05412373\n",
       "2014  1.52605630  1.75785792 -0.28768207  3.80666249  1.34807315  1.70656462\n",
       "2015  1.61143592  1.75267208  1.36863943  3.55534806  2.07693841  2.52652832"
      ]
     },
     "metadata": {},
     "output_type": "display_data"
    }
   ],
   "source": [
    "ts_rain"
   ]
  },
  {
   "cell_type": "code",
   "execution_count": 24,
   "metadata": {
    "scrolled": false
   },
   "outputs": [
    {
     "name": "stderr",
     "output_type": "stream",
     "text": [
      "Warning message in log(s2):\n",
      "\"NaNs produced\"Warning message in log(s2):\n",
      "\"NaNs produced\"Warning message in log(s2):\n",
      "\"NaNs produced\"Warning message in log(s2):\n",
      "\"NaNs produced\"Warning message in stats::arima(x = x, order = order, seasonal = seasonal, xreg = xreg, :\n",
      "\"possible convergence problem: optim gave code = 1\"Warning message in stats::arima(x = x, order = order, seasonal = seasonal, xreg = xreg, :\n",
      "\"possible convergence problem: optim gave code = 1\"Warning message in stats::arima(x = x, order = order, seasonal = seasonal, xreg = xreg, :\n",
      "\"possible convergence problem: optim gave code = 1\"Warning message in log(s2):\n",
      "\"NaNs produced\"Warning message in log(s2):\n",
      "\"NaNs produced\"Warning message in log(s2):\n",
      "\"NaNs produced\"Warning message in stats::arima(x = x, order = order, seasonal = seasonal, xreg = xreg, :\n",
      "\"possible convergence problem: optim gave code = 1\"Warning message in stats::arima(x = x, order = order, seasonal = seasonal, xreg = xreg, :\n",
      "\"possible convergence problem: optim gave code = 1\"Warning message in stats::arima(x = x, order = order, seasonal = seasonal, xreg = xreg, :\n",
      "\"possible convergence problem: optim gave code = 1\"Warning message in stats::arima(x = x, order = order, seasonal = seasonal, xreg = xreg, :\n",
      "\"possible convergence problem: optim gave code = 1\"Warning message in stats::arima(x = x, order = order, seasonal = seasonal, xreg = xreg, :\n",
      "\"possible convergence problem: optim gave code = 1\"Warning message in stats::arima(x = x, order = order, seasonal = seasonal, xreg = xreg, :\n",
      "\"possible convergence problem: optim gave code = 1\"Warning message in stats::arima(x = x, order = order, seasonal = seasonal, xreg = xreg, :\n",
      "\"possible convergence problem: optim gave code = 1\"Warning message in stats::arima(x = x, order = order, seasonal = seasonal, xreg = xreg, :\n",
      "\"possible convergence problem: optim gave code = 1\"Warning message in stats::arima(x = x, order = order, seasonal = seasonal, xreg = xreg, :\n",
      "\"possible convergence problem: optim gave code = 1\"Warning message in log(s2):\n",
      "\"NaNs produced\"Warning message in log(s2):\n",
      "\"NaNs produced\"Warning message in log(s2):\n",
      "\"NaNs produced\"Warning message in stats::arima(x = x, order = order, seasonal = seasonal, xreg = xreg, :\n",
      "\"possible convergence problem: optim gave code = 1\"Warning message in stats::arima(x = x, order = order, seasonal = seasonal, xreg = xreg, :\n",
      "\"possible convergence problem: optim gave code = 1\"Warning message in stats::arima(x = x, order = order, seasonal = seasonal, xreg = xreg, :\n",
      "\"possible convergence problem: optim gave code = 1\"Warning message in log(s2):\n",
      "\"NaNs produced\"Warning message in log(s2):\n",
      "\"NaNs produced\"Warning message in log(s2):\n",
      "\"NaNs produced\"Warning message in stats::arima(x = x, order = order, seasonal = seasonal, xreg = xreg, :\n",
      "\"possible convergence problem: optim gave code = 1\"Warning message in stats::arima(x = x, order = order, seasonal = seasonal, xreg = xreg, :\n",
      "\"possible convergence problem: optim gave code = 1\"Warning message in log(s2):\n",
      "\"NaNs produced\"Warning message in log(s2):\n",
      "\"NaNs produced\"Warning message in log(s2):\n",
      "\"NaNs produced\"Warning message in stats::arima(x = x, order = order, seasonal = seasonal, xreg = xreg, :\n",
      "\"possible convergence problem: optim gave code = 1\"Warning message in log(s2):\n",
      "\"NaNs produced\"Warning message in log(s2):\n",
      "\"NaNs produced\"Warning message in log(s2):\n",
      "\"NaNs produced\"Warning message in log(s2):\n",
      "\"NaNs produced\"Warning message in stats::arima(x = x, order = order, seasonal = seasonal, xreg = xreg, :\n",
      "\"possible convergence problem: optim gave code = 1\"Warning message in stats::arima(x = x, order = order, seasonal = seasonal, xreg = xreg, :\n",
      "\"possible convergence problem: optim gave code = 1\"Warning message in log(s2):\n",
      "\"NaNs produced\"Warning message in stats::arima(x = x, order = order, seasonal = seasonal, xreg = xreg, :\n",
      "\"possible convergence problem: optim gave code = 1\"Warning message in log(s2):\n",
      "\"NaNs produced\"Warning message in stats::arima(x = x, order = order, seasonal = seasonal, xreg = xreg, :\n",
      "\"possible convergence problem: optim gave code = 1\"Warning message in stats::arima(x = x, order = order, seasonal = seasonal, xreg = xreg, :\n",
      "\"possible convergence problem: optim gave code = 1\"Warning message in log(s2):\n",
      "\"NaNs produced\"Warning message in log(s2):\n",
      "\"NaNs produced\"Warning message in log(s2):\n",
      "\"NaNs produced\"Warning message in log(s2):\n",
      "\"NaNs produced\"Warning message in stats::arima(x = x, order = order, seasonal = seasonal, xreg = xreg, :\n",
      "\"possible convergence problem: optim gave code = 1\"Warning message in stats::arima(x = x, order = order, seasonal = seasonal, xreg = xreg, :\n",
      "\"possible convergence problem: optim gave code = 1\""
     ]
    }
   ],
   "source": [
    "##### ARIMAX model\n",
    "final.aic = Inf\n",
    "final.order = c(0,0,0,0)\n",
    "for (p in 1:6) for (d in 0:1) for (q in 1:6) for(s in 0:1){\n",
    "   current.aic = AIC(arimax(ts_river, order=c(p, d, q), seasonal = list(order=c(0,s,0),\n",
    "   period=12), method=\"ML\",xreg=data.frame(ts_rain,ts_temp)))\n",
    "   if (current.aic < final.aic) {\n",
    "     final.aic = current.aic\n",
    "     final.order = c(p, d, q,s)\n",
    "     \n",
    "   }\n",
    " }\n",
    "# > final.order\n",
    "# [1] 1 0 4 0 "
   ]
  },
  {
   "cell_type": "code",
   "execution_count": 25,
   "metadata": {},
   "outputs": [
    {
     "data": {
      "text/html": [
       "<style>\n",
       ".list-inline {list-style: none; margin:0; padding: 0}\n",
       ".list-inline>li {display: inline-block}\n",
       ".list-inline>li:not(:last-child)::after {content: \"\\00b7\"; padding: 0 .5ex}\n",
       "</style>\n",
       "<ol class=list-inline><li>5</li><li>0</li><li>4</li><li>0</li></ol>\n"
      ],
      "text/latex": [
       "\\begin{enumerate*}\n",
       "\\item 5\n",
       "\\item 0\n",
       "\\item 4\n",
       "\\item 0\n",
       "\\end{enumerate*}\n"
      ],
      "text/markdown": [
       "1. 5\n",
       "2. 0\n",
       "3. 4\n",
       "4. 0\n",
       "\n",
       "\n"
      ],
      "text/plain": [
       "[1] 5 0 4 0"
      ]
     },
     "metadata": {},
     "output_type": "display_data"
    }
   ],
   "source": [
    "final.order"
   ]
  },
  {
   "cell_type": "code",
   "execution_count": 26,
   "metadata": {
    "scrolled": false
   },
   "outputs": [
    {
     "data": {
      "text/plain": [
       "\n",
       "\tBox-Pierce test\n",
       "\n",
       "data:  model.arima2$resid\n",
       "X-squared = 0.52726, df = 1, p-value = 0.4678\n"
      ]
     },
     "metadata": {},
     "output_type": "display_data"
    },
    {
     "data": {
      "text/plain": [
       "\n",
       "\tBox-Ljung test\n",
       "\n",
       "data:  model.arima2$resid\n",
       "X-squared = 0.53264, df = 1, p-value = 0.4655\n"
      ]
     },
     "metadata": {},
     "output_type": "display_data"
    },
    {
     "data": {
      "image/png": "[encoded data removed]",
      "text/plain": [
       "Plot with title \"Normal Q-Q Plot\""
      ]
     },
     "metadata": {},
     "output_type": "display_data"
    }
   ],
   "source": [
    "model.arima2 = Arima(ts_river, order = c(1,0,4), method=\"ML\",xreg=data.matrix(ts_rain,ts_temp))\n",
    "## Residual analysis\n",
    "par(mfrow=c(2,2))\n",
    "plot(resid(model.arima2), ylab='Residuals',type='o',main=\"Residual Plot\")\n",
    "abline(h=0)\n",
    "acf(resid(model.arima2),main=\"ACF: Residuals\")\n",
    "hist(resid(model.arima2),xlab='Residuals',main='Histogram: Residuals')\n",
    "qqnorm(resid(model.arima2),ylab=\"Sample Q\",xlab=\"Theoretical Q\")\n",
    "qqline(resid(model.arima2))\n",
    "\n",
    "Box.test(model.arima2$resid, lag = (1+4+1), type = \"Box-Pierce\", fitdf = (1+4))\n",
    "Box.test(model.arima2$resid, lag = (1+4+1), type = \"Ljung-Box\", fitdf = (1+4))"
   ]
  },
  {
   "cell_type": "code",
   "execution_count": 27,
   "metadata": {
    "scrolled": false
   },
   "outputs": [
    {
     "data": {
      "text/html": [
       "<table>\n",
       "<caption>A data.frame: 15 × 2</caption>\n",
       "<thead>\n",
       "\t<tr><th scope=col>ts_rain2</th><th scope=col>ts_temp2</th></tr>\n",
       "\t<tr><th scope=col>&lt;ts&gt;</th><th scope=col>&lt;ts&gt;</th></tr>\n",
       "</thead>\n",
       "<tbody>\n",
       "\t<tr><td>1.6370531</td><td>3.747148</td></tr>\n",
       "\t<tr><td>2.0001277</td><td>3.881564</td></tr>\n",
       "\t<tr><td>0.7929925</td><td>4.102643</td></tr>\n",
       "\t<tr><td>1.1474025</td><td>4.160444</td></tr>\n",
       "\t<tr><td>0.2231436</td><td>4.264087</td></tr>\n",
       "\t<tr><td>1.1817272</td><td>4.394449</td></tr>\n",
       "\t<tr><td>1.2974631</td><td>4.423648</td></tr>\n",
       "\t<tr><td>1.1184149</td><td>4.415220</td></tr>\n",
       "\t<tr><td>1.2325603</td><td>4.366913</td></tr>\n",
       "\t<tr><td>1.3862944</td><td>4.242765</td></tr>\n",
       "\t<tr><td>1.0919233</td><td>4.075841</td></tr>\n",
       "\t<tr><td>1.0986123</td><td>3.889777</td></tr>\n",
       "\t<tr><td>2.1016922</td><td>3.951244</td></tr>\n",
       "\t<tr><td>0.6259384</td><td>4.027136</td></tr>\n",
       "\t<tr><td>0.9858168</td><td>4.055257</td></tr>\n",
       "</tbody>\n",
       "</table>\n"
      ],
      "text/latex": [
       "A data.frame: 15 × 2\n",
       "\\begin{tabular}{ll}\n",
       " ts\\_rain2 & ts\\_temp2\\\\\n",
       " <ts> & <ts>\\\\\n",
       "\\hline\n",
       "\t 1.6370531 & 3.747148\\\\\n",
       "\t 2.0001277 & 3.881564\\\\\n",
       "\t 0.7929925 & 4.102643\\\\\n",
       "\t 1.1474025 & 4.160444\\\\\n",
       "\t 0.2231436 & 4.264087\\\\\n",
       "\t 1.1817272 & 4.394449\\\\\n",
       "\t 1.2974631 & 4.423648\\\\\n",
       "\t 1.1184149 & 4.415220\\\\\n",
       "\t 1.2325603 & 4.366913\\\\\n",
       "\t 1.3862944 & 4.242765\\\\\n",
       "\t 1.0919233 & 4.075841\\\\\n",
       "\t 1.0986123 & 3.889777\\\\\n",
       "\t 2.1016922 & 3.951244\\\\\n",
       "\t 0.6259384 & 4.027136\\\\\n",
       "\t 0.9858168 & 4.055257\\\\\n",
       "\\end{tabular}\n"
      ],
      "text/markdown": [
       "\n",
       "A data.frame: 15 × 2\n",
       "\n",
       "| ts_rain2 &lt;ts&gt; | ts_temp2 &lt;ts&gt; |\n",
       "|---|---|\n",
       "| 1.6370531 | 3.747148 |\n",
       "| 2.0001277 | 3.881564 |\n",
       "| 0.7929925 | 4.102643 |\n",
       "| 1.1474025 | 4.160444 |\n",
       "| 0.2231436 | 4.264087 |\n",
       "| 1.1817272 | 4.394449 |\n",
       "| 1.2974631 | 4.423648 |\n",
       "| 1.1184149 | 4.415220 |\n",
       "| 1.2325603 | 4.366913 |\n",
       "| 1.3862944 | 4.242765 |\n",
       "| 1.0919233 | 4.075841 |\n",
       "| 1.0986123 | 3.889777 |\n",
       "| 2.1016922 | 3.951244 |\n",
       "| 0.6259384 | 4.027136 |\n",
       "| 0.9858168 | 4.055257 |\n",
       "\n"
      ],
      "text/plain": [
       "   ts_rain2  ts_temp2\n",
       "1  1.6370531 3.747148\n",
       "2  2.0001277 3.881564\n",
       "3  0.7929925 4.102643\n",
       "4  1.1474025 4.160444\n",
       "5  0.2231436 4.264087\n",
       "6  1.1817272 4.394449\n",
       "7  1.2974631 4.423648\n",
       "8  1.1184149 4.415220\n",
       "9  1.2325603 4.366913\n",
       "10 1.3862944 4.242765\n",
       "11 1.0919233 4.075841\n",
       "12 1.0986123 3.889777\n",
       "13 2.1016922 3.951244\n",
       "14 0.6259384 4.027136\n",
       "15 0.9858168 4.055257"
      ]
     },
     "metadata": {},
     "output_type": "display_data"
    }
   ],
   "source": [
    "data.frame(ts_rain2,ts_temp2)"
   ]
  },
  {
   "cell_type": "code",
   "execution_count": 28,
   "metadata": {
    "scrolled": true
   },
   "outputs": [
    {
     "data": {
      "image/png": "[encoded data removed]",
      "text/plain": [
       "Plot with title \"\""
      ]
     },
     "metadata": {},
     "output_type": "display_data"
    }
   ],
   "source": [
    "#Predictions versus actual\n",
    "plot(ts(log(as.numeric(river[(n-50):n])),start=2012, freq=12), ylim=c(4,10), ylab=\"Log-River Flow\", type=\"l\",main=\"\")\n",
    "fore = forecast(model.arima2,h=15,xreg=as.matrix(ts_rain2,ts_temp2))\n",
    "\n",
    "fore=as.data.frame(fore)\n",
    "point.fore = ts(fore[,1],start=2016, freq=12)\n",
    "lo.fore = ts(fore[,4],start=2016, freq=12)\n",
    "up.fore = ts(fore[,5],start=2016, freq=12)\n",
    "points(point.fore,lwd=2,col=\"red\")\n",
    "lines(lo.fore,lty=3,lwd= 2, col=\"blue\")\n",
    "lines(up.fore,lty=3,lwd= 2, col=\"blue\")\n"
   ]
  },
  {
   "cell_type": "code",
   "execution_count": 29,
   "metadata": {},
   "outputs": [],
   "source": [
    "data.train=cbind(ts_river,ts_temp,ts_rain)\n",
    "data.test=cbind(ts_river2,ts_temp2,ts_rain2)"
   ]
  },
  {
   "cell_type": "code",
   "execution_count": 30,
   "metadata": {},
   "outputs": [
    {
     "data": {
      "text/html": [
       "<style>\n",
       ".dl-inline {width: auto; margin:0; padding: 0}\n",
       ".dl-inline>dt, .dl-inline>dd {float: none; width: auto; display: inline-block}\n",
       ".dl-inline>dt::after {content: \":\\0020\"; padding-right: .5ex}\n",
       ".dl-inline>dt:not(:first-of-type) {padding-left: .5ex}\n",
       "</style><dl class=dl-inline><dt>AIC(n)</dt><dd>1</dd><dt>HQ(n)</dt><dd>1</dd><dt>SC(n)</dt><dd>1</dd><dt>FPE(n)</dt><dd>1</dd></dl>\n"
      ],
      "text/latex": [
       "\\begin{description*}\n",
       "\\item[AIC(n)] 1\n",
       "\\item[HQ(n)] 1\n",
       "\\item[SC(n)] 1\n",
       "\\item[FPE(n)] 1\n",
       "\\end{description*}\n"
      ],
      "text/markdown": [
       "AIC(n)\n",
       ":   1HQ(n)\n",
       ":   1SC(n)\n",
       ":   1FPE(n)\n",
       ":   1\n",
       "\n"
      ],
      "text/plain": [
       "AIC(n)  HQ(n)  SC(n) FPE(n) \n",
       "     1      1      1      1 "
      ]
     },
     "metadata": {},
     "output_type": "display_data"
    }
   ],
   "source": [
    "###VAR Model with Deterministic Components ##\n",
    "##Model Selection\n",
    "VARselect(data.train, lag.max = 20,season=12,type=\"both\")$selection\n"
   ]
  },
  {
   "cell_type": "code",
   "execution_count": 31,
   "metadata": {
    "scrolled": false
   },
   "outputs": [
    {
     "data": {
      "text/plain": [
       "\n",
       "VAR Estimation Results:\n",
       "========================= \n",
       "Endogenous variables: ts_river, ts_temp, ts_rain \n",
       "Deterministic variables: both \n",
       "Sample size: 719 \n",
       "Log Likelihood: 59.675 \n",
       "Roots of the characteristic polynomial:\n",
       "0.7406 0.1853 0.05533\n",
       "Call:\n",
       "VAR(y = data.train, p = 1, type = \"both\", season = 12L)\n",
       "\n",
       "\n",
       "Estimation results for equation ts_river: \n",
       "========================================= \n",
       "ts_river = ts_river.l1 + ts_temp.l1 + ts_rain.l1 + const + trend + sd1 + sd2 + sd3 + sd4 + sd5 + sd6 + sd7 + sd8 + sd9 + sd10 + sd11 \n",
       "\n",
       "              Estimate Std. Error t value Pr(>|t|)    \n",
       "ts_river.l1  7.379e-01  2.514e-02  29.351  < 2e-16 ***\n",
       "ts_temp.l1  -8.676e-02  2.281e-01  -0.380 0.703862    \n",
       "ts_rain.l1   6.683e-02  2.119e-02   3.154 0.001678 ** \n",
       "const        2.226e+00  9.705e-01   2.294 0.022087 *  \n",
       "trend       -7.870e-05  6.703e-05  -1.174 0.240784    \n",
       "sd1          1.073e-01  7.582e-02   1.416 0.157351    \n",
       "sd2          8.888e-02  8.412e-02   1.057 0.291048    \n",
       "sd3          1.773e-01  7.377e-02   2.404 0.016467 *  \n",
       "sd4          2.305e-01  6.617e-02   3.483 0.000527 ***\n",
       "sd5          1.705e-01  7.492e-02   2.276 0.023159 *  \n",
       "sd6          9.769e-02  9.103e-02   1.073 0.283551    \n",
       "sd7          2.139e-01  1.064e-01   2.010 0.044831 *  \n",
       "sd8          2.729e-01  1.134e-01   2.406 0.016367 *  \n",
       "sd9          1.307e-01  1.118e-01   1.169 0.242846    \n",
       "sd10         9.951e-02  9.839e-02   1.011 0.312188    \n",
       "sd11        -3.545e-02  8.957e-02  -0.396 0.692360    \n",
       "---\n",
       "Signif. codes:  0 '***' 0.001 '**' 0.01 '*' 0.05 '.' 0.1 ' ' 1\n",
       "\n",
       "\n",
       "Residual standard error: 0.3597 on 703 degrees of freedom\n",
       "Multiple R-Squared: 0.5835,\tAdjusted R-squared: 0.5746 \n",
       "F-statistic: 65.67 on 15 and 703 DF,  p-value: < 2.2e-16 \n",
       "\n",
       "\n",
       "Estimation results for equation ts_temp: \n",
       "======================================== \n",
       "ts_temp = ts_river.l1 + ts_temp.l1 + ts_rain.l1 + const + trend + sd1 + sd2 + sd3 + sd4 + sd5 + sd6 + sd7 + sd8 + sd9 + sd10 + sd11 \n",
       "\n",
       "              Estimate Std. Error t value Pr(>|t|)    \n",
       "ts_river.l1 -8.150e-03  4.100e-03  -1.988  0.04720 *  \n",
       "ts_temp.l1   2.075e-01  3.720e-02   5.578 3.48e-08 ***\n",
       "ts_rain.l1  -7.877e-03  3.455e-03  -2.280  0.02291 *  \n",
       "const        3.302e+00  1.583e-01  20.863  < 2e-16 ***\n",
       "trend        5.813e-05  1.093e-05   5.318 1.41e-07 ***\n",
       "sd1         -3.792e-02  1.236e-02  -3.067  0.00225 ** \n",
       "sd2          6.070e-02  1.372e-02   4.425 1.12e-05 ***\n",
       "sd3          1.976e-01  1.203e-02  16.429  < 2e-16 ***\n",
       "sd4          3.153e-01  1.079e-02  29.223  < 2e-16 ***\n",
       "sd5          4.020e-01  1.222e-02  32.902  < 2e-16 ***\n",
       "sd6          4.698e-01  1.484e-02  31.651  < 2e-16 ***\n",
       "sd7          4.845e-01  1.735e-02  27.923  < 2e-16 ***\n",
       "sd8          4.718e-01  1.849e-02  25.511  < 2e-16 ***\n",
       "sd9          3.984e-01  1.824e-02  21.850  < 2e-16 ***\n",
       "sd10         2.594e-01  1.604e-02  16.170  < 2e-16 ***\n",
       "sd11         1.407e-01  1.461e-02   9.636  < 2e-16 ***\n",
       "---\n",
       "Signif. codes:  0 '***' 0.001 '**' 0.01 '*' 0.05 '.' 0.1 ' ' 1\n",
       "\n",
       "\n",
       "Residual standard error: 0.05865 on 703 degrees of freedom\n",
       "Multiple R-Squared: 0.9353,\tAdjusted R-squared: 0.934 \n",
       "F-statistic:   678 on 15 and 703 DF,  p-value: < 2.2e-16 \n",
       "\n",
       "\n",
       "Estimation results for equation ts_rain: \n",
       "======================================== \n",
       "ts_rain = ts_river.l1 + ts_temp.l1 + ts_rain.l1 + const + trend + sd1 + sd2 + sd3 + sd4 + sd5 + sd6 + sd7 + sd8 + sd9 + sd10 + sd11 \n",
       "\n",
       "              Estimate Std. Error t value Pr(>|t|)    \n",
       "ts_river.l1  2.114e-02  4.502e-02   0.470   0.6388    \n",
       "ts_temp.l1   4.586e-01  4.085e-01   1.123   0.2620    \n",
       "ts_rain.l1   3.579e-02  3.794e-02   0.943   0.3458    \n",
       "const       -6.288e-01  1.738e+00  -0.362   0.7176    \n",
       "trend       -3.462e-05  1.200e-04  -0.288   0.7731    \n",
       "sd1          2.120e-01  1.358e-01   1.561   0.1189    \n",
       "sd2          2.037e-01  1.506e-01   1.352   0.1767    \n",
       "sd3          3.355e-01  1.321e-01   2.540   0.0113 *  \n",
       "sd4         -7.377e-02  1.185e-01  -0.623   0.5338    \n",
       "sd5         -1.566e-01  1.342e-01  -1.167   0.2435    \n",
       "sd6         -2.909e-01  1.630e-01  -1.785   0.0747 .  \n",
       "sd7         -5.068e-02  1.906e-01  -0.266   0.7903    \n",
       "sd8         -3.447e-01  2.031e-01  -1.697   0.0901 .  \n",
       "sd9         -4.631e-01  2.002e-01  -2.313   0.0210 *  \n",
       "sd10         1.860e+00  1.762e-01  10.556   <2e-16 ***\n",
       "sd11        -2.438e-01  1.604e-01  -1.520   0.1290    \n",
       "---\n",
       "Signif. codes:  0 '***' 0.001 '**' 0.01 '*' 0.05 '.' 0.1 ' ' 1\n",
       "\n",
       "\n",
       "Residual standard error: 0.6441 on 703 degrees of freedom\n",
       "Multiple R-Squared: 0.4524,\tAdjusted R-squared: 0.4407 \n",
       "F-statistic: 38.71 on 15 and 703 DF,  p-value: < 2.2e-16 \n",
       "\n",
       "\n",
       "\n",
       "Covariance matrix of residuals:\n",
       "           ts_river    ts_temp   ts_rain\n",
       "ts_river  0.1293778 -0.0005606  0.020202\n",
       "ts_temp  -0.0005606  0.0034404 -0.003184\n",
       "ts_rain   0.0202021 -0.0031841  0.414875\n",
       "\n",
       "Correlation matrix of residuals:\n",
       "         ts_river  ts_temp  ts_rain\n",
       "ts_river  1.00000 -0.02657  0.08720\n",
       "ts_temp  -0.02657  1.00000 -0.08428\n",
       "ts_rain   0.08720 -0.08428  1.00000\n",
       "\n"
      ]
     },
     "metadata": {},
     "output_type": "display_data"
    }
   ],
   "source": [
    "## Model Fitting: Unrestricted VAR\n",
    "model.var=VAR(data.train, p=1,type=\"both\",season=12)\n",
    "summary(model.var)\n",
    "\n"
   ]
  },
  {
   "cell_type": "code",
   "execution_count": 32,
   "metadata": {
    "scrolled": false
   },
   "outputs": [
    {
     "data": {
      "text/plain": [
       "\n",
       "VAR Estimation Results:\n",
       "========================= \n",
       "Endogenous variables: ts_river, ts_temp, ts_rain \n",
       "Deterministic variables: both \n",
       "Sample size: 719 \n",
       "Log Likelihood: 48.746 \n",
       "Roots of the characteristic polynomial:\n",
       "0.7454 0.2005 0.01462\n",
       "Call:\n",
       "VAR(y = data.train, p = 1, type = \"both\", season = 12L)\n",
       "\n",
       "\n",
       "Estimation results for equation ts_river: \n",
       "========================================= \n",
       "ts_river = ts_river.l1 + ts_rain.l1 + const + sd3 + sd4 + sd7 + sd8 \n",
       "\n",
       "            Estimate Std. Error t value Pr(>|t|)    \n",
       "ts_river.l1  0.74544    0.02446  30.477  < 2e-16 ***\n",
       "ts_rain.l1   0.03927    0.01576   2.491 0.012954 *  \n",
       "const        1.82633    0.18199  10.035  < 2e-16 ***\n",
       "sd3          0.11697    0.04953   2.362 0.018461 *  \n",
       "sd4          0.16054    0.04944   3.247 0.001221 ** \n",
       "sd7          0.10026    0.04971   2.017 0.044094 *  \n",
       "sd8          0.16353    0.04944   3.308 0.000988 ***\n",
       "---\n",
       "Signif. codes:  0 '***' 0.001 '**' 0.01 '*' 0.05 '.' 0.1 ' ' 1\n",
       "\n",
       "\n",
       "Residual standard error: 0.3608 on 712 degrees of freedom\n",
       "Multiple R-Squared: 0.9977,\tAdjusted R-squared: 0.9976 \n",
       "F-statistic: 4.326e+04 on 7 and 712 DF,  p-value: < 2.2e-16 \n",
       "\n",
       "\n",
       "Estimation results for equation ts_temp: \n",
       "======================================== \n",
       "ts_temp = ts_temp.l1 + ts_rain.l1 + const + trend + sd1 + sd2 + sd3 + sd4 + sd5 + sd6 + sd7 + sd8 + sd9 + sd10 + sd11 \n",
       "\n",
       "             Estimate Std. Error t value Pr(>|t|)    \n",
       "ts_temp.l1  2.151e-01  3.708e-02   5.802 9.92e-09 ***\n",
       "ts_rain.l1 -8.305e-03  3.455e-03  -2.404  0.01649 *  \n",
       "const       3.210e+00  1.517e-01  21.159  < 2e-16 ***\n",
       "trend       6.015e-05  1.091e-05   5.514 4.92e-08 ***\n",
       "sd1        -3.561e-02  1.234e-02  -2.887  0.00401 ** \n",
       "sd2         6.336e-02  1.368e-02   4.632 4.32e-06 ***\n",
       "sd3         1.994e-01  1.202e-02  16.587  < 2e-16 ***\n",
       "sd4         3.151e-01  1.081e-02  29.147  < 2e-16 ***\n",
       "sd5         3.995e-01  1.218e-02  32.802  < 2e-16 ***\n",
       "sd6         4.664e-01  1.478e-02  31.565  < 2e-16 ***\n",
       "sd7         4.811e-01  1.730e-02  27.805  < 2e-16 ***\n",
       "sd8         4.679e-01  1.843e-02  25.390  < 2e-16 ***\n",
       "sd9         3.936e-01  1.811e-02  21.733  < 2e-16 ***\n",
       "sd10        2.558e-01  1.597e-02  16.015  < 2e-16 ***\n",
       "sd11        1.400e-01  1.463e-02   9.571  < 2e-16 ***\n",
       "---\n",
       "Signif. codes:  0 '***' 0.001 '**' 0.01 '*' 0.05 '.' 0.1 ' ' 1\n",
       "\n",
       "\n",
       "Residual standard error: 0.05878 on 704 degrees of freedom\n",
       "Multiple R-Squared: 0.9998,\tAdjusted R-squared: 0.9998 \n",
       "F-statistic: 2.342e+05 on 15 and 704 DF,  p-value: < 2.2e-16 \n",
       "\n",
       "\n",
       "Estimation results for equation ts_rain: \n",
       "======================================== \n",
       "ts_rain = ts_temp.l1 + sd1 + sd2 + sd3 + sd6 + sd8 + sd9 + sd10 \n",
       "\n",
       "            Estimate Std. Error t value Pr(>|t|)    \n",
       "ts_temp.l1  0.353002   0.005838  60.468  < 2e-16 ***\n",
       "sd1         0.266312   0.091499   2.911 0.003721 ** \n",
       "sd2         0.256825   0.090861   2.827 0.004837 ** \n",
       "sd3         0.397352   0.090851   4.374  1.4e-05 ***\n",
       "sd6        -0.186602   0.090839  -2.054 0.040320 *  \n",
       "sd8        -0.220848   0.090848  -2.431 0.015305 *  \n",
       "sd9        -0.347485   0.090847  -3.825 0.000142 ***\n",
       "sd10        1.961279   0.090841  21.590  < 2e-16 ***\n",
       "---\n",
       "Signif. codes:  0 '***' 0.001 '**' 0.01 '*' 0.05 '.' 0.1 ' ' 1\n",
       "\n",
       "\n",
       "Residual standard error: 0.6423 on 711 degrees of freedom\n",
       "Multiple R-Squared: 0.8562,\tAdjusted R-squared: 0.8546 \n",
       "F-statistic: 529.3 on 8 and 711 DF,  p-value: < 2.2e-16 \n",
       "\n",
       "\n",
       "\n",
       "Covariance matrix of residuals:\n",
       "           ts_river    ts_temp   ts_rain\n",
       "ts_river  0.1318650 -0.0005428  0.020250\n",
       "ts_temp  -0.0005428  0.0034597 -0.003234\n",
       "ts_rain   0.0202495 -0.0032343  0.417247\n",
       "\n",
       "Correlation matrix of residuals:\n",
       "         ts_river  ts_temp  ts_rain\n",
       "ts_river  1.00000 -0.02541  0.08633\n",
       "ts_temp  -0.02541  1.00000 -0.08513\n",
       "ts_rain   0.08633 -0.08513  1.00000\n",
       "\n"
      ]
     },
     "metadata": {},
     "output_type": "display_data"
    }
   ],
   "source": [
    "## Model Fitting: Restricted VAR\n",
    "model.var.restrict=restrict(model.var)  \n",
    "summary(model.var.restrict)"
   ]
  },
  {
   "cell_type": "code",
   "execution_count": 33,
   "metadata": {},
   "outputs": [
    {
     "data": {
      "text/html": [
       "<table>\n",
       "<caption>A matrix: 16 × 4 of type dbl</caption>\n",
       "<thead>\n",
       "\t<tr><th></th><th scope=col>Estimate</th><th scope=col>Std. Error</th><th scope=col>t value</th><th scope=col>Pr(&gt;|t|)</th></tr>\n",
       "</thead>\n",
       "<tbody>\n",
       "\t<tr><th scope=row>ts_river.l1</th><td> 7.379353e-01</td><td>2.514134e-02</td><td>29.3514690</td><td>3.078213e-124</td></tr>\n",
       "\t<tr><th scope=row>ts_temp.l1</th><td>-8.675533e-02</td><td>2.281435e-01</td><td>-0.3802665</td><td> 7.038624e-01</td></tr>\n",
       "\t<tr><th scope=row>ts_rain.l1</th><td> 6.682563e-02</td><td>2.118657e-02</td><td> 3.1541506</td><td> 1.678210e-03</td></tr>\n",
       "\t<tr><th scope=row>const</th><td> 2.226290e+00</td><td>9.704997e-01</td><td> 2.2939621</td><td> 2.208673e-02</td></tr>\n",
       "\t<tr><th scope=row>trend</th><td>-7.870037e-05</td><td>6.703494e-05</td><td>-1.1740202</td><td> 2.407845e-01</td></tr>\n",
       "\t<tr><th scope=row>sd1</th><td> 1.073302e-01</td><td>7.582251e-02</td><td> 1.4155454</td><td> 1.573515e-01</td></tr>\n",
       "\t<tr><th scope=row>sd2</th><td> 8.887812e-02</td><td>8.411547e-02</td><td> 1.0566204</td><td> 2.910478e-01</td></tr>\n",
       "\t<tr><th scope=row>sd3</th><td> 1.773462e-01</td><td>7.376621e-02</td><td> 2.4041658</td><td> 1.646717e-02</td></tr>\n",
       "\t<tr><th scope=row>sd4</th><td> 2.304570e-01</td><td>6.616600e-02</td><td> 3.4830127</td><td> 5.265096e-04</td></tr>\n",
       "\t<tr><th scope=row>sd5</th><td> 1.705074e-01</td><td>7.492239e-02</td><td> 2.2757875</td><td> 2.315876e-02</td></tr>\n",
       "\t<tr><th scope=row>sd6</th><td> 9.769024e-02</td><td>9.102739e-02</td><td> 1.0731961</td><td> 2.835514e-01</td></tr>\n",
       "\t<tr><th scope=row>sd7</th><td> 2.138720e-01</td><td>1.064132e-01</td><td> 2.0098260</td><td> 4.483122e-02</td></tr>\n",
       "\t<tr><th scope=row>sd8</th><td> 2.729278e-01</td><td>1.134165e-01</td><td> 2.4064209</td><td> 1.636670e-02</td></tr>\n",
       "\t<tr><th scope=row>sd9</th><td> 1.307105e-01</td><td>1.118249e-01</td><td> 1.1688854</td><td> 2.428460e-01</td></tr>\n",
       "\t<tr><th scope=row>sd10</th><td> 9.950777e-02</td><td>9.838928e-02</td><td> 1.0113680</td><td> 3.121883e-01</td></tr>\n",
       "\t<tr><th scope=row>sd11</th><td>-3.545200e-02</td><td>8.956668e-02</td><td>-0.3958168</td><td> 6.923603e-01</td></tr>\n",
       "</tbody>\n",
       "</table>\n"
      ],
      "text/latex": [
       "A matrix: 16 × 4 of type dbl\n",
       "\\begin{tabular}{r|llll}\n",
       "  & Estimate & Std. Error & t value & Pr(>\\textbar{}t\\textbar{})\\\\\n",
       "\\hline\n",
       "\tts\\_river.l1 &  7.379353e-01 & 2.514134e-02 & 29.3514690 & 3.078213e-124\\\\\n",
       "\tts\\_temp.l1 & -8.675533e-02 & 2.281435e-01 & -0.3802665 &  7.038624e-01\\\\\n",
       "\tts\\_rain.l1 &  6.682563e-02 & 2.118657e-02 &  3.1541506 &  1.678210e-03\\\\\n",
       "\tconst &  2.226290e+00 & 9.704997e-01 &  2.2939621 &  2.208673e-02\\\\\n",
       "\ttrend & -7.870037e-05 & 6.703494e-05 & -1.1740202 &  2.407845e-01\\\\\n",
       "\tsd1 &  1.073302e-01 & 7.582251e-02 &  1.4155454 &  1.573515e-01\\\\\n",
       "\tsd2 &  8.887812e-02 & 8.411547e-02 &  1.0566204 &  2.910478e-01\\\\\n",
       "\tsd3 &  1.773462e-01 & 7.376621e-02 &  2.4041658 &  1.646717e-02\\\\\n",
       "\tsd4 &  2.304570e-01 & 6.616600e-02 &  3.4830127 &  5.265096e-04\\\\\n",
       "\tsd5 &  1.705074e-01 & 7.492239e-02 &  2.2757875 &  2.315876e-02\\\\\n",
       "\tsd6 &  9.769024e-02 & 9.102739e-02 &  1.0731961 &  2.835514e-01\\\\\n",
       "\tsd7 &  2.138720e-01 & 1.064132e-01 &  2.0098260 &  4.483122e-02\\\\\n",
       "\tsd8 &  2.729278e-01 & 1.134165e-01 &  2.4064209 &  1.636670e-02\\\\\n",
       "\tsd9 &  1.307105e-01 & 1.118249e-01 &  1.1688854 &  2.428460e-01\\\\\n",
       "\tsd10 &  9.950777e-02 & 9.838928e-02 &  1.0113680 &  3.121883e-01\\\\\n",
       "\tsd11 & -3.545200e-02 & 8.956668e-02 & -0.3958168 &  6.923603e-01\\\\\n",
       "\\end{tabular}\n"
      ],
      "text/markdown": [
       "\n",
       "A matrix: 16 × 4 of type dbl\n",
       "\n",
       "| <!--/--> | Estimate | Std. Error | t value | Pr(&gt;|t|) |\n",
       "|---|---|---|---|---|\n",
       "| ts_river.l1 |  7.379353e-01 | 2.514134e-02 | 29.3514690 | 3.078213e-124 |\n",
       "| ts_temp.l1 | -8.675533e-02 | 2.281435e-01 | -0.3802665 |  7.038624e-01 |\n",
       "| ts_rain.l1 |  6.682563e-02 | 2.118657e-02 |  3.1541506 |  1.678210e-03 |\n",
       "| const |  2.226290e+00 | 9.704997e-01 |  2.2939621 |  2.208673e-02 |\n",
       "| trend | -7.870037e-05 | 6.703494e-05 | -1.1740202 |  2.407845e-01 |\n",
       "| sd1 |  1.073302e-01 | 7.582251e-02 |  1.4155454 |  1.573515e-01 |\n",
       "| sd2 |  8.887812e-02 | 8.411547e-02 |  1.0566204 |  2.910478e-01 |\n",
       "| sd3 |  1.773462e-01 | 7.376621e-02 |  2.4041658 |  1.646717e-02 |\n",
       "| sd4 |  2.304570e-01 | 6.616600e-02 |  3.4830127 |  5.265096e-04 |\n",
       "| sd5 |  1.705074e-01 | 7.492239e-02 |  2.2757875 |  2.315876e-02 |\n",
       "| sd6 |  9.769024e-02 | 9.102739e-02 |  1.0731961 |  2.835514e-01 |\n",
       "| sd7 |  2.138720e-01 | 1.064132e-01 |  2.0098260 |  4.483122e-02 |\n",
       "| sd8 |  2.729278e-01 | 1.134165e-01 |  2.4064209 |  1.636670e-02 |\n",
       "| sd9 |  1.307105e-01 | 1.118249e-01 |  1.1688854 |  2.428460e-01 |\n",
       "| sd10 |  9.950777e-02 | 9.838928e-02 |  1.0113680 |  3.121883e-01 |\n",
       "| sd11 | -3.545200e-02 | 8.956668e-02 | -0.3958168 |  6.923603e-01 |\n",
       "\n"
      ],
      "text/plain": [
       "            Estimate      Std. Error   t value    Pr(>|t|)     \n",
       "ts_river.l1  7.379353e-01 2.514134e-02 29.3514690 3.078213e-124\n",
       "ts_temp.l1  -8.675533e-02 2.281435e-01 -0.3802665  7.038624e-01\n",
       "ts_rain.l1   6.682563e-02 2.118657e-02  3.1541506  1.678210e-03\n",
       "const        2.226290e+00 9.704997e-01  2.2939621  2.208673e-02\n",
       "trend       -7.870037e-05 6.703494e-05 -1.1740202  2.407845e-01\n",
       "sd1          1.073302e-01 7.582251e-02  1.4155454  1.573515e-01\n",
       "sd2          8.887812e-02 8.411547e-02  1.0566204  2.910478e-01\n",
       "sd3          1.773462e-01 7.376621e-02  2.4041658  1.646717e-02\n",
       "sd4          2.304570e-01 6.616600e-02  3.4830127  5.265096e-04\n",
       "sd5          1.705074e-01 7.492239e-02  2.2757875  2.315876e-02\n",
       "sd6          9.769024e-02 9.102739e-02  1.0731961  2.835514e-01\n",
       "sd7          2.138720e-01 1.064132e-01  2.0098260  4.483122e-02\n",
       "sd8          2.729278e-01 1.134165e-01  2.4064209  1.636670e-02\n",
       "sd9          1.307105e-01 1.118249e-01  1.1688854  2.428460e-01\n",
       "sd10         9.950777e-02 9.838928e-02  1.0113680  3.121883e-01\n",
       "sd11        -3.545200e-02 8.956668e-02 -0.3958168  6.923603e-01"
      ]
     },
     "metadata": {},
     "output_type": "display_data"
    },
    {
     "data": {
      "text/html": [
       "<table>\n",
       "<caption>A matrix: 48 × 48 of type dbl</caption>\n",
       "<thead>\n",
       "\t<tr><th></th><th scope=col>ts_river:(Intercept)</th><th scope=col>ts_river:ts_river.l1</th><th scope=col>ts_river:ts_temp.l1</th><th scope=col>ts_river:ts_rain.l1</th><th scope=col>ts_river:trend</th><th scope=col>ts_river:sd1</th><th scope=col>ts_river:sd2</th><th scope=col>ts_river:sd3</th><th scope=col>ts_river:sd4</th><th scope=col>ts_river:sd5</th><th scope=col>...</th><th scope=col>ts_rain:sd2</th><th scope=col>ts_rain:sd3</th><th scope=col>ts_rain:sd4</th><th scope=col>ts_rain:sd5</th><th scope=col>ts_rain:sd6</th><th scope=col>ts_rain:sd7</th><th scope=col>ts_rain:sd8</th><th scope=col>ts_rain:sd9</th><th scope=col>ts_rain:sd10</th><th scope=col>ts_rain:sd11</th></tr>\n",
       "</thead>\n",
       "<tbody>\n",
       "\t<tr><th scope=row>ts_river:(Intercept)</th><td> 9.418697e-01</td><td>-7.107460e-03</td><td>-2.171322e-01</td><td>-2.007302e-03</td><td> 1.217298e-05</td><td>-3.601292e-02</td><td>-5.016481e-02</td><td>-3.193816e-02</td><td> 2.590455e-03</td><td> 3.485357e-02</td><td>...</td><td>-7.833152e-03</td><td>-4.987092e-03</td><td> 4.044953e-04</td><td> 5.442328e-03</td><td> 9.463211e-03</td><td> 1.248609e-02</td><td> 1.381409e-02</td><td> 1.357745e-02</td><td> 1.094426e-02</td><td> 6.381118e-03</td></tr>\n",
       "\t<tr><th scope=row>ts_river:ts_river.l1</th><td>-7.107460e-03</td><td> 6.320870e-04</td><td> 5.917151e-04</td><td>-3.325702e-05</td><td> 1.560665e-07</td><td> 1.790847e-04</td><td> 2.064067e-04</td><td> 1.371078e-04</td><td>-1.328675e-05</td><td>-1.917094e-04</td><td>...</td><td> 3.223006e-05</td><td> 2.140916e-05</td><td>-2.074704e-06</td><td>-2.993510e-05</td><td>-4.092095e-05</td><td>-4.144967e-05</td><td>-4.716811e-05</td><td>-5.806279e-05</td><td>-4.374441e-05</td><td>-8.455937e-06</td></tr>\n",
       "\t<tr><th scope=row>ts_river:ts_temp.l1</th><td>-2.171322e-01</td><td> 5.917151e-04</td><td> 5.204945e-02</td><td> 3.941021e-04</td><td>-3.632548e-06</td><td> 8.495815e-03</td><td> 1.192881e-02</td><td> 7.592493e-03</td><td>-5.551896e-04</td><td>-8.176455e-03</td><td>...</td><td> 1.862665e-03</td><td> 1.185555e-03</td><td>-8.669194e-05</td><td>-1.276740e-03</td><td>-2.241088e-03</td><td>-2.981628e-03</td><td>-3.289267e-03</td><td>-3.218102e-03</td><td>-2.602978e-03</td><td>-1.494459e-03</td></tr>\n",
       "\t<tr><th scope=row>ts_river:ts_rain.l1</th><td>-2.007302e-03</td><td>-3.325702e-05</td><td> 3.941021e-04</td><td> 4.488707e-04</td><td>-3.356000e-08</td><td> 2.820142e-05</td><td>-9.340367e-06</td><td>-3.209375e-05</td><td>-1.656708e-04</td><td>-7.127328e-05</td><td>...</td><td>-1.458483e-06</td><td>-5.011387e-06</td><td>-2.586921e-05</td><td>-1.112920e-05</td><td>-1.674362e-05</td><td>-1.723710e-05</td><td>-3.869381e-05</td><td>-1.895038e-05</td><td>-5.772102e-06</td><td>-1.568723e-04</td></tr>\n",
       "\t<tr><th scope=row>ts_river:trend</th><td> 1.217298e-05</td><td> 1.560665e-07</td><td>-3.632548e-06</td><td>-3.356000e-08</td><td> 4.493683e-09</td><td>-5.464104e-07</td><td>-7.696536e-07</td><td>-4.773937e-07</td><td> 6.783148e-08</td><td> 5.685124e-07</td><td>...</td><td>-1.201801e-07</td><td>-7.454424e-08</td><td> 1.059177e-08</td><td> 8.877227e-08</td><td> 1.554371e-07</td><td> 2.090311e-07</td><td> 2.288939e-07</td><td> 2.198253e-07</td><td> 1.786734e-07</td><td> 1.057302e-07</td></tr>\n",
       "\t<tr><th scope=row>ts_river:sd1</th><td>-3.601292e-02</td><td> 1.790847e-04</td><td> 8.495815e-03</td><td> 2.820142e-05</td><td>-5.464104e-07</td><td> 5.749054e-03</td><td> 4.119634e-03</td><td> 3.408552e-03</td><td> 2.076290e-03</td><td> 8.098821e-04</td><td>...</td><td> 6.432740e-04</td><td> 5.322397e-04</td><td> 3.242092e-04</td><td> 1.264617e-04</td><td>-3.106937e-05</td><td>-1.512994e-04</td><td>-2.004580e-04</td><td>-1.916882e-04</td><td>-9.095019e-05</td><td> 1.040810e-04</td></tr>\n",
       "\t<tr><th scope=row>ts_river:sd2</th><td>-5.016481e-02</td><td> 2.064067e-04</td><td> 1.192881e-02</td><td>-9.340367e-06</td><td>-7.696536e-07</td><td> 4.119634e-03</td><td> 7.075412e-03</td><td> 3.921092e-03</td><td> 2.063413e-03</td><td> 2.748055e-04</td><td>...</td><td> 1.104814e-03</td><td> 6.122721e-04</td><td> 3.221985e-04</td><td> 4.291042e-05</td><td>-1.784727e-04</td><td>-3.485066e-04</td><td>-4.151284e-04</td><td>-4.041278e-04</td><td>-2.642567e-04</td><td> 2.635958e-05</td></tr>\n",
       "\t<tr><th scope=row>ts_river:sd3</th><td>-3.193816e-02</td><td> 1.371078e-04</td><td> 7.592493e-03</td><td>-3.209375e-05</td><td>-4.773937e-07</td><td> 3.408552e-03</td><td> 3.921092e-03</td><td> 5.441454e-03</td><td> 2.106618e-03</td><td> 9.588217e-04</td><td>...</td><td> 6.122721e-04</td><td> 8.496741e-04</td><td> 3.289450e-04</td><td> 1.497184e-04</td><td> 8.711733e-06</td><td>-9.976656e-05</td><td>-1.410719e-04</td><td>-1.352552e-04</td><td>-4.668547e-05</td><td> 1.476906e-04</td></tr>\n",
       "\t<tr><th scope=row>ts_river:sd4</th><td> 2.590455e-03</td><td>-1.328675e-05</td><td>-5.551896e-04</td><td>-1.656708e-04</td><td> 6.783148e-08</td><td> 2.076290e-03</td><td> 2.063413e-03</td><td> 2.106618e-03</td><td> 4.377940e-03</td><td> 2.250439e-03</td><td>...</td><td> 3.221985e-04</td><td> 3.289450e-04</td><td> 6.836080e-04</td><td> 3.514024e-04</td><td> 3.610684e-04</td><td> 3.668344e-04</td><td> 3.771645e-04</td><td> 3.697801e-04</td><td> 3.598611e-04</td><td> 4.054836e-04</td></tr>\n",
       "\t<tr><th scope=row>ts_river:sd5</th><td> 3.485357e-02</td><td>-1.917094e-04</td><td>-8.176455e-03</td><td>-7.127328e-05</td><td> 5.685124e-07</td><td> 8.098821e-04</td><td> 2.748055e-04</td><td> 9.588217e-04</td><td> 2.250439e-03</td><td> 5.613364e-03</td><td>...</td><td> 4.291042e-05</td><td> 1.497184e-04</td><td> 3.514024e-04</td><td> 8.765175e-04</td><td> 6.912456e-04</td><td> 8.061335e-04</td><td> 8.554721e-04</td><td> 8.454975e-04</td><td> 7.473966e-04</td><td> 5.751340e-04</td></tr>\n",
       "\t<tr><th scope=row>ts_river:sd6</th><td> 6.060398e-02</td><td>-2.620646e-04</td><td>-1.435230e-02</td><td>-1.072289e-04</td><td> 9.954452e-07</td><td>-1.989734e-04</td><td>-1.142969e-03</td><td> 5.579139e-05</td><td> 2.312342e-03</td><td> 4.426852e-03</td><td>...</td><td>-1.784727e-04</td><td> 8.711733e-06</td><td> 3.610684e-04</td><td> 6.912456e-04</td><td> 1.293843e-03</td><td> 1.160031e-03</td><td> 1.245405e-03</td><td> 1.227440e-03</td><td> 1.056569e-03</td><td> 7.489238e-04</td></tr>\n",
       "\t<tr><th scope=row>ts_river:sd7</th><td> 7.996297e-02</td><td>-2.654506e-04</td><td>-1.909484e-02</td><td>-1.103893e-04</td><td> 1.338670e-06</td><td>-9.689468e-04</td><td>-2.231894e-03</td><td>-6.389217e-04</td><td> 2.349268e-03</td><td> 5.162613e-03</td><td>...</td><td>-3.485066e-04</td><td>-9.976656e-05</td><td> 3.668344e-04</td><td> 8.061335e-04</td><td> 1.160031e-03</td><td> 1.768188e-03</td><td> 1.543157e-03</td><td> 1.519255e-03</td><td> 1.293653e-03</td><td> 8.740774e-04</td></tr>\n",
       "\t<tr><th scope=row>ts_river:sd8</th><td> 8.846773e-02</td><td>-3.020724e-04</td><td>-2.106501e-02</td><td>-2.478016e-04</td><td> 1.465874e-06</td><td>-1.283767e-03</td><td>-2.658551e-03</td><td>-9.034481e-04</td><td> 2.415424e-03</td><td> 5.478586e-03</td><td>...</td><td>-4.151284e-04</td><td>-1.410719e-04</td><td> 3.771645e-04</td><td> 8.554721e-04</td><td> 1.245405e-03</td><td> 1.543157e-03</td><td> 2.008582e-03</td><td> 1.640408e-03</td><td> 1.388864e-03</td><td> 9.707823e-04</td></tr>\n",
       "\t<tr><th scope=row>ts_river:sd9</th><td> 8.695224e-02</td><td>-3.718438e-04</td><td>-2.060926e-02</td><td>-1.213614e-04</td><td> 1.407798e-06</td><td>-1.227603e-03</td><td>-2.588101e-03</td><td>-8.661969e-04</td><td> 2.368133e-03</td><td> 5.414707e-03</td><td>...</td><td>-4.041278e-04</td><td>-1.352552e-04</td><td> 3.697801e-04</td><td> 8.454975e-04</td><td> 1.227440e-03</td><td> 1.519255e-03</td><td> 1.640408e-03</td><td> 1.952604e-03</td><td> 1.371260e-03</td><td> 9.179395e-04</td></tr>\n",
       "\t<tr><th scope=row>ts_river:sd10</th><td> 7.008889e-02</td><td>-2.801465e-04</td><td>-1.666990e-02</td><td>-3.696550e-05</td><td> 1.144254e-06</td><td>-5.824602e-04</td><td>-1.692344e-03</td><td>-2.989815e-04</td><td> 2.304610e-03</td><td> 4.786452e-03</td><td>...</td><td>-2.642567e-04</td><td>-4.668547e-05</td><td> 3.598611e-04</td><td> 7.473966e-04</td><td> 1.056569e-03</td><td> 1.293653e-03</td><td> 1.388864e-03</td><td> 1.371260e-03</td><td> 1.511586e-03</td><td> 7.867039e-04</td></tr>\n",
       "\t<tr><th scope=row>ts_river:sd11</th><td> 4.086574e-02</td><td>-5.415323e-05</td><td>-9.570765e-03</td><td>-1.004637e-03</td><td> 6.771138e-07</td><td> 6.665519e-04</td><td> 1.688111e-04</td><td> 9.458355e-04</td><td> 2.596785e-03</td><td> 3.683254e-03</td><td>...</td><td> 2.635958e-05</td><td> 1.476906e-04</td><td> 4.054836e-04</td><td> 5.751340e-04</td><td> 7.489238e-04</td><td> 8.740774e-04</td><td> 9.707823e-04</td><td> 9.179395e-04</td><td> 7.867039e-04</td><td> 1.252652e-03</td></tr>\n",
       "\t<tr><th scope=row>ts_temp:(Intercept)</th><td>-4.080929e-03</td><td> 3.079517e-05</td><td> 9.407893e-04</td><td> 8.697229e-06</td><td>-5.274304e-08</td><td> 1.560366e-04</td><td> 2.173539e-04</td><td> 1.383815e-04</td><td>-1.122391e-05</td><td>-1.510134e-04</td><td>...</td><td> 1.234599e-03</td><td> 7.860258e-04</td><td>-6.375335e-05</td><td>-8.577765e-04</td><td>-1.491516e-03</td><td>-1.967958e-03</td><td>-2.177267e-03</td><td>-2.139970e-03</td><td>-1.724948e-03</td><td>-1.005741e-03</td></tr>\n",
       "\t<tr><th scope=row>ts_temp:ts_river.l1</th><td> 3.079517e-05</td><td>-2.738704e-06</td><td>-2.563781e-06</td><td> 1.440959e-07</td><td>-6.762044e-10</td><td>-7.759375e-07</td><td>-8.943180e-07</td><td>-5.940601e-07</td><td> 5.756878e-08</td><td> 8.306375e-07</td><td>...</td><td>-5.079846e-06</td><td>-3.374341e-06</td><td> 3.269984e-07</td><td> 4.718133e-06</td><td> 6.449635e-06</td><td> 6.532968e-06</td><td> 7.434263e-06</td><td> 9.151397e-06</td><td> 6.894646e-06</td><td> 1.332758e-06</td></tr>\n",
       "\t<tr><th scope=row>ts_temp:ts_temp.l1</th><td> 9.407893e-04</td><td>-2.563781e-06</td><td>-2.255196e-04</td><td>-1.707564e-06</td><td> 1.573909e-08</td><td>-3.681063e-05</td><td>-5.168512e-05</td><td>-3.289672e-05</td><td> 2.405523e-06</td><td> 3.542691e-05</td><td>...</td><td>-2.935784e-04</td><td>-1.868578e-04</td><td> 1.366370e-05</td><td> 2.012296e-04</td><td> 3.532225e-04</td><td> 4.699405e-04</td><td> 5.184282e-04</td><td> 5.072117e-04</td><td> 4.102607e-04</td><td> 2.355448e-04</td></tr>\n",
       "\t<tr><th scope=row>ts_temp:ts_rain.l1</th><td> 8.697229e-06</td><td> 1.440959e-07</td><td>-1.707564e-06</td><td>-1.944865e-06</td><td> 1.454086e-10</td><td>-1.221910e-07</td><td> 4.046991e-08</td><td> 1.390557e-07</td><td> 7.178175e-07</td><td> 3.088126e-07</td><td>...</td><td> 2.298745e-07</td><td> 7.898550e-07</td><td> 4.077300e-06</td><td> 1.754097e-06</td><td> 2.638996e-06</td><td> 2.716776e-06</td><td> 6.098611e-06</td><td> 2.986808e-06</td><td> 9.097530e-07</td><td> 2.472497e-05</td></tr>\n",
       "\t<tr><th scope=row>ts_temp:trend</th><td>-5.274304e-08</td><td>-6.762044e-10</td><td> 1.573909e-08</td><td> 1.454086e-10</td><td>-1.947021e-11</td><td> 2.367485e-09</td><td> 3.334752e-09</td><td> 2.068450e-09</td><td>-2.939000e-10</td><td>-2.463248e-09</td><td>...</td><td> 1.894184e-08</td><td> 1.174907e-08</td><td>-1.669391e-09</td><td>-1.399158e-08</td><td>-2.449877e-08</td><td>-3.294582e-08</td><td>-3.607643e-08</td><td>-3.464712e-08</td><td>-2.816109e-08</td><td>-1.666436e-08</td></tr>\n",
       "\t<tr><th scope=row>ts_temp:sd1</th><td> 1.560366e-04</td><td>-7.759375e-07</td><td>-3.681063e-05</td><td>-1.221910e-07</td><td> 2.367485e-09</td><td>-2.490948e-05</td><td>-1.784953e-05</td><td>-1.476856e-05</td><td>-8.996139e-06</td><td>-3.509054e-06</td><td>...</td><td>-1.013878e-04</td><td>-8.388740e-05</td><td>-5.109928e-05</td><td>-1.993190e-05</td><td> 4.896908e-06</td><td> 2.384662e-05</td><td> 3.159460e-05</td><td> 3.021237e-05</td><td> 1.433485e-05</td><td>-1.640442e-05</td></tr>\n",
       "\t<tr><th scope=row>ts_temp:sd2</th><td> 2.173539e-04</td><td>-8.943180e-07</td><td>-5.168512e-05</td><td> 4.046991e-08</td><td> 3.334752e-09</td><td>-1.784953e-05</td><td>-3.065631e-05</td><td>-1.698929e-05</td><td>-8.940347e-06</td><td>-1.190676e-06</td><td>...</td><td>-1.741320e-04</td><td>-9.650147e-05</td><td>-5.078237e-05</td><td>-6.763200e-06</td><td> 2.812945e-05</td><td> 5.492885e-05</td><td> 6.542924e-05</td><td> 6.369541e-05</td><td> 4.165004e-05</td><td>-4.154587e-06</td></tr>\n",
       "\t<tr><th scope=row>ts_temp:sd3</th><td> 1.383815e-04</td><td>-5.940601e-07</td><td>-3.289672e-05</td><td> 1.390557e-07</td><td> 2.068450e-09</td><td>-1.476856e-05</td><td>-1.698929e-05</td><td>-2.357671e-05</td><td>-9.127547e-06</td><td>-4.154379e-06</td><td>...</td><td>-9.650147e-05</td><td>-1.339189e-04</td><td>-5.184569e-05</td><td>-2.359743e-05</td><td>-1.373074e-06</td><td> 1.572441e-05</td><td> 2.223464e-05</td><td> 2.131785e-05</td><td> 7.358194e-06</td><td>-2.327783e-05</td></tr>\n",
       "\t<tr><th scope=row>ts_temp:sd4</th><td>-1.122391e-05</td><td> 5.756878e-08</td><td> 2.405523e-06</td><td> 7.178175e-07</td><td>-2.939000e-10</td><td>-8.996139e-06</td><td>-8.940347e-06</td><td>-9.127547e-06</td><td>-1.896872e-05</td><td>-9.750694e-06</td><td>...</td><td>-5.078237e-05</td><td>-5.184569e-05</td><td>-1.077449e-04</td><td>-5.538526e-05</td><td>-5.690874e-05</td><td>-5.781752e-05</td><td>-5.944568e-05</td><td>-5.828180e-05</td><td>-5.671844e-05</td><td>-6.390911e-05</td></tr>\n",
       "\t<tr><th scope=row>ts_temp:sd5</th><td>-1.510134e-04</td><td> 8.306375e-07</td><td> 3.542691e-05</td><td> 3.088126e-07</td><td>-2.463248e-09</td><td>-3.509054e-06</td><td>-1.190676e-06</td><td>-4.154379e-06</td><td>-9.750694e-06</td><td>-2.432156e-05</td><td>...</td><td>-6.763200e-06</td><td>-2.359743e-05</td><td>-5.538526e-05</td><td>-1.381497e-04</td><td>-1.089487e-04</td><td>-1.270564e-04</td><td>-1.348327e-04</td><td>-1.332606e-04</td><td>-1.177987e-04</td><td>-9.064806e-05</td></tr>\n",
       "\t<tr><th scope=row>ts_temp:sd6</th><td>-2.625847e-04</td><td> 1.135472e-06</td><td> 6.218558e-05</td><td> 4.646010e-07</td><td>-4.313061e-09</td><td> 8.621113e-07</td><td> 4.952251e-06</td><td>-2.417327e-07</td><td>-1.001891e-05</td><td>-1.918065e-05</td><td>...</td><td> 2.812945e-05</td><td>-1.373074e-06</td><td>-5.690874e-05</td><td>-1.089487e-04</td><td>-2.039253e-04</td><td>-1.828349e-04</td><td>-1.962908e-04</td><td>-1.934593e-04</td><td>-1.665281e-04</td><td>-1.180394e-04</td></tr>\n",
       "\t<tr><th scope=row>ts_temp:sd7</th><td>-3.464632e-04</td><td> 1.150143e-06</td><td> 8.273404e-05</td><td> 4.782942e-07</td><td>-5.800184e-09</td><td> 4.198249e-06</td><td> 9.670343e-06</td><td> 2.768317e-06</td><td>-1.017890e-05</td><td>-2.236855e-05</td><td>...</td><td> 5.492885e-05</td><td> 1.572441e-05</td><td>-5.781752e-05</td><td>-1.270564e-04</td><td>-1.828349e-04</td><td>-2.786877e-04</td><td>-2.432201e-04</td><td>-2.394530e-04</td><td>-2.038953e-04</td><td>-1.377652e-04</td></tr>\n",
       "\t<tr><th scope=row>ts_temp:sd8</th><td>-3.833126e-04</td><td> 1.308818e-06</td><td> 9.127041e-05</td><td> 1.073674e-06</td><td>-6.351334e-09</td><td> 5.562298e-06</td><td> 1.151896e-05</td><td> 3.914456e-06</td><td>-1.046554e-05</td><td>-2.373759e-05</td><td>...</td><td> 6.542924e-05</td><td> 2.223464e-05</td><td>-5.944568e-05</td><td>-1.348327e-04</td><td>-1.962908e-04</td><td>-2.432201e-04</td><td>-3.165768e-04</td><td>-2.585481e-04</td><td>-2.189017e-04</td><td>-1.530070e-04</td></tr>\n",
       "\t<tr><th scope=row>ts_temp:sd9</th><td>-3.767463e-04</td><td> 1.611123e-06</td><td> 8.929572e-05</td><td> 5.258341e-07</td><td>-6.099701e-09</td><td> 5.318953e-06</td><td> 1.121372e-05</td><td> 3.753054e-06</td><td>-1.026064e-05</td><td>-2.346082e-05</td><td>...</td><td> 6.369541e-05</td><td> 2.131785e-05</td><td>-5.828180e-05</td><td>-1.332606e-04</td><td>-1.934593e-04</td><td>-2.394530e-04</td><td>-2.585481e-04</td><td>-3.077540e-04</td><td>-2.161272e-04</td><td>-1.446783e-04</td></tr>\n",
       "\t<tr><th scope=row>ts_temp:sd10</th><td>-3.036809e-04</td><td> 1.213817e-06</td><td> 7.222729e-05</td><td> 1.601640e-07</td><td>-4.957820e-09</td><td> 2.523681e-06</td><td> 7.332580e-06</td><td> 1.295426e-06</td><td>-9.985405e-06</td><td>-2.073872e-05</td><td>...</td><td> 4.165004e-05</td><td> 7.358194e-06</td><td>-5.671844e-05</td><td>-1.177987e-04</td><td>-1.665281e-04</td><td>-2.038953e-04</td><td>-2.189017e-04</td><td>-2.161272e-04</td><td>-2.382442e-04</td><td>-1.239940e-04</td></tr>\n",
       "\t<tr><th scope=row>ts_temp:sd11</th><td>-1.770629e-04</td><td> 2.346349e-07</td><td> 4.146817e-05</td><td> 4.352885e-06</td><td>-2.933796e-09</td><td>-2.888033e-06</td><td>-7.314241e-07</td><td>-4.098112e-06</td><td>-1.125134e-05</td><td>-1.595879e-05</td><td>...</td><td>-4.154587e-06</td><td>-2.327783e-05</td><td>-6.390911e-05</td><td>-9.064806e-05</td><td>-1.180394e-04</td><td>-1.377652e-04</td><td>-1.530070e-04</td><td>-1.446783e-04</td><td>-1.239940e-04</td><td>-1.974330e-04</td></tr>\n",
       "\t<tr><th scope=row>ts_rain:(Intercept)</th><td> 1.470714e-01</td><td>-1.109818e-03</td><td>-3.390483e-02</td><td>-3.134368e-04</td><td> 1.900791e-06</td><td>-5.623358e-03</td><td>-7.833152e-03</td><td>-4.987092e-03</td><td> 4.044953e-04</td><td> 5.442328e-03</td><td>...</td><td>-1.608630e-01</td><td>-1.024158e-01</td><td> 8.306789e-03</td><td> 1.117646e-01</td><td> 1.943382e-01</td><td> 2.564165e-01</td><td> 2.836887e-01</td><td> 2.788290e-01</td><td> 2.247534e-01</td><td> 1.310438e-01</td></tr>\n",
       "\t<tr><th scope=row>ts_rain:ts_river.l1</th><td>-1.109818e-03</td><td> 9.869934e-05</td><td> 9.239533e-05</td><td>-5.193029e-06</td><td> 2.436953e-08</td><td> 2.796378e-05</td><td> 3.223006e-05</td><td> 2.140916e-05</td><td>-2.074704e-06</td><td>-2.993510e-05</td><td>...</td><td> 6.618823e-04</td><td> 4.396623e-04</td><td>-4.260650e-05</td><td>-6.147526e-04</td><td>-8.403600e-04</td><td>-8.512179e-04</td><td>-9.686527e-04</td><td>-1.192388e-03</td><td>-8.983431e-04</td><td>-1.736527e-04</td></tr>\n",
       "\t<tr><th scope=row>ts_rain:ts_temp.l1</th><td>-3.390483e-02</td><td> 9.239533e-05</td><td> 8.127436e-03</td><td> 6.153839e-05</td><td>-5.672164e-07</td><td> 1.326607e-03</td><td> 1.862665e-03</td><td> 1.185555e-03</td><td>-8.669194e-05</td><td>-1.276740e-03</td><td>...</td><td> 3.825202e-02</td><td> 2.434678e-02</td><td>-1.780321e-03</td><td>-2.621936e-02</td><td>-4.602338e-02</td><td>-6.123124e-02</td><td>-6.754898e-02</td><td>-6.608752e-02</td><td>-5.345523e-02</td><td>-3.069048e-02</td></tr>\n",
       "\t<tr><th scope=row>ts_rain:ts_rain.l1</th><td>-3.134368e-04</td><td>-5.193029e-06</td><td> 6.153839e-05</td><td> 7.009042e-05</td><td>-5.240339e-09</td><td> 4.403605e-06</td><td>-1.458483e-06</td><td>-5.011387e-06</td><td>-2.586921e-05</td><td>-1.112920e-05</td><td>...</td><td>-2.995167e-05</td><td>-1.029147e-04</td><td>-5.312549e-04</td><td>-2.285514e-04</td><td>-3.438500e-04</td><td>-3.539843e-04</td><td>-7.946231e-04</td><td>-3.891684e-04</td><td>-1.185369e-04</td><td>-3.221559e-03</td></tr>\n",
       "\t<tr><th scope=row>ts_rain:trend</th><td> 1.900791e-06</td><td> 2.436953e-08</td><td>-5.672164e-07</td><td>-5.240339e-09</td><td> 7.016811e-10</td><td>-8.532108e-08</td><td>-1.201801e-07</td><td>-7.454424e-08</td><td> 1.059177e-08</td><td> 8.877227e-08</td><td>...</td><td>-2.468041e-06</td><td>-1.530854e-06</td><td> 2.175146e-07</td><td> 1.823043e-06</td><td> 3.192085e-06</td><td> 4.292701e-06</td><td> 4.700606e-06</td><td> 4.514372e-06</td><td> 3.669270e-06</td><td> 2.171295e-06</td></tr>\n",
       "\t<tr><th scope=row>ts_rain:sd1</th><td>-5.623358e-03</td><td> 2.796378e-05</td><td> 1.326607e-03</td><td> 4.403605e-06</td><td>-8.532108e-08</td><td> 8.977052e-04</td><td> 6.432740e-04</td><td> 5.322397e-04</td><td> 3.242092e-04</td><td> 1.264617e-04</td><td>...</td><td> 1.321039e-02</td><td> 1.093017e-02</td><td> 6.658018e-03</td><td> 2.597041e-03</td><td>-6.380463e-04</td><td>-3.107113e-03</td><td>-4.116642e-03</td><td>-3.936543e-03</td><td>-1.867770e-03</td><td> 2.137426e-03</td></tr>\n",
       "\t<tr><th scope=row>ts_rain:sd2</th><td>-7.833152e-03</td><td> 3.223006e-05</td><td> 1.862665e-03</td><td>-1.458483e-06</td><td>-1.201801e-07</td><td> 6.432740e-04</td><td> 1.104814e-03</td><td> 6.122721e-04</td><td> 3.221985e-04</td><td> 4.291042e-05</td><td>...</td><td> 2.268866e-02</td><td> 1.257373e-02</td><td> 6.616727e-03</td><td> 8.812162e-04</td><td>-3.665148e-03</td><td>-7.156995e-03</td><td>-8.525151e-03</td><td>-8.299241e-03</td><td>-5.426823e-03</td><td> 5.413250e-04</td></tr>\n",
       "\t<tr><th scope=row>ts_rain:sd3</th><td>-4.987092e-03</td><td> 2.140916e-05</td><td> 1.185555e-03</td><td>-5.011387e-06</td><td>-7.454424e-08</td><td> 5.322397e-04</td><td> 6.122721e-04</td><td> 8.496741e-04</td><td> 3.289450e-04</td><td> 1.497184e-04</td><td>...</td><td> 1.257373e-02</td><td> 1.744906e-02</td><td> 6.755273e-03</td><td> 3.074645e-03</td><td> 1.789057e-04</td><td>-2.048824e-03</td><td>-2.897079e-03</td><td>-2.777626e-03</td><td>-9.587413e-04</td><td> 3.033002e-03</td></tr>\n",
       "\t<tr><th scope=row>ts_rain:sd4</th><td> 4.044953e-04</td><td>-2.074704e-06</td><td>-8.669194e-05</td><td>-2.586921e-05</td><td> 1.059177e-08</td><td> 3.242092e-04</td><td> 3.221985e-04</td><td> 3.289450e-04</td><td> 6.836080e-04</td><td> 3.514024e-04</td><td>...</td><td> 6.616727e-03</td><td> 6.755273e-03</td><td> 1.403870e-02</td><td> 7.216463e-03</td><td> 7.414967e-03</td><td> 7.533377e-03</td><td> 7.745518e-03</td><td> 7.593871e-03</td><td> 7.390172e-03</td><td> 8.327085e-03</td></tr>\n",
       "\t<tr><th scope=row>ts_rain:sd5</th><td> 5.442328e-03</td><td>-2.993510e-05</td><td>-1.276740e-03</td><td>-1.112920e-05</td><td> 8.877227e-08</td><td> 1.264617e-04</td><td> 4.291042e-05</td><td> 1.497184e-04</td><td> 3.514024e-04</td><td> 8.765175e-04</td><td>...</td><td> 8.812162e-04</td><td> 3.074645e-03</td><td> 7.216463e-03</td><td> 1.800032e-02</td><td> 1.419555e-02</td><td> 1.655490e-02</td><td> 1.756813e-02</td><td> 1.736329e-02</td><td> 1.534867e-02</td><td> 1.181106e-02</td></tr>\n",
       "\t<tr><th scope=row>ts_rain:sd6</th><td> 9.463211e-03</td><td>-4.092095e-05</td><td>-2.241088e-03</td><td>-1.674362e-05</td><td> 1.554371e-07</td><td>-3.106937e-05</td><td>-1.784727e-04</td><td> 8.711733e-06</td><td> 3.610684e-04</td><td> 6.912456e-04</td><td>...</td><td>-3.665148e-03</td><td> 1.789057e-04</td><td> 7.414967e-03</td><td> 1.419555e-02</td><td> 2.657059e-02</td><td> 2.382261e-02</td><td> 2.557585e-02</td><td> 2.520692e-02</td><td> 2.169790e-02</td><td> 1.538003e-02</td></tr>\n",
       "\t<tr><th scope=row>ts_rain:sd7</th><td> 1.248609e-02</td><td>-4.144967e-05</td><td>-2.981628e-03</td><td>-1.723710e-05</td><td> 2.090311e-07</td><td>-1.512994e-04</td><td>-3.485066e-04</td><td>-9.976656e-05</td><td> 3.668344e-04</td><td> 8.061335e-04</td><td>...</td><td>-7.156995e-03</td><td>-2.048824e-03</td><td> 7.533377e-03</td><td> 1.655490e-02</td><td> 2.382261e-02</td><td> 3.631183e-02</td><td> 3.169055e-02</td><td> 3.119970e-02</td><td> 2.656669e-02</td><td> 1.795021e-02</td></tr>\n",
       "\t<tr><th scope=row>ts_rain:sd8</th><td> 1.381409e-02</td><td>-4.716811e-05</td><td>-3.289267e-03</td><td>-3.869381e-05</td><td> 2.288939e-07</td><td>-2.004580e-04</td><td>-4.151284e-04</td><td>-1.410719e-04</td><td> 3.771645e-04</td><td> 8.554721e-04</td><td>...</td><td>-8.525151e-03</td><td>-2.897079e-03</td><td> 7.745518e-03</td><td> 1.756813e-02</td><td> 2.557585e-02</td><td> 3.169055e-02</td><td> 4.124861e-02</td><td> 3.368771e-02</td><td> 2.852196e-02</td><td> 1.993616e-02</td></tr>\n",
       "\t<tr><th scope=row>ts_rain:sd9</th><td> 1.357745e-02</td><td>-5.806279e-05</td><td>-3.218102e-03</td><td>-1.895038e-05</td><td> 2.198253e-07</td><td>-1.916882e-04</td><td>-4.041278e-04</td><td>-1.352552e-04</td><td> 3.697801e-04</td><td> 8.454975e-04</td><td>...</td><td>-8.299241e-03</td><td>-2.777626e-03</td><td> 7.593871e-03</td><td> 1.736329e-02</td><td> 2.520692e-02</td><td> 3.119970e-02</td><td> 3.368771e-02</td><td> 4.009904e-02</td><td> 2.816045e-02</td><td> 1.885097e-02</td></tr>\n",
       "\t<tr><th scope=row>ts_rain:sd10</th><td> 1.094426e-02</td><td>-4.374441e-05</td><td>-2.602978e-03</td><td>-5.772102e-06</td><td> 1.786734e-07</td><td>-9.095019e-05</td><td>-2.642567e-04</td><td>-4.668547e-05</td><td> 3.598611e-04</td><td> 7.473966e-04</td><td>...</td><td>-5.426823e-03</td><td>-9.587413e-04</td><td> 7.390172e-03</td><td> 1.534867e-02</td><td> 2.169790e-02</td><td> 2.656669e-02</td><td> 2.852196e-02</td><td> 2.816045e-02</td><td> 3.104221e-02</td><td> 1.615589e-02</td></tr>\n",
       "\t<tr><th scope=row>ts_rain:sd11</th><td> 6.381118e-03</td><td>-8.455937e-06</td><td>-1.494459e-03</td><td>-1.568723e-04</td><td> 1.057302e-07</td><td> 1.040810e-04</td><td> 2.635958e-05</td><td> 1.476906e-04</td><td> 4.054836e-04</td><td> 5.751340e-04</td><td>...</td><td> 5.413250e-04</td><td> 3.033002e-03</td><td> 8.327085e-03</td><td> 1.181106e-02</td><td> 1.538003e-02</td><td> 1.795021e-02</td><td> 1.993616e-02</td><td> 1.885097e-02</td><td> 1.615589e-02</td><td> 2.572468e-02</td></tr>\n",
       "</tbody>\n",
       "</table>\n"
      ],
      "text/latex": [
       "A matrix: 48 × 48 of type dbl\n",
       "\\begin{tabular}{r|lllllllllllllllllllll}\n",
       "  & ts\\_river:(Intercept) & ts\\_river:ts\\_river.l1 & ts\\_river:ts\\_temp.l1 & ts\\_river:ts\\_rain.l1 & ts\\_river:trend & ts\\_river:sd1 & ts\\_river:sd2 & ts\\_river:sd3 & ts\\_river:sd4 & ts\\_river:sd5 & ... & ts\\_rain:sd2 & ts\\_rain:sd3 & ts\\_rain:sd4 & ts\\_rain:sd5 & ts\\_rain:sd6 & ts\\_rain:sd7 & ts\\_rain:sd8 & ts\\_rain:sd9 & ts\\_rain:sd10 & ts\\_rain:sd11\\\\\n",
       "\\hline\n",
       "\tts\\_river:(Intercept) &  9.418697e-01 & -7.107460e-03 & -2.171322e-01 & -2.007302e-03 &  1.217298e-05 & -3.601292e-02 & -5.016481e-02 & -3.193816e-02 &  2.590455e-03 &  3.485357e-02 & ... & -7.833152e-03 & -4.987092e-03 &  4.044953e-04 &  5.442328e-03 &  9.463211e-03 &  1.248609e-02 &  1.381409e-02 &  1.357745e-02 &  1.094426e-02 &  6.381118e-03\\\\\n",
       "\tts\\_river:ts\\_river.l1 & -7.107460e-03 &  6.320870e-04 &  5.917151e-04 & -3.325702e-05 &  1.560665e-07 &  1.790847e-04 &  2.064067e-04 &  1.371078e-04 & -1.328675e-05 & -1.917094e-04 & ... &  3.223006e-05 &  2.140916e-05 & -2.074704e-06 & -2.993510e-05 & -4.092095e-05 & -4.144967e-05 & -4.716811e-05 & -5.806279e-05 & -4.374441e-05 & -8.455937e-06\\\\\n",
       "\tts\\_river:ts\\_temp.l1 & -2.171322e-01 &  5.917151e-04 &  5.204945e-02 &  3.941021e-04 & -3.632548e-06 &  8.495815e-03 &  1.192881e-02 &  7.592493e-03 & -5.551896e-04 & -8.176455e-03 & ... &  1.862665e-03 &  1.185555e-03 & -8.669194e-05 & -1.276740e-03 & -2.241088e-03 & -2.981628e-03 & -3.289267e-03 & -3.218102e-03 & -2.602978e-03 & -1.494459e-03\\\\\n",
       "\tts\\_river:ts\\_rain.l1 & -2.007302e-03 & -3.325702e-05 &  3.941021e-04 &  4.488707e-04 & -3.356000e-08 &  2.820142e-05 & -9.340367e-06 & -3.209375e-05 & -1.656708e-04 & -7.127328e-05 & ... & -1.458483e-06 & -5.011387e-06 & -2.586921e-05 & -1.112920e-05 & -1.674362e-05 & -1.723710e-05 & -3.869381e-05 & -1.895038e-05 & -5.772102e-06 & -1.568723e-04\\\\\n",
       "\tts\\_river:trend &  1.217298e-05 &  1.560665e-07 & -3.632548e-06 & -3.356000e-08 &  4.493683e-09 & -5.464104e-07 & -7.696536e-07 & -4.773937e-07 &  6.783148e-08 &  5.685124e-07 & ... & -1.201801e-07 & -7.454424e-08 &  1.059177e-08 &  8.877227e-08 &  1.554371e-07 &  2.090311e-07 &  2.288939e-07 &  2.198253e-07 &  1.786734e-07 &  1.057302e-07\\\\\n",
       "\tts\\_river:sd1 & -3.601292e-02 &  1.790847e-04 &  8.495815e-03 &  2.820142e-05 & -5.464104e-07 &  5.749054e-03 &  4.119634e-03 &  3.408552e-03 &  2.076290e-03 &  8.098821e-04 & ... &  6.432740e-04 &  5.322397e-04 &  3.242092e-04 &  1.264617e-04 & -3.106937e-05 & -1.512994e-04 & -2.004580e-04 & -1.916882e-04 & -9.095019e-05 &  1.040810e-04\\\\\n",
       "\tts\\_river:sd2 & -5.016481e-02 &  2.064067e-04 &  1.192881e-02 & -9.340367e-06 & -7.696536e-07 &  4.119634e-03 &  7.075412e-03 &  3.921092e-03 &  2.063413e-03 &  2.748055e-04 & ... &  1.104814e-03 &  6.122721e-04 &  3.221985e-04 &  4.291042e-05 & -1.784727e-04 & -3.485066e-04 & -4.151284e-04 & -4.041278e-04 & -2.642567e-04 &  2.635958e-05\\\\\n",
       "\tts\\_river:sd3 & -3.193816e-02 &  1.371078e-04 &  7.592493e-03 & -3.209375e-05 & -4.773937e-07 &  3.408552e-03 &  3.921092e-03 &  5.441454e-03 &  2.106618e-03 &  9.588217e-04 & ... &  6.122721e-04 &  8.496741e-04 &  3.289450e-04 &  1.497184e-04 &  8.711733e-06 & -9.976656e-05 & -1.410719e-04 & -1.352552e-04 & -4.668547e-05 &  1.476906e-04\\\\\n",
       "\tts\\_river:sd4 &  2.590455e-03 & -1.328675e-05 & -5.551896e-04 & -1.656708e-04 &  6.783148e-08 &  2.076290e-03 &  2.063413e-03 &  2.106618e-03 &  4.377940e-03 &  2.250439e-03 & ... &  3.221985e-04 &  3.289450e-04 &  6.836080e-04 &  3.514024e-04 &  3.610684e-04 &  3.668344e-04 &  3.771645e-04 &  3.697801e-04 &  3.598611e-04 &  4.054836e-04\\\\\n",
       "\tts\\_river:sd5 &  3.485357e-02 & -1.917094e-04 & -8.176455e-03 & -7.127328e-05 &  5.685124e-07 &  8.098821e-04 &  2.748055e-04 &  9.588217e-04 &  2.250439e-03 &  5.613364e-03 & ... &  4.291042e-05 &  1.497184e-04 &  3.514024e-04 &  8.765175e-04 &  6.912456e-04 &  8.061335e-04 &  8.554721e-04 &  8.454975e-04 &  7.473966e-04 &  5.751340e-04\\\\\n",
       "\tts\\_river:sd6 &  6.060398e-02 & -2.620646e-04 & -1.435230e-02 & -1.072289e-04 &  9.954452e-07 & -1.989734e-04 & -1.142969e-03 &  5.579139e-05 &  2.312342e-03 &  4.426852e-03 & ... & -1.784727e-04 &  8.711733e-06 &  3.610684e-04 &  6.912456e-04 &  1.293843e-03 &  1.160031e-03 &  1.245405e-03 &  1.227440e-03 &  1.056569e-03 &  7.489238e-04\\\\\n",
       "\tts\\_river:sd7 &  7.996297e-02 & -2.654506e-04 & -1.909484e-02 & -1.103893e-04 &  1.338670e-06 & -9.689468e-04 & -2.231894e-03 & -6.389217e-04 &  2.349268e-03 &  5.162613e-03 & ... & -3.485066e-04 & -9.976656e-05 &  3.668344e-04 &  8.061335e-04 &  1.160031e-03 &  1.768188e-03 &  1.543157e-03 &  1.519255e-03 &  1.293653e-03 &  8.740774e-04\\\\\n",
       "\tts\\_river:sd8 &  8.846773e-02 & -3.020724e-04 & -2.106501e-02 & -2.478016e-04 &  1.465874e-06 & -1.283767e-03 & -2.658551e-03 & -9.034481e-04 &  2.415424e-03 &  5.478586e-03 & ... & -4.151284e-04 & -1.410719e-04 &  3.771645e-04 &  8.554721e-04 &  1.245405e-03 &  1.543157e-03 &  2.008582e-03 &  1.640408e-03 &  1.388864e-03 &  9.707823e-04\\\\\n",
       "\tts\\_river:sd9 &  8.695224e-02 & -3.718438e-04 & -2.060926e-02 & -1.213614e-04 &  1.407798e-06 & -1.227603e-03 & -2.588101e-03 & -8.661969e-04 &  2.368133e-03 &  5.414707e-03 & ... & -4.041278e-04 & -1.352552e-04 &  3.697801e-04 &  8.454975e-04 &  1.227440e-03 &  1.519255e-03 &  1.640408e-03 &  1.952604e-03 &  1.371260e-03 &  9.179395e-04\\\\\n",
       "\tts\\_river:sd10 &  7.008889e-02 & -2.801465e-04 & -1.666990e-02 & -3.696550e-05 &  1.144254e-06 & -5.824602e-04 & -1.692344e-03 & -2.989815e-04 &  2.304610e-03 &  4.786452e-03 & ... & -2.642567e-04 & -4.668547e-05 &  3.598611e-04 &  7.473966e-04 &  1.056569e-03 &  1.293653e-03 &  1.388864e-03 &  1.371260e-03 &  1.511586e-03 &  7.867039e-04\\\\\n",
       "\tts\\_river:sd11 &  4.086574e-02 & -5.415323e-05 & -9.570765e-03 & -1.004637e-03 &  6.771138e-07 &  6.665519e-04 &  1.688111e-04 &  9.458355e-04 &  2.596785e-03 &  3.683254e-03 & ... &  2.635958e-05 &  1.476906e-04 &  4.054836e-04 &  5.751340e-04 &  7.489238e-04 &  8.740774e-04 &  9.707823e-04 &  9.179395e-04 &  7.867039e-04 &  1.252652e-03\\\\\n",
       "\tts\\_temp:(Intercept) & -4.080929e-03 &  3.079517e-05 &  9.407893e-04 &  8.697229e-06 & -5.274304e-08 &  1.560366e-04 &  2.173539e-04 &  1.383815e-04 & -1.122391e-05 & -1.510134e-04 & ... &  1.234599e-03 &  7.860258e-04 & -6.375335e-05 & -8.577765e-04 & -1.491516e-03 & -1.967958e-03 & -2.177267e-03 & -2.139970e-03 & -1.724948e-03 & -1.005741e-03\\\\\n",
       "\tts\\_temp:ts\\_river.l1 &  3.079517e-05 & -2.738704e-06 & -2.563781e-06 &  1.440959e-07 & -6.762044e-10 & -7.759375e-07 & -8.943180e-07 & -5.940601e-07 &  5.756878e-08 &  8.306375e-07 & ... & -5.079846e-06 & -3.374341e-06 &  3.269984e-07 &  4.718133e-06 &  6.449635e-06 &  6.532968e-06 &  7.434263e-06 &  9.151397e-06 &  6.894646e-06 &  1.332758e-06\\\\\n",
       "\tts\\_temp:ts\\_temp.l1 &  9.407893e-04 & -2.563781e-06 & -2.255196e-04 & -1.707564e-06 &  1.573909e-08 & -3.681063e-05 & -5.168512e-05 & -3.289672e-05 &  2.405523e-06 &  3.542691e-05 & ... & -2.935784e-04 & -1.868578e-04 &  1.366370e-05 &  2.012296e-04 &  3.532225e-04 &  4.699405e-04 &  5.184282e-04 &  5.072117e-04 &  4.102607e-04 &  2.355448e-04\\\\\n",
       "\tts\\_temp:ts\\_rain.l1 &  8.697229e-06 &  1.440959e-07 & -1.707564e-06 & -1.944865e-06 &  1.454086e-10 & -1.221910e-07 &  4.046991e-08 &  1.390557e-07 &  7.178175e-07 &  3.088126e-07 & ... &  2.298745e-07 &  7.898550e-07 &  4.077300e-06 &  1.754097e-06 &  2.638996e-06 &  2.716776e-06 &  6.098611e-06 &  2.986808e-06 &  9.097530e-07 &  2.472497e-05\\\\\n",
       "\tts\\_temp:trend & -5.274304e-08 & -6.762044e-10 &  1.573909e-08 &  1.454086e-10 & -1.947021e-11 &  2.367485e-09 &  3.334752e-09 &  2.068450e-09 & -2.939000e-10 & -2.463248e-09 & ... &  1.894184e-08 &  1.174907e-08 & -1.669391e-09 & -1.399158e-08 & -2.449877e-08 & -3.294582e-08 & -3.607643e-08 & -3.464712e-08 & -2.816109e-08 & -1.666436e-08\\\\\n",
       "\tts\\_temp:sd1 &  1.560366e-04 & -7.759375e-07 & -3.681063e-05 & -1.221910e-07 &  2.367485e-09 & -2.490948e-05 & -1.784953e-05 & -1.476856e-05 & -8.996139e-06 & -3.509054e-06 & ... & -1.013878e-04 & -8.388740e-05 & -5.109928e-05 & -1.993190e-05 &  4.896908e-06 &  2.384662e-05 &  3.159460e-05 &  3.021237e-05 &  1.433485e-05 & -1.640442e-05\\\\\n",
       "\tts\\_temp:sd2 &  2.173539e-04 & -8.943180e-07 & -5.168512e-05 &  4.046991e-08 &  3.334752e-09 & -1.784953e-05 & -3.065631e-05 & -1.698929e-05 & -8.940347e-06 & -1.190676e-06 & ... & -1.741320e-04 & -9.650147e-05 & -5.078237e-05 & -6.763200e-06 &  2.812945e-05 &  5.492885e-05 &  6.542924e-05 &  6.369541e-05 &  4.165004e-05 & -4.154587e-06\\\\\n",
       "\tts\\_temp:sd3 &  1.383815e-04 & -5.940601e-07 & -3.289672e-05 &  1.390557e-07 &  2.068450e-09 & -1.476856e-05 & -1.698929e-05 & -2.357671e-05 & -9.127547e-06 & -4.154379e-06 & ... & -9.650147e-05 & -1.339189e-04 & -5.184569e-05 & -2.359743e-05 & -1.373074e-06 &  1.572441e-05 &  2.223464e-05 &  2.131785e-05 &  7.358194e-06 & -2.327783e-05\\\\\n",
       "\tts\\_temp:sd4 & -1.122391e-05 &  5.756878e-08 &  2.405523e-06 &  7.178175e-07 & -2.939000e-10 & -8.996139e-06 & -8.940347e-06 & -9.127547e-06 & -1.896872e-05 & -9.750694e-06 & ... & -5.078237e-05 & -5.184569e-05 & -1.077449e-04 & -5.538526e-05 & -5.690874e-05 & -5.781752e-05 & -5.944568e-05 & -5.828180e-05 & -5.671844e-05 & -6.390911e-05\\\\\n",
       "\tts\\_temp:sd5 & -1.510134e-04 &  8.306375e-07 &  3.542691e-05 &  3.088126e-07 & -2.463248e-09 & -3.509054e-06 & -1.190676e-06 & -4.154379e-06 & -9.750694e-06 & -2.432156e-05 & ... & -6.763200e-06 & -2.359743e-05 & -5.538526e-05 & -1.381497e-04 & -1.089487e-04 & -1.270564e-04 & -1.348327e-04 & -1.332606e-04 & -1.177987e-04 & -9.064806e-05\\\\\n",
       "\tts\\_temp:sd6 & -2.625847e-04 &  1.135472e-06 &  6.218558e-05 &  4.646010e-07 & -4.313061e-09 &  8.621113e-07 &  4.952251e-06 & -2.417327e-07 & -1.001891e-05 & -1.918065e-05 & ... &  2.812945e-05 & -1.373074e-06 & -5.690874e-05 & -1.089487e-04 & -2.039253e-04 & -1.828349e-04 & -1.962908e-04 & -1.934593e-04 & -1.665281e-04 & -1.180394e-04\\\\\n",
       "\tts\\_temp:sd7 & -3.464632e-04 &  1.150143e-06 &  8.273404e-05 &  4.782942e-07 & -5.800184e-09 &  4.198249e-06 &  9.670343e-06 &  2.768317e-06 & -1.017890e-05 & -2.236855e-05 & ... &  5.492885e-05 &  1.572441e-05 & -5.781752e-05 & -1.270564e-04 & -1.828349e-04 & -2.786877e-04 & -2.432201e-04 & -2.394530e-04 & -2.038953e-04 & -1.377652e-04\\\\\n",
       "\tts\\_temp:sd8 & -3.833126e-04 &  1.308818e-06 &  9.127041e-05 &  1.073674e-06 & -6.351334e-09 &  5.562298e-06 &  1.151896e-05 &  3.914456e-06 & -1.046554e-05 & -2.373759e-05 & ... &  6.542924e-05 &  2.223464e-05 & -5.944568e-05 & -1.348327e-04 & -1.962908e-04 & -2.432201e-04 & -3.165768e-04 & -2.585481e-04 & -2.189017e-04 & -1.530070e-04\\\\\n",
       "\tts\\_temp:sd9 & -3.767463e-04 &  1.611123e-06 &  8.929572e-05 &  5.258341e-07 & -6.099701e-09 &  5.318953e-06 &  1.121372e-05 &  3.753054e-06 & -1.026064e-05 & -2.346082e-05 & ... &  6.369541e-05 &  2.131785e-05 & -5.828180e-05 & -1.332606e-04 & -1.934593e-04 & -2.394530e-04 & -2.585481e-04 & -3.077540e-04 & -2.161272e-04 & -1.446783e-04\\\\\n",
       "\tts\\_temp:sd10 & -3.036809e-04 &  1.213817e-06 &  7.222729e-05 &  1.601640e-07 & -4.957820e-09 &  2.523681e-06 &  7.332580e-06 &  1.295426e-06 & -9.985405e-06 & -2.073872e-05 & ... &  4.165004e-05 &  7.358194e-06 & -5.671844e-05 & -1.177987e-04 & -1.665281e-04 & -2.038953e-04 & -2.189017e-04 & -2.161272e-04 & -2.382442e-04 & -1.239940e-04\\\\\n",
       "\tts\\_temp:sd11 & -1.770629e-04 &  2.346349e-07 &  4.146817e-05 &  4.352885e-06 & -2.933796e-09 & -2.888033e-06 & -7.314241e-07 & -4.098112e-06 & -1.125134e-05 & -1.595879e-05 & ... & -4.154587e-06 & -2.327783e-05 & -6.390911e-05 & -9.064806e-05 & -1.180394e-04 & -1.377652e-04 & -1.530070e-04 & -1.446783e-04 & -1.239940e-04 & -1.974330e-04\\\\\n",
       "\tts\\_rain:(Intercept) &  1.470714e-01 & -1.109818e-03 & -3.390483e-02 & -3.134368e-04 &  1.900791e-06 & -5.623358e-03 & -7.833152e-03 & -4.987092e-03 &  4.044953e-04 &  5.442328e-03 & ... & -1.608630e-01 & -1.024158e-01 &  8.306789e-03 &  1.117646e-01 &  1.943382e-01 &  2.564165e-01 &  2.836887e-01 &  2.788290e-01 &  2.247534e-01 &  1.310438e-01\\\\\n",
       "\tts\\_rain:ts\\_river.l1 & -1.109818e-03 &  9.869934e-05 &  9.239533e-05 & -5.193029e-06 &  2.436953e-08 &  2.796378e-05 &  3.223006e-05 &  2.140916e-05 & -2.074704e-06 & -2.993510e-05 & ... &  6.618823e-04 &  4.396623e-04 & -4.260650e-05 & -6.147526e-04 & -8.403600e-04 & -8.512179e-04 & -9.686527e-04 & -1.192388e-03 & -8.983431e-04 & -1.736527e-04\\\\\n",
       "\tts\\_rain:ts\\_temp.l1 & -3.390483e-02 &  9.239533e-05 &  8.127436e-03 &  6.153839e-05 & -5.672164e-07 &  1.326607e-03 &  1.862665e-03 &  1.185555e-03 & -8.669194e-05 & -1.276740e-03 & ... &  3.825202e-02 &  2.434678e-02 & -1.780321e-03 & -2.621936e-02 & -4.602338e-02 & -6.123124e-02 & -6.754898e-02 & -6.608752e-02 & -5.345523e-02 & -3.069048e-02\\\\\n",
       "\tts\\_rain:ts\\_rain.l1 & -3.134368e-04 & -5.193029e-06 &  6.153839e-05 &  7.009042e-05 & -5.240339e-09 &  4.403605e-06 & -1.458483e-06 & -5.011387e-06 & -2.586921e-05 & -1.112920e-05 & ... & -2.995167e-05 & -1.029147e-04 & -5.312549e-04 & -2.285514e-04 & -3.438500e-04 & -3.539843e-04 & -7.946231e-04 & -3.891684e-04 & -1.185369e-04 & -3.221559e-03\\\\\n",
       "\tts\\_rain:trend &  1.900791e-06 &  2.436953e-08 & -5.672164e-07 & -5.240339e-09 &  7.016811e-10 & -8.532108e-08 & -1.201801e-07 & -7.454424e-08 &  1.059177e-08 &  8.877227e-08 & ... & -2.468041e-06 & -1.530854e-06 &  2.175146e-07 &  1.823043e-06 &  3.192085e-06 &  4.292701e-06 &  4.700606e-06 &  4.514372e-06 &  3.669270e-06 &  2.171295e-06\\\\\n",
       "\tts\\_rain:sd1 & -5.623358e-03 &  2.796378e-05 &  1.326607e-03 &  4.403605e-06 & -8.532108e-08 &  8.977052e-04 &  6.432740e-04 &  5.322397e-04 &  3.242092e-04 &  1.264617e-04 & ... &  1.321039e-02 &  1.093017e-02 &  6.658018e-03 &  2.597041e-03 & -6.380463e-04 & -3.107113e-03 & -4.116642e-03 & -3.936543e-03 & -1.867770e-03 &  2.137426e-03\\\\\n",
       "\tts\\_rain:sd2 & -7.833152e-03 &  3.223006e-05 &  1.862665e-03 & -1.458483e-06 & -1.201801e-07 &  6.432740e-04 &  1.104814e-03 &  6.122721e-04 &  3.221985e-04 &  4.291042e-05 & ... &  2.268866e-02 &  1.257373e-02 &  6.616727e-03 &  8.812162e-04 & -3.665148e-03 & -7.156995e-03 & -8.525151e-03 & -8.299241e-03 & -5.426823e-03 &  5.413250e-04\\\\\n",
       "\tts\\_rain:sd3 & -4.987092e-03 &  2.140916e-05 &  1.185555e-03 & -5.011387e-06 & -7.454424e-08 &  5.322397e-04 &  6.122721e-04 &  8.496741e-04 &  3.289450e-04 &  1.497184e-04 & ... &  1.257373e-02 &  1.744906e-02 &  6.755273e-03 &  3.074645e-03 &  1.789057e-04 & -2.048824e-03 & -2.897079e-03 & -2.777626e-03 & -9.587413e-04 &  3.033002e-03\\\\\n",
       "\tts\\_rain:sd4 &  4.044953e-04 & -2.074704e-06 & -8.669194e-05 & -2.586921e-05 &  1.059177e-08 &  3.242092e-04 &  3.221985e-04 &  3.289450e-04 &  6.836080e-04 &  3.514024e-04 & ... &  6.616727e-03 &  6.755273e-03 &  1.403870e-02 &  7.216463e-03 &  7.414967e-03 &  7.533377e-03 &  7.745518e-03 &  7.593871e-03 &  7.390172e-03 &  8.327085e-03\\\\\n",
       "\tts\\_rain:sd5 &  5.442328e-03 & -2.993510e-05 & -1.276740e-03 & -1.112920e-05 &  8.877227e-08 &  1.264617e-04 &  4.291042e-05 &  1.497184e-04 &  3.514024e-04 &  8.765175e-04 & ... &  8.812162e-04 &  3.074645e-03 &  7.216463e-03 &  1.800032e-02 &  1.419555e-02 &  1.655490e-02 &  1.756813e-02 &  1.736329e-02 &  1.534867e-02 &  1.181106e-02\\\\\n",
       "\tts\\_rain:sd6 &  9.463211e-03 & -4.092095e-05 & -2.241088e-03 & -1.674362e-05 &  1.554371e-07 & -3.106937e-05 & -1.784727e-04 &  8.711733e-06 &  3.610684e-04 &  6.912456e-04 & ... & -3.665148e-03 &  1.789057e-04 &  7.414967e-03 &  1.419555e-02 &  2.657059e-02 &  2.382261e-02 &  2.557585e-02 &  2.520692e-02 &  2.169790e-02 &  1.538003e-02\\\\\n",
       "\tts\\_rain:sd7 &  1.248609e-02 & -4.144967e-05 & -2.981628e-03 & -1.723710e-05 &  2.090311e-07 & -1.512994e-04 & -3.485066e-04 & -9.976656e-05 &  3.668344e-04 &  8.061335e-04 & ... & -7.156995e-03 & -2.048824e-03 &  7.533377e-03 &  1.655490e-02 &  2.382261e-02 &  3.631183e-02 &  3.169055e-02 &  3.119970e-02 &  2.656669e-02 &  1.795021e-02\\\\\n",
       "\tts\\_rain:sd8 &  1.381409e-02 & -4.716811e-05 & -3.289267e-03 & -3.869381e-05 &  2.288939e-07 & -2.004580e-04 & -4.151284e-04 & -1.410719e-04 &  3.771645e-04 &  8.554721e-04 & ... & -8.525151e-03 & -2.897079e-03 &  7.745518e-03 &  1.756813e-02 &  2.557585e-02 &  3.169055e-02 &  4.124861e-02 &  3.368771e-02 &  2.852196e-02 &  1.993616e-02\\\\\n",
       "\tts\\_rain:sd9 &  1.357745e-02 & -5.806279e-05 & -3.218102e-03 & -1.895038e-05 &  2.198253e-07 & -1.916882e-04 & -4.041278e-04 & -1.352552e-04 &  3.697801e-04 &  8.454975e-04 & ... & -8.299241e-03 & -2.777626e-03 &  7.593871e-03 &  1.736329e-02 &  2.520692e-02 &  3.119970e-02 &  3.368771e-02 &  4.009904e-02 &  2.816045e-02 &  1.885097e-02\\\\\n",
       "\tts\\_rain:sd10 &  1.094426e-02 & -4.374441e-05 & -2.602978e-03 & -5.772102e-06 &  1.786734e-07 & -9.095019e-05 & -2.642567e-04 & -4.668547e-05 &  3.598611e-04 &  7.473966e-04 & ... & -5.426823e-03 & -9.587413e-04 &  7.390172e-03 &  1.534867e-02 &  2.169790e-02 &  2.656669e-02 &  2.852196e-02 &  2.816045e-02 &  3.104221e-02 &  1.615589e-02\\\\\n",
       "\tts\\_rain:sd11 &  6.381118e-03 & -8.455937e-06 & -1.494459e-03 & -1.568723e-04 &  1.057302e-07 &  1.040810e-04 &  2.635958e-05 &  1.476906e-04 &  4.054836e-04 &  5.751340e-04 & ... &  5.413250e-04 &  3.033002e-03 &  8.327085e-03 &  1.181106e-02 &  1.538003e-02 &  1.795021e-02 &  1.993616e-02 &  1.885097e-02 &  1.615589e-02 &  2.572468e-02\\\\\n",
       "\\end{tabular}\n"
      ],
      "text/markdown": [
       "\n",
       "A matrix: 48 × 48 of type dbl\n",
       "\n",
       "| <!--/--> | ts_river:(Intercept) | ts_river:ts_river.l1 | ts_river:ts_temp.l1 | ts_river:ts_rain.l1 | ts_river:trend | ts_river:sd1 | ts_river:sd2 | ts_river:sd3 | ts_river:sd4 | ts_river:sd5 | ... | ts_rain:sd2 | ts_rain:sd3 | ts_rain:sd4 | ts_rain:sd5 | ts_rain:sd6 | ts_rain:sd7 | ts_rain:sd8 | ts_rain:sd9 | ts_rain:sd10 | ts_rain:sd11 |\n",
       "|---|---|---|---|---|---|---|---|---|---|---|---|---|---|---|---|---|---|---|---|---|---|\n",
       "| ts_river:(Intercept) |  9.418697e-01 | -7.107460e-03 | -2.171322e-01 | -2.007302e-03 |  1.217298e-05 | -3.601292e-02 | -5.016481e-02 | -3.193816e-02 |  2.590455e-03 |  3.485357e-02 | ... | -7.833152e-03 | -4.987092e-03 |  4.044953e-04 |  5.442328e-03 |  9.463211e-03 |  1.248609e-02 |  1.381409e-02 |  1.357745e-02 |  1.094426e-02 |  6.381118e-03 |\n",
       "| ts_river:ts_river.l1 | -7.107460e-03 |  6.320870e-04 |  5.917151e-04 | -3.325702e-05 |  1.560665e-07 |  1.790847e-04 |  2.064067e-04 |  1.371078e-04 | -1.328675e-05 | -1.917094e-04 | ... |  3.223006e-05 |  2.140916e-05 | -2.074704e-06 | -2.993510e-05 | -4.092095e-05 | -4.144967e-05 | -4.716811e-05 | -5.806279e-05 | -4.374441e-05 | -8.455937e-06 |\n",
       "| ts_river:ts_temp.l1 | -2.171322e-01 |  5.917151e-04 |  5.204945e-02 |  3.941021e-04 | -3.632548e-06 |  8.495815e-03 |  1.192881e-02 |  7.592493e-03 | -5.551896e-04 | -8.176455e-03 | ... |  1.862665e-03 |  1.185555e-03 | -8.669194e-05 | -1.276740e-03 | -2.241088e-03 | -2.981628e-03 | -3.289267e-03 | -3.218102e-03 | -2.602978e-03 | -1.494459e-03 |\n",
       "| ts_river:ts_rain.l1 | -2.007302e-03 | -3.325702e-05 |  3.941021e-04 |  4.488707e-04 | -3.356000e-08 |  2.820142e-05 | -9.340367e-06 | -3.209375e-05 | -1.656708e-04 | -7.127328e-05 | ... | -1.458483e-06 | -5.011387e-06 | -2.586921e-05 | -1.112920e-05 | -1.674362e-05 | -1.723710e-05 | -3.869381e-05 | -1.895038e-05 | -5.772102e-06 | -1.568723e-04 |\n",
       "| ts_river:trend |  1.217298e-05 |  1.560665e-07 | -3.632548e-06 | -3.356000e-08 |  4.493683e-09 | -5.464104e-07 | -7.696536e-07 | -4.773937e-07 |  6.783148e-08 |  5.685124e-07 | ... | -1.201801e-07 | -7.454424e-08 |  1.059177e-08 |  8.877227e-08 |  1.554371e-07 |  2.090311e-07 |  2.288939e-07 |  2.198253e-07 |  1.786734e-07 |  1.057302e-07 |\n",
       "| ts_river:sd1 | -3.601292e-02 |  1.790847e-04 |  8.495815e-03 |  2.820142e-05 | -5.464104e-07 |  5.749054e-03 |  4.119634e-03 |  3.408552e-03 |  2.076290e-03 |  8.098821e-04 | ... |  6.432740e-04 |  5.322397e-04 |  3.242092e-04 |  1.264617e-04 | -3.106937e-05 | -1.512994e-04 | -2.004580e-04 | -1.916882e-04 | -9.095019e-05 |  1.040810e-04 |\n",
       "| ts_river:sd2 | -5.016481e-02 |  2.064067e-04 |  1.192881e-02 | -9.340367e-06 | -7.696536e-07 |  4.119634e-03 |  7.075412e-03 |  3.921092e-03 |  2.063413e-03 |  2.748055e-04 | ... |  1.104814e-03 |  6.122721e-04 |  3.221985e-04 |  4.291042e-05 | -1.784727e-04 | -3.485066e-04 | -4.151284e-04 | -4.041278e-04 | -2.642567e-04 |  2.635958e-05 |\n",
       "| ts_river:sd3 | -3.193816e-02 |  1.371078e-04 |  7.592493e-03 | -3.209375e-05 | -4.773937e-07 |  3.408552e-03 |  3.921092e-03 |  5.441454e-03 |  2.106618e-03 |  9.588217e-04 | ... |  6.122721e-04 |  8.496741e-04 |  3.289450e-04 |  1.497184e-04 |  8.711733e-06 | -9.976656e-05 | -1.410719e-04 | -1.352552e-04 | -4.668547e-05 |  1.476906e-04 |\n",
       "| ts_river:sd4 |  2.590455e-03 | -1.328675e-05 | -5.551896e-04 | -1.656708e-04 |  6.783148e-08 |  2.076290e-03 |  2.063413e-03 |  2.106618e-03 |  4.377940e-03 |  2.250439e-03 | ... |  3.221985e-04 |  3.289450e-04 |  6.836080e-04 |  3.514024e-04 |  3.610684e-04 |  3.668344e-04 |  3.771645e-04 |  3.697801e-04 |  3.598611e-04 |  4.054836e-04 |\n",
       "| ts_river:sd5 |  3.485357e-02 | -1.917094e-04 | -8.176455e-03 | -7.127328e-05 |  5.685124e-07 |  8.098821e-04 |  2.748055e-04 |  9.588217e-04 |  2.250439e-03 |  5.613364e-03 | ... |  4.291042e-05 |  1.497184e-04 |  3.514024e-04 |  8.765175e-04 |  6.912456e-04 |  8.061335e-04 |  8.554721e-04 |  8.454975e-04 |  7.473966e-04 |  5.751340e-04 |\n",
       "| ts_river:sd6 |  6.060398e-02 | -2.620646e-04 | -1.435230e-02 | -1.072289e-04 |  9.954452e-07 | -1.989734e-04 | -1.142969e-03 |  5.579139e-05 |  2.312342e-03 |  4.426852e-03 | ... | -1.784727e-04 |  8.711733e-06 |  3.610684e-04 |  6.912456e-04 |  1.293843e-03 |  1.160031e-03 |  1.245405e-03 |  1.227440e-03 |  1.056569e-03 |  7.489238e-04 |\n",
       "| ts_river:sd7 |  7.996297e-02 | -2.654506e-04 | -1.909484e-02 | -1.103893e-04 |  1.338670e-06 | -9.689468e-04 | -2.231894e-03 | -6.389217e-04 |  2.349268e-03 |  5.162613e-03 | ... | -3.485066e-04 | -9.976656e-05 |  3.668344e-04 |  8.061335e-04 |  1.160031e-03 |  1.768188e-03 |  1.543157e-03 |  1.519255e-03 |  1.293653e-03 |  8.740774e-04 |\n",
       "| ts_river:sd8 |  8.846773e-02 | -3.020724e-04 | -2.106501e-02 | -2.478016e-04 |  1.465874e-06 | -1.283767e-03 | -2.658551e-03 | -9.034481e-04 |  2.415424e-03 |  5.478586e-03 | ... | -4.151284e-04 | -1.410719e-04 |  3.771645e-04 |  8.554721e-04 |  1.245405e-03 |  1.543157e-03 |  2.008582e-03 |  1.640408e-03 |  1.388864e-03 |  9.707823e-04 |\n",
       "| ts_river:sd9 |  8.695224e-02 | -3.718438e-04 | -2.060926e-02 | -1.213614e-04 |  1.407798e-06 | -1.227603e-03 | -2.588101e-03 | -8.661969e-04 |  2.368133e-03 |  5.414707e-03 | ... | -4.041278e-04 | -1.352552e-04 |  3.697801e-04 |  8.454975e-04 |  1.227440e-03 |  1.519255e-03 |  1.640408e-03 |  1.952604e-03 |  1.371260e-03 |  9.179395e-04 |\n",
       "| ts_river:sd10 |  7.008889e-02 | -2.801465e-04 | -1.666990e-02 | -3.696550e-05 |  1.144254e-06 | -5.824602e-04 | -1.692344e-03 | -2.989815e-04 |  2.304610e-03 |  4.786452e-03 | ... | -2.642567e-04 | -4.668547e-05 |  3.598611e-04 |  7.473966e-04 |  1.056569e-03 |  1.293653e-03 |  1.388864e-03 |  1.371260e-03 |  1.511586e-03 |  7.867039e-04 |\n",
       "| ts_river:sd11 |  4.086574e-02 | -5.415323e-05 | -9.570765e-03 | -1.004637e-03 |  6.771138e-07 |  6.665519e-04 |  1.688111e-04 |  9.458355e-04 |  2.596785e-03 |  3.683254e-03 | ... |  2.635958e-05 |  1.476906e-04 |  4.054836e-04 |  5.751340e-04 |  7.489238e-04 |  8.740774e-04 |  9.707823e-04 |  9.179395e-04 |  7.867039e-04 |  1.252652e-03 |\n",
       "| ts_temp:(Intercept) | -4.080929e-03 |  3.079517e-05 |  9.407893e-04 |  8.697229e-06 | -5.274304e-08 |  1.560366e-04 |  2.173539e-04 |  1.383815e-04 | -1.122391e-05 | -1.510134e-04 | ... |  1.234599e-03 |  7.860258e-04 | -6.375335e-05 | -8.577765e-04 | -1.491516e-03 | -1.967958e-03 | -2.177267e-03 | -2.139970e-03 | -1.724948e-03 | -1.005741e-03 |\n",
       "| ts_temp:ts_river.l1 |  3.079517e-05 | -2.738704e-06 | -2.563781e-06 |  1.440959e-07 | -6.762044e-10 | -7.759375e-07 | -8.943180e-07 | -5.940601e-07 |  5.756878e-08 |  8.306375e-07 | ... | -5.079846e-06 | -3.374341e-06 |  3.269984e-07 |  4.718133e-06 |  6.449635e-06 |  6.532968e-06 |  7.434263e-06 |  9.151397e-06 |  6.894646e-06 |  1.332758e-06 |\n",
       "| ts_temp:ts_temp.l1 |  9.407893e-04 | -2.563781e-06 | -2.255196e-04 | -1.707564e-06 |  1.573909e-08 | -3.681063e-05 | -5.168512e-05 | -3.289672e-05 |  2.405523e-06 |  3.542691e-05 | ... | -2.935784e-04 | -1.868578e-04 |  1.366370e-05 |  2.012296e-04 |  3.532225e-04 |  4.699405e-04 |  5.184282e-04 |  5.072117e-04 |  4.102607e-04 |  2.355448e-04 |\n",
       "| ts_temp:ts_rain.l1 |  8.697229e-06 |  1.440959e-07 | -1.707564e-06 | -1.944865e-06 |  1.454086e-10 | -1.221910e-07 |  4.046991e-08 |  1.390557e-07 |  7.178175e-07 |  3.088126e-07 | ... |  2.298745e-07 |  7.898550e-07 |  4.077300e-06 |  1.754097e-06 |  2.638996e-06 |  2.716776e-06 |  6.098611e-06 |  2.986808e-06 |  9.097530e-07 |  2.472497e-05 |\n",
       "| ts_temp:trend | -5.274304e-08 | -6.762044e-10 |  1.573909e-08 |  1.454086e-10 | -1.947021e-11 |  2.367485e-09 |  3.334752e-09 |  2.068450e-09 | -2.939000e-10 | -2.463248e-09 | ... |  1.894184e-08 |  1.174907e-08 | -1.669391e-09 | -1.399158e-08 | -2.449877e-08 | -3.294582e-08 | -3.607643e-08 | -3.464712e-08 | -2.816109e-08 | -1.666436e-08 |\n",
       "| ts_temp:sd1 |  1.560366e-04 | -7.759375e-07 | -3.681063e-05 | -1.221910e-07 |  2.367485e-09 | -2.490948e-05 | -1.784953e-05 | -1.476856e-05 | -8.996139e-06 | -3.509054e-06 | ... | -1.013878e-04 | -8.388740e-05 | -5.109928e-05 | -1.993190e-05 |  4.896908e-06 |  2.384662e-05 |  3.159460e-05 |  3.021237e-05 |  1.433485e-05 | -1.640442e-05 |\n",
       "| ts_temp:sd2 |  2.173539e-04 | -8.943180e-07 | -5.168512e-05 |  4.046991e-08 |  3.334752e-09 | -1.784953e-05 | -3.065631e-05 | -1.698929e-05 | -8.940347e-06 | -1.190676e-06 | ... | -1.741320e-04 | -9.650147e-05 | -5.078237e-05 | -6.763200e-06 |  2.812945e-05 |  5.492885e-05 |  6.542924e-05 |  6.369541e-05 |  4.165004e-05 | -4.154587e-06 |\n",
       "| ts_temp:sd3 |  1.383815e-04 | -5.940601e-07 | -3.289672e-05 |  1.390557e-07 |  2.068450e-09 | -1.476856e-05 | -1.698929e-05 | -2.357671e-05 | -9.127547e-06 | -4.154379e-06 | ... | -9.650147e-05 | -1.339189e-04 | -5.184569e-05 | -2.359743e-05 | -1.373074e-06 |  1.572441e-05 |  2.223464e-05 |  2.131785e-05 |  7.358194e-06 | -2.327783e-05 |\n",
       "| ts_temp:sd4 | -1.122391e-05 |  5.756878e-08 |  2.405523e-06 |  7.178175e-07 | -2.939000e-10 | -8.996139e-06 | -8.940347e-06 | -9.127547e-06 | -1.896872e-05 | -9.750694e-06 | ... | -5.078237e-05 | -5.184569e-05 | -1.077449e-04 | -5.538526e-05 | -5.690874e-05 | -5.781752e-05 | -5.944568e-05 | -5.828180e-05 | -5.671844e-05 | -6.390911e-05 |\n",
       "| ts_temp:sd5 | -1.510134e-04 |  8.306375e-07 |  3.542691e-05 |  3.088126e-07 | -2.463248e-09 | -3.509054e-06 | -1.190676e-06 | -4.154379e-06 | -9.750694e-06 | -2.432156e-05 | ... | -6.763200e-06 | -2.359743e-05 | -5.538526e-05 | -1.381497e-04 | -1.089487e-04 | -1.270564e-04 | -1.348327e-04 | -1.332606e-04 | -1.177987e-04 | -9.064806e-05 |\n",
       "| ts_temp:sd6 | -2.625847e-04 |  1.135472e-06 |  6.218558e-05 |  4.646010e-07 | -4.313061e-09 |  8.621113e-07 |  4.952251e-06 | -2.417327e-07 | -1.001891e-05 | -1.918065e-05 | ... |  2.812945e-05 | -1.373074e-06 | -5.690874e-05 | -1.089487e-04 | -2.039253e-04 | -1.828349e-04 | -1.962908e-04 | -1.934593e-04 | -1.665281e-04 | -1.180394e-04 |\n",
       "| ts_temp:sd7 | -3.464632e-04 |  1.150143e-06 |  8.273404e-05 |  4.782942e-07 | -5.800184e-09 |  4.198249e-06 |  9.670343e-06 |  2.768317e-06 | -1.017890e-05 | -2.236855e-05 | ... |  5.492885e-05 |  1.572441e-05 | -5.781752e-05 | -1.270564e-04 | -1.828349e-04 | -2.786877e-04 | -2.432201e-04 | -2.394530e-04 | -2.038953e-04 | -1.377652e-04 |\n",
       "| ts_temp:sd8 | -3.833126e-04 |  1.308818e-06 |  9.127041e-05 |  1.073674e-06 | -6.351334e-09 |  5.562298e-06 |  1.151896e-05 |  3.914456e-06 | -1.046554e-05 | -2.373759e-05 | ... |  6.542924e-05 |  2.223464e-05 | -5.944568e-05 | -1.348327e-04 | -1.962908e-04 | -2.432201e-04 | -3.165768e-04 | -2.585481e-04 | -2.189017e-04 | -1.530070e-04 |\n",
       "| ts_temp:sd9 | -3.767463e-04 |  1.611123e-06 |  8.929572e-05 |  5.258341e-07 | -6.099701e-09 |  5.318953e-06 |  1.121372e-05 |  3.753054e-06 | -1.026064e-05 | -2.346082e-05 | ... |  6.369541e-05 |  2.131785e-05 | -5.828180e-05 | -1.332606e-04 | -1.934593e-04 | -2.394530e-04 | -2.585481e-04 | -3.077540e-04 | -2.161272e-04 | -1.446783e-04 |\n",
       "| ts_temp:sd10 | -3.036809e-04 |  1.213817e-06 |  7.222729e-05 |  1.601640e-07 | -4.957820e-09 |  2.523681e-06 |  7.332580e-06 |  1.295426e-06 | -9.985405e-06 | -2.073872e-05 | ... |  4.165004e-05 |  7.358194e-06 | -5.671844e-05 | -1.177987e-04 | -1.665281e-04 | -2.038953e-04 | -2.189017e-04 | -2.161272e-04 | -2.382442e-04 | -1.239940e-04 |\n",
       "| ts_temp:sd11 | -1.770629e-04 |  2.346349e-07 |  4.146817e-05 |  4.352885e-06 | -2.933796e-09 | -2.888033e-06 | -7.314241e-07 | -4.098112e-06 | -1.125134e-05 | -1.595879e-05 | ... | -4.154587e-06 | -2.327783e-05 | -6.390911e-05 | -9.064806e-05 | -1.180394e-04 | -1.377652e-04 | -1.530070e-04 | -1.446783e-04 | -1.239940e-04 | -1.974330e-04 |\n",
       "| ts_rain:(Intercept) |  1.470714e-01 | -1.109818e-03 | -3.390483e-02 | -3.134368e-04 |  1.900791e-06 | -5.623358e-03 | -7.833152e-03 | -4.987092e-03 |  4.044953e-04 |  5.442328e-03 | ... | -1.608630e-01 | -1.024158e-01 |  8.306789e-03 |  1.117646e-01 |  1.943382e-01 |  2.564165e-01 |  2.836887e-01 |  2.788290e-01 |  2.247534e-01 |  1.310438e-01 |\n",
       "| ts_rain:ts_river.l1 | -1.109818e-03 |  9.869934e-05 |  9.239533e-05 | -5.193029e-06 |  2.436953e-08 |  2.796378e-05 |  3.223006e-05 |  2.140916e-05 | -2.074704e-06 | -2.993510e-05 | ... |  6.618823e-04 |  4.396623e-04 | -4.260650e-05 | -6.147526e-04 | -8.403600e-04 | -8.512179e-04 | -9.686527e-04 | -1.192388e-03 | -8.983431e-04 | -1.736527e-04 |\n",
       "| ts_rain:ts_temp.l1 | -3.390483e-02 |  9.239533e-05 |  8.127436e-03 |  6.153839e-05 | -5.672164e-07 |  1.326607e-03 |  1.862665e-03 |  1.185555e-03 | -8.669194e-05 | -1.276740e-03 | ... |  3.825202e-02 |  2.434678e-02 | -1.780321e-03 | -2.621936e-02 | -4.602338e-02 | -6.123124e-02 | -6.754898e-02 | -6.608752e-02 | -5.345523e-02 | -3.069048e-02 |\n",
       "| ts_rain:ts_rain.l1 | -3.134368e-04 | -5.193029e-06 |  6.153839e-05 |  7.009042e-05 | -5.240339e-09 |  4.403605e-06 | -1.458483e-06 | -5.011387e-06 | -2.586921e-05 | -1.112920e-05 | ... | -2.995167e-05 | -1.029147e-04 | -5.312549e-04 | -2.285514e-04 | -3.438500e-04 | -3.539843e-04 | -7.946231e-04 | -3.891684e-04 | -1.185369e-04 | -3.221559e-03 |\n",
       "| ts_rain:trend |  1.900791e-06 |  2.436953e-08 | -5.672164e-07 | -5.240339e-09 |  7.016811e-10 | -8.532108e-08 | -1.201801e-07 | -7.454424e-08 |  1.059177e-08 |  8.877227e-08 | ... | -2.468041e-06 | -1.530854e-06 |  2.175146e-07 |  1.823043e-06 |  3.192085e-06 |  4.292701e-06 |  4.700606e-06 |  4.514372e-06 |  3.669270e-06 |  2.171295e-06 |\n",
       "| ts_rain:sd1 | -5.623358e-03 |  2.796378e-05 |  1.326607e-03 |  4.403605e-06 | -8.532108e-08 |  8.977052e-04 |  6.432740e-04 |  5.322397e-04 |  3.242092e-04 |  1.264617e-04 | ... |  1.321039e-02 |  1.093017e-02 |  6.658018e-03 |  2.597041e-03 | -6.380463e-04 | -3.107113e-03 | -4.116642e-03 | -3.936543e-03 | -1.867770e-03 |  2.137426e-03 |\n",
       "| ts_rain:sd2 | -7.833152e-03 |  3.223006e-05 |  1.862665e-03 | -1.458483e-06 | -1.201801e-07 |  6.432740e-04 |  1.104814e-03 |  6.122721e-04 |  3.221985e-04 |  4.291042e-05 | ... |  2.268866e-02 |  1.257373e-02 |  6.616727e-03 |  8.812162e-04 | -3.665148e-03 | -7.156995e-03 | -8.525151e-03 | -8.299241e-03 | -5.426823e-03 |  5.413250e-04 |\n",
       "| ts_rain:sd3 | -4.987092e-03 |  2.140916e-05 |  1.185555e-03 | -5.011387e-06 | -7.454424e-08 |  5.322397e-04 |  6.122721e-04 |  8.496741e-04 |  3.289450e-04 |  1.497184e-04 | ... |  1.257373e-02 |  1.744906e-02 |  6.755273e-03 |  3.074645e-03 |  1.789057e-04 | -2.048824e-03 | -2.897079e-03 | -2.777626e-03 | -9.587413e-04 |  3.033002e-03 |\n",
       "| ts_rain:sd4 |  4.044953e-04 | -2.074704e-06 | -8.669194e-05 | -2.586921e-05 |  1.059177e-08 |  3.242092e-04 |  3.221985e-04 |  3.289450e-04 |  6.836080e-04 |  3.514024e-04 | ... |  6.616727e-03 |  6.755273e-03 |  1.403870e-02 |  7.216463e-03 |  7.414967e-03 |  7.533377e-03 |  7.745518e-03 |  7.593871e-03 |  7.390172e-03 |  8.327085e-03 |\n",
       "| ts_rain:sd5 |  5.442328e-03 | -2.993510e-05 | -1.276740e-03 | -1.112920e-05 |  8.877227e-08 |  1.264617e-04 |  4.291042e-05 |  1.497184e-04 |  3.514024e-04 |  8.765175e-04 | ... |  8.812162e-04 |  3.074645e-03 |  7.216463e-03 |  1.800032e-02 |  1.419555e-02 |  1.655490e-02 |  1.756813e-02 |  1.736329e-02 |  1.534867e-02 |  1.181106e-02 |\n",
       "| ts_rain:sd6 |  9.463211e-03 | -4.092095e-05 | -2.241088e-03 | -1.674362e-05 |  1.554371e-07 | -3.106937e-05 | -1.784727e-04 |  8.711733e-06 |  3.610684e-04 |  6.912456e-04 | ... | -3.665148e-03 |  1.789057e-04 |  7.414967e-03 |  1.419555e-02 |  2.657059e-02 |  2.382261e-02 |  2.557585e-02 |  2.520692e-02 |  2.169790e-02 |  1.538003e-02 |\n",
       "| ts_rain:sd7 |  1.248609e-02 | -4.144967e-05 | -2.981628e-03 | -1.723710e-05 |  2.090311e-07 | -1.512994e-04 | -3.485066e-04 | -9.976656e-05 |  3.668344e-04 |  8.061335e-04 | ... | -7.156995e-03 | -2.048824e-03 |  7.533377e-03 |  1.655490e-02 |  2.382261e-02 |  3.631183e-02 |  3.169055e-02 |  3.119970e-02 |  2.656669e-02 |  1.795021e-02 |\n",
       "| ts_rain:sd8 |  1.381409e-02 | -4.716811e-05 | -3.289267e-03 | -3.869381e-05 |  2.288939e-07 | -2.004580e-04 | -4.151284e-04 | -1.410719e-04 |  3.771645e-04 |  8.554721e-04 | ... | -8.525151e-03 | -2.897079e-03 |  7.745518e-03 |  1.756813e-02 |  2.557585e-02 |  3.169055e-02 |  4.124861e-02 |  3.368771e-02 |  2.852196e-02 |  1.993616e-02 |\n",
       "| ts_rain:sd9 |  1.357745e-02 | -5.806279e-05 | -3.218102e-03 | -1.895038e-05 |  2.198253e-07 | -1.916882e-04 | -4.041278e-04 | -1.352552e-04 |  3.697801e-04 |  8.454975e-04 | ... | -8.299241e-03 | -2.777626e-03 |  7.593871e-03 |  1.736329e-02 |  2.520692e-02 |  3.119970e-02 |  3.368771e-02 |  4.009904e-02 |  2.816045e-02 |  1.885097e-02 |\n",
       "| ts_rain:sd10 |  1.094426e-02 | -4.374441e-05 | -2.602978e-03 | -5.772102e-06 |  1.786734e-07 | -9.095019e-05 | -2.642567e-04 | -4.668547e-05 |  3.598611e-04 |  7.473966e-04 | ... | -5.426823e-03 | -9.587413e-04 |  7.390172e-03 |  1.534867e-02 |  2.169790e-02 |  2.656669e-02 |  2.852196e-02 |  2.816045e-02 |  3.104221e-02 |  1.615589e-02 |\n",
       "| ts_rain:sd11 |  6.381118e-03 | -8.455937e-06 | -1.494459e-03 | -1.568723e-04 |  1.057302e-07 |  1.040810e-04 |  2.635958e-05 |  1.476906e-04 |  4.054836e-04 |  5.751340e-04 | ... |  5.413250e-04 |  3.033002e-03 |  8.327085e-03 |  1.181106e-02 |  1.538003e-02 |  1.795021e-02 |  1.993616e-02 |  1.885097e-02 |  1.615589e-02 |  2.572468e-02 |\n",
       "\n"
      ],
      "text/plain": [
       "                     ts_river:(Intercept) ts_river:ts_river.l1\n",
       "ts_river:(Intercept)  9.418697e-01        -7.107460e-03       \n",
       "ts_river:ts_river.l1 -7.107460e-03         6.320870e-04       \n",
       "ts_river:ts_temp.l1  -2.171322e-01         5.917151e-04       \n",
       "ts_river:ts_rain.l1  -2.007302e-03        -3.325702e-05       \n",
       "ts_river:trend        1.217298e-05         1.560665e-07       \n",
       "ts_river:sd1         -3.601292e-02         1.790847e-04       \n",
       "ts_river:sd2         -5.016481e-02         2.064067e-04       \n",
       "ts_river:sd3         -3.193816e-02         1.371078e-04       \n",
       "ts_river:sd4          2.590455e-03        -1.328675e-05       \n",
       "ts_river:sd5          3.485357e-02        -1.917094e-04       \n",
       "ts_river:sd6          6.060398e-02        -2.620646e-04       \n",
       "ts_river:sd7          7.996297e-02        -2.654506e-04       \n",
       "ts_river:sd8          8.846773e-02        -3.020724e-04       \n",
       "ts_river:sd9          8.695224e-02        -3.718438e-04       \n",
       "ts_river:sd10         7.008889e-02        -2.801465e-04       \n",
       "ts_river:sd11         4.086574e-02        -5.415323e-05       \n",
       "ts_temp:(Intercept)  -4.080929e-03         3.079517e-05       \n",
       "ts_temp:ts_river.l1   3.079517e-05        -2.738704e-06       \n",
       "ts_temp:ts_temp.l1    9.407893e-04        -2.563781e-06       \n",
       "ts_temp:ts_rain.l1    8.697229e-06         1.440959e-07       \n",
       "ts_temp:trend        -5.274304e-08        -6.762044e-10       \n",
       "ts_temp:sd1           1.560366e-04        -7.759375e-07       \n",
       "ts_temp:sd2           2.173539e-04        -8.943180e-07       \n",
       "ts_temp:sd3           1.383815e-04        -5.940601e-07       \n",
       "ts_temp:sd4          -1.122391e-05         5.756878e-08       \n",
       "ts_temp:sd5          -1.510134e-04         8.306375e-07       \n",
       "ts_temp:sd6          -2.625847e-04         1.135472e-06       \n",
       "ts_temp:sd7          -3.464632e-04         1.150143e-06       \n",
       "ts_temp:sd8          -3.833126e-04         1.308818e-06       \n",
       "ts_temp:sd9          -3.767463e-04         1.611123e-06       \n",
       "ts_temp:sd10         -3.036809e-04         1.213817e-06       \n",
       "ts_temp:sd11         -1.770629e-04         2.346349e-07       \n",
       "ts_rain:(Intercept)   1.470714e-01        -1.109818e-03       \n",
       "ts_rain:ts_river.l1  -1.109818e-03         9.869934e-05       \n",
       "ts_rain:ts_temp.l1   -3.390483e-02         9.239533e-05       \n",
       "ts_rain:ts_rain.l1   -3.134368e-04        -5.193029e-06       \n",
       "ts_rain:trend         1.900791e-06         2.436953e-08       \n",
       "ts_rain:sd1          -5.623358e-03         2.796378e-05       \n",
       "ts_rain:sd2          -7.833152e-03         3.223006e-05       \n",
       "ts_rain:sd3          -4.987092e-03         2.140916e-05       \n",
       "ts_rain:sd4           4.044953e-04        -2.074704e-06       \n",
       "ts_rain:sd5           5.442328e-03        -2.993510e-05       \n",
       "ts_rain:sd6           9.463211e-03        -4.092095e-05       \n",
       "ts_rain:sd7           1.248609e-02        -4.144967e-05       \n",
       "ts_rain:sd8           1.381409e-02        -4.716811e-05       \n",
       "ts_rain:sd9           1.357745e-02        -5.806279e-05       \n",
       "ts_rain:sd10          1.094426e-02        -4.374441e-05       \n",
       "ts_rain:sd11          6.381118e-03        -8.455937e-06       \n",
       "                     ts_river:ts_temp.l1 ts_river:ts_rain.l1 ts_river:trend\n",
       "ts_river:(Intercept) -2.171322e-01       -2.007302e-03        1.217298e-05 \n",
       "ts_river:ts_river.l1  5.917151e-04       -3.325702e-05        1.560665e-07 \n",
       "ts_river:ts_temp.l1   5.204945e-02        3.941021e-04       -3.632548e-06 \n",
       "ts_river:ts_rain.l1   3.941021e-04        4.488707e-04       -3.356000e-08 \n",
       "ts_river:trend       -3.632548e-06       -3.356000e-08        4.493683e-09 \n",
       "ts_river:sd1          8.495815e-03        2.820142e-05       -5.464104e-07 \n",
       "ts_river:sd2          1.192881e-02       -9.340367e-06       -7.696536e-07 \n",
       "ts_river:sd3          7.592493e-03       -3.209375e-05       -4.773937e-07 \n",
       "ts_river:sd4         -5.551896e-04       -1.656708e-04        6.783148e-08 \n",
       "ts_river:sd5         -8.176455e-03       -7.127328e-05        5.685124e-07 \n",
       "ts_river:sd6         -1.435230e-02       -1.072289e-04        9.954452e-07 \n",
       "ts_river:sd7         -1.909484e-02       -1.103893e-04        1.338670e-06 \n",
       "ts_river:sd8         -2.106501e-02       -2.478016e-04        1.465874e-06 \n",
       "ts_river:sd9         -2.060926e-02       -1.213614e-04        1.407798e-06 \n",
       "ts_river:sd10        -1.666990e-02       -3.696550e-05        1.144254e-06 \n",
       "ts_river:sd11        -9.570765e-03       -1.004637e-03        6.771138e-07 \n",
       "ts_temp:(Intercept)   9.407893e-04        8.697229e-06       -5.274304e-08 \n",
       "ts_temp:ts_river.l1  -2.563781e-06        1.440959e-07       -6.762044e-10 \n",
       "ts_temp:ts_temp.l1   -2.255196e-04       -1.707564e-06        1.573909e-08 \n",
       "ts_temp:ts_rain.l1   -1.707564e-06       -1.944865e-06        1.454086e-10 \n",
       "ts_temp:trend         1.573909e-08        1.454086e-10       -1.947021e-11 \n",
       "ts_temp:sd1          -3.681063e-05       -1.221910e-07        2.367485e-09 \n",
       "ts_temp:sd2          -5.168512e-05        4.046991e-08        3.334752e-09 \n",
       "ts_temp:sd3          -3.289672e-05        1.390557e-07        2.068450e-09 \n",
       "ts_temp:sd4           2.405523e-06        7.178175e-07       -2.939000e-10 \n",
       "ts_temp:sd5           3.542691e-05        3.088126e-07       -2.463248e-09 \n",
       "ts_temp:sd6           6.218558e-05        4.646010e-07       -4.313061e-09 \n",
       "ts_temp:sd7           8.273404e-05        4.782942e-07       -5.800184e-09 \n",
       "ts_temp:sd8           9.127041e-05        1.073674e-06       -6.351334e-09 \n",
       "ts_temp:sd9           8.929572e-05        5.258341e-07       -6.099701e-09 \n",
       "ts_temp:sd10          7.222729e-05        1.601640e-07       -4.957820e-09 \n",
       "ts_temp:sd11          4.146817e-05        4.352885e-06       -2.933796e-09 \n",
       "ts_rain:(Intercept)  -3.390483e-02       -3.134368e-04        1.900791e-06 \n",
       "ts_rain:ts_river.l1   9.239533e-05       -5.193029e-06        2.436953e-08 \n",
       "ts_rain:ts_temp.l1    8.127436e-03        6.153839e-05       -5.672164e-07 \n",
       "ts_rain:ts_rain.l1    6.153839e-05        7.009042e-05       -5.240339e-09 \n",
       "ts_rain:trend        -5.672164e-07       -5.240339e-09        7.016811e-10 \n",
       "ts_rain:sd1           1.326607e-03        4.403605e-06       -8.532108e-08 \n",
       "ts_rain:sd2           1.862665e-03       -1.458483e-06       -1.201801e-07 \n",
       "ts_rain:sd3           1.185555e-03       -5.011387e-06       -7.454424e-08 \n",
       "ts_rain:sd4          -8.669194e-05       -2.586921e-05        1.059177e-08 \n",
       "ts_rain:sd5          -1.276740e-03       -1.112920e-05        8.877227e-08 \n",
       "ts_rain:sd6          -2.241088e-03       -1.674362e-05        1.554371e-07 \n",
       "ts_rain:sd7          -2.981628e-03       -1.723710e-05        2.090311e-07 \n",
       "ts_rain:sd8          -3.289267e-03       -3.869381e-05        2.288939e-07 \n",
       "ts_rain:sd9          -3.218102e-03       -1.895038e-05        2.198253e-07 \n",
       "ts_rain:sd10         -2.602978e-03       -5.772102e-06        1.786734e-07 \n",
       "ts_rain:sd11         -1.494459e-03       -1.568723e-04        1.057302e-07 \n",
       "                     ts_river:sd1  ts_river:sd2  ts_river:sd3  ts_river:sd4 \n",
       "ts_river:(Intercept) -3.601292e-02 -5.016481e-02 -3.193816e-02  2.590455e-03\n",
       "ts_river:ts_river.l1  1.790847e-04  2.064067e-04  1.371078e-04 -1.328675e-05\n",
       "ts_river:ts_temp.l1   8.495815e-03  1.192881e-02  7.592493e-03 -5.551896e-04\n",
       "ts_river:ts_rain.l1   2.820142e-05 -9.340367e-06 -3.209375e-05 -1.656708e-04\n",
       "ts_river:trend       -5.464104e-07 -7.696536e-07 -4.773937e-07  6.783148e-08\n",
       "ts_river:sd1          5.749054e-03  4.119634e-03  3.408552e-03  2.076290e-03\n",
       "ts_river:sd2          4.119634e-03  7.075412e-03  3.921092e-03  2.063413e-03\n",
       "ts_river:sd3          3.408552e-03  3.921092e-03  5.441454e-03  2.106618e-03\n",
       "ts_river:sd4          2.076290e-03  2.063413e-03  2.106618e-03  4.377940e-03\n",
       "ts_river:sd5          8.098821e-04  2.748055e-04  9.588217e-04  2.250439e-03\n",
       "ts_river:sd6         -1.989734e-04 -1.142969e-03  5.579139e-05  2.312342e-03\n",
       "ts_river:sd7         -9.689468e-04 -2.231894e-03 -6.389217e-04  2.349268e-03\n",
       "ts_river:sd8         -1.283767e-03 -2.658551e-03 -9.034481e-04  2.415424e-03\n",
       "ts_river:sd9         -1.227603e-03 -2.588101e-03 -8.661969e-04  2.368133e-03\n",
       "ts_river:sd10        -5.824602e-04 -1.692344e-03 -2.989815e-04  2.304610e-03\n",
       "ts_river:sd11         6.665519e-04  1.688111e-04  9.458355e-04  2.596785e-03\n",
       "ts_temp:(Intercept)   1.560366e-04  2.173539e-04  1.383815e-04 -1.122391e-05\n",
       "ts_temp:ts_river.l1  -7.759375e-07 -8.943180e-07 -5.940601e-07  5.756878e-08\n",
       "ts_temp:ts_temp.l1   -3.681063e-05 -5.168512e-05 -3.289672e-05  2.405523e-06\n",
       "ts_temp:ts_rain.l1   -1.221910e-07  4.046991e-08  1.390557e-07  7.178175e-07\n",
       "ts_temp:trend         2.367485e-09  3.334752e-09  2.068450e-09 -2.939000e-10\n",
       "ts_temp:sd1          -2.490948e-05 -1.784953e-05 -1.476856e-05 -8.996139e-06\n",
       "ts_temp:sd2          -1.784953e-05 -3.065631e-05 -1.698929e-05 -8.940347e-06\n",
       "ts_temp:sd3          -1.476856e-05 -1.698929e-05 -2.357671e-05 -9.127547e-06\n",
       "ts_temp:sd4          -8.996139e-06 -8.940347e-06 -9.127547e-06 -1.896872e-05\n",
       "ts_temp:sd5          -3.509054e-06 -1.190676e-06 -4.154379e-06 -9.750694e-06\n",
       "ts_temp:sd6           8.621113e-07  4.952251e-06 -2.417327e-07 -1.001891e-05\n",
       "ts_temp:sd7           4.198249e-06  9.670343e-06  2.768317e-06 -1.017890e-05\n",
       "ts_temp:sd8           5.562298e-06  1.151896e-05  3.914456e-06 -1.046554e-05\n",
       "ts_temp:sd9           5.318953e-06  1.121372e-05  3.753054e-06 -1.026064e-05\n",
       "ts_temp:sd10          2.523681e-06  7.332580e-06  1.295426e-06 -9.985405e-06\n",
       "ts_temp:sd11         -2.888033e-06 -7.314241e-07 -4.098112e-06 -1.125134e-05\n",
       "ts_rain:(Intercept)  -5.623358e-03 -7.833152e-03 -4.987092e-03  4.044953e-04\n",
       "ts_rain:ts_river.l1   2.796378e-05  3.223006e-05  2.140916e-05 -2.074704e-06\n",
       "ts_rain:ts_temp.l1    1.326607e-03  1.862665e-03  1.185555e-03 -8.669194e-05\n",
       "ts_rain:ts_rain.l1    4.403605e-06 -1.458483e-06 -5.011387e-06 -2.586921e-05\n",
       "ts_rain:trend        -8.532108e-08 -1.201801e-07 -7.454424e-08  1.059177e-08\n",
       "ts_rain:sd1           8.977052e-04  6.432740e-04  5.322397e-04  3.242092e-04\n",
       "ts_rain:sd2           6.432740e-04  1.104814e-03  6.122721e-04  3.221985e-04\n",
       "ts_rain:sd3           5.322397e-04  6.122721e-04  8.496741e-04  3.289450e-04\n",
       "ts_rain:sd4           3.242092e-04  3.221985e-04  3.289450e-04  6.836080e-04\n",
       "ts_rain:sd5           1.264617e-04  4.291042e-05  1.497184e-04  3.514024e-04\n",
       "ts_rain:sd6          -3.106937e-05 -1.784727e-04  8.711733e-06  3.610684e-04\n",
       "ts_rain:sd7          -1.512994e-04 -3.485066e-04 -9.976656e-05  3.668344e-04\n",
       "ts_rain:sd8          -2.004580e-04 -4.151284e-04 -1.410719e-04  3.771645e-04\n",
       "ts_rain:sd9          -1.916882e-04 -4.041278e-04 -1.352552e-04  3.697801e-04\n",
       "ts_rain:sd10         -9.095019e-05 -2.642567e-04 -4.668547e-05  3.598611e-04\n",
       "ts_rain:sd11          1.040810e-04  2.635958e-05  1.476906e-04  4.054836e-04\n",
       "                     ts_river:sd5  ... ts_rain:sd2   ts_rain:sd3  \n",
       "ts_river:(Intercept)  3.485357e-02 ... -7.833152e-03 -4.987092e-03\n",
       "ts_river:ts_river.l1 -1.917094e-04 ...  3.223006e-05  2.140916e-05\n",
       "ts_river:ts_temp.l1  -8.176455e-03 ...  1.862665e-03  1.185555e-03\n",
       "ts_river:ts_rain.l1  -7.127328e-05 ... -1.458483e-06 -5.011387e-06\n",
       "ts_river:trend        5.685124e-07 ... -1.201801e-07 -7.454424e-08\n",
       "ts_river:sd1          8.098821e-04 ...  6.432740e-04  5.322397e-04\n",
       "ts_river:sd2          2.748055e-04 ...  1.104814e-03  6.122721e-04\n",
       "ts_river:sd3          9.588217e-04 ...  6.122721e-04  8.496741e-04\n",
       "ts_river:sd4          2.250439e-03 ...  3.221985e-04  3.289450e-04\n",
       "ts_river:sd5          5.613364e-03 ...  4.291042e-05  1.497184e-04\n",
       "ts_river:sd6          4.426852e-03 ... -1.784727e-04  8.711733e-06\n",
       "ts_river:sd7          5.162613e-03 ... -3.485066e-04 -9.976656e-05\n",
       "ts_river:sd8          5.478586e-03 ... -4.151284e-04 -1.410719e-04\n",
       "ts_river:sd9          5.414707e-03 ... -4.041278e-04 -1.352552e-04\n",
       "ts_river:sd10         4.786452e-03 ... -2.642567e-04 -4.668547e-05\n",
       "ts_river:sd11         3.683254e-03 ...  2.635958e-05  1.476906e-04\n",
       "ts_temp:(Intercept)  -1.510134e-04 ...  1.234599e-03  7.860258e-04\n",
       "ts_temp:ts_river.l1   8.306375e-07 ... -5.079846e-06 -3.374341e-06\n",
       "ts_temp:ts_temp.l1    3.542691e-05 ... -2.935784e-04 -1.868578e-04\n",
       "ts_temp:ts_rain.l1    3.088126e-07 ...  2.298745e-07  7.898550e-07\n",
       "ts_temp:trend        -2.463248e-09 ...  1.894184e-08  1.174907e-08\n",
       "ts_temp:sd1          -3.509054e-06 ... -1.013878e-04 -8.388740e-05\n",
       "ts_temp:sd2          -1.190676e-06 ... -1.741320e-04 -9.650147e-05\n",
       "ts_temp:sd3          -4.154379e-06 ... -9.650147e-05 -1.339189e-04\n",
       "ts_temp:sd4          -9.750694e-06 ... -5.078237e-05 -5.184569e-05\n",
       "ts_temp:sd5          -2.432156e-05 ... -6.763200e-06 -2.359743e-05\n",
       "ts_temp:sd6          -1.918065e-05 ...  2.812945e-05 -1.373074e-06\n",
       "ts_temp:sd7          -2.236855e-05 ...  5.492885e-05  1.572441e-05\n",
       "ts_temp:sd8          -2.373759e-05 ...  6.542924e-05  2.223464e-05\n",
       "ts_temp:sd9          -2.346082e-05 ...  6.369541e-05  2.131785e-05\n",
       "ts_temp:sd10         -2.073872e-05 ...  4.165004e-05  7.358194e-06\n",
       "ts_temp:sd11         -1.595879e-05 ... -4.154587e-06 -2.327783e-05\n",
       "ts_rain:(Intercept)   5.442328e-03 ... -1.608630e-01 -1.024158e-01\n",
       "ts_rain:ts_river.l1  -2.993510e-05 ...  6.618823e-04  4.396623e-04\n",
       "ts_rain:ts_temp.l1   -1.276740e-03 ...  3.825202e-02  2.434678e-02\n",
       "ts_rain:ts_rain.l1   -1.112920e-05 ... -2.995167e-05 -1.029147e-04\n",
       "ts_rain:trend         8.877227e-08 ... -2.468041e-06 -1.530854e-06\n",
       "ts_rain:sd1           1.264617e-04 ...  1.321039e-02  1.093017e-02\n",
       "ts_rain:sd2           4.291042e-05 ...  2.268866e-02  1.257373e-02\n",
       "ts_rain:sd3           1.497184e-04 ...  1.257373e-02  1.744906e-02\n",
       "ts_rain:sd4           3.514024e-04 ...  6.616727e-03  6.755273e-03\n",
       "ts_rain:sd5           8.765175e-04 ...  8.812162e-04  3.074645e-03\n",
       "ts_rain:sd6           6.912456e-04 ... -3.665148e-03  1.789057e-04\n",
       "ts_rain:sd7           8.061335e-04 ... -7.156995e-03 -2.048824e-03\n",
       "ts_rain:sd8           8.554721e-04 ... -8.525151e-03 -2.897079e-03\n",
       "ts_rain:sd9           8.454975e-04 ... -8.299241e-03 -2.777626e-03\n",
       "ts_rain:sd10          7.473966e-04 ... -5.426823e-03 -9.587413e-04\n",
       "ts_rain:sd11          5.751340e-04 ...  5.413250e-04  3.033002e-03\n",
       "                     ts_rain:sd4   ts_rain:sd5   ts_rain:sd6   ts_rain:sd7  \n",
       "ts_river:(Intercept)  4.044953e-04  5.442328e-03  9.463211e-03  1.248609e-02\n",
       "ts_river:ts_river.l1 -2.074704e-06 -2.993510e-05 -4.092095e-05 -4.144967e-05\n",
       "ts_river:ts_temp.l1  -8.669194e-05 -1.276740e-03 -2.241088e-03 -2.981628e-03\n",
       "ts_river:ts_rain.l1  -2.586921e-05 -1.112920e-05 -1.674362e-05 -1.723710e-05\n",
       "ts_river:trend        1.059177e-08  8.877227e-08  1.554371e-07  2.090311e-07\n",
       "ts_river:sd1          3.242092e-04  1.264617e-04 -3.106937e-05 -1.512994e-04\n",
       "ts_river:sd2          3.221985e-04  4.291042e-05 -1.784727e-04 -3.485066e-04\n",
       "ts_river:sd3          3.289450e-04  1.497184e-04  8.711733e-06 -9.976656e-05\n",
       "ts_river:sd4          6.836080e-04  3.514024e-04  3.610684e-04  3.668344e-04\n",
       "ts_river:sd5          3.514024e-04  8.765175e-04  6.912456e-04  8.061335e-04\n",
       "ts_river:sd6          3.610684e-04  6.912456e-04  1.293843e-03  1.160031e-03\n",
       "ts_river:sd7          3.668344e-04  8.061335e-04  1.160031e-03  1.768188e-03\n",
       "ts_river:sd8          3.771645e-04  8.554721e-04  1.245405e-03  1.543157e-03\n",
       "ts_river:sd9          3.697801e-04  8.454975e-04  1.227440e-03  1.519255e-03\n",
       "ts_river:sd10         3.598611e-04  7.473966e-04  1.056569e-03  1.293653e-03\n",
       "ts_river:sd11         4.054836e-04  5.751340e-04  7.489238e-04  8.740774e-04\n",
       "ts_temp:(Intercept)  -6.375335e-05 -8.577765e-04 -1.491516e-03 -1.967958e-03\n",
       "ts_temp:ts_river.l1   3.269984e-07  4.718133e-06  6.449635e-06  6.532968e-06\n",
       "ts_temp:ts_temp.l1    1.366370e-05  2.012296e-04  3.532225e-04  4.699405e-04\n",
       "ts_temp:ts_rain.l1    4.077300e-06  1.754097e-06  2.638996e-06  2.716776e-06\n",
       "ts_temp:trend        -1.669391e-09 -1.399158e-08 -2.449877e-08 -3.294582e-08\n",
       "ts_temp:sd1          -5.109928e-05 -1.993190e-05  4.896908e-06  2.384662e-05\n",
       "ts_temp:sd2          -5.078237e-05 -6.763200e-06  2.812945e-05  5.492885e-05\n",
       "ts_temp:sd3          -5.184569e-05 -2.359743e-05 -1.373074e-06  1.572441e-05\n",
       "ts_temp:sd4          -1.077449e-04 -5.538526e-05 -5.690874e-05 -5.781752e-05\n",
       "ts_temp:sd5          -5.538526e-05 -1.381497e-04 -1.089487e-04 -1.270564e-04\n",
       "ts_temp:sd6          -5.690874e-05 -1.089487e-04 -2.039253e-04 -1.828349e-04\n",
       "ts_temp:sd7          -5.781752e-05 -1.270564e-04 -1.828349e-04 -2.786877e-04\n",
       "ts_temp:sd8          -5.944568e-05 -1.348327e-04 -1.962908e-04 -2.432201e-04\n",
       "ts_temp:sd9          -5.828180e-05 -1.332606e-04 -1.934593e-04 -2.394530e-04\n",
       "ts_temp:sd10         -5.671844e-05 -1.177987e-04 -1.665281e-04 -2.038953e-04\n",
       "ts_temp:sd11         -6.390911e-05 -9.064806e-05 -1.180394e-04 -1.377652e-04\n",
       "ts_rain:(Intercept)   8.306789e-03  1.117646e-01  1.943382e-01  2.564165e-01\n",
       "ts_rain:ts_river.l1  -4.260650e-05 -6.147526e-04 -8.403600e-04 -8.512179e-04\n",
       "ts_rain:ts_temp.l1   -1.780321e-03 -2.621936e-02 -4.602338e-02 -6.123124e-02\n",
       "ts_rain:ts_rain.l1   -5.312549e-04 -2.285514e-04 -3.438500e-04 -3.539843e-04\n",
       "ts_rain:trend         2.175146e-07  1.823043e-06  3.192085e-06  4.292701e-06\n",
       "ts_rain:sd1           6.658018e-03  2.597041e-03 -6.380463e-04 -3.107113e-03\n",
       "ts_rain:sd2           6.616727e-03  8.812162e-04 -3.665148e-03 -7.156995e-03\n",
       "ts_rain:sd3           6.755273e-03  3.074645e-03  1.789057e-04 -2.048824e-03\n",
       "ts_rain:sd4           1.403870e-02  7.216463e-03  7.414967e-03  7.533377e-03\n",
       "ts_rain:sd5           7.216463e-03  1.800032e-02  1.419555e-02  1.655490e-02\n",
       "ts_rain:sd6           7.414967e-03  1.419555e-02  2.657059e-02  2.382261e-02\n",
       "ts_rain:sd7           7.533377e-03  1.655490e-02  2.382261e-02  3.631183e-02\n",
       "ts_rain:sd8           7.745518e-03  1.756813e-02  2.557585e-02  3.169055e-02\n",
       "ts_rain:sd9           7.593871e-03  1.736329e-02  2.520692e-02  3.119970e-02\n",
       "ts_rain:sd10          7.390172e-03  1.534867e-02  2.169790e-02  2.656669e-02\n",
       "ts_rain:sd11          8.327085e-03  1.181106e-02  1.538003e-02  1.795021e-02\n",
       "                     ts_rain:sd8   ts_rain:sd9   ts_rain:sd10  ts_rain:sd11 \n",
       "ts_river:(Intercept)  1.381409e-02  1.357745e-02  1.094426e-02  6.381118e-03\n",
       "ts_river:ts_river.l1 -4.716811e-05 -5.806279e-05 -4.374441e-05 -8.455937e-06\n",
       "ts_river:ts_temp.l1  -3.289267e-03 -3.218102e-03 -2.602978e-03 -1.494459e-03\n",
       "ts_river:ts_rain.l1  -3.869381e-05 -1.895038e-05 -5.772102e-06 -1.568723e-04\n",
       "ts_river:trend        2.288939e-07  2.198253e-07  1.786734e-07  1.057302e-07\n",
       "ts_river:sd1         -2.004580e-04 -1.916882e-04 -9.095019e-05  1.040810e-04\n",
       "ts_river:sd2         -4.151284e-04 -4.041278e-04 -2.642567e-04  2.635958e-05\n",
       "ts_river:sd3         -1.410719e-04 -1.352552e-04 -4.668547e-05  1.476906e-04\n",
       "ts_river:sd4          3.771645e-04  3.697801e-04  3.598611e-04  4.054836e-04\n",
       "ts_river:sd5          8.554721e-04  8.454975e-04  7.473966e-04  5.751340e-04\n",
       "ts_river:sd6          1.245405e-03  1.227440e-03  1.056569e-03  7.489238e-04\n",
       "ts_river:sd7          1.543157e-03  1.519255e-03  1.293653e-03  8.740774e-04\n",
       "ts_river:sd8          2.008582e-03  1.640408e-03  1.388864e-03  9.707823e-04\n",
       "ts_river:sd9          1.640408e-03  1.952604e-03  1.371260e-03  9.179395e-04\n",
       "ts_river:sd10         1.388864e-03  1.371260e-03  1.511586e-03  7.867039e-04\n",
       "ts_river:sd11         9.707823e-04  9.179395e-04  7.867039e-04  1.252652e-03\n",
       "ts_temp:(Intercept)  -2.177267e-03 -2.139970e-03 -1.724948e-03 -1.005741e-03\n",
       "ts_temp:ts_river.l1   7.434263e-06  9.151397e-06  6.894646e-06  1.332758e-06\n",
       "ts_temp:ts_temp.l1    5.184282e-04  5.072117e-04  4.102607e-04  2.355448e-04\n",
       "ts_temp:ts_rain.l1    6.098611e-06  2.986808e-06  9.097530e-07  2.472497e-05\n",
       "ts_temp:trend        -3.607643e-08 -3.464712e-08 -2.816109e-08 -1.666436e-08\n",
       "ts_temp:sd1           3.159460e-05  3.021237e-05  1.433485e-05 -1.640442e-05\n",
       "ts_temp:sd2           6.542924e-05  6.369541e-05  4.165004e-05 -4.154587e-06\n",
       "ts_temp:sd3           2.223464e-05  2.131785e-05  7.358194e-06 -2.327783e-05\n",
       "ts_temp:sd4          -5.944568e-05 -5.828180e-05 -5.671844e-05 -6.390911e-05\n",
       "ts_temp:sd5          -1.348327e-04 -1.332606e-04 -1.177987e-04 -9.064806e-05\n",
       "ts_temp:sd6          -1.962908e-04 -1.934593e-04 -1.665281e-04 -1.180394e-04\n",
       "ts_temp:sd7          -2.432201e-04 -2.394530e-04 -2.038953e-04 -1.377652e-04\n",
       "ts_temp:sd8          -3.165768e-04 -2.585481e-04 -2.189017e-04 -1.530070e-04\n",
       "ts_temp:sd9          -2.585481e-04 -3.077540e-04 -2.161272e-04 -1.446783e-04\n",
       "ts_temp:sd10         -2.189017e-04 -2.161272e-04 -2.382442e-04 -1.239940e-04\n",
       "ts_temp:sd11         -1.530070e-04 -1.446783e-04 -1.239940e-04 -1.974330e-04\n",
       "ts_rain:(Intercept)   2.836887e-01  2.788290e-01  2.247534e-01  1.310438e-01\n",
       "ts_rain:ts_river.l1  -9.686527e-04 -1.192388e-03 -8.983431e-04 -1.736527e-04\n",
       "ts_rain:ts_temp.l1   -6.754898e-02 -6.608752e-02 -5.345523e-02 -3.069048e-02\n",
       "ts_rain:ts_rain.l1   -7.946231e-04 -3.891684e-04 -1.185369e-04 -3.221559e-03\n",
       "ts_rain:trend         4.700606e-06  4.514372e-06  3.669270e-06  2.171295e-06\n",
       "ts_rain:sd1          -4.116642e-03 -3.936543e-03 -1.867770e-03  2.137426e-03\n",
       "ts_rain:sd2          -8.525151e-03 -8.299241e-03 -5.426823e-03  5.413250e-04\n",
       "ts_rain:sd3          -2.897079e-03 -2.777626e-03 -9.587413e-04  3.033002e-03\n",
       "ts_rain:sd4           7.745518e-03  7.593871e-03  7.390172e-03  8.327085e-03\n",
       "ts_rain:sd5           1.756813e-02  1.736329e-02  1.534867e-02  1.181106e-02\n",
       "ts_rain:sd6           2.557585e-02  2.520692e-02  2.169790e-02  1.538003e-02\n",
       "ts_rain:sd7           3.169055e-02  3.119970e-02  2.656669e-02  1.795021e-02\n",
       "ts_rain:sd8           4.124861e-02  3.368771e-02  2.852196e-02  1.993616e-02\n",
       "ts_rain:sd9           3.368771e-02  4.009904e-02  2.816045e-02  1.885097e-02\n",
       "ts_rain:sd10          2.852196e-02  2.816045e-02  3.104221e-02  1.615589e-02\n",
       "ts_rain:sd11          1.993616e-02  1.885097e-02  1.615589e-02  2.572468e-02"
      ]
     },
     "metadata": {},
     "output_type": "display_data"
    }
   ],
   "source": [
    "coefficients(model.var)$ts_river\n",
    "vcov(model.var)"
   ]
  },
  {
   "cell_type": "code",
   "execution_count": 34,
   "metadata": {},
   "outputs": [
    {
     "data": {
      "text/plain": [
       "Wald test:\n",
       "----------\n",
       "\n",
       "Chi-squared test:\n",
       "X2 = 10.4, df = 2, P(> X2) = 0.0056"
      ]
     },
     "metadata": {},
     "output_type": "display_data"
    },
    {
     "data": {
      "text/plain": [
       "Wald test:\n",
       "----------\n",
       "\n",
       "Chi-squared test:\n",
       "X2 = 901.6, df = 3, P(> X2) = 0.0"
      ]
     },
     "metadata": {},
     "output_type": "display_data"
    },
    {
     "data": {
      "text/plain": [
       "Wald test:\n",
       "----------\n",
       "\n",
       "Chi-squared test:\n",
       "X2 = 873.2, df = 2, P(> X2) = 0.0"
      ]
     },
     "metadata": {},
     "output_type": "display_data"
    }
   ],
   "source": [
    "## Granger Causality: Wald Test\n",
    "library(aod)\n",
    "coef.riverflow = coefficients(model.var)$ts_river[c(1:3),1]\n",
    "var.model = vcov(model.var)[2:4,2:4]\n",
    "## Granger Causality: Rain & Temperature\n",
    "wald.test(b=coef.riverflow, var.model, Terms=seq(2,3))\n",
    "## Granger Causality: Rain\n",
    "wald.test(b=coef.riverflow, var.model, Terms=seq(3))\n",
    "## Granger Causality: Temperature\n",
    "wald.test(b=coef.riverflow, var.model, Terms=seq(2))"
   ]
  },
  {
   "cell_type": "code",
   "execution_count": 35,
   "metadata": {},
   "outputs": [],
   "source": [
    "pred = predict(model.var.restrict, n.ahead=15, ci=0.95)[[1]]$ts_river\n",
    "point.pred = ts(pred[,1],start=2016, freq=12)\n",
    "lo.pred = ts(pred[,2],start=2016, freq=12)\n",
    "up.pred = ts(pred[,3],start=2016, freq=12)\n",
    "pred.f = predict(model.var,n.ahead=15, ci=0.95)[[1]]$ts_river\n",
    "point.pred.f = ts(pred.f[,1],start=2016, freq=12)\n",
    "lo.pred.f = ts(pred.f[,2],start=2016, freq=12)\n",
    "up.pred.f = ts(pred.f[,3],start=2016, freq=12)"
   ]
  },
  {
   "cell_type": "code",
   "execution_count": 36,
   "metadata": {
    "scrolled": true
   },
   "outputs": [
    {
     "data": {
      "text/html": [
       "<table>\n",
       "<caption>A matrix: 15 × 4 of type dbl</caption>\n",
       "<thead>\n",
       "\t<tr><th scope=col>fcst</th><th scope=col>lower</th><th scope=col>upper</th><th scope=col>CI</th></tr>\n",
       "</thead>\n",
       "<tbody>\n",
       "\t<tr><td>7.573512</td><td>6.866298</td><td>8.280725</td><td>0.7072135</td></tr>\n",
       "\t<tr><td>7.486487</td><td>6.600476</td><td>8.372498</td><td>0.8860114</td></tr>\n",
       "\t<tr><td>7.534787</td><td>6.563566</td><td>8.506008</td><td>0.9712209</td></tr>\n",
       "\t<tr><td>7.620635</td><td>6.605161</td><td>8.636108</td><td>1.0154738</td></tr>\n",
       "\t<tr><td>7.510547</td><td>6.471299</td><td>8.549796</td><td>1.0392484</td></tr>\n",
       "\t<tr><td>7.430514</td><td>6.378287</td><td>8.482741</td><td>1.0522271</td></tr>\n",
       "\t<tr><td>7.465430</td><td>6.406060</td><td>8.524800</td><td>1.0593702</td></tr>\n",
       "\t<tr><td>7.563339</td><td>6.500020</td><td>8.626657</td><td>1.0633188</td></tr>\n",
       "\t<tr><td>7.464614</td><td>6.399107</td><td>8.530121</td><td>1.0655066</td></tr>\n",
       "\t<tr><td>7.385948</td><td>6.319227</td><td>8.452668</td><td>1.0667204</td></tr>\n",
       "\t<tr><td>7.416936</td><td>6.349542</td><td>8.484331</td><td>1.0673942</td></tr>\n",
       "\t<tr><td>7.360910</td><td>6.293141</td><td>8.428678</td><td>1.0677685</td></tr>\n",
       "\t<tr><td>7.316823</td><td>6.248847</td><td>8.384800</td><td>1.0679764</td></tr>\n",
       "\t<tr><td>7.292209</td><td>6.224117</td><td>8.360301</td><td>1.0680919</td></tr>\n",
       "\t<tr><td>7.389492</td><td>6.321336</td><td>8.457648</td><td>1.0681561</td></tr>\n",
       "</tbody>\n",
       "</table>\n"
      ],
      "text/latex": [
       "A matrix: 15 × 4 of type dbl\n",
       "\\begin{tabular}{llll}\n",
       " fcst & lower & upper & CI\\\\\n",
       "\\hline\n",
       "\t 7.573512 & 6.866298 & 8.280725 & 0.7072135\\\\\n",
       "\t 7.486487 & 6.600476 & 8.372498 & 0.8860114\\\\\n",
       "\t 7.534787 & 6.563566 & 8.506008 & 0.9712209\\\\\n",
       "\t 7.620635 & 6.605161 & 8.636108 & 1.0154738\\\\\n",
       "\t 7.510547 & 6.471299 & 8.549796 & 1.0392484\\\\\n",
       "\t 7.430514 & 6.378287 & 8.482741 & 1.0522271\\\\\n",
       "\t 7.465430 & 6.406060 & 8.524800 & 1.0593702\\\\\n",
       "\t 7.563339 & 6.500020 & 8.626657 & 1.0633188\\\\\n",
       "\t 7.464614 & 6.399107 & 8.530121 & 1.0655066\\\\\n",
       "\t 7.385948 & 6.319227 & 8.452668 & 1.0667204\\\\\n",
       "\t 7.416936 & 6.349542 & 8.484331 & 1.0673942\\\\\n",
       "\t 7.360910 & 6.293141 & 8.428678 & 1.0677685\\\\\n",
       "\t 7.316823 & 6.248847 & 8.384800 & 1.0679764\\\\\n",
       "\t 7.292209 & 6.224117 & 8.360301 & 1.0680919\\\\\n",
       "\t 7.389492 & 6.321336 & 8.457648 & 1.0681561\\\\\n",
       "\\end{tabular}\n"
      ],
      "text/markdown": [
       "\n",
       "A matrix: 15 × 4 of type dbl\n",
       "\n",
       "| fcst | lower | upper | CI |\n",
       "|---|---|---|---|\n",
       "| 7.573512 | 6.866298 | 8.280725 | 0.7072135 |\n",
       "| 7.486487 | 6.600476 | 8.372498 | 0.8860114 |\n",
       "| 7.534787 | 6.563566 | 8.506008 | 0.9712209 |\n",
       "| 7.620635 | 6.605161 | 8.636108 | 1.0154738 |\n",
       "| 7.510547 | 6.471299 | 8.549796 | 1.0392484 |\n",
       "| 7.430514 | 6.378287 | 8.482741 | 1.0522271 |\n",
       "| 7.465430 | 6.406060 | 8.524800 | 1.0593702 |\n",
       "| 7.563339 | 6.500020 | 8.626657 | 1.0633188 |\n",
       "| 7.464614 | 6.399107 | 8.530121 | 1.0655066 |\n",
       "| 7.385948 | 6.319227 | 8.452668 | 1.0667204 |\n",
       "| 7.416936 | 6.349542 | 8.484331 | 1.0673942 |\n",
       "| 7.360910 | 6.293141 | 8.428678 | 1.0677685 |\n",
       "| 7.316823 | 6.248847 | 8.384800 | 1.0679764 |\n",
       "| 7.292209 | 6.224117 | 8.360301 | 1.0680919 |\n",
       "| 7.389492 | 6.321336 | 8.457648 | 1.0681561 |\n",
       "\n"
      ],
      "text/plain": [
       "      fcst     lower    upper    CI       \n",
       " [1,] 7.573512 6.866298 8.280725 0.7072135\n",
       " [2,] 7.486487 6.600476 8.372498 0.8860114\n",
       " [3,] 7.534787 6.563566 8.506008 0.9712209\n",
       " [4,] 7.620635 6.605161 8.636108 1.0154738\n",
       " [5,] 7.510547 6.471299 8.549796 1.0392484\n",
       " [6,] 7.430514 6.378287 8.482741 1.0522271\n",
       " [7,] 7.465430 6.406060 8.524800 1.0593702\n",
       " [8,] 7.563339 6.500020 8.626657 1.0633188\n",
       " [9,] 7.464614 6.399107 8.530121 1.0655066\n",
       "[10,] 7.385948 6.319227 8.452668 1.0667204\n",
       "[11,] 7.416936 6.349542 8.484331 1.0673942\n",
       "[12,] 7.360910 6.293141 8.428678 1.0677685\n",
       "[13,] 7.316823 6.248847 8.384800 1.0679764\n",
       "[14,] 7.292209 6.224117 8.360301 1.0680919\n",
       "[15,] 7.389492 6.321336 8.457648 1.0681561"
      ]
     },
     "metadata": {},
     "output_type": "display_data"
    }
   ],
   "source": [
    "pred"
   ]
  },
  {
   "cell_type": "code",
   "execution_count": 37,
   "metadata": {
    "scrolled": true
   },
   "outputs": [
    {
     "data": {
      "image/png": "[encoded data removed]",
      "text/plain": [
       "Plot with title \"\""
      ]
     },
     "metadata": {},
     "output_type": "display_data"
    }
   ],
   "source": [
    "ymin=min(c(log(river[(n-50):n]),lo.pred,lo.pred.f))\n",
    "ymax=max(c(log(river)[(n-50):n],up.pred,up.pred.f))\n",
    "plot(ts(log(as.numeric(river[(n-50):n])),start=2012, freq=12), ylim=c(4,10), ylab=\"Log-River Flow\", type=\"l\",main=\"\")\n",
    "points(point.pred,lwd=2,col=\"red\")\n",
    "lines(lo.pred,lty=3,lwd= 2, col=\"blue\")\n",
    "lines(up.pred,lty=3,lwd= 2, col=\"blue\")\n",
    "points(point.pred.f,lwd=2,col=\"green\")\n",
    "lines(lo.pred.f,lty=3,lwd= 2, col=\"purple\")\n",
    "lines(up.pred.f,lty=3,lwd= 2, col=\"purple\")"
   ]
  },
  {
   "cell_type": "code",
   "execution_count": 38,
   "metadata": {
    "scrolled": false
   },
   "outputs": [
    {
     "data": {
      "text/plain": [
       "$ts_river\n",
       "          fcst    lower    upper        CI\n",
       " [1,] 7.573512 6.866298 8.280725 0.7072135\n",
       " [2,] 7.486487 6.600476 8.372498 0.8860114\n",
       " [3,] 7.534787 6.563566 8.506008 0.9712209\n",
       " [4,] 7.620635 6.605161 8.636108 1.0154738\n",
       " [5,] 7.510547 6.471299 8.549796 1.0392484\n",
       " [6,] 7.430514 6.378287 8.482741 1.0522271\n",
       " [7,] 7.465430 6.406060 8.524800 1.0593702\n",
       " [8,] 7.563339 6.500020 8.626657 1.0633188\n",
       " [9,] 7.464614 6.399107 8.530121 1.0655066\n",
       "[10,] 7.385948 6.319227 8.452668 1.0667204\n",
       "[11,] 7.416936 6.349542 8.484331 1.0673942\n",
       "[12,] 7.360910 6.293141 8.428678 1.0677685\n",
       "[13,] 7.316823 6.248847 8.384800 1.0679764\n",
       "[14,] 7.292209 6.224117 8.360301 1.0680919\n",
       "[15,] 7.389492 6.321336 8.457648 1.0681561\n",
       "[16,] 7.512243 6.444052 8.580435 1.0681918\n",
       "[17,] 7.429742 6.361530 8.497954 1.0682116\n",
       "[18,] 7.370287 6.302065 8.438510 1.0682226\n",
       "[19,] 7.420547 6.352318 8.488775 1.0682287\n",
       "[20,] 7.529894 6.461661 8.598126 1.0682321\n",
       "[21,] 7.439695 6.371461 8.507929 1.0682340\n",
       "[22,] 7.367385 6.299150 8.435620 1.0682351\n",
       "[23,] 7.403112 6.334876 8.471348 1.0682356\n",
       "[24,] 7.350617 6.282381 8.418853 1.0682360\n",
       "[25,] 7.309163 6.240927 8.377399 1.0682361\n",
       "[26,] 7.286511 6.218275 8.354748 1.0682362\n",
       "[27,] 7.385258 6.317022 8.453494 1.0682363\n",
       "\n",
       "$ts_temp\n",
       "          fcst    lower    upper        CI\n",
       " [1,] 3.806662 3.691461 3.921864 0.1152016\n",
       " [2,] 3.860945 3.742458 3.979432 0.1184868\n",
       " [3,] 4.009520 3.890899 4.128142 0.1186214\n",
       " [4,] 4.155961 4.037334 4.274588 0.1186268\n",
       " [5,] 4.274767 4.156140 4.393394 0.1186270\n",
       " [6,] 4.366884 4.248257 4.485511 0.1186270\n",
       " [7,] 4.402644 4.284017 4.521271 0.1186271\n",
       " [8,] 4.395377 4.276750 4.514005 0.1186271\n",
       " [9,] 4.321322 4.202695 4.439949 0.1186271\n",
       "[10,] 4.168714 4.050087 4.287341 0.1186271\n",
       "[11,] 4.001190 3.882563 4.119817 0.1186271\n",
       "[12,] 3.841908 3.723281 3.960535 0.1186271\n",
       "[13,] 3.772583 3.653956 3.891210 0.1186271\n",
       "[14,] 3.854955 3.736328 3.973582 0.1186271\n",
       "[15,] 4.009053 3.890426 4.127681 0.1186271\n",
       "[16,] 4.156600 4.037973 4.275227 0.1186271\n",
       "[17,] 4.275627 4.157000 4.394254 0.1186271\n",
       "[18,] 4.367789 4.249162 4.486416 0.1186271\n",
       "[19,] 4.403558 4.284931 4.522185 0.1186271\n",
       "[20,] 4.396293 4.277666 4.514920 0.1186271\n",
       "[21,] 4.322238 4.203611 4.440865 0.1186271\n",
       "[22,] 4.169630 4.051003 4.288257 0.1186271\n",
       "[23,] 4.002106 3.883479 4.120733 0.1186271\n",
       "[24,] 3.842825 3.724198 3.961452 0.1186271\n",
       "[25,] 3.773499 3.654872 3.892126 0.1186271\n",
       "[26,] 3.855871 3.737244 3.974498 0.1186271\n",
       "[27,] 4.009970 3.891343 4.128597 0.1186271\n",
       "\n",
       "$ts_rain\n",
       "          fcst       lower    upper       CI\n",
       " [1,] 1.519978  0.26108773 2.778868 1.258890\n",
       " [2,] 1.423348  0.16380154 2.682895 1.259547\n",
       " [3,] 1.583037  0.32345200 2.842621 1.259585\n",
       " [4,] 1.238133 -0.02145364 2.497719 1.259586\n",
       " [5,] 1.289826  0.03024014 2.549413 1.259586\n",
       " [6,] 1.145163 -0.11442323 2.404749 1.259586\n",
       " [7,] 1.364283  0.10469624 2.623869 1.259586\n",
       " [8,] 1.156058 -0.10352825 2.415644 1.259586\n",
       " [9,] 1.026856 -0.23273054 2.286442 1.259586\n",
       "[10,] 3.309478  2.04989215 4.569065 1.259586\n",
       "[11,] 1.294328  0.03474187 2.553915 1.259586\n",
       "[12,] 1.235192 -0.02439434 2.494778 1.259586\n",
       "[13,] 1.445278  0.18569122 2.704864 1.259586\n",
       "[14,] 1.411318  0.15173174 2.670904 1.259586\n",
       "[15,] 1.580922  0.32133597 2.840509 1.259586\n",
       "[16,] 1.237968 -0.02161854 2.497554 1.259586\n",
       "[17,] 1.290052  0.03046565 2.549638 1.259586\n",
       "[18,] 1.145467 -0.11411945 2.405053 1.259586\n",
       "[19,] 1.364602  0.10501571 2.624188 1.259586\n",
       "[20,] 1.156381 -0.10320563 2.415967 1.259586\n",
       "[21,] 1.027179 -0.23240729 2.286765 1.259586\n",
       "[22,] 3.309802  2.05021553 4.569388 1.259586\n",
       "[23,] 1.294652  0.03506527 2.554238 1.259586\n",
       "[24,] 1.235515 -0.02407093 2.495102 1.259586\n",
       "[25,] 1.445601  0.18601463 2.705187 1.259586\n",
       "[26,] 1.411641  0.15205515 2.671228 1.259586\n",
       "[27,] 1.581246  0.32165938 2.840832 1.259586\n"
      ]
     },
     "metadata": {},
     "output_type": "display_data"
    },
    {
     "data": {
      "image/png": "[encoded data removed]",
      "text/plain": [
       "Plot with title \"Forecasts from VAR(1)\""
      ]
     },
     "metadata": {},
     "output_type": "display_data"
    }
   ],
   "source": [
    "### Another approach for prediction & visualizing predictions\n",
    "predict(model.var.restrict, n.ahead=27, ci=0.95)\n",
    "fcst = forecast(model.var.restrict,h=27)\n",
    "plot(fcst)"
   ]
  },
  {
   "cell_type": "code",
   "execution_count": 39,
   "metadata": {
    "scrolled": true
   },
   "outputs": [
    {
     "data": {
      "text/html": [
       "<style>\n",
       ".dl-inline {width: auto; margin:0; padding: 0}\n",
       ".dl-inline>dt, .dl-inline>dd {float: none; width: auto; display: inline-block}\n",
       ".dl-inline>dt::after {content: \":\\0020\"; padding-right: .5ex}\n",
       ".dl-inline>dt:not(:first-of-type) {padding-left: .5ex}\n",
       "</style><dl class=dl-inline><dt>AIC(n)</dt><dd>5</dd><dt>HQ(n)</dt><dd>1</dd><dt>SC(n)</dt><dd>1</dd><dt>FPE(n)</dt><dd>5</dd></dl>\n"
      ],
      "text/latex": [
       "\\begin{description*}\n",
       "\\item[AIC(n)] 5\n",
       "\\item[HQ(n)] 1\n",
       "\\item[SC(n)] 1\n",
       "\\item[FPE(n)] 5\n",
       "\\end{description*}\n"
      ],
      "text/markdown": [
       "AIC(n)\n",
       ":   5HQ(n)\n",
       ":   1SC(n)\n",
       ":   1FPE(n)\n",
       ":   5\n",
       "\n"
      ],
      "text/plain": [
       "AIC(n)  HQ(n)  SC(n) FPE(n) \n",
       "     5      1      1      5 "
      ]
     },
     "metadata": {},
     "output_type": "display_data"
    },
    {
     "data": {
      "text/plain": [
       "\n",
       "VAR Estimation Results:\n",
       "========================= \n",
       "Endogenous variables: ts_river, ts_rain \n",
       "Deterministic variables: both \n",
       "Sample size: 719 \n",
       "Log Likelihood: -968.663 \n",
       "Roots of the characteristic polynomial:\n",
       "0.7378 0.02413\n",
       "Call:\n",
       "VAR(y = data.train, p = 1, type = \"both\", season = 12L, exogen = data.frame(ts_temp))\n",
       "\n",
       "\n",
       "Estimation results for equation ts_river: \n",
       "========================================= \n",
       "ts_river = ts_river.l1 + ts_rain.l1 + const + trend + sd1 + sd2 + sd3 + sd4 + sd5 + sd6 + sd7 + sd8 + sd9 + sd10 + sd11 + ts_temp \n",
       "\n",
       "              Estimate Std. Error t value Pr(>|t|)    \n",
       "ts_river.l1  7.371e-01  2.511e-02  29.352  < 2e-16 ***\n",
       "ts_rain.l1   6.584e-02  2.122e-02   3.103  0.00199 ** \n",
       "const        2.588e+00  9.618e-01   2.691  0.00729 ** \n",
       "trend       -7.214e-05  6.714e-05  -1.074  0.28297    \n",
       "sd1          1.090e-01  6.800e-02   1.603  0.10932    \n",
       "sd2          1.110e-01  6.594e-02   1.684  0.09260 .  \n",
       "sd3          2.191e-01  7.593e-02   2.885  0.00403 ** \n",
       "sd4          2.847e-01  9.763e-02   2.916  0.00366 ** \n",
       "sd5          2.324e-01  1.183e-01   1.964  0.04988 *  \n",
       "sd6          1.653e-01  1.362e-01   1.214  0.22511    \n",
       "sd7          2.795e-01  1.429e-01   1.956  0.05084 .  \n",
       "sd8          3.344e-01  1.419e-01   2.356  0.01876 *  \n",
       "sd9          1.799e-01  1.271e-01   1.415  0.15762    \n",
       "sd10         1.283e-01  9.888e-02   1.298  0.19468    \n",
       "sd11        -2.032e-02  8.886e-02  -0.229  0.81918    \n",
       "ts_temp     -1.738e-01  2.263e-01  -0.768  0.44279    \n",
       "---\n",
       "Signif. codes:  0 '***' 0.001 '**' 0.01 '*' 0.05 '.' 0.1 ' ' 1\n",
       "\n",
       "\n",
       "Residual standard error: 0.3596 on 703 degrees of freedom\n",
       "Multiple R-Squared: 0.5838,\tAdjusted R-squared: 0.5749 \n",
       "F-statistic: 65.74 on 15 and 703 DF,  p-value: < 2.2e-16 \n",
       "\n",
       "\n",
       "Estimation results for equation ts_rain: \n",
       "======================================== \n",
       "ts_rain = ts_river.l1 + ts_rain.l1 + const + trend + sd1 + sd2 + sd3 + sd4 + sd5 + sd6 + sd7 + sd8 + sd9 + sd10 + sd11 + ts_temp \n",
       "\n",
       "              Estimate Std. Error t value Pr(>|t|)    \n",
       "ts_river.l1  7.600e-03  4.490e-02   0.169  0.86564    \n",
       "ts_rain.l1   2.483e-02  3.794e-02   0.654  0.51302    \n",
       "const        4.588e+00  1.720e+00   2.668  0.00782 ** \n",
       "trend        5.494e-05  1.200e-04   0.458  0.64731    \n",
       "sd1          8.024e-02  1.216e-01   0.660  0.50945    \n",
       "sd2          1.090e-01  1.179e-01   0.925  0.35548    \n",
       "sd3          4.013e-01  1.358e-01   2.956  0.00322 ** \n",
       "sd4          1.828e-01  1.746e-01   1.047  0.29535    \n",
       "sd5          2.599e-01  2.115e-01   1.229  0.21959    \n",
       "sd6          2.533e-01  2.435e-01   1.040  0.29861    \n",
       "sd7          5.620e-01  2.554e-01   2.200  0.02813 *  \n",
       "sd8          2.814e-01  2.538e-01   1.109  0.26786    \n",
       "sd9          9.942e-02  2.273e-01   0.437  0.66202    \n",
       "sd10         2.265e+00  1.768e-01  12.812  < 2e-16 ***\n",
       "sd11        -1.763e-02  1.589e-01  -0.111  0.91170    \n",
       "ts_temp     -7.926e-01  4.046e-01  -1.959  0.05048 .  \n",
       "---\n",
       "Signif. codes:  0 '***' 0.001 '**' 0.01 '*' 0.05 '.' 0.1 ' ' 1\n",
       "\n",
       "\n",
       "Residual standard error: 0.6429 on 703 degrees of freedom\n",
       "Multiple R-Squared: 0.4544,\tAdjusted R-squared: 0.4427 \n",
       "F-statistic: 39.03 on 15 and 703 DF,  p-value: < 2.2e-16 \n",
       "\n",
       "\n",
       "\n",
       "Covariance matrix of residuals:\n",
       "         ts_river ts_rain\n",
       "ts_river  0.12930 0.01957\n",
       "ts_rain   0.01957 0.41336\n",
       "\n",
       "Correlation matrix of residuals:\n",
       "         ts_river ts_rain\n",
       "ts_river  1.00000 0.08464\n",
       "ts_rain   0.08464 1.00000\n",
       "\n"
      ]
     },
     "metadata": {},
     "output_type": "display_data"
    }
   ],
   "source": [
    "###VARX Model using temperature as exogenous variable##\n",
    "data.train=cbind(ts_river,ts_rain)\n",
    "data.test=cbind(ts_river2,ts_rain2)\n",
    "##Model Selection\n",
    "VARselect(data.train, lag.max = 20,season=12,type=\"both\", exogen=data.frame(ts_temp))$selection\n",
    "## Model Fitting: Unrestricted VAR\n",
    "model.var2=VAR(data.train, p=1,season=12,type=\"both\", exogen=data.frame(ts_temp))\n",
    "summary(model.var2)\n"
   ]
  },
  {
   "cell_type": "code",
   "execution_count": 40,
   "metadata": {
    "scrolled": false
   },
   "outputs": [
    {
     "data": {
      "text/plain": [
       "\n",
       "VAR Estimation Results:\n",
       "========================= \n",
       "Endogenous variables: ts_river, ts_rain \n",
       "Deterministic variables: both \n",
       "Sample size: 719 \n",
       "Log Likelihood: -978.54 \n",
       "Roots of the characteristic polynomial:\n",
       "0.7454     0\n",
       "Call:\n",
       "VAR(y = data.train, p = 1, type = \"both\", season = 12L, exogen = data.frame(ts_temp))\n",
       "\n",
       "\n",
       "Estimation results for equation ts_river: \n",
       "========================================= \n",
       "ts_river = ts_river.l1 + ts_rain.l1 + const + sd3 + sd4 + sd7 + sd8 \n",
       "\n",
       "            Estimate Std. Error t value Pr(>|t|)    \n",
       "ts_river.l1  0.74544    0.02446  30.477  < 2e-16 ***\n",
       "ts_rain.l1   0.03927    0.01576   2.491 0.012954 *  \n",
       "const        1.82633    0.18199  10.035  < 2e-16 ***\n",
       "sd3          0.11697    0.04953   2.362 0.018461 *  \n",
       "sd4          0.16054    0.04944   3.247 0.001221 ** \n",
       "sd7          0.10026    0.04971   2.017 0.044094 *  \n",
       "sd8          0.16353    0.04944   3.308 0.000988 ***\n",
       "---\n",
       "Signif. codes:  0 '***' 0.001 '**' 0.01 '*' 0.05 '.' 0.1 ' ' 1\n",
       "\n",
       "\n",
       "Residual standard error: 0.3608 on 712 degrees of freedom\n",
       "Multiple R-Squared: 0.9977,\tAdjusted R-squared: 0.9976 \n",
       "F-statistic: 4.326e+04 on 7 and 712 DF,  p-value: < 2.2e-16 \n",
       "\n",
       "\n",
       "Estimation results for equation ts_rain: \n",
       "======================================== \n",
       "ts_rain = const + sd3 + sd7 + sd10 + ts_temp \n",
       "\n",
       "        Estimate Std. Error t value Pr(>|t|)    \n",
       "const    3.44864    0.46727   7.380 4.40e-13 ***\n",
       "sd3      0.28904    0.08798   3.285 0.001068 ** \n",
       "sd7      0.32409    0.09336   3.471 0.000549 ***\n",
       "sd10     2.09622    0.08747  23.964  < 2e-16 ***\n",
       "ts_temp -0.48771    0.11374  -4.288 2.05e-05 ***\n",
       "---\n",
       "Signif. codes:  0 '***' 0.001 '**' 0.01 '*' 0.05 '.' 0.1 ' ' 1\n",
       "\n",
       "\n",
       "Residual standard error: 0.6408 on 714 degrees of freedom\n",
       "Multiple R-Squared: 0.8563,\tAdjusted R-squared: 0.8553 \n",
       "F-statistic: 850.7 on 5 and 714 DF,  p-value: < 2.2e-16 \n",
       "\n",
       "\n",
       "\n",
       "Covariance matrix of residuals:\n",
       "         ts_river ts_rain\n",
       "ts_river  0.13186 0.02145\n",
       "ts_rain   0.02145 0.41710\n",
       "\n",
       "Correlation matrix of residuals:\n",
       "         ts_river ts_rain\n",
       "ts_river  1.00000 0.09146\n",
       "ts_rain   0.09146 1.00000\n",
       "\n"
      ]
     },
     "metadata": {},
     "output_type": "display_data"
    },
    {
     "data": {
      "text/plain": [
       "$ts_river\n",
       "          fcst    lower    upper        CI\n",
       " [1,] 7.573512 6.866298 8.280725 0.7072135\n",
       " [2,] 7.473588 6.587439 8.359738 0.8861498\n",
       " [3,] 7.520686 6.549248 8.492124 0.9714376\n",
       " [4,] 7.611687 6.595947 8.627426 1.0157395\n",
       " [5,] 7.512659 6.473117 8.552200 1.0395414\n",
       " [6,] 7.434136 6.381601 8.486671 1.0525349\n",
       " [7,] 7.473861 6.414175 8.533548 1.0596862\n",
       " [8,] 7.576077 6.512438 8.639716 1.0636393\n",
       " [9,] 7.473579 6.407749 8.539408 1.0658296\n",
       "[10,] 7.395376 6.328332 8.462421 1.0670447\n",
       "[11,] 7.419466 6.351746 8.487185 1.0677193\n",
       "[12,] 7.354844 6.286750 8.422938 1.0680940\n",
       "[13,] 7.307464 6.239162 8.375766 1.0683022\n",
       "[14,] 7.274739 6.206321 8.343156 1.0684178\n",
       "[15,] 7.373071 6.304589 8.441553 1.0684821\n",
       "[16,] 7.500907 6.432389 8.569425 1.0685178\n",
       "[17,] 7.427157 6.358619 8.495695 1.0685376\n",
       "[18,] 7.373420 6.304871 8.441968 1.0685487\n",
       "[19,] 7.426826 6.358271 8.495380 1.0685548\n",
       "[20,] 7.540120 6.471561 8.608678 1.0685582\n",
       "[21,] 7.446270 6.377710 8.514830 1.0685601\n",
       "[22,] 7.374680 6.306119 8.443241 1.0685611\n",
       "[23,] 7.403220 6.334658 8.471781 1.0685617\n",
       "[24,] 7.342516 6.273954 8.411078 1.0685620\n",
       "[25,] 7.298865 6.230303 8.367427 1.0685622\n",
       "[26,] 7.268946 6.200383 8.337508 1.0685623\n",
       "[27,] 7.365623 6.297061 8.434185 1.0685624\n",
       "\n",
       "$ts_rain\n",
       "          fcst       lower    upper       CI\n",
       " [1,] 1.191486 -0.06453952 2.447511 1.256025\n",
       " [2,] 1.309103  0.05307773 2.565128 1.256025\n",
       " [3,] 1.622858  0.36683280 2.878884 1.256025\n",
       " [4,] 1.461773  0.20574752 2.717798 1.256025\n",
       " [5,] 1.341995  0.08596955 2.598020 1.256025\n",
       " [6,] 1.291125  0.03509995 2.547151 1.256025\n",
       " [7,] 1.528627  0.27260159 2.784652 1.256025\n",
       " [8,] 1.142530 -0.11349550 2.398555 1.256025\n",
       " [9,] 1.096794 -0.15923143 2.352819 1.256025\n",
       "[10,] 3.194892  1.93886710 4.450918 1.256025\n",
       "[11,] 1.091830 -0.16419545 2.347855 1.256025\n",
       "[12,] 1.111997 -0.14402884 2.368022 1.256025\n",
       "[13,] 1.178041 -0.07798415 2.434067 1.256025\n",
       "[14,] 1.324774  0.06874849 2.580799 1.256025\n",
       "[15,] 1.603964  0.34793850 2.859989 1.256025\n",
       "[16,] 1.387346  0.13132043 2.643371 1.256025\n",
       "[17,] 1.418897  0.16287198 2.674923 1.256025\n",
       "[18,] 1.245910 -0.01011539 2.501935 1.256025\n",
       "[19,] 1.505833  0.24980723 2.761858 1.256025\n",
       "[20,] 1.129686 -0.12633962 2.385711 1.256025\n",
       "[21,] 1.088140 -0.16788559 2.344165 1.256025\n",
       "[22,] 3.174057  1.91803208 4.430083 1.256025\n",
       "[23,] 1.086305 -0.16972024 2.342330 1.256025\n",
       "[24,] 1.127024 -0.12900107 2.383050 1.256025\n",
       "[25,] 1.193763 -0.06226227 2.449788 1.256025\n",
       "[26,] 1.245064 -0.01096138 2.501089 1.256025\n",
       "[27,] 1.534953  0.27892768 2.790978 1.256025\n"
      ]
     },
     "metadata": {},
     "output_type": "display_data"
    },
    {
     "data": {
      "image/png": "[encoded data removed]",
      "text/plain": [
       "Plot with title \"Forecasts from VAR(1)\""
      ]
     },
     "metadata": {},
     "output_type": "display_data"
    }
   ],
   "source": [
    "## Model Fitting: Restricted VAR\n",
    "model.var.restrict2=restrict(model.var2)  \n",
    "summary(model.var.restrict2)\n",
    "\n",
    "n = length(ts_temp) - 27 \n",
    "ts_temp1 = ts_temp[(n+1):length(ts_temp)];\n",
    "x=data.frame(ts_temp1); colnames(x)=\"ts_temp\"\n",
    "predict(model.var.restrict2, n.ahead=27, ci=0.95,dumvar=x)\n",
    "fcst = forecast(model.var.restrict2,h=27,dumvar=x)\n",
    "plot(fcst)\n"
   ]
  },
  {
   "cell_type": "code",
   "execution_count": 41,
   "metadata": {
    "scrolled": false
   },
   "outputs": [
    {
     "data": {
      "text/html": [
       "<style>\n",
       ".dl-inline {width: auto; margin:0; padding: 0}\n",
       ".dl-inline>dt, .dl-inline>dd {float: none; width: auto; display: inline-block}\n",
       ".dl-inline>dt::after {content: \":\\0020\"; padding-right: .5ex}\n",
       ".dl-inline>dt:not(:first-of-type) {padding-left: .5ex}\n",
       "</style><dl class=dl-inline><dt>AIC(n)</dt><dd>3</dd><dt>HQ(n)</dt><dd>1</dd><dt>SC(n)</dt><dd>1</dd><dt>FPE(n)</dt><dd>3</dd></dl>\n"
      ],
      "text/latex": [
       "\\begin{description*}\n",
       "\\item[AIC(n)] 3\n",
       "\\item[HQ(n)] 1\n",
       "\\item[SC(n)] 1\n",
       "\\item[FPE(n)] 3\n",
       "\\end{description*}\n"
      ],
      "text/markdown": [
       "AIC(n)\n",
       ":   3HQ(n)\n",
       ":   1SC(n)\n",
       ":   1FPE(n)\n",
       ":   3\n",
       "\n"
      ],
      "text/plain": [
       "AIC(n)  HQ(n)  SC(n) FPE(n) \n",
       "     3      1      1      3 "
      ]
     },
     "metadata": {},
     "output_type": "display_data"
    },
    {
     "data": {
      "text/plain": [
       "\n",
       "VAR Estimation Results:\n",
       "========================= \n",
       "Endogenous variables: ts_river, ts_temp \n",
       "Deterministic variables: const \n",
       "Sample size: 717 \n",
       "Log Likelihood: 741.887 \n",
       "Roots of the characteristic polynomial:\n",
       "0.7906 0.5101 0.3541 0.3541 0.2207 0.2207\n",
       "Call:\n",
       "VAR(y = cbind(ts_river, ts_temp), p = 3, season = 12L, exogen = data.frame(ts_rain))\n",
       "\n",
       "\n",
       "Estimation results for equation ts_river: \n",
       "========================================= \n",
       "ts_river = ts_river.l1 + ts_temp.l1 + ts_river.l2 + ts_temp.l2 + ts_river.l3 + ts_temp.l3 + const + sd1 + sd2 + sd3 + sd4 + sd5 + sd6 + sd7 + sd8 + sd9 + sd10 + sd11 + ts_rain \n",
       "\n",
       "             Estimate Std. Error t value Pr(>|t|)    \n",
       "ts_river.l1  0.755791   0.037558  20.123  < 2e-16 ***\n",
       "ts_temp.l1  -0.092325   0.229797  -0.402 0.687979    \n",
       "ts_river.l2 -0.079302   0.047166  -1.681 0.093143 .  \n",
       "ts_temp.l2  -0.318836   0.234881  -1.357 0.175082    \n",
       "ts_river.l3  0.065718   0.037509   1.752 0.080199 .  \n",
       "ts_temp.l3  -0.401694   0.230458  -1.743 0.081770 .  \n",
       "const        5.171634   1.382788   3.740 0.000199 ***\n",
       "sd1         -0.005603   0.084347  -0.066 0.947055    \n",
       "sd2         -0.133059   0.117075  -1.137 0.256128    \n",
       "sd3         -0.129959   0.141819  -0.916 0.359789    \n",
       "sd4         -0.057023   0.148396  -0.384 0.700900    \n",
       "sd5         -0.050704   0.134968  -0.376 0.707276    \n",
       "sd6         -0.008327   0.120039  -0.069 0.944717    \n",
       "sd7          0.179647   0.116101   1.547 0.122238    \n",
       "sd8          0.340342   0.116645   2.918 0.003639 ** \n",
       "sd9          0.241916   0.114700   2.109 0.035289 *  \n",
       "sd10         0.109223   0.110717   0.987 0.324226    \n",
       "sd11         0.189516   0.079916   2.371 0.017989 *  \n",
       "ts_rain      0.048701   0.021145   2.303 0.021561 *  \n",
       "---\n",
       "Signif. codes:  0 '***' 0.001 '**' 0.01 '*' 0.05 '.' 0.1 ' ' 1\n",
       "\n",
       "\n",
       "Residual standard error: 0.3592 on 698 degrees of freedom\n",
       "Multiple R-Squared: 0.5842,\tAdjusted R-squared: 0.5734 \n",
       "F-statistic: 54.48 on 18 and 698 DF,  p-value: < 2.2e-16 \n",
       "\n",
       "\n",
       "Estimation results for equation ts_temp: \n",
       "======================================== \n",
       "ts_temp = ts_river.l1 + ts_temp.l1 + ts_river.l2 + ts_temp.l2 + ts_river.l3 + ts_temp.l3 + const + sd1 + sd2 + sd3 + sd4 + sd5 + sd6 + sd7 + sd8 + sd9 + sd10 + sd11 + ts_rain \n",
       "\n",
       "             Estimate Std. Error t value Pr(>|t|)    \n",
       "ts_river.l1 -0.011338   0.006223  -1.822   0.0689 .  \n",
       "ts_temp.l1   0.242926   0.038077   6.380 3.23e-10 ***\n",
       "ts_river.l2  0.006751   0.007815   0.864   0.3880    \n",
       "ts_temp.l2   0.060545   0.038920   1.556   0.1202    \n",
       "ts_river.l3 -0.004320   0.006215  -0.695   0.4872    \n",
       "ts_temp.l3   0.063897   0.038187   1.673   0.0947 .  \n",
       "const        2.672105   0.229127  11.662  < 2e-16 ***\n",
       "sd1         -0.012463   0.013976  -0.892   0.3729    \n",
       "sd2          0.106278   0.019399   5.478 6.00e-08 ***\n",
       "sd3          0.257751   0.023499  10.968  < 2e-16 ***\n",
       "sd4          0.365351   0.024589  14.858  < 2e-16 ***\n",
       "sd5          0.434472   0.022364  19.427  < 2e-16 ***\n",
       "sd6          0.478528   0.019890  24.058  < 2e-16 ***\n",
       "sd7          0.476432   0.019238  24.765  < 2e-16 ***\n",
       "sd8          0.445768   0.019328  23.063  < 2e-16 ***\n",
       "sd9          0.365464   0.019006  19.229  < 2e-16 ***\n",
       "sd10         0.244969   0.018346  13.353  < 2e-16 ***\n",
       "sd11         0.103459   0.013242   7.813 2.06e-14 ***\n",
       "ts_rain     -0.007617   0.003504  -2.174   0.0300 *  \n",
       "---\n",
       "Signif. codes:  0 '***' 0.001 '**' 0.01 '*' 0.05 '.' 0.1 ' ' 1\n",
       "\n",
       "\n",
       "Residual standard error: 0.05951 on 698 degrees of freedom\n",
       "Multiple R-Squared: 0.9338,\tAdjusted R-squared: 0.9321 \n",
       "F-statistic: 547.3 on 18 and 698 DF,  p-value: < 2.2e-16 \n",
       "\n",
       "\n",
       "\n",
       "Covariance matrix of residuals:\n",
       "           ts_river    ts_temp\n",
       "ts_river  0.1290059 -0.0004792\n",
       "ts_temp  -0.0004792  0.0035420\n",
       "\n",
       "Correlation matrix of residuals:\n",
       "         ts_river  ts_temp\n",
       "ts_river  1.00000 -0.02242\n",
       "ts_temp  -0.02242  1.00000\n",
       "\n"
      ]
     },
     "metadata": {},
     "output_type": "display_data"
    }
   ],
   "source": [
    "##VARX Model using rain as exogenous variable##\n",
    "##Model Selection\n",
    "VARselect(cbind(ts_river,ts_temp), lag.max = 20,season=12,exogen=data.frame(ts_rain))$selection\n",
    "## Model Fitting: Unrestricted VAR\n",
    "model.var2=VAR(cbind(ts_river,ts_temp), p=3,season=12,exogen=data.frame(ts_rain))\n",
    "summary(model.var2)"
   ]
  },
  {
   "cell_type": "code",
   "execution_count": 42,
   "metadata": {
    "scrolled": false
   },
   "outputs": [
    {
     "data": {
      "text/plain": [
       "\n",
       "VAR Estimation Results:\n",
       "========================= \n",
       "Endogenous variables: ts_river, ts_temp \n",
       "Deterministic variables: const \n",
       "Sample size: 717 \n",
       "Log Likelihood: 734.54 \n",
       "Roots of the characteristic polynomial:\n",
       "0.753 0.5426 0.4066 0.4066     0     0\n",
       "Call:\n",
       "VAR(y = cbind(ts_river, ts_temp), p = 3, season = 12L, exogen = data.frame(ts_rain))\n",
       "\n",
       "\n",
       "Estimation results for equation ts_river: \n",
       "========================================= \n",
       "ts_river = ts_river.l1 + ts_temp.l3 + const + sd7 + sd8 + sd9 + sd11 + ts_rain \n",
       "\n",
       "            Estimate Std. Error t value Pr(>|t|)    \n",
       "ts_river.l1  0.73332    0.02452  29.906  < 2e-16 ***\n",
       "ts_temp.l3  -0.41319    0.07658  -5.395 9.34e-08 ***\n",
       "const        3.59706    0.36540   9.844  < 2e-16 ***\n",
       "sd7          0.10465    0.05013   2.087  0.03721 *  \n",
       "sd8          0.24163    0.05366   4.503 7.83e-06 ***\n",
       "sd9          0.12736    0.05765   2.209  0.02747 *  \n",
       "sd11         0.12581    0.05738   2.192  0.02867 *  \n",
       "ts_rain      0.04931    0.01713   2.879  0.00411 ** \n",
       "---\n",
       "Signif. codes:  0 '***' 0.001 '**' 0.01 '*' 0.05 '.' 0.1 ' ' 1\n",
       "\n",
       "\n",
       "Residual standard error: 0.3588 on 709 degrees of freedom\n",
       "Multiple R-Squared: 0.9977,\tAdjusted R-squared: 0.9977 \n",
       "F-statistic: 3.82e+04 on 8 and 709 DF,  p-value: < 2.2e-16 \n",
       "\n",
       "\n",
       "Estimation results for equation ts_temp: \n",
       "======================================== \n",
       "ts_temp = ts_river.l1 + ts_temp.l1 + ts_temp.l3 + const + sd2 + sd3 + sd4 + sd5 + sd6 + sd7 + sd8 + sd9 + sd10 + sd11 + ts_rain \n",
       "\n",
       "             Estimate Std. Error t value Pr(>|t|)    \n",
       "ts_river.l1 -0.008287   0.004139  -2.002  0.04564 *  \n",
       "ts_temp.l1   0.274914   0.034010   8.083 2.76e-15 ***\n",
       "ts_temp.l3   0.096797   0.034631   2.795  0.00533 ** \n",
       "const        2.649965   0.169692  15.616  < 2e-16 ***\n",
       "sd2          0.109915   0.012634   8.700  < 2e-16 ***\n",
       "sd3          0.260739   0.016457  15.844  < 2e-16 ***\n",
       "sd4          0.370272   0.020034  18.482  < 2e-16 ***\n",
       "sd5          0.441439   0.020254  21.796  < 2e-16 ***\n",
       "sd6          0.485955   0.019255  25.237  < 2e-16 ***\n",
       "sd7          0.482992   0.019016  25.399  < 2e-16 ***\n",
       "sd8          0.452161   0.018751  24.114  < 2e-16 ***\n",
       "sd9          0.371494   0.018127  20.494  < 2e-16 ***\n",
       "sd10         0.252896   0.017402  14.532  < 2e-16 ***\n",
       "sd11         0.110980   0.012616   8.797  < 2e-16 ***\n",
       "ts_rain     -0.007791   0.003498  -2.227  0.02625 *  \n",
       "---\n",
       "Signif. codes:  0 '***' 0.001 '**' 0.01 '*' 0.05 '.' 0.1 ' ' 1\n",
       "\n",
       "\n",
       "Residual standard error: 0.05956 on 702 degrees of freedom\n",
       "Multiple R-Squared: 0.9998,\tAdjusted R-squared: 0.9998 \n",
       "F-statistic: 2.275e+05 on 15 and 702 DF,  p-value: < 2.2e-16 \n",
       "\n",
       "\n",
       "\n",
       "Covariance matrix of residuals:\n",
       "           ts_river    ts_temp\n",
       "ts_river  0.1307724 -0.0006059\n",
       "ts_temp  -0.0006059  0.0035675\n",
       "\n",
       "Correlation matrix of residuals:\n",
       "         ts_river  ts_temp\n",
       "ts_river  1.00000 -0.02805\n",
       "ts_temp  -0.02805  1.00000\n",
       "\n"
      ]
     },
     "metadata": {},
     "output_type": "display_data"
    },
    {
     "data": {
      "text/plain": [
       "$ts_river\n",
       "          fcst    lower    upper        CI\n",
       " [1,] 7.605261 6.902009 8.308512 0.7032516\n",
       " [2,] 7.479433 6.607357 8.351509 0.8720759\n",
       " [3,] 7.458304 6.507760 8.408848 0.9505442\n",
       " [4,] 7.506876 6.515150 8.498602 0.9917256\n",
       " [5,] 7.527070 6.512778 8.541363 1.0142924\n",
       " [6,] 7.467959 6.441225 8.494692 1.0267332\n",
       " [7,] 7.505251 6.471482 8.539021 1.0337695\n",
       " [8,] 7.576738 6.538978 8.614498 1.0377601\n",
       " [9,] 7.516512 6.476495 8.556529 1.0400168\n",
       "[10,] 7.327197 6.285899 8.368494 1.0412976\n",
       "[11,] 7.327465 6.285440 8.369490 1.0420250\n",
       "[12,] 7.133985 6.091547 8.176423 1.0424376\n",
       "[13,] 7.250311 6.207639 8.292982 1.0426717\n",
       "[14,] 7.288773 6.245969 8.331578 1.0428046\n",
       "[15,] 7.397576 6.354696 8.440456 1.0428799\n",
       "[16,] 7.501085 6.458162 8.544008 1.0429227\n",
       "[17,] 7.538520 6.495573 8.581466 1.0429469\n",
       "[18,] 7.484789 6.441829 8.527750 1.0429607\n",
       "[19,] 7.537371 6.494402 8.580339 1.0429685\n",
       "[20,] 7.635978 6.593005 8.678951 1.0429729\n",
       "[21,] 7.576693 6.533718 8.619668 1.0429754\n",
       "[22,] 7.377563 6.334586 8.420540 1.0429768\n",
       "[23,] 7.367236 6.324258 8.410214 1.0429776\n",
       "[24,] 7.247027 6.204049 8.290005 1.0429781\n",
       "[25,] 7.322096 6.279117 8.365074 1.0429783\n",
       "[26,] 7.378164 6.335185 8.421142 1.0429785\n",
       "[27,] 7.509465 6.466486 8.552443 1.0429786\n",
       "\n",
       "$ts_temp\n",
       "          fcst    lower    upper        CI\n",
       " [1,] 3.797608 3.680876 3.914340 0.1167322\n",
       " [2,] 3.850293 3.729047 3.971539 0.1212464\n",
       " [3,] 4.005349 3.883628 4.127070 0.1217208\n",
       " [4,] 4.139497 4.016898 4.262096 0.1225991\n",
       " [5,] 4.251238 4.128345 4.374130 0.1228926\n",
       " [6,] 4.342871 4.219885 4.465857 0.1229859\n",
       " [7,] 4.373610 4.250568 4.496653 0.1230429\n",
       " [8,] 4.369110 4.246037 4.492183 0.1230730\n",
       " [9,] 4.289246 4.166158 4.412334 0.1230881\n",
       "[10,] 4.152971 4.029874 4.276068 0.1230965\n",
       "[11,] 3.972918 3.849817 4.096020 0.1231013\n",
       "[12,] 3.820642 3.697539 3.943746 0.1231039\n",
       "[13,] 3.735294 3.612189 3.858400 0.1231053\n",
       "[14,] 3.822507 3.699401 3.945614 0.1231062\n",
       "[15,] 3.979456 3.856349 4.102563 0.1231066\n",
       "[16,] 4.124797 4.001691 4.247904 0.1231069\n",
       "[17,] 4.243889 4.120782 4.366996 0.1231071\n",
       "[18,] 4.338608 4.215500 4.461715 0.1231071\n",
       "[19,] 4.368711 4.245604 4.491818 0.1231072\n",
       "[20,] 4.361627 4.238520 4.484735 0.1231072\n",
       "[21,] 4.283919 4.160812 4.407027 0.1231072\n",
       "[22,] 4.149868 4.026761 4.272976 0.1231072\n",
       "[23,] 3.970964 3.847857 4.094071 0.1231073\n",
       "[24,] 3.806356 3.683249 3.929463 0.1231073\n",
       "[25,] 3.732088 3.608980 3.855195 0.1231073\n",
       "[26,] 3.815163 3.692056 3.938271 0.1231073\n",
       "[27,] 3.968925 3.845818 4.092033 0.1231073\n"
      ]
     },
     "metadata": {},
     "output_type": "display_data"
    },
    {
     "data": {
      "image/png": "[encoded data removed]",
      "text/plain": [
       "Plot with title \"Forecasts from VAR(3)\""
      ]
     },
     "metadata": {},
     "output_type": "display_data"
    }
   ],
   "source": [
    "## Model Fitting: Restricted VAR\n",
    "model.var.restrict2=restrict(model.var2)  \n",
    "summary(model.var.restrict2)\n",
    "\n",
    "x=data.frame(ts_rain[(n+1):length(ts_rain)]); colnames(x)=\"ts_rain\"\n",
    "predict(model.var.restrict2, n.ahead=27, ci=0.95,dumvar=x)\n",
    "fcst = forecast(model.var.restrict2,h=27,dumvar=x)\n",
    "plot(fcst)\n"
   ]
  }
 ],
 "metadata": {
  "kernelspec": {
   "display_name": "R",
   "language": "R",
   "name": "ir"
  },
  "language_info": {
   "codemirror_mode": "r",
   "file_extension": ".r",
   "mimetype": "text/x-r-source",
   "name": "R",
   "pygments_lexer": "r",
   "version": "3.6.1"
  }
 },
 "nbformat": 4,
 "nbformat_minor": 2
}
