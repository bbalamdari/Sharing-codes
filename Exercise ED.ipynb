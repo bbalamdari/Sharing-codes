{
 "cells": [
  {
   "cell_type": "code",
   "execution_count": null,
   "metadata": {},
   "outputs": [],
   "source": [
    "#Helper Code for Residuals\n",
    "\n",
    "resids = residuals(model)\n",
    "#Example for Q1, adjust start and frequency as appropriate\n",
    "resids.ts = ts(resids,start=1950,freq=12)\n",
    "\n",
    "#Use this for moving average model, mav.model. It doesn't work with residuals function\n",
    "temp.fit.mav=ts(mav.model$y,start=1950,frequency=12)\n",
    "resids = temp-temp.fit.mav\n",
    "\n",
    "ts.plot(resids.ts,main=\"Model X Residuals\")\n",
    "#Optional, makes it easier to assess non-constant average\n",
    "abline(a=mean(resids.ts),b=0,col='red')\n",
    "\n",
    "acf(resids.ts,,main='ACF of Model X Residuals')"
   ]
  },
  {
   "cell_type": "code",
   "execution_count": 1,
   "metadata": {},
   "outputs": [
    {
     "name": "stderr",
     "output_type": "stream",
     "text": [
      "\n",
      "Attaching package: 'TSA'\n",
      "\n",
      "The following objects are masked from 'package:stats':\n",
      "\n",
      "    acf, arima\n",
      "\n",
      "The following object is masked from 'package:utils':\n",
      "\n",
      "    tar\n",
      "\n",
      "Loading required package: nlme\n",
      "This is mgcv 1.8-28. For overview type 'help(\"mgcv-package\")'.\n",
      "Installing package into 'C:/Users/bbalamdari/OneDrive - Ecolab/Documents/R/win-library/3.6'\n",
      "(as 'lib' is unspecified)\n"
     ]
    },
    {
     "name": "stdout",
     "output_type": "stream",
     "text": [
      "package 'nbconvertR' successfully unpacked and MD5 sums checked\n",
      "\n",
      "The downloaded binary packages are in\n",
      "\tC:\\Users\\bbalamdari\\AppData\\Local\\Temp\\Rtmpam4WZh\\downloaded_packages\n"
     ]
    },
    {
     "name": "stderr",
     "output_type": "stream",
     "text": [
      "Warning message:\n",
      "\"package 'nbconvertR' was built under R version 3.6.3\"Installing package into 'C:/Users/bbalamdari/OneDrive - Ecolab/Documents/R/win-library/3.6'\n",
      "(as 'lib' is unspecified)\n"
     ]
    },
    {
     "name": "stdout",
     "output_type": "stream",
     "text": [
      "package 'ggplot2' successfully unpacked and MD5 sums checked\n",
      "\n",
      "The downloaded binary packages are in\n",
      "\tC:\\Users\\bbalamdari\\AppData\\Local\\Temp\\Rtmpam4WZh\\downloaded_packages\n"
     ]
    },
    {
     "name": "stderr",
     "output_type": "stream",
     "text": [
      "Warning message:\n",
      "\"package 'ggplot2' was built under R version 3.6.3\""
     ]
    }
   ],
   "source": [
    "library(TSA)\n",
    "library(mgcv)\n",
    "install.packages(\"nbconvertR\")\n",
    "library(nbconvertR)\n",
    "install.packages(\"ggplot2\")\n",
    "library(\"ggplot2\")"
   ]
  },
  {
   "cell_type": "code",
   "execution_count": 2,
   "metadata": {},
   "outputs": [
    {
     "data": {
      "text/html": [
       "<table>\n",
       "<caption>A data.frame: 10 × 4</caption>\n",
       "<thead>\n",
       "\t<tr><th></th><th scope=col>Year</th><th scope=col>Month</th><th scope=col>Day</th><th scope=col>Volume</th></tr>\n",
       "\t<tr><th></th><th scope=col>&lt;int&gt;</th><th scope=col>&lt;int&gt;</th><th scope=col>&lt;int&gt;</th><th scope=col>&lt;int&gt;</th></tr>\n",
       "</thead>\n",
       "<tbody>\n",
       "\t<tr><th scope=row>1</th><td>2010</td><td>1</td><td> 1</td><td>135</td></tr>\n",
       "\t<tr><th scope=row>2</th><td>2010</td><td>1</td><td> 2</td><td>163</td></tr>\n",
       "\t<tr><th scope=row>3</th><td>2010</td><td>1</td><td> 3</td><td>139</td></tr>\n",
       "\t<tr><th scope=row>4</th><td>2010</td><td>1</td><td> 4</td><td>139</td></tr>\n",
       "\t<tr><th scope=row>5</th><td>2010</td><td>1</td><td> 5</td><td>122</td></tr>\n",
       "\t<tr><th scope=row>6</th><td>2010</td><td>1</td><td> 6</td><td>119</td></tr>\n",
       "\t<tr><th scope=row>7</th><td>2010</td><td>1</td><td> 7</td><td>118</td></tr>\n",
       "\t<tr><th scope=row>8</th><td>2010</td><td>1</td><td> 8</td><td>133</td></tr>\n",
       "\t<tr><th scope=row>9</th><td>2010</td><td>1</td><td> 9</td><td>125</td></tr>\n",
       "\t<tr><th scope=row>10</th><td>2010</td><td>1</td><td>10</td><td>118</td></tr>\n",
       "</tbody>\n",
       "</table>\n"
      ],
      "text/latex": [
       "A data.frame: 10 × 4\n",
       "\\begin{tabular}{r|llll}\n",
       "  & Year & Month & Day & Volume\\\\\n",
       "  & <int> & <int> & <int> & <int>\\\\\n",
       "\\hline\n",
       "\t1 & 2010 & 1 &  1 & 135\\\\\n",
       "\t2 & 2010 & 1 &  2 & 163\\\\\n",
       "\t3 & 2010 & 1 &  3 & 139\\\\\n",
       "\t4 & 2010 & 1 &  4 & 139\\\\\n",
       "\t5 & 2010 & 1 &  5 & 122\\\\\n",
       "\t6 & 2010 & 1 &  6 & 119\\\\\n",
       "\t7 & 2010 & 1 &  7 & 118\\\\\n",
       "\t8 & 2010 & 1 &  8 & 133\\\\\n",
       "\t9 & 2010 & 1 &  9 & 125\\\\\n",
       "\t10 & 2010 & 1 & 10 & 118\\\\\n",
       "\\end{tabular}\n"
      ],
      "text/markdown": [
       "\n",
       "A data.frame: 10 × 4\n",
       "\n",
       "| <!--/--> | Year &lt;int&gt; | Month &lt;int&gt; | Day &lt;int&gt; | Volume &lt;int&gt; |\n",
       "|---|---|---|---|---|\n",
       "| 1 | 2010 | 1 |  1 | 135 |\n",
       "| 2 | 2010 | 1 |  2 | 163 |\n",
       "| 3 | 2010 | 1 |  3 | 139 |\n",
       "| 4 | 2010 | 1 |  4 | 139 |\n",
       "| 5 | 2010 | 1 |  5 | 122 |\n",
       "| 6 | 2010 | 1 |  6 | 119 |\n",
       "| 7 | 2010 | 1 |  7 | 118 |\n",
       "| 8 | 2010 | 1 |  8 | 133 |\n",
       "| 9 | 2010 | 1 |  9 | 125 |\n",
       "| 10 | 2010 | 1 | 10 | 118 |\n",
       "\n"
      ],
      "text/plain": [
       "   Year Month Day Volume\n",
       "1  2010 1      1  135   \n",
       "2  2010 1      2  163   \n",
       "3  2010 1      3  139   \n",
       "4  2010 1      4  139   \n",
       "5  2010 1      5  122   \n",
       "6  2010 1      6  119   \n",
       "7  2010 1      7  118   \n",
       "8  2010 1      8  133   \n",
       "9  2010 1      9  125   \n",
       "10 2010 1     10  118   "
      ]
     },
     "metadata": {},
     "output_type": "display_data"
    }
   ],
   "source": [
    "edvoldata = read.csv(\"EGD.csv\",header=T)\n",
    "## Process Dates\n",
    "year = edvoldata$Year\n",
    "month = edvoldata$Month\n",
    "day = edvoldata$Day\n",
    "\n",
    "head(edvoldata, n=10)\n"
   ]
  },
  {
   "cell_type": "code",
   "execution_count": 3,
   "metadata": {},
   "outputs": [
    {
     "name": "stderr",
     "output_type": "stream",
     "text": [
      "The following object is masked _by_ .GlobalEnv:\n",
      "\n",
      "    dates\n",
      "\n"
     ]
    },
    {
     "data": {
      "text/html": [
       "<table>\n",
       "<caption>A data.frame: 5 × 5</caption>\n",
       "<thead>\n",
       "\t<tr><th></th><th scope=col>dates</th><th scope=col>Year</th><th scope=col>Month</th><th scope=col>Day</th><th scope=col>Volume</th></tr>\n",
       "\t<tr><th></th><th scope=col>&lt;date&gt;</th><th scope=col>&lt;int&gt;</th><th scope=col>&lt;int&gt;</th><th scope=col>&lt;int&gt;</th><th scope=col>&lt;int&gt;</th></tr>\n",
       "</thead>\n",
       "<tbody>\n",
       "\t<tr><th scope=row>1</th><td>2010-01-01</td><td>2010</td><td>1</td><td>1</td><td>135</td></tr>\n",
       "\t<tr><th scope=row>2</th><td>2010-01-02</td><td>2010</td><td>1</td><td>2</td><td>163</td></tr>\n",
       "\t<tr><th scope=row>3</th><td>2010-01-03</td><td>2010</td><td>1</td><td>3</td><td>139</td></tr>\n",
       "\t<tr><th scope=row>4</th><td>2010-01-04</td><td>2010</td><td>1</td><td>4</td><td>139</td></tr>\n",
       "\t<tr><th scope=row>5</th><td>2010-01-05</td><td>2010</td><td>1</td><td>5</td><td>122</td></tr>\n",
       "</tbody>\n",
       "</table>\n"
      ],
      "text/latex": [
       "A data.frame: 5 × 5\n",
       "\\begin{tabular}{r|lllll}\n",
       "  & dates & Year & Month & Day & Volume\\\\\n",
       "  & <date> & <int> & <int> & <int> & <int>\\\\\n",
       "\\hline\n",
       "\t1 & 2010-01-01 & 2010 & 1 & 1 & 135\\\\\n",
       "\t2 & 2010-01-02 & 2010 & 1 & 2 & 163\\\\\n",
       "\t3 & 2010-01-03 & 2010 & 1 & 3 & 139\\\\\n",
       "\t4 & 2010-01-04 & 2010 & 1 & 4 & 139\\\\\n",
       "\t5 & 2010-01-05 & 2010 & 1 & 5 & 122\\\\\n",
       "\\end{tabular}\n"
      ],
      "text/markdown": [
       "\n",
       "A data.frame: 5 × 5\n",
       "\n",
       "| <!--/--> | dates &lt;date&gt; | Year &lt;int&gt; | Month &lt;int&gt; | Day &lt;int&gt; | Volume &lt;int&gt; |\n",
       "|---|---|---|---|---|---|\n",
       "| 1 | 2010-01-01 | 2010 | 1 | 1 | 135 |\n",
       "| 2 | 2010-01-02 | 2010 | 1 | 2 | 163 |\n",
       "| 3 | 2010-01-03 | 2010 | 1 | 3 | 139 |\n",
       "| 4 | 2010-01-04 | 2010 | 1 | 4 | 139 |\n",
       "| 5 | 2010-01-05 | 2010 | 1 | 5 | 122 |\n",
       "\n"
      ],
      "text/plain": [
       "  dates      Year Month Day Volume\n",
       "1 2010-01-01 2010 1     1   135   \n",
       "2 2010-01-02 2010 1     2   163   \n",
       "3 2010-01-03 2010 1     3   139   \n",
       "4 2010-01-04 2010 1     4   139   \n",
       "5 2010-01-05 2010 1     5   122   "
      ]
     },
     "metadata": {},
     "output_type": "display_data"
    }
   ],
   "source": [
    "datemat = cbind(as.character(day),as.character(month),as.character(year))\n",
    "\n",
    "paste.dates = function(date){\n",
    "    day = date[1]; month=date[2]; year = date[3]\n",
    "    return(paste(day,month,year,sep=\"/\"))\n",
    " }\n",
    "\n",
    "\n",
    "dates = apply(datemat,1,paste.dates)\n",
    "dates = as.Date(dates, format=\"%d/%m/%Y\")\n",
    "edvoldata = cbind(dates,edvoldata)\n",
    "attach(edvoldata)\n",
    "head(edvoldata, n=5)"
   ]
  },
  {
   "cell_type": "code",
   "execution_count": 4,
   "metadata": {},
   "outputs": [],
   "source": [
    "Volume.tr = sqrt(Volume+3/8)\n",
    "\n",
    "## Model Trend + Monthly Seasonality\n",
    "library(mgcv)\n",
    "time.pts = c(1:length(Volume))\n",
    "time.pts = c(time.pts - min(time.pts))/max(time.pts)\n",
    "month = as.factor(format(dates,\"%b\"))\n",
    "week = as.factor(weekdays(dates))\n",
    "gam.fit.seastr = gam(Volume.tr~s(time.pts)+month+week)\n",
    "vol.fit.gam.seastr = fitted(gam.fit.seastr)\n",
    "resid.process = Volume.tr-vol.fit.gam.seastr\n"
   ]
  },
  {
   "cell_type": "code",
   "execution_count": 5,
   "metadata": {},
   "outputs": [
    {
     "data": {
      "image/png": "[encoded data removed]",
      "text/plain": [
       "Plot with title \"PACF: Residual Plot\""
      ]
     },
     "metadata": {},
     "output_type": "display_data"
    }
   ],
   "source": [
    "par(mfrow=c(2,2))\n",
    "\n",
    "################################################################\n",
    "acf(resid.process,lag.max=12*4,main=\"ACF: Residual Plot\")\n",
    "pacf(resid.process,lag.max=12*4,main=\"PACF: Residual Plot\")\n",
    "###############################################################"
   ]
  },
  {
   "cell_type": "code",
   "execution_count": 13,
   "metadata": {},
   "outputs": [
    {
     "data": {
      "text/html": [
       "<style>\n",
       ".list-inline {list-style: none; margin:0; padding: 0}\n",
       ".list-inline>li {display: inline-block}\n",
       ".list-inline>li:not(:last-child)::after {content: \"\\00b7\"; padding: 0 .5ex}\n",
       "</style>\n",
       "<ol class=list-inline><li>0.323319100208119</li><li>0.119829014152284</li><li>0.0613064582523665</li><li>0.0019878026718341</li><li>0.0818433763006753</li><li>0.0890848271591155</li></ol>\n"
      ],
      "text/latex": [
       "\\begin{enumerate*}\n",
       "\\item 0.323319100208119\n",
       "\\item 0.119829014152284\n",
       "\\item 0.0613064582523665\n",
       "\\item 0.0019878026718341\n",
       "\\item 0.0818433763006753\n",
       "\\item 0.0890848271591155\n",
       "\\end{enumerate*}\n"
      ],
      "text/markdown": [
       "1. 0.323319100208119\n",
       "2. 0.119829014152284\n",
       "3. 0.0613064582523665\n",
       "4. 0.0019878026718341\n",
       "5. 0.0818433763006753\n",
       "6. 0.0890848271591155\n",
       "\n",
       "\n"
      ],
      "text/plain": [
       "[1] 0.323319100 0.119829014 0.061306458 0.001987803 0.081843376 0.089084827"
      ]
     },
     "metadata": {},
     "output_type": "display_data"
    },
    {
     "data": {
      "text/html": [
       "<style>\n",
       ".list-inline {list-style: none; margin:0; padding: 0}\n",
       ".list-inline>li {display: inline-block}\n",
       ".list-inline>li:not(:last-child)::after {content: \"\\00b7\"; padding: 0 .5ex}\n",
       "</style>\n",
       "<ol class=list-inline><li>0.76328024190691+1.24596985046338i</li><li>-0.89376359879082+1.31418370301334i</li><li>-0.89376359879082-1.31418370301334i</li><li>1.1508752646082-0i</li><li>0.76328024190691-1.24596985046338i</li><li>-1.80862141037697+0i</li></ol>\n"
      ],
      "text/latex": [
       "\\begin{enumerate*}\n",
       "\\item 0.76328024190691+1.24596985046338i\n",
       "\\item -0.89376359879082+1.31418370301334i\n",
       "\\item -0.89376359879082-1.31418370301334i\n",
       "\\item 1.1508752646082-0i\n",
       "\\item 0.76328024190691-1.24596985046338i\n",
       "\\item -1.80862141037697+0i\n",
       "\\end{enumerate*}\n"
      ],
      "text/markdown": [
       "1. 0.76328024190691+1.24596985046338i\n",
       "2. -0.89376359879082+1.31418370301334i\n",
       "3. -0.89376359879082-1.31418370301334i\n",
       "4. 1.1508752646082-0i\n",
       "5. 0.76328024190691-1.24596985046338i\n",
       "6. -1.80862141037697+0i\n",
       "\n",
       "\n"
      ],
      "text/plain": [
       "[1]  0.763280+1.245970i -0.893764+1.314184i -0.893764-1.314184i\n",
       "[4]  1.150875-0.000000i  0.763280-1.245970i -1.808621+0.000000i"
      ]
     },
     "metadata": {},
     "output_type": "display_data"
    }
   ],
   "source": [
    "mod$ar\n",
    "roots"
   ]
  },
  {
   "cell_type": "code",
   "execution_count": 11,
   "metadata": {
    "scrolled": false
   },
   "outputs": [
    {
     "name": "stdout",
     "output_type": "stream",
     "text": [
      "[1] 6\n"
     ]
    },
    {
     "data": {
      "text/plain": [
       "             Length Class  Mode     \n",
       "order           1   -none- numeric  \n",
       "ar              6   -none- numeric  \n",
       "var.pred        1   -none- numeric  \n",
       "x.mean          1   -none- numeric  \n",
       "aic            21   -none- numeric  \n",
       "n.used          1   -none- numeric  \n",
       "n.obs           1   -none- numeric  \n",
       "order.max       1   -none- numeric  \n",
       "partialacf     20   -none- numeric  \n",
       "resid        1977   -none- numeric  \n",
       "method          1   -none- character\n",
       "series          1   -none- character\n",
       "frequency       1   -none- numeric  \n",
       "call            3   -none- call     \n",
       "asy.var.coef   36   -none- numeric  "
      ]
     },
     "metadata": {},
     "output_type": "display_data"
    },
    {
     "data": {
      "image/png": "[encoded data removed]",
      "text/plain": [
       "plot without title"
      ]
     },
     "metadata": {},
     "output_type": "display_data"
    },
    {
     "data": {
      "image/png": "[encoded data removed]",
      "text/plain": [
       "plot without title"
      ]
     },
     "metadata": {},
     "output_type": "display_data"
    }
   ],
   "source": [
    "\n",
    "library(TSA)\n",
    "###### Fit an AR(p) process for for p<= order.max ####\n",
    "mod = ar(resid.process,order.max=20)\n",
    "# What is the selected order?\n",
    "print(mod$order)\n",
    "# find the list of arguments provided by AR fit\n",
    "summary(mod)\n",
    "# plot aic values\n",
    "# On non-log scale it is difficult to detect the minimum.\n",
    "plot(c(0:20),mod$aic+.0001, type=\"b\",log=\"y\",xlab=\"order\",ylab=\"log-AIC values\")\n",
    "\n",
    "# Are the roots of fitted AR within the unit circle?\n",
    "# extract roots from the model output\n",
    "roots = polyroot(c(1,(-mod$ar)))\n",
    "# adjust the x and y -axis limits to include the full circle\n",
    "plot(roots,xlim=c(-2,1.5),ylim=c(-1.5,1.5))\n",
    "# draw a unit root circle\n",
    "lines(complex(arg = seq(0,2*pi,len=300)))"
   ]
  },
  {
   "cell_type": "code",
   "execution_count": 17,
   "metadata": {},
   "outputs": [
    {
     "data": {
      "image/png": "[encoded data removed]",
      "text/plain": [
       "Plot with title \"Normal Q-Q Plot\""
      ]
     },
     "metadata": {},
     "output_type": "display_data"
    }
   ],
   "source": [
    "# residuals analysis\n",
    "resids = (mod$resid[(mod$order+1): length(mod$resid)])\n",
    "\n",
    "\n",
    "par(mfrow=c(2,2))\n",
    "plot(resids,xlab=\"\",ylab=\"Model Residuals\")\n",
    "stats::acf(resids,main='ACF of the Model Residuals')\n",
    "stats::pacf(resids,main='PACF of the Model Residuals')\n",
    "qqnorm(resids)\n",
    "\n"
   ]
  },
  {
   "cell_type": "code",
   "execution_count": 21,
   "metadata": {},
   "outputs": [
    {
     "data": {
      "image/png": "[encoded data removed]",
      "text/plain": [
       "Plot with title \"Normal Q-Q Plot\""
      ]
     },
     "metadata": {},
     "output_type": "display_data"
    }
   ],
   "source": [
    "###### Fit an ARMA(p,q) for some values of p and q #####\n",
    "modarma = arima(resid.process, order = c(6,0,1),method = \"ML\")\n",
    "\n",
    "par (mfrow=c(2,2))\n",
    "plot(resid(modarma), ylab='Standardized Residuals')\n",
    "abline(h=0)\n",
    "stats::acf(as.vector(resid(modarma)),main= 'ACF of the Model Residuals')\n",
    "pacf(as.vector(resid(modarma)),main='PACF of the Model Residuals')\n",
    "qqnorm(resid(modarma))\n",
    "qqline(resid(modarma))\n",
    "\n"
   ]
  },
  {
   "cell_type": "code",
   "execution_count": 23,
   "metadata": {},
   "outputs": [
    {
     "name": "stdout",
     "output_type": "stream",
     "text": [
      "AR/MA\n",
      "  0 1 2 3 4 5 6\n",
      "0 x x x x x x x\n",
      "1 x o o x o x o\n",
      "2 x x o x o o o\n",
      "3 x o x x o o o\n",
      "4 x x x x o o o\n",
      "5 x x x x o o o\n",
      "6 x x x x o x o\n"
     ]
    }
   ],
   "source": [
    "## Order selection -- EACF\n",
    "\n",
    "eacf(resid.process,ar.max = 6, ma.max = 6)\n"
   ]
  },
  {
   "cell_type": "code",
   "execution_count": 24,
   "metadata": {},
   "outputs": [
    {
     "name": "stdout",
     "output_type": "stream",
     "text": [
      "[1] \"0 0 0 4655.31811770853\"\n",
      "[1] \"0 0 1 4363.76444610332\"\n",
      "[1] \"0 0 2 4271.35143648715\"\n",
      "[1] \"0 0 3 4217.12233160492\"\n",
      "[1] \"0 1 0 4887.66157446694\"\n",
      "[1] \"0 1 1 4235.71825769694\"\n",
      "[1] \"0 1 2 4195.91936788822\"\n",
      "[1] \"0 1 3 4185.05600707172\"\n",
      "[1] \"1 0 0 4239.49163908714\"\n",
      "[1] \"1 0 1 4143.29425598955\"\n",
      "[1] \"1 0 2 4134.15623784083\"\n",
      "[1] \"1 0 3 4134.44972858271\"\n",
      "[1] \"1 1 0 4533.38366184787\"\n",
      "[1] \"1 1 1 4185.37965454902\"\n",
      "[1] \"1 1 2 4147.67093363336\"\n"
     ]
    },
    {
     "name": "stderr",
     "output_type": "stream",
     "text": [
      "Warning message in log(s2):\n",
      "\"NaNs produced\""
     ]
    },
    {
     "name": "stdout",
     "output_type": "stream",
     "text": [
      "[1] \"1 1 3 4138.33814283107\"\n",
      "[1] \"2 0 0 4181.36890395138\"\n",
      "[1] \"2 0 1 4133.0782060437\"\n",
      "[1] \"2 0 2 4134.7545725054\"\n",
      "[1] \"2 0 3 4138.15648993948\"\n",
      "[1] \"2 1 0 4409.73922784351\"\n",
      "[1] \"2 1 1 4174.32503448052\"\n",
      "[1] \"2 1 2 4137.27164125386\"\n",
      "[1] \"2 1 3 4144.21304682698\"\n",
      "[1] \"3 0 0 4163.85516559926\"\n",
      "[1] \"3 0 1 4134.62856006829\"\n"
     ]
    },
    {
     "name": "stderr",
     "output_type": "stream",
     "text": [
      "Warning message in stats::arima(x = x, order = order, seasonal = seasonal, xreg = xreg, :\n",
      "\"possible convergence problem: optim gave code = 1\""
     ]
    },
    {
     "name": "stdout",
     "output_type": "stream",
     "text": [
      "[1] \"3 0 2 4135.06286347661\"\n"
     ]
    },
    {
     "name": "stderr",
     "output_type": "stream",
     "text": [
      "Warning message in stats::arima(x = x, order = order, seasonal = seasonal, xreg = xreg, :\n",
      "\"possible convergence problem: optim gave code = 1\""
     ]
    },
    {
     "name": "stdout",
     "output_type": "stream",
     "text": [
      "[1] \"3 0 3 4136.49389512494\"\n",
      "[1] \"3 1 0 4357.89005835097\"\n",
      "[1] \"3 1 1 4170.59207365357\"\n",
      "[1] \"3 1 2 4138.86061016807\"\n",
      "[1] \"3 1 3 4141.07251341017\"\n",
      "[1] \"4 0 0 4160.78806753734\"\n",
      "[1] \"4 0 1 4136.26671351235\"\n",
      "[1] \"4 0 2 4136.07934056632\"\n",
      "[1] \"4 0 3 4129.6515943323\"\n",
      "[1] \"4 1 0 4280.82688672509\"\n",
      "[1] \"4 1 1 4171.77844253477\"\n",
      "[1] \"4 1 2 4174.43915350277\"\n",
      "[1] \"4 1 3 4140.46155888092\"\n",
      "[1] \"5 0 0 4138.03742556906\"\n",
      "[1] \"5 0 1 4126.98640422842\"\n",
      "[1] \"5 0 2 4123.74891136786\"\n"
     ]
    },
    {
     "name": "stderr",
     "output_type": "stream",
     "text": [
      "Warning message in log(s2):\n",
      "\"NaNs produced\""
     ]
    },
    {
     "name": "stdout",
     "output_type": "stream",
     "text": [
      "[1] \"5 0 3 4125.71730038816\"\n",
      "[1] \"5 1 0 4234.68353970956\"\n",
      "[1] \"5 1 1 4142.46242878237\"\n",
      "[1] \"5 1 2 4131.16736684901\"\n",
      "[1] \"5 1 3 4128.10560366026\"\n",
      "[1] \"6 0 0 4124.19635955571\"\n",
      "[1] \"6 0 1 4125.64282886115\"\n",
      "[1] \"6 0 2 4125.72653700957\"\n",
      "[1] \"6 0 3 4127.74199217495\"\n",
      "[1] \"6 1 0 4225.69249936193\"\n",
      "[1] \"6 1 1 4128.44156736919\"\n",
      "[1] \"6 1 2 4129.86798108213\"\n",
      "[1] \"6 1 3 4131.45326536477\"\n"
     ]
    },
    {
     "data": {
      "text/html": [
       "<table>\n",
       "<caption>A data.frame: 6 × 4</caption>\n",
       "<thead>\n",
       "\t<tr><th></th><th scope=col>p</th><th scope=col>d</th><th scope=col>q</th><th scope=col>AIC</th></tr>\n",
       "\t<tr><th></th><th scope=col>&lt;dbl&gt;</th><th scope=col>&lt;dbl&gt;</th><th scope=col>&lt;dbl&gt;</th><th scope=col>&lt;dbl&gt;</th></tr>\n",
       "</thead>\n",
       "<tbody>\n",
       "\t<tr><th scope=row>43</th><td>5</td><td>0</td><td>1</td><td>4126.986</td></tr>\n",
       "\t<tr><th scope=row>52</th><td>6</td><td>0</td><td>2</td><td>4125.727</td></tr>\n",
       "\t<tr><th scope=row>45</th><td>5</td><td>0</td><td>3</td><td>4125.717</td></tr>\n",
       "\t<tr><th scope=row>51</th><td>6</td><td>0</td><td>1</td><td>4125.643</td></tr>\n",
       "\t<tr><th scope=row>50</th><td>6</td><td>0</td><td>0</td><td>4124.196</td></tr>\n",
       "\t<tr><th scope=row>44</th><td>5</td><td>0</td><td>2</td><td>4123.749</td></tr>\n",
       "</tbody>\n",
       "</table>\n"
      ],
      "text/latex": [
       "A data.frame: 6 × 4\n",
       "\\begin{tabular}{r|llll}\n",
       "  & p & d & q & AIC\\\\\n",
       "  & <dbl> & <dbl> & <dbl> & <dbl>\\\\\n",
       "\\hline\n",
       "\t43 & 5 & 0 & 1 & 4126.986\\\\\n",
       "\t52 & 6 & 0 & 2 & 4125.727\\\\\n",
       "\t45 & 5 & 0 & 3 & 4125.717\\\\\n",
       "\t51 & 6 & 0 & 1 & 4125.643\\\\\n",
       "\t50 & 6 & 0 & 0 & 4124.196\\\\\n",
       "\t44 & 5 & 0 & 2 & 4123.749\\\\\n",
       "\\end{tabular}\n"
      ],
      "text/markdown": [
       "\n",
       "A data.frame: 6 × 4\n",
       "\n",
       "| <!--/--> | p &lt;dbl&gt; | d &lt;dbl&gt; | q &lt;dbl&gt; | AIC &lt;dbl&gt; |\n",
       "|---|---|---|---|---|\n",
       "| 43 | 5 | 0 | 1 | 4126.986 |\n",
       "| 52 | 6 | 0 | 2 | 4125.727 |\n",
       "| 45 | 5 | 0 | 3 | 4125.717 |\n",
       "| 51 | 6 | 0 | 1 | 4125.643 |\n",
       "| 50 | 6 | 0 | 0 | 4124.196 |\n",
       "| 44 | 5 | 0 | 2 | 4123.749 |\n",
       "\n"
      ],
      "text/plain": [
       "   p d q AIC     \n",
       "43 5 0 1 4126.986\n",
       "52 6 0 2 4125.727\n",
       "45 5 0 3 4125.717\n",
       "51 6 0 1 4125.643\n",
       "50 6 0 0 4124.196\n",
       "44 5 0 2 4123.749"
      ]
     },
     "metadata": {},
     "output_type": "display_data"
    }
   ],
   "source": [
    "test_modelA <- function(p,d,q){\n",
    "  model = arima(resid.process, order=c(p,d,q), method=\"ML\")\n",
    "  current.aic = AIC(model)\n",
    "  df = data.frame(p,d,q,current.aic)\n",
    "  names(df) <- c(\"p\",\"d\",\"q\",\"AIC\")\n",
    "  print(paste(p,d,q,current.aic,sep=\" \"))\n",
    "  return(df)\n",
    "}\n",
    "\n",
    "orders = data.frame(Inf,Inf,Inf,Inf)\n",
    "names(orders) <- c(\"p\",\"d\",\"q\",\"AIC\")\n",
    "\n",
    "\n",
    "for (p in 0:6){\n",
    "  for (d in 0:1){\n",
    "    for (q in 0:3) {\n",
    "      possibleError <- tryCatch(\n",
    "        orders<-rbind(orders,test_modelA(p,d,q)),\n",
    "        error=function(e) e\n",
    "      )\n",
    "      if(inherits(possibleError, \"error\")) next\n",
    "      \n",
    "    }\n",
    "  }\n",
    "}\n",
    "orders <- orders[order(-orders$AIC),]\n",
    "tail(orders)\n",
    "\n",
    "\n"
   ]
  },
  {
   "cell_type": "code",
   "execution_count": 27,
   "metadata": {},
   "outputs": [
    {
     "data": {
      "image/png": "[encoded data removed]",
      "text/plain": [
       "Plot with title \"Normal Q-Q Plot\""
      ]
     },
     "metadata": {},
     "output_type": "display_data"
    }
   ],
   "source": [
    "final_model = arima(resid.process,order = c(5,0,2), method='ML')\n",
    "\n",
    "par (mfrow=c(2,2))\n",
    "plot(resid(final_model), ylab='Standardized Residuals')\n",
    "abline(h=0)\n",
    "acf(as.vector(resid(final_model)),main= 'ACF of the Model Residuals')\n",
    "pacf(as.vector(resid(final_model)),main='PACF of the Model Residuals')\n",
    "qqnorm(resid(final_model))\n",
    "qqline(resid(final_model))\n"
   ]
  },
  {
   "cell_type": "code",
   "execution_count": 28,
   "metadata": {},
   "outputs": [
    {
     "data": {
      "text/plain": [
       "\n",
       "\tBox-Pierce test\n",
       "\n",
       "data:  final_model$resid\n",
       "X-squared = 0.72553, df = 1, p-value = 0.3943\n"
      ]
     },
     "metadata": {},
     "output_type": "display_data"
    },
    {
     "data": {
      "text/plain": [
       "\n",
       "\tBox-Ljung test\n",
       "\n",
       "data:  final_model$resid\n",
       "X-squared = 0.7288, df = 1, p-value = 0.3933\n"
      ]
     },
     "metadata": {},
     "output_type": "display_data"
    },
    {
     "data": {
      "text/plain": [
       "\n",
       "\tBox-Pierce test\n",
       "\n",
       "data:  modarma$resid\n",
       "X-squared = 0.23846, df = 1, p-value = 0.6253\n"
      ]
     },
     "metadata": {},
     "output_type": "display_data"
    },
    {
     "data": {
      "text/plain": [
       "\n",
       "\tBox-Ljung test\n",
       "\n",
       "data:  modarma$resid\n",
       "X-squared = 0.23954, df = 1, p-value = 0.6245\n"
      ]
     },
     "metadata": {},
     "output_type": "display_data"
    }
   ],
   "source": [
    "#### Test for Independence for final model\n",
    "porder=5\n",
    "qorder=2\n",
    "Box.test(final_model$resid, lag = (porder+qorder+1), type = \"Box-Pierce\", fitdf = (porder+qorder))\n",
    "Box.test(final_model$resid, lag = (porder+qorder+1), type = \"Ljung-Box\", fitdf = (porder+qorder))\n",
    "\n",
    "#### Test for Independence for smaller model\n",
    "Box.test(modarma$resid, lag = (porder+qorder+1), type = \"Box-Pierce\", fitdf = (porder+qorder))\n",
    "Box.test(modarma$resid, lag = (porder+qorder+1), type = \"Ljung-Box\", fitdf = (porder+qorder))"
   ]
  }
 ],
 "metadata": {
  "kernelspec": {
   "display_name": "R",
   "language": "R",
   "name": "ir"
  },
  "language_info": {
   "codemirror_mode": "r",
   "file_extension": ".r",
   "mimetype": "text/x-r-source",
   "name": "R",
   "pygments_lexer": "r",
   "version": "3.6.1"
  }
 },
 "nbformat": 4,
 "nbformat_minor": 2
}
