{
 "cells": [
  {
   "cell_type": "code",
   "execution_count": 36,
   "metadata": {},
   "outputs": [
    {
     "data": {
      "text/html": [
       "<table>\n",
       "<caption>A data.frame: 5 × 10</caption>\n",
       "<thead>\n",
       "\t<tr><th></th><th scope=col>room_id</th><th scope=col>survey_id</th><th scope=col>host_id</th><th scope=col>room_type</th><th scope=col>city</th><th scope=col>reviews</th><th scope=col>overall_satisfaction</th><th scope=col>accommodates</th><th scope=col>bedrooms</th><th scope=col>price</th></tr>\n",
       "\t<tr><th></th><th scope=col>&lt;int&gt;</th><th scope=col>&lt;int&gt;</th><th scope=col>&lt;int&gt;</th><th scope=col>&lt;fct&gt;</th><th scope=col>&lt;fct&gt;</th><th scope=col>&lt;int&gt;</th><th scope=col>&lt;dbl&gt;</th><th scope=col>&lt;int&gt;</th><th scope=col>&lt;int&gt;</th><th scope=col>&lt;int&gt;</th></tr>\n",
       "</thead>\n",
       "<tbody>\n",
       "\t<tr><th scope=row>1</th><td>15771735</td><td>1498</td><td>101992409</td><td>Shared room</td><td>Asheville</td><td>  0</td><td>0.0</td><td>4</td><td>1</td><td>67</td></tr>\n",
       "\t<tr><th scope=row>2</th><td>18284194</td><td>1498</td><td>126414164</td><td>Shared room</td><td>Asheville</td><td> 32</td><td>5.0</td><td>4</td><td>1</td><td>76</td></tr>\n",
       "\t<tr><th scope=row>3</th><td>18091012</td><td>1498</td><td>122380971</td><td>Shared room</td><td>Asheville</td><td>  4</td><td>4.5</td><td>2</td><td>1</td><td>45</td></tr>\n",
       "\t<tr><th scope=row>4</th><td>12286328</td><td>1498</td><td>   746673</td><td>Shared room</td><td>Asheville</td><td> 24</td><td>4.5</td><td>6</td><td>1</td><td>26</td></tr>\n",
       "\t<tr><th scope=row>5</th><td>  156926</td><td>1498</td><td>   746673</td><td>Shared room</td><td>Asheville</td><td>152</td><td>4.5</td><td>6</td><td>1</td><td>26</td></tr>\n",
       "</tbody>\n",
       "</table>\n"
      ],
      "text/latex": [
       "A data.frame: 5 × 10\n",
       "\\begin{tabular}{r|llllllllll}\n",
       "  & room\\_id & survey\\_id & host\\_id & room\\_type & city & reviews & overall\\_satisfaction & accommodates & bedrooms & price\\\\\n",
       "  & <int> & <int> & <int> & <fct> & <fct> & <int> & <dbl> & <int> & <int> & <int>\\\\\n",
       "\\hline\n",
       "\t1 & 15771735 & 1498 & 101992409 & Shared room & Asheville &   0 & 0.0 & 4 & 1 & 67\\\\\n",
       "\t2 & 18284194 & 1498 & 126414164 & Shared room & Asheville &  32 & 5.0 & 4 & 1 & 76\\\\\n",
       "\t3 & 18091012 & 1498 & 122380971 & Shared room & Asheville &   4 & 4.5 & 2 & 1 & 45\\\\\n",
       "\t4 & 12286328 & 1498 &    746673 & Shared room & Asheville &  24 & 4.5 & 6 & 1 & 26\\\\\n",
       "\t5 &   156926 & 1498 &    746673 & Shared room & Asheville & 152 & 4.5 & 6 & 1 & 26\\\\\n",
       "\\end{tabular}\n"
      ],
      "text/markdown": [
       "\n",
       "A data.frame: 5 × 10\n",
       "\n",
       "| <!--/--> | room_id &lt;int&gt; | survey_id &lt;int&gt; | host_id &lt;int&gt; | room_type &lt;fct&gt; | city &lt;fct&gt; | reviews &lt;int&gt; | overall_satisfaction &lt;dbl&gt; | accommodates &lt;int&gt; | bedrooms &lt;int&gt; | price &lt;int&gt; |\n",
       "|---|---|---|---|---|---|---|---|---|---|---|\n",
       "| 1 | 15771735 | 1498 | 101992409 | Shared room | Asheville |   0 | 0.0 | 4 | 1 | 67 |\n",
       "| 2 | 18284194 | 1498 | 126414164 | Shared room | Asheville |  32 | 5.0 | 4 | 1 | 76 |\n",
       "| 3 | 18091012 | 1498 | 122380971 | Shared room | Asheville |   4 | 4.5 | 2 | 1 | 45 |\n",
       "| 4 | 12286328 | 1498 |    746673 | Shared room | Asheville |  24 | 4.5 | 6 | 1 | 26 |\n",
       "| 5 |   156926 | 1498 |    746673 | Shared room | Asheville | 152 | 4.5 | 6 | 1 | 26 |\n",
       "\n"
      ],
      "text/plain": [
       "  room_id  survey_id host_id   room_type   city      reviews\n",
       "1 15771735 1498      101992409 Shared room Asheville   0    \n",
       "2 18284194 1498      126414164 Shared room Asheville  32    \n",
       "3 18091012 1498      122380971 Shared room Asheville   4    \n",
       "4 12286328 1498         746673 Shared room Asheville  24    \n",
       "5   156926 1498         746673 Shared room Asheville 152    \n",
       "  overall_satisfaction accommodates bedrooms price\n",
       "1 0.0                  4            1        67   \n",
       "2 5.0                  4            1        76   \n",
       "3 4.5                  2            1        45   \n",
       "4 4.5                  6            1        26   \n",
       "5 4.5                  6            1        26   "
      ]
     },
     "metadata": {},
     "output_type": "display_data"
    }
   ],
   "source": [
    "airbnb=read.csv(\"airbnb_data.csv\", header=TRUE)\n",
    "head(airbnb, n=5)"
   ]
  },
  {
   "cell_type": "code",
   "execution_count": 37,
   "metadata": {},
   "outputs": [
    {
     "data": {
      "text/plain": [
       "\n",
       "Call:\n",
       "lm(formula = price ~ room_type + reviews + overall_satisfaction + \n",
       "    accommodates + bedrooms, data = airbnb)\n",
       "\n",
       "Residuals:\n",
       "   Min     1Q Median     3Q    Max \n",
       "-367.8  -49.2    3.2   38.6 4032.7 \n",
       "\n",
       "Coefficients:\n",
       "                       Estimate Std. Error t value Pr(>|t|)    \n",
       "(Intercept)           -23.36172   21.88618  -1.067  0.28609    \n",
       "room_typePrivate room  -0.93115   13.21827  -0.070  0.94386    \n",
       "room_typeShared room  -76.66780   59.90939  -1.280  0.20099    \n",
       "reviews                 0.01090    0.09982   0.109  0.91310    \n",
       "overall_satisfaction  -10.48160    3.47320  -3.018  0.00262 ** \n",
       "accommodates           23.00721    5.23952   4.391 1.27e-05 ***\n",
       "bedrooms               85.64533   11.45983   7.474 1.95e-13 ***\n",
       "---\n",
       "Signif. codes:  0 '***' 0.001 '**' 0.01 '*' 0.05 '.' 0.1 ' ' 1\n",
       "\n",
       "Residual standard error: 167.1 on 847 degrees of freedom\n",
       "Multiple R-squared:  0.3228,\tAdjusted R-squared:  0.318 \n",
       "F-statistic:  67.3 on 6 and 847 DF,  p-value: < 2.2e-16\n"
      ]
     },
     "metadata": {},
     "output_type": "display_data"
    }
   ],
   "source": [
    "model.air=lm(price~room_type+reviews+overall_satisfaction+accommodates+bedrooms, data=airbnb)\n",
    "summary(model.air)"
   ]
  },
  {
   "cell_type": "code",
   "execution_count": 38,
   "metadata": {},
   "outputs": [
    {
     "data": {
      "text/html": [
       "<style>\n",
       ".list-inline {list-style: none; margin:0; padding: 0}\n",
       ".list-inline>li {display: inline-block}\n",
       ".list-inline>li:not(:last-child)::after {content: \"\\00b7\"; padding: 0 .5ex}\n",
       "</style>\n",
       "<ol class=list-inline><li>'Entire home/apt'</li><li>'Private room'</li><li>'Shared room'</li></ol>\n"
      ],
      "text/latex": [
       "\\begin{enumerate*}\n",
       "\\item 'Entire home/apt'\n",
       "\\item 'Private room'\n",
       "\\item 'Shared room'\n",
       "\\end{enumerate*}\n"
      ],
      "text/markdown": [
       "1. 'Entire home/apt'\n",
       "2. 'Private room'\n",
       "3. 'Shared room'\n",
       "\n",
       "\n"
      ],
      "text/plain": [
       "[1] \"Entire home/apt\" \"Private room\"    \"Shared room\"    "
      ]
     },
     "metadata": {},
     "output_type": "display_data"
    }
   ],
   "source": [
    "levels(airbnb$room_type)"
   ]
  },
  {
   "cell_type": "code",
   "execution_count": 39,
   "metadata": {
    "scrolled": true
   },
   "outputs": [
    {
     "data": {
      "text/html": [
       "<table>\n",
       "<caption>A data.frame: 1 × 5</caption>\n",
       "<thead>\n",
       "\t<tr><th scope=col>room_type</th><th scope=col>reviews</th><th scope=col>overall_satisfaction</th><th scope=col>accommodates</th><th scope=col>bedrooms</th></tr>\n",
       "\t<tr><th scope=col>&lt;fct&gt;</th><th scope=col>&lt;dbl&gt;</th><th scope=col>&lt;dbl&gt;</th><th scope=col>&lt;dbl&gt;</th><th scope=col>&lt;dbl&gt;</th></tr>\n",
       "</thead>\n",
       "<tbody>\n",
       "\t<tr><td>Private room</td><td>70</td><td>4</td><td>2</td><td>1</td></tr>\n",
       "</tbody>\n",
       "</table>\n"
      ],
      "text/latex": [
       "A data.frame: 1 × 5\n",
       "\\begin{tabular}{lllll}\n",
       " room\\_type & reviews & overall\\_satisfaction & accommodates & bedrooms\\\\\n",
       " <fct> & <dbl> & <dbl> & <dbl> & <dbl>\\\\\n",
       "\\hline\n",
       "\t Private room & 70 & 4 & 2 & 1\\\\\n",
       "\\end{tabular}\n"
      ],
      "text/markdown": [
       "\n",
       "A data.frame: 1 × 5\n",
       "\n",
       "| room_type &lt;fct&gt; | reviews &lt;dbl&gt; | overall_satisfaction &lt;dbl&gt; | accommodates &lt;dbl&gt; | bedrooms &lt;dbl&gt; |\n",
       "|---|---|---|---|---|\n",
       "| Private room | 70 | 4 | 2 | 1 |\n",
       "\n"
      ],
      "text/plain": [
       "  room_type    reviews overall_satisfaction accommodates bedrooms\n",
       "1 Private room 70      4                    2            1       "
      ]
     },
     "metadata": {},
     "output_type": "display_data"
    }
   ],
   "source": [
    "col1=\"Private room\"\n",
    "col2=70\n",
    "col3=4\n",
    "col4=2\n",
    "col5=1\n",
    "\n",
    "\n",
    "x=data.frame(\"room_type\"=col1, \"reviews\"=col2, \"overall_satisfaction\"=col3, \"accommodates\"=col4, \"bedrooms\"=col5)\n",
    "x"
   ]
  },
  {
   "cell_type": "code",
   "execution_count": 40,
   "metadata": {},
   "outputs": [
    {
     "data": {
      "text/html": [
       "<table>\n",
       "<caption>A matrix: 1 × 3 of type dbl</caption>\n",
       "<thead>\n",
       "\t<tr><th></th><th scope=col>fit</th><th scope=col>lwr</th><th scope=col>upr</th></tr>\n",
       "</thead>\n",
       "<tbody>\n",
       "\t<tr><th scope=row>1</th><td>66.20316</td><td>47.64805</td><td>84.75827</td></tr>\n",
       "</tbody>\n",
       "</table>\n"
      ],
      "text/latex": [
       "A matrix: 1 × 3 of type dbl\n",
       "\\begin{tabular}{r|lll}\n",
       "  & fit & lwr & upr\\\\\n",
       "\\hline\n",
       "\t1 & 66.20316 & 47.64805 & 84.75827\\\\\n",
       "\\end{tabular}\n"
      ],
      "text/markdown": [
       "\n",
       "A matrix: 1 × 3 of type dbl\n",
       "\n",
       "| <!--/--> | fit | lwr | upr |\n",
       "|---|---|---|---|\n",
       "| 1 | 66.20316 | 47.64805 | 84.75827 |\n",
       "\n"
      ],
      "text/plain": [
       "  fit      lwr      upr     \n",
       "1 66.20316 47.64805 84.75827"
      ]
     },
     "metadata": {},
     "output_type": "display_data"
    }
   ],
   "source": [
    "pred.air=predict(model.air, x, interval=\"confidence\")\n",
    "pred.air"
   ]
  },
  {
   "cell_type": "code",
   "execution_count": 41,
   "metadata": {},
   "outputs": [
    {
     "data": {
      "text/html": [
       "<style>\n",
       ".list-inline {list-style: none; margin:0; padding: 0}\n",
       ".list-inline>li {display: inline-block}\n",
       ".list-inline>li:not(:last-child)::after {content: \"\\00b7\"; padding: 0 .5ex}\n",
       "</style>\n",
       "<ol class=list-inline><li>94</li><li>95</li></ol>\n"
      ],
      "text/latex": [
       "\\begin{enumerate*}\n",
       "\\item 94\n",
       "\\item 95\n",
       "\\end{enumerate*}\n"
      ],
      "text/markdown": [
       "1. 94\n",
       "2. 95\n",
       "\n",
       "\n"
      ],
      "text/plain": [
       "[1] 94 95"
      ]
     },
     "metadata": {},
     "output_type": "display_data"
    }
   ],
   "source": [
    "cook=cooks.distance(model.air)\n",
    "cook=as.data.frame(cook)\n",
    "\n",
    "w=which(cook > 1)\n",
    "w"
   ]
  },
  {
   "cell_type": "code",
   "execution_count": 42,
   "metadata": {},
   "outputs": [
    {
     "data": {
      "text/html": [
       "854"
      ],
      "text/latex": [
       "854"
      ],
      "text/markdown": [
       "854"
      ],
      "text/plain": [
       "[1] 854"
      ]
     },
     "metadata": {},
     "output_type": "display_data"
    },
    {
     "data": {
      "text/html": [
       "852"
      ],
      "text/latex": [
       "852"
      ],
      "text/markdown": [
       "852"
      ],
      "text/plain": [
       "[1] 852"
      ]
     },
     "metadata": {},
     "output_type": "display_data"
    }
   ],
   "source": [
    "new.air=airbnb[-c(94,95),]\n",
    "nrow(airbnb)\n",
    "nrow(new.air)"
   ]
  },
  {
   "cell_type": "code",
   "execution_count": 43,
   "metadata": {},
   "outputs": [
    {
     "data": {
      "text/plain": [
       "\n",
       "Call:\n",
       "lm(formula = price ~ room_type + reviews + overall_satisfaction + \n",
       "    accommodates + bedrooms, data = new.air)\n",
       "\n",
       "Residuals:\n",
       "    Min      1Q  Median      3Q     Max \n",
       "-190.95  -32.43   -7.09   20.35  876.26 \n",
       "\n",
       "Coefficients:\n",
       "                       Estimate Std. Error t value Pr(>|t|)    \n",
       "(Intercept)            75.01310    9.09152   8.251 6.01e-16 ***\n",
       "room_typePrivate room -32.28201    5.38034  -6.000 2.92e-09 ***\n",
       "room_typeShared room  -91.69951   24.28958  -3.775 0.000171 ***\n",
       "reviews                -0.05915    0.04047  -1.462 0.144202    \n",
       "overall_satisfaction   -6.78957    1.41118  -4.811 1.78e-06 ***\n",
       "accommodates           11.90698    2.14267   5.557 3.68e-08 ***\n",
       "bedrooms               35.93177    4.87968   7.364 4.25e-13 ***\n",
       "---\n",
       "Signif. codes:  0 '***' 0.001 '**' 0.01 '*' 0.05 '.' 0.1 ' ' 1\n",
       "\n",
       "Residual standard error: 67.73 on 845 degrees of freedom\n",
       "Multiple R-squared:  0.4249,\tAdjusted R-squared:  0.4208 \n",
       "F-statistic:   104 on 6 and 845 DF,  p-value: < 2.2e-16\n"
      ]
     },
     "metadata": {},
     "output_type": "display_data"
    }
   ],
   "source": [
    "model.air=lm(price~room_type+reviews+overall_satisfaction+accommodates+bedrooms, data=new.air)\n",
    "summary(model.air)"
   ]
  },
  {
   "cell_type": "code",
   "execution_count": null,
   "metadata": {},
   "outputs": [],
   "source": [
    "*************************************Q2************************************************************"
   ]
  },
  {
   "cell_type": "code",
   "execution_count": 45,
   "metadata": {},
   "outputs": [
    {
     "data": {
      "text/html": [
       "<table>\n",
       "<caption>A data.frame: 5 × 10</caption>\n",
       "<thead>\n",
       "\t<tr><th></th><th scope=col>Age</th><th scope=col>Gender</th><th scope=col>OwnHome</th><th scope=col>Married</th><th scope=col>Location</th><th scope=col>Salary</th><th scope=col>Children</th><th scope=col>History</th><th scope=col>Catalogs</th><th scope=col>AmountSpent</th></tr>\n",
       "\t<tr><th></th><th scope=col>&lt;fct&gt;</th><th scope=col>&lt;fct&gt;</th><th scope=col>&lt;fct&gt;</th><th scope=col>&lt;fct&gt;</th><th scope=col>&lt;fct&gt;</th><th scope=col>&lt;int&gt;</th><th scope=col>&lt;int&gt;</th><th scope=col>&lt;fct&gt;</th><th scope=col>&lt;int&gt;</th><th scope=col>&lt;dbl&gt;</th></tr>\n",
       "</thead>\n",
       "<tbody>\n",
       "\t<tr><th scope=row>1</th><td>Old   </td><td>Female</td><td>Own </td><td>Single </td><td>Far  </td><td>47500</td><td>0</td><td>High</td><td> 6</td><td> 75.5</td></tr>\n",
       "\t<tr><th scope=row>2</th><td>Middle</td><td>Male  </td><td>Rent</td><td>Single </td><td>Close</td><td>63600</td><td>0</td><td>High</td><td> 6</td><td>131.8</td></tr>\n",
       "\t<tr><th scope=row>3</th><td>Young </td><td>Female</td><td>Rent</td><td>Single </td><td>Close</td><td>13500</td><td>0</td><td>Low </td><td>18</td><td> 29.6</td></tr>\n",
       "\t<tr><th scope=row>4</th><td>Middle</td><td>Male  </td><td>Own </td><td>Married</td><td>Close</td><td>85600</td><td>1</td><td>High</td><td>18</td><td>243.6</td></tr>\n",
       "\t<tr><th scope=row>5</th><td>Middle</td><td>Female</td><td>Own </td><td>Single </td><td>Close</td><td>68400</td><td>0</td><td>High</td><td>12</td><td>130.4</td></tr>\n",
       "</tbody>\n",
       "</table>\n"
      ],
      "text/latex": [
       "A data.frame: 5 × 10\n",
       "\\begin{tabular}{r|llllllllll}\n",
       "  & Age & Gender & OwnHome & Married & Location & Salary & Children & History & Catalogs & AmountSpent\\\\\n",
       "  & <fct> & <fct> & <fct> & <fct> & <fct> & <int> & <int> & <fct> & <int> & <dbl>\\\\\n",
       "\\hline\n",
       "\t1 & Old    & Female & Own  & Single  & Far   & 47500 & 0 & High &  6 &  75.5\\\\\n",
       "\t2 & Middle & Male   & Rent & Single  & Close & 63600 & 0 & High &  6 & 131.8\\\\\n",
       "\t3 & Young  & Female & Rent & Single  & Close & 13500 & 0 & Low  & 18 &  29.6\\\\\n",
       "\t4 & Middle & Male   & Own  & Married & Close & 85600 & 1 & High & 18 & 243.6\\\\\n",
       "\t5 & Middle & Female & Own  & Single  & Close & 68400 & 0 & High & 12 & 130.4\\\\\n",
       "\\end{tabular}\n"
      ],
      "text/markdown": [
       "\n",
       "A data.frame: 5 × 10\n",
       "\n",
       "| <!--/--> | Age &lt;fct&gt; | Gender &lt;fct&gt; | OwnHome &lt;fct&gt; | Married &lt;fct&gt; | Location &lt;fct&gt; | Salary &lt;int&gt; | Children &lt;int&gt; | History &lt;fct&gt; | Catalogs &lt;int&gt; | AmountSpent &lt;dbl&gt; |\n",
       "|---|---|---|---|---|---|---|---|---|---|---|\n",
       "| 1 | Old    | Female | Own  | Single  | Far   | 47500 | 0 | High |  6 |  75.5 |\n",
       "| 2 | Middle | Male   | Rent | Single  | Close | 63600 | 0 | High |  6 | 131.8 |\n",
       "| 3 | Young  | Female | Rent | Single  | Close | 13500 | 0 | Low  | 18 |  29.6 |\n",
       "| 4 | Middle | Male   | Own  | Married | Close | 85600 | 1 | High | 18 | 243.6 |\n",
       "| 5 | Middle | Female | Own  | Single  | Close | 68400 | 0 | High | 12 | 130.4 |\n",
       "\n"
      ],
      "text/plain": [
       "  Age    Gender OwnHome Married Location Salary Children History Catalogs\n",
       "1 Old    Female Own     Single  Far      47500  0        High     6      \n",
       "2 Middle Male   Rent    Single  Close    63600  0        High     6      \n",
       "3 Young  Female Rent    Single  Close    13500  0        Low     18      \n",
       "4 Middle Male   Own     Married Close    85600  1        High    18      \n",
       "5 Middle Female Own     Single  Close    68400  0        High    12      \n",
       "  AmountSpent\n",
       "1  75.5      \n",
       "2 131.8      \n",
       "3  29.6      \n",
       "4 243.6      \n",
       "5 130.4      "
      ]
     },
     "metadata": {},
     "output_type": "display_data"
    }
   ],
   "source": [
    "direct.market=read.csv(\"direct_marketing.csv\", header=TRUE)\n",
    "head(direct.market, n=5)"
   ]
  },
  {
   "cell_type": "code",
   "execution_count": 46,
   "metadata": {},
   "outputs": [
    {
     "data": {
      "text/plain": [
       "\n",
       "Call:\n",
       "lm(formula = AmountSpent ~ relevel(History, ref = \"None\") + relevel(History, \n",
       "    ref = \"None\") * Salary, data = direct.market)\n",
       "\n",
       "Residuals:\n",
       "    Min      1Q  Median      3Q     Max \n",
       "-214.33  -25.47   -6.46   20.64  352.50 \n",
       "\n",
       "Coefficients:\n",
       "                                              Estimate Std. Error t value\n",
       "(Intercept)                                  1.9622199  6.3880253   0.307\n",
       "relevel(History, ref = \"None\")High          72.6735221 15.2270169   4.773\n",
       "relevel(History, ref = \"None\")Low           25.4466733  8.9203292   2.853\n",
       "relevel(History, ref = \"None\")Medium        79.2984388 12.8982169   6.148\n",
       "Salary                                       0.0023641  0.0001071  22.083\n",
       "relevel(History, ref = \"None\")High:Salary   -0.0006408  0.0001926  -3.328\n",
       "relevel(History, ref = \"None\")Low:Salary    -0.0021069  0.0001890 -11.150\n",
       "relevel(History, ref = \"None\")Medium:Salary -0.0021153  0.0002182  -9.693\n",
       "                                            Pr(>|t|)    \n",
       "(Intercept)                                 0.758777    \n",
       "relevel(History, ref = \"None\")High          2.09e-06 ***\n",
       "relevel(History, ref = \"None\")Low           0.004426 ** \n",
       "relevel(History, ref = \"None\")Medium        1.14e-09 ***\n",
       "Salary                                       < 2e-16 ***\n",
       "relevel(History, ref = \"None\")High:Salary   0.000908 ***\n",
       "relevel(History, ref = \"None\")Low:Salary     < 2e-16 ***\n",
       "relevel(History, ref = \"None\")Medium:Salary  < 2e-16 ***\n",
       "---\n",
       "Signif. codes:  0 '***' 0.001 '**' 0.01 '*' 0.05 '.' 0.1 ' ' 1\n",
       "\n",
       "Residual standard error: 55.79 on 992 degrees of freedom\n",
       "Multiple R-squared:  0.6654,\tAdjusted R-squared:  0.6631 \n",
       "F-statistic: 281.9 on 7 and 992 DF,  p-value: < 2.2e-16\n"
      ]
     },
     "metadata": {},
     "output_type": "display_data"
    }
   ],
   "source": [
    "model.market=lm(AmountSpent~relevel(History, ref = \"None\")+relevel(History, ref = \"None\")*Salary, data=direct.market)\n",
    "summary(model.market)"
   ]
  },
  {
   "cell_type": "code",
   "execution_count": 47,
   "metadata": {},
   "outputs": [
    {
     "data": {
      "text/html": [
       "<table>\n",
       "<caption>A data.frame: 4 × 2</caption>\n",
       "<thead>\n",
       "\t<tr><th scope=col>History</th><th scope=col>Salary</th></tr>\n",
       "\t<tr><th scope=col>&lt;fct&gt;</th><th scope=col>&lt;dbl&gt;</th></tr>\n",
       "</thead>\n",
       "<tbody>\n",
       "\t<tr><td>High  </td><td>10000</td></tr>\n",
       "\t<tr><td>Medium</td><td>10000</td></tr>\n",
       "\t<tr><td>Low   </td><td>10000</td></tr>\n",
       "\t<tr><td>None  </td><td>10000</td></tr>\n",
       "</tbody>\n",
       "</table>\n"
      ],
      "text/latex": [
       "A data.frame: 4 × 2\n",
       "\\begin{tabular}{ll}\n",
       " History & Salary\\\\\n",
       " <fct> & <dbl>\\\\\n",
       "\\hline\n",
       "\t High   & 10000\\\\\n",
       "\t Medium & 10000\\\\\n",
       "\t Low    & 10000\\\\\n",
       "\t None   & 10000\\\\\n",
       "\\end{tabular}\n"
      ],
      "text/markdown": [
       "\n",
       "A data.frame: 4 × 2\n",
       "\n",
       "| History &lt;fct&gt; | Salary &lt;dbl&gt; |\n",
       "|---|---|\n",
       "| High   | 10000 |\n",
       "| Medium | 10000 |\n",
       "| Low    | 10000 |\n",
       "| None   | 10000 |\n",
       "\n"
      ],
      "text/plain": [
       "  History Salary\n",
       "1 High    10000 \n",
       "2 Medium  10000 \n",
       "3 Low     10000 \n",
       "4 None    10000 "
      ]
     },
     "metadata": {},
     "output_type": "display_data"
    }
   ],
   "source": [
    "col1=c(\"High\", \"Medium\", \"Low\", \"None\")\n",
    "col2=c(10000, 10000,10000, 10000)\n",
    "   \n",
    "x=data.frame(\"History\"=col1, \"Salary\"=col2)\n",
    "x\n"
   ]
  },
  {
   "cell_type": "code",
   "execution_count": 48,
   "metadata": {},
   "outputs": [
    {
     "data": {
      "text/html": [
       "<table>\n",
       "<caption>A matrix: 4 × 3 of type dbl</caption>\n",
       "<thead>\n",
       "\t<tr><th></th><th scope=col>fit</th><th scope=col>lwr</th><th scope=col>upr</th></tr>\n",
       "</thead>\n",
       "<tbody>\n",
       "\t<tr><th scope=row>1</th><td>91.86874</td><td>67.77058</td><td>115.96690</td></tr>\n",
       "\t<tr><th scope=row>2</th><td>83.74909</td><td>65.22310</td><td>102.27508</td></tr>\n",
       "\t<tr><th scope=row>3</th><td>29.98157</td><td>20.06322</td><td> 39.89993</td></tr>\n",
       "\t<tr><th scope=row>4</th><td>25.60347</td><td>14.83352</td><td> 36.37342</td></tr>\n",
       "</tbody>\n",
       "</table>\n"
      ],
      "text/latex": [
       "A matrix: 4 × 3 of type dbl\n",
       "\\begin{tabular}{r|lll}\n",
       "  & fit & lwr & upr\\\\\n",
       "\\hline\n",
       "\t1 & 91.86874 & 67.77058 & 115.96690\\\\\n",
       "\t2 & 83.74909 & 65.22310 & 102.27508\\\\\n",
       "\t3 & 29.98157 & 20.06322 &  39.89993\\\\\n",
       "\t4 & 25.60347 & 14.83352 &  36.37342\\\\\n",
       "\\end{tabular}\n"
      ],
      "text/markdown": [
       "\n",
       "A matrix: 4 × 3 of type dbl\n",
       "\n",
       "| <!--/--> | fit | lwr | upr |\n",
       "|---|---|---|---|\n",
       "| 1 | 91.86874 | 67.77058 | 115.96690 |\n",
       "| 2 | 83.74909 | 65.22310 | 102.27508 |\n",
       "| 3 | 29.98157 | 20.06322 |  39.89993 |\n",
       "| 4 | 25.60347 | 14.83352 |  36.37342 |\n",
       "\n"
      ],
      "text/plain": [
       "  fit      lwr      upr      \n",
       "1 91.86874 67.77058 115.96690\n",
       "2 83.74909 65.22310 102.27508\n",
       "3 29.98157 20.06322  39.89993\n",
       "4 25.60347 14.83352  36.37342"
      ]
     },
     "metadata": {},
     "output_type": "display_data"
    }
   ],
   "source": [
    "pred.market=predict(model.market, x, interval=\"confidence\")\n",
    "pred.market"
   ]
  },
  {
   "cell_type": "code",
   "execution_count": 49,
   "metadata": {},
   "outputs": [
    {
     "data": {
      "text/plain": [
       "\n",
       "Call:\n",
       "lm(formula = price ~ overall_satisfaction, data = airbnb)\n",
       "\n",
       "Residuals:\n",
       "   Min     1Q Median     3Q    Max \n",
       "-167.0  -51.3  -24.2   16.8 4805.0 \n",
       "\n",
       "Coefficients:\n",
       "                     Estimate Std. Error t value Pr(>|t|)    \n",
       "(Intercept)           194.967     17.698  11.016  < 2e-16 ***\n",
       "overall_satisfaction  -16.353      3.903  -4.189 3.09e-05 ***\n",
       "---\n",
       "Signif. codes:  0 '***' 0.001 '**' 0.01 '*' 0.05 '.' 0.1 ' ' 1\n",
       "\n",
       "Residual standard error: 200.4 on 852 degrees of freedom\n",
       "Multiple R-squared:  0.02018,\tAdjusted R-squared:  0.01903 \n",
       "F-statistic: 17.55 on 1 and 852 DF,  p-value: 3.088e-05\n"
      ]
     },
     "metadata": {},
     "output_type": "display_data"
    }
   ],
   "source": [
    "air.lin.lin=lm(price~overall_satisfaction,data=airbnb)\n",
    "summary(air.lin.lin)"
   ]
  },
  {
   "cell_type": "code",
   "execution_count": 50,
   "metadata": {},
   "outputs": [
    {
     "data": {
      "text/plain": [
       "\n",
       "Call:\n",
       "lm(formula = log(price) ~ overall_satisfaction, data = airbnb)\n",
       "\n",
       "Residuals:\n",
       "    Min      1Q  Median      3Q     Max \n",
       "-1.6234 -0.3525 -0.0432  0.3302  3.7220 \n",
       "\n",
       "Coefficients:\n",
       "                     Estimate Std. Error t value Pr(>|t|)    \n",
       "(Intercept)           4.79515    0.05083  94.339  < 2e-16 ***\n",
       "overall_satisfaction -0.04401    0.01121  -3.926 9.33e-05 ***\n",
       "---\n",
       "Signif. codes:  0 '***' 0.001 '**' 0.01 '*' 0.05 '.' 0.1 ' ' 1\n",
       "\n",
       "Residual standard error: 0.5757 on 852 degrees of freedom\n",
       "Multiple R-squared:  0.01777,\tAdjusted R-squared:  0.01662 \n",
       "F-statistic: 15.41 on 1 and 852 DF,  p-value: 9.331e-05\n"
      ]
     },
     "metadata": {},
     "output_type": "display_data"
    }
   ],
   "source": [
    "air.log.lin=lm(log(price)~overall_satisfaction,data=airbnb)\n",
    "summary(air.log.lin)"
   ]
  },
  {
   "cell_type": "code",
   "execution_count": 51,
   "metadata": {},
   "outputs": [
    {
     "data": {
      "text/plain": [
       "\n",
       "Call:\n",
       "lm(formula = price ~ log(overall_satisfaction + 1), data = airbnb)\n",
       "\n",
       "Residuals:\n",
       "   Min     1Q Median     3Q    Max \n",
       "-168.5  -50.7  -24.7   16.3 4803.5 \n",
       "\n",
       "Coefficients:\n",
       "                              Estimate Std. Error t value Pr(>|t|)    \n",
       "(Intercept)                     196.46      17.76  11.062  < 2e-16 ***\n",
       "log(overall_satisfaction + 1)   -46.20      10.84  -4.263 2.24e-05 ***\n",
       "---\n",
       "Signif. codes:  0 '***' 0.001 '**' 0.01 '*' 0.05 '.' 0.1 ' ' 1\n",
       "\n",
       "Residual standard error: 200.4 on 852 degrees of freedom\n",
       "Multiple R-squared:  0.02089,\tAdjusted R-squared:  0.01974 \n",
       "F-statistic: 18.18 on 1 and 852 DF,  p-value: 2.239e-05\n"
      ]
     },
     "metadata": {},
     "output_type": "display_data"
    }
   ],
   "source": [
    "air.lin.log=lm(price~log(overall_satisfaction+1),data=airbnb)\n",
    "summary(air.lin.log)"
   ]
  },
  {
   "cell_type": "code",
   "execution_count": 52,
   "metadata": {},
   "outputs": [
    {
     "data": {
      "text/plain": [
       "\n",
       "Call:\n",
       "lm(formula = log(price) ~ log(overall_satisfaction + 1), data = airbnb)\n",
       "\n",
       "Residuals:\n",
       "    Min      1Q  Median      3Q     Max \n",
       "-1.6030 -0.3551 -0.0327  0.3298  3.7132 \n",
       "\n",
       "Coefficients:\n",
       "                              Estimate Std. Error t value Pr(>|t|)    \n",
       "(Intercept)                    4.80396    0.05098  94.228  < 2e-16 ***\n",
       "log(overall_satisfaction + 1) -0.12750    0.03111  -4.099 4.55e-05 ***\n",
       "---\n",
       "Signif. codes:  0 '***' 0.001 '**' 0.01 '*' 0.05 '.' 0.1 ' ' 1\n",
       "\n",
       "Residual standard error: 0.5752 on 852 degrees of freedom\n",
       "Multiple R-squared:  0.01934,\tAdjusted R-squared:  0.01819 \n",
       "F-statistic:  16.8 on 1 and 852 DF,  p-value: 4.547e-05\n"
      ]
     },
     "metadata": {},
     "output_type": "display_data"
    }
   ],
   "source": [
    "air.log.log=lm(log(price)~log(overall_satisfaction+1),data=airbnb)\n",
    "summary(air.log.log)"
   ]
  },
  {
   "cell_type": "code",
   "execution_count": null,
   "metadata": {},
   "outputs": [],
   "source": [
    "****************************************Q3*****************************************************"
   ]
  },
  {
   "cell_type": "code",
   "execution_count": 53,
   "metadata": {},
   "outputs": [
    {
     "data": {
      "text/html": [
       "<table>\n",
       "<caption>A data.frame: 5 × 5</caption>\n",
       "<thead>\n",
       "\t<tr><th></th><th scope=col>Name</th><th scope=col>PClass</th><th scope=col>Age</th><th scope=col>Sex</th><th scope=col>Survived</th></tr>\n",
       "\t<tr><th></th><th scope=col>&lt;fct&gt;</th><th scope=col>&lt;fct&gt;</th><th scope=col>&lt;dbl&gt;</th><th scope=col>&lt;fct&gt;</th><th scope=col>&lt;fct&gt;</th></tr>\n",
       "</thead>\n",
       "<tbody>\n",
       "\t<tr><th scope=row>1</th><td>Allen, Miss Elisabeth Walton                 </td><td>1st</td><td>29.00</td><td>female</td><td>1</td></tr>\n",
       "\t<tr><th scope=row>2</th><td>Allison, Miss Helen Loraine                  </td><td>1st</td><td> 2.00</td><td>female</td><td>0</td></tr>\n",
       "\t<tr><th scope=row>3</th><td>Allison, Mr Hudson Joshua Creighton          </td><td>1st</td><td>30.00</td><td>male  </td><td>0</td></tr>\n",
       "\t<tr><th scope=row>4</th><td>Allison, Mrs Hudson JC (Bessie Waldo Daniels)</td><td>1st</td><td>25.00</td><td>female</td><td>0</td></tr>\n",
       "\t<tr><th scope=row>5</th><td>Allison, Master Hudson Trevor                </td><td>1st</td><td> 0.92</td><td>male  </td><td>1</td></tr>\n",
       "</tbody>\n",
       "</table>\n"
      ],
      "text/latex": [
       "A data.frame: 5 × 5\n",
       "\\begin{tabular}{r|lllll}\n",
       "  & Name & PClass & Age & Sex & Survived\\\\\n",
       "  & <fct> & <fct> & <dbl> & <fct> & <fct>\\\\\n",
       "\\hline\n",
       "\t1 & Allen, Miss Elisabeth Walton                  & 1st & 29.00 & female & 1\\\\\n",
       "\t2 & Allison, Miss Helen Loraine                   & 1st &  2.00 & female & 0\\\\\n",
       "\t3 & Allison, Mr Hudson Joshua Creighton           & 1st & 30.00 & male   & 0\\\\\n",
       "\t4 & Allison, Mrs Hudson JC (Bessie Waldo Daniels) & 1st & 25.00 & female & 0\\\\\n",
       "\t5 & Allison, Master Hudson Trevor                 & 1st &  0.92 & male   & 1\\\\\n",
       "\\end{tabular}\n"
      ],
      "text/markdown": [
       "\n",
       "A data.frame: 5 × 5\n",
       "\n",
       "| <!--/--> | Name &lt;fct&gt; | PClass &lt;fct&gt; | Age &lt;dbl&gt; | Sex &lt;fct&gt; | Survived &lt;fct&gt; |\n",
       "|---|---|---|---|---|---|\n",
       "| 1 | Allen, Miss Elisabeth Walton                  | 1st | 29.00 | female | 1 |\n",
       "| 2 | Allison, Miss Helen Loraine                   | 1st |  2.00 | female | 0 |\n",
       "| 3 | Allison, Mr Hudson Joshua Creighton           | 1st | 30.00 | male   | 0 |\n",
       "| 4 | Allison, Mrs Hudson JC (Bessie Waldo Daniels) | 1st | 25.00 | female | 0 |\n",
       "| 5 | Allison, Master Hudson Trevor                 | 1st |  0.92 | male   | 1 |\n",
       "\n"
      ],
      "text/plain": [
       "  Name                                          PClass Age   Sex    Survived\n",
       "1 Allen, Miss Elisabeth Walton                  1st    29.00 female 1       \n",
       "2 Allison, Miss Helen Loraine                   1st     2.00 female 0       \n",
       "3 Allison, Mr Hudson Joshua Creighton           1st    30.00 male   0       \n",
       "4 Allison, Mrs Hudson JC (Bessie Waldo Daniels) 1st    25.00 female 0       \n",
       "5 Allison, Master Hudson Trevor                 1st     0.92 male   1       "
      ]
     },
     "metadata": {},
     "output_type": "display_data"
    }
   ],
   "source": [
    "titan=read.csv(\"titanic_data.csv\", header=TRUE)\n",
    "titan$Survived=as.factor(titan$Survived)\n",
    "head(titan, n=5)"
   ]
  },
  {
   "cell_type": "code",
   "execution_count": 54,
   "metadata": {},
   "outputs": [
    {
     "data": {
      "text/plain": [
       "\n",
       "Call:\n",
       "glm(formula = Survived ~ Sex, family = \"binomial\", data = titan)\n",
       "\n",
       "Deviance Residuals: \n",
       "    Min       1Q   Median       3Q      Max  \n",
       "-1.6735  -0.6776  -0.6776   0.7524   1.7800  \n",
       "\n",
       "Coefficients:\n",
       "            Estimate Std. Error z value Pr(>|z|)    \n",
       "(Intercept)   1.1172     0.1367   8.171 3.05e-16 ***\n",
       "Sexmale      -2.4718     0.1783 -13.861  < 2e-16 ***\n",
       "---\n",
       "Signif. codes:  0 '***' 0.001 '**' 0.01 '*' 0.05 '.' 0.1 ' ' 1\n",
       "\n",
       "(Dispersion parameter for binomial family taken to be 1)\n",
       "\n",
       "    Null deviance: 1025.57  on 755  degrees of freedom\n",
       "Residual deviance:  796.64  on 754  degrees of freedom\n",
       "AIC: 800.64\n",
       "\n",
       "Number of Fisher Scoring iterations: 4\n"
      ]
     },
     "metadata": {},
     "output_type": "display_data"
    }
   ],
   "source": [
    "titan.model=glm(Survived~Sex, data=titan, family=\"binomial\")\n",
    "summary(titan.model)"
   ]
  }
 ],
 "metadata": {
  "kernelspec": {
   "display_name": "R",
   "language": "R",
   "name": "ir"
  },
  "language_info": {
   "codemirror_mode": "r",
   "file_extension": ".r",
   "mimetype": "text/x-r-source",
   "name": "R",
   "pygments_lexer": "r",
   "version": "3.6.1"
  }
 },
 "nbformat": 4,
 "nbformat_minor": 2
}
