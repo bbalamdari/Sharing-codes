{
 "cells": [
  {
   "cell_type": "code",
   "execution_count": 2,
   "metadata": {},
   "outputs": [
    {
     "name": "stderr",
     "output_type": "stream",
     "text": [
      "Loading required package: xts\n",
      "Loading required package: zoo\n",
      "\n",
      "Attaching package: 'zoo'\n",
      "\n",
      "The following objects are masked from 'package:base':\n",
      "\n",
      "    as.Date, as.Date.numeric\n",
      "\n",
      "Registered S3 method overwritten by 'xts':\n",
      "  method     from\n",
      "  as.zoo.xts zoo \n",
      "Loading required package: TTR\n",
      "Registered S3 method overwritten by 'quantmod':\n",
      "  method            from\n",
      "  as.zoo.data.frame zoo \n",
      "Version 0.4-0 included new data defaults. See ?getSymbols.\n",
      "Warning message:\n",
      "\"package 'tseries' was built under R version 3.6.3\"Warning message:\n",
      "\"package 'fGarch' was built under R version 3.6.3\"Loading required package: timeDate\n",
      "Loading required package: timeSeries\n",
      "\n",
      "Attaching package: 'timeSeries'\n",
      "\n",
      "The following object is masked from 'package:zoo':\n",
      "\n",
      "    time<-\n",
      "\n",
      "Loading required package: fBasics\n",
      "\n",
      "Attaching package: 'fBasics'\n",
      "\n",
      "The following object is masked from 'package:TTR':\n",
      "\n",
      "    volatility\n",
      "\n",
      "Loading required package: nlme\n",
      "This is mgcv 1.8-28. For overview type 'help(\"mgcv-package\")'.\n",
      "\n",
      "Attaching package: 'TSA'\n",
      "\n",
      "The following objects are masked from 'package:timeDate':\n",
      "\n",
      "    kurtosis, skewness\n",
      "\n",
      "The following objects are masked from 'package:stats':\n",
      "\n",
      "    acf, arima\n",
      "\n",
      "The following object is masked from 'package:utils':\n",
      "\n",
      "    tar\n",
      "\n",
      "Warning message:\n",
      "\"package 'rugarch' was built under R version 3.6.3\"Loading required package: parallel\n",
      "\n",
      "Attaching package: 'rugarch'\n",
      "\n",
      "The following object is masked from 'package:stats':\n",
      "\n",
      "    sigma\n",
      "\n"
     ]
    }
   ],
   "source": [
    "library(quantmod)\n",
    "library(tseries)\n",
    "library(fGarch)\n",
    "library(mgcv)\n",
    "library(TSA)\n",
    "library(rugarch)\n",
    "\n"
   ]
  },
  {
   "cell_type": "code",
   "execution_count": 18,
   "metadata": {},
   "outputs": [],
   "source": [
    "data <- read.csv(\"TSLA.csv\", header=TRUE)\n",
    "data <- log(data[,2])\n",
    "data.ts <- ts(data,start=c(2012,1),freq=52)\n",
    "data.growth = diff(data.ts)"
   ]
  },
  {
   "cell_type": "code",
   "execution_count": 19,
   "metadata": {},
   "outputs": [
    {
     "name": "stdout",
     "output_type": "stream",
     "text": [
      "[1] \"0 0 0 -1001.95153390885\"\n",
      "[1] \"0 0 1 -999.976533799224\"\n",
      "[1] \"0 0 2 -998.781091149895\"\n",
      "[1] \"0 0 3 -997.215363657174\"\n",
      "[1] \"0 1 0 -743.007531101551\"\n",
      "[1] \"0 1 1 -993.848790218804\"\n",
      "[1] \"0 1 2 -991.848861232875\"\n",
      "[1] \"0 1 3 -990.468044137523\"\n",
      "[1] \"1 0 0 -999.978980972446\"\n",
      "[1] \"1 0 1 -999.143218049959\"\n",
      "[1] \"1 0 2 -997.816357933342\"\n",
      "[1] \"1 0 3 -995.877880742838\"\n",
      "[1] \"1 1 0 -859.69941165643\"\n",
      "[1] \"1 1 1 -991.848866912499\"\n"
     ]
    },
    {
     "name": "stderr",
     "output_type": "stream",
     "text": [
      "Warning message in stats::arima(x = x, order = order, seasonal = seasonal, xreg = xreg, :\n",
      "\"possible convergence problem: optim gave code = 1\""
     ]
    },
    {
     "name": "stdout",
     "output_type": "stream",
     "text": [
      "[1] \"1 1 2 -990.743965036962\"\n",
      "[1] \"1 1 3 -989.130917058461\"\n",
      "[1] \"2 0 0 -998.913427351276\"\n",
      "[1] \"2 0 1 -997.790707395601\"\n",
      "[1] \"2 0 2 -996.385041231998\"\n",
      "[1] \"2 0 3 -994.40479903398\"\n",
      "[1] \"2 1 0 -901.028953437384\"\n",
      "[1] \"2 1 1 -990.553350539889\"\n",
      "[1] \"2 1 2 -989.130422014283\"\n",
      "[1] \"2 1 3 -987.744041095685\"\n",
      "[1] \"3 0 0 -997.256885851907\"\n",
      "[1] \"3 0 1 -995.841274462017\"\n",
      "[1] \"3 0 2 -994.392863360153\"\n"
     ]
    },
    {
     "name": "stderr",
     "output_type": "stream",
     "text": [
      "Warning message in log(s2):\n",
      "\"NaNs produced\""
     ]
    },
    {
     "name": "stdout",
     "output_type": "stream",
     "text": [
      "[1] \"3 0 3 -992.855113485499\"\n",
      "[1] \"3 1 0 -930.317317023143\"\n",
      "[1] \"3 1 1 -988.795182282954\"\n",
      "[1] \"3 1 2 -987.135492150675\"\n",
      "[1] \"3 1 3 -985.869986436799\"\n",
      "[1] \"4 0 0 -997.275179594166\"\n",
      "[1] \"4 0 1 -996.907630304939\"\n",
      "[1] \"4 0 2 -1003.80278178073\"\n"
     ]
    },
    {
     "name": "stderr",
     "output_type": "stream",
     "text": [
      "Warning message in stats::arima(x = x, order = order, seasonal = seasonal, xreg = xreg, :\n",
      "\"possible convergence problem: optim gave code = 1\""
     ]
    },
    {
     "name": "stdout",
     "output_type": "stream",
     "text": [
      "[1] \"4 0 3 -1001.78864423781\"\n",
      "[1] \"4 1 0 -932.817470576436\"\n",
      "[1] \"4 1 1 -988.643859271108\"\n",
      "[1] \"4 1 2 -988.300379812244\"\n",
      "[1] \"4 1 3 -995.302905244194\"\n",
      "[1] \"5 0 0 -996.836810349881\"\n",
      "[1] \"5 0 1 -995.465877556968\"\n",
      "[1] \"5 0 2 -1000.79774517522\"\n",
      "[1] \"5 0 3 -1000.04876830646\"\n",
      "[1] \"5 1 0 -947.049310931769\"\n",
      "[1] \"5 1 1 -988.356088981546\"\n",
      "[1] \"5 1 2 -986.95509277809\"\n",
      "[1] \"5 1 3 -992.215832761177\"\n",
      "[1] \"6 0 0 -996.124079147594\"\n",
      "[1] \"6 0 1 -994.123760814428\"\n",
      "[1] \"6 0 2 -1000.93620701926\"\n",
      "[1] \"6 0 3 -998.136481406853\"\n",
      "[1] \"6 1 0 -950.912546457137\"\n",
      "[1] \"6 1 1 -987.508986888552\"\n",
      "[1] \"6 1 2 -985.509015486737\"\n",
      "[1] \"6 1 3 -990.476936750176\"\n"
     ]
    },
    {
     "data": {
      "text/html": [
       "<table>\n",
       "<caption>A data.frame: 6 × 4</caption>\n",
       "<thead>\n",
       "\t<tr><th></th><th scope=col>p</th><th scope=col>d</th><th scope=col>q</th><th scope=col>AIC</th></tr>\n",
       "\t<tr><th></th><th scope=col>&lt;dbl&gt;</th><th scope=col>&lt;dbl&gt;</th><th scope=col>&lt;dbl&gt;</th><th scope=col>&lt;dbl&gt;</th></tr>\n",
       "</thead>\n",
       "<tbody>\n",
       "\t<tr><th scope=row>45</th><td>5</td><td>0</td><td>3</td><td>-1000.049</td></tr>\n",
       "\t<tr><th scope=row>44</th><td>5</td><td>0</td><td>2</td><td>-1000.798</td></tr>\n",
       "\t<tr><th scope=row>52</th><td>6</td><td>0</td><td>2</td><td>-1000.936</td></tr>\n",
       "\t<tr><th scope=row>37</th><td>4</td><td>0</td><td>3</td><td>-1001.789</td></tr>\n",
       "\t<tr><th scope=row>2</th><td>0</td><td>0</td><td>0</td><td>-1001.952</td></tr>\n",
       "\t<tr><th scope=row>36</th><td>4</td><td>0</td><td>2</td><td>-1003.803</td></tr>\n",
       "</tbody>\n",
       "</table>\n"
      ],
      "text/latex": [
       "A data.frame: 6 × 4\n",
       "\\begin{tabular}{r|llll}\n",
       "  & p & d & q & AIC\\\\\n",
       "  & <dbl> & <dbl> & <dbl> & <dbl>\\\\\n",
       "\\hline\n",
       "\t45 & 5 & 0 & 3 & -1000.049\\\\\n",
       "\t44 & 5 & 0 & 2 & -1000.798\\\\\n",
       "\t52 & 6 & 0 & 2 & -1000.936\\\\\n",
       "\t37 & 4 & 0 & 3 & -1001.789\\\\\n",
       "\t2 & 0 & 0 & 0 & -1001.952\\\\\n",
       "\t36 & 4 & 0 & 2 & -1003.803\\\\\n",
       "\\end{tabular}\n"
      ],
      "text/markdown": [
       "\n",
       "A data.frame: 6 × 4\n",
       "\n",
       "| <!--/--> | p &lt;dbl&gt; | d &lt;dbl&gt; | q &lt;dbl&gt; | AIC &lt;dbl&gt; |\n",
       "|---|---|---|---|---|\n",
       "| 45 | 5 | 0 | 3 | -1000.049 |\n",
       "| 44 | 5 | 0 | 2 | -1000.798 |\n",
       "| 52 | 6 | 0 | 2 | -1000.936 |\n",
       "| 37 | 4 | 0 | 3 | -1001.789 |\n",
       "| 2 | 0 | 0 | 0 | -1001.952 |\n",
       "| 36 | 4 | 0 | 2 | -1003.803 |\n",
       "\n"
      ],
      "text/plain": [
       "   p d q AIC      \n",
       "45 5 0 3 -1000.049\n",
       "44 5 0 2 -1000.798\n",
       "52 6 0 2 -1000.936\n",
       "37 4 0 3 -1001.789\n",
       "2  0 0 0 -1001.952\n",
       "36 4 0 2 -1003.803"
      ]
     },
     "metadata": {},
     "output_type": "display_data"
    }
   ],
   "source": [
    "## Order selection -- AIC\n",
    "\n",
    "test_modelA <- function(p,d,q){\n",
    " mod = arima(data.growth, order=c(p,d,q), method=\"ML\")\n",
    " current.aic = AIC(mod)\n",
    " df = data.frame(p,d,q,current.aic)\n",
    " names(df) <- c(\"p\",\"d\",\"q\",\"AIC\")\n",
    " print(paste(p,d,q,current.aic,sep=\" \"))\n",
    "    \n",
    " return(df)\n",
    " }\n",
    " \n",
    " orders = data.frame(Inf,Inf,Inf,Inf)\n",
    " names(orders) <- c(\"p\",\"d\",\"q\",\"AIC\")\n",
    " \n",
    " \n",
    " for (p in 0:6){\n",
    "   for (d in 0:1){\n",
    "     for (q in 0:3) {\n",
    "       possibleError <- tryCatch(\n",
    "         orders<-rbind(orders,test_modelA(p,d,q)),\n",
    "         error=function(e) e\n",
    "       )\n",
    "       if(inherits(possibleError, \"error\")) next\n",
    " \n",
    "     }\n",
    "   }\n",
    " }\n",
    " orders <- orders[order(-orders$AIC),]\n",
    " tail(orders)\n"
   ]
  },
  {
   "cell_type": "code",
   "execution_count": 20,
   "metadata": {},
   "outputs": [
    {
     "data": {
      "text/plain": [
       "\n",
       "Call:\n",
       "arima(x = data.growth, order = c(4, 0, 2))\n",
       "\n",
       "Coefficients:\n",
       "          ar1      ar2     ar3     ar4     ma1     ma2  intercept\n",
       "      -1.2937  -0.8501  0.1048  0.1193  1.3206  0.9363     0.0057\n",
       "s.e.   0.0652   0.1153  0.0848  0.0568  0.0430  0.0840     0.0036\n",
       "\n",
       "sigma^2 estimated as 0.004049:  log likelihood = 509.9,  aic = -1005.8"
      ]
     },
     "metadata": {},
     "output_type": "display_data"
    }
   ],
   "source": [
    "mod.arima=arima(data.growth ,order=c(4,0,2))\n",
    "mod.arima"
   ]
  },
  {
   "cell_type": "code",
   "execution_count": 21,
   "metadata": {},
   "outputs": [],
   "source": [
    "resid.ar=residuals(mod.arima)"
   ]
  },
  {
   "cell_type": "code",
   "execution_count": 22,
   "metadata": {},
   "outputs": [
    {
     "data": {
      "image/png": "[encoded data removed]",
      "text/plain": [
       "Plot with title \"Series resid.ar^2\""
      ]
     },
     "metadata": {},
     "output_type": "display_data"
    }
   ],
   "source": [
    "par(mfrow=c(2,2))\n",
    "acf(resid.ar)\n",
    "acf(resid.ar^2)"
   ]
  },
  {
   "cell_type": "code",
   "execution_count": 23,
   "metadata": {},
   "outputs": [
    {
     "data": {
      "text/plain": [
       "\n",
       "\tBox-Ljung test\n",
       "\n",
       "data:  resid.ar\n",
       "X-squared = 0.89344, df = 1, p-value = 0.3445\n"
      ]
     },
     "metadata": {},
     "output_type": "display_data"
    },
    {
     "data": {
      "text/plain": [
       "\n",
       "\tBox-Ljung test\n",
       "\n",
       "data:  (resid.ar)^2\n",
       "X-squared = 6.9288, df = 1, p-value = 0.008482\n"
      ]
     },
     "metadata": {},
     "output_type": "display_data"
    }
   ],
   "source": [
    "#test for serial correlation\n",
    "Box.test(resid.ar,lag=7,type='Ljung',fitdf=6)\n",
    "#test for arch effect\n",
    "Box.test((resid.ar)^2,lag=7,type='Ljung',fitdf=6)"
   ]
  },
  {
   "cell_type": "code",
   "execution_count": 25,
   "metadata": {},
   "outputs": [
    {
     "name": "stdout",
     "output_type": "stream",
     "text": [
      "[1] \"0 0 -2.56390336439894\"\n",
      "[1] \"0 1 -2.54827545768711\"\n",
      "[1] \"0 2 -2.5264022896131\"\n",
      "[1] \"0 3 -2.5228105283645\"\n",
      "[1] \"0 4 -2.50158025194299\"\n",
      "[1] \"0 5 -2.48600992412097\"\n",
      "[1] \"1 0 -2.5561398224055\"\n",
      "[1] \"1 1 -2.5494677753056\"\n",
      "[1] \"1 2 -2.58578001743585\"\n",
      "[1] \"1 3 -2.59058774556592\"\n",
      "[1] \"1 4 -2.57612530359049\"\n",
      "[1] \"1 5 -2.5570345134598\"\n",
      "[1] \"2 0 -2.51837530822622\"\n",
      "[1] \"2 1 -2.53390384618129\"\n",
      "[1] \"2 2 -2.51887509772773\"\n",
      "[1] \"2 3 -2.5708877717429\"\n",
      "[1] \"2 4 -2.5525036830206\"\n",
      "[1] \"2 5 -2.53454252594754\"\n",
      "[1] \"3 0 -2.48055787113387\"\n",
      "[1] \"3 1 -2.57823919375464\"\n",
      "[1] \"3 2 -2.55774714378671\"\n",
      "[1] \"3 3 -2.56315054039874\"\n",
      "[1] \"3 4 -2.55008936501963\"\n",
      "[1] \"3 5 -2.52069746837176\"\n",
      "[1] \"4 0 -2.49095476469696\"\n",
      "[1] \"4 1 -2.56696331334057\"\n",
      "[1] \"4 2 -2.55240668811245\"\n",
      "[1] \"4 3 -2.54470070724568\"\n",
      "[1] \"4 4 -2.52777611062242\"\n",
      "[1] \"4 5 -2.51537009695737\"\n",
      "[1] \"5 0 -2.41174905573023\"\n",
      "[1] \"5 1 -2.55278459302489\"\n",
      "[1] \"5 2 -2.53947124858028\"\n",
      "[1] \"5 3 -2.52425012612809\"\n",
      "[1] \"5 4 -2.50813253119682\"\n",
      "[1] \"5 5 -2.50257697838879\"\n"
     ]
    },
    {
     "data": {
      "text/html": [
       "<table>\n",
       "<caption>A data.frame: 6 × 3</caption>\n",
       "<thead>\n",
       "\t<tr><th></th><th scope=col>m</th><th scope=col>n</th><th scope=col>BIC</th></tr>\n",
       "\t<tr><th></th><th scope=col>&lt;dbl&gt;</th><th scope=col>&lt;dbl&gt;</th><th scope=col>&lt;dbl&gt;</th></tr>\n",
       "</thead>\n",
       "<tbody>\n",
       "\t<tr><th scope=row>27</th><td>4</td><td>1</td><td>-2.566963</td></tr>\n",
       "\t<tr><th scope=row>17</th><td>2</td><td>3</td><td>-2.570888</td></tr>\n",
       "\t<tr><th scope=row>12</th><td>1</td><td>4</td><td>-2.576125</td></tr>\n",
       "\t<tr><th scope=row>21</th><td>3</td><td>1</td><td>-2.578239</td></tr>\n",
       "\t<tr><th scope=row>10</th><td>1</td><td>2</td><td>-2.585780</td></tr>\n",
       "\t<tr><th scope=row>11</th><td>1</td><td>3</td><td>-2.590588</td></tr>\n",
       "</tbody>\n",
       "</table>\n"
      ],
      "text/latex": [
       "A data.frame: 6 × 3\n",
       "\\begin{tabular}{r|lll}\n",
       "  & m & n & BIC\\\\\n",
       "  & <dbl> & <dbl> & <dbl>\\\\\n",
       "\\hline\n",
       "\t27 & 4 & 1 & -2.566963\\\\\n",
       "\t17 & 2 & 3 & -2.570888\\\\\n",
       "\t12 & 1 & 4 & -2.576125\\\\\n",
       "\t21 & 3 & 1 & -2.578239\\\\\n",
       "\t10 & 1 & 2 & -2.585780\\\\\n",
       "\t11 & 1 & 3 & -2.590588\\\\\n",
       "\\end{tabular}\n"
      ],
      "text/markdown": [
       "\n",
       "A data.frame: 6 × 3\n",
       "\n",
       "| <!--/--> | m &lt;dbl&gt; | n &lt;dbl&gt; | BIC &lt;dbl&gt; |\n",
       "|---|---|---|---|\n",
       "| 27 | 4 | 1 | -2.566963 |\n",
       "| 17 | 2 | 3 | -2.570888 |\n",
       "| 12 | 1 | 4 | -2.576125 |\n",
       "| 21 | 3 | 1 | -2.578239 |\n",
       "| 10 | 1 | 2 | -2.585780 |\n",
       "| 11 | 1 | 3 | -2.590588 |\n",
       "\n"
      ],
      "text/plain": [
       "   m n BIC      \n",
       "27 4 1 -2.566963\n",
       "17 2 3 -2.570888\n",
       "12 1 4 -2.576125\n",
       "21 3 1 -2.578239\n",
       "10 1 2 -2.585780\n",
       "11 1 3 -2.590588"
      ]
     },
     "metadata": {},
     "output_type": "display_data"
    }
   ],
   "source": [
    "#Initial GARCH Order\n",
    "#ARIMA-GARCH GARCH order\n",
    "test_modelAGG <- function(m,n){\n",
    "  spec = ugarchspec(variance.model=list(garchOrder=c(m,n)),\n",
    "                    mean.model=list(armaOrder=c(4,2), \n",
    "                                    include.mean=T), distribution.model=\"std\")    \n",
    "  fit = ugarchfit(spec, data.growth, solver = 'hybrid')\n",
    "  current.bic = infocriteria(fit)[2]\n",
    "  df = data.frame(m,n,current.bic)\n",
    "  names(df) <- c(\"m\",\"n\",\"BIC\")\n",
    "  print(paste(m,n,current.bic,sep=\" \"))\n",
    "  return(df)\n",
    "}\n",
    "\n",
    "orders = data.frame(Inf,Inf,Inf)\n",
    "names(orders) <- c(\"m\",\"n\",\"BIC\")\n",
    "\n",
    "\n",
    "for (m in 0:5){\n",
    "  for (n in 0:5){\n",
    "    possibleError <- tryCatch(\n",
    "      orders<-rbind(orders,test_modelAGG(m,n)),\n",
    "      error=function(e) e\n",
    "    )\n",
    "    if(inherits(possibleError, \"error\")) next\n",
    "  }\n",
    "}\n",
    "orders <- orders[order(-orders$BIC),]\n",
    "tail(orders)\n",
    "\n"
   ]
  },
  {
   "cell_type": "code",
   "execution_count": 26,
   "metadata": {},
   "outputs": [
    {
     "name": "stdout",
     "output_type": "stream",
     "text": [
      "[1] \"0 0 -2.58397060144452\"\n",
      "[1] \"0 1 -2.56909703095898\"\n",
      "[1] \"0 2 -2.55453618379975\"\n",
      "[1] \"0 3 -2.53914769765186\"\n",
      "[1] \"0 4 -2.53058023111973\"\n",
      "[1] \"0 5 -2.52444289516905\"\n",
      "[1] \"1 0 -2.56915173349668\"\n",
      "[1] \"1 1 -2.55726242939555\"\n",
      "[1] \"1 2 -2.54198813259193\"\n",
      "[1] \"1 3 -2.52689759765734\"\n",
      "[1] \"1 4 -2.52426342690877\"\n",
      "[1] \"1 5 -2.51174374558501\"\n",
      "[1] \"2 0 -2.55410280979333\"\n",
      "[1] \"2 1 -2.53887935635328\"\n",
      "[1] \"2 2 -2.54925085531323\"\n",
      "[1] \"2 3 -2.57327740169067\"\n",
      "[1] \"2 4 -2.51839919015408\"\n",
      "[1] \"2 5 -2.50629375155924\"\n",
      "[1] \"3 0 -2.53975699283718\"\n",
      "[1] \"3 1 -2.52534822314837\"\n",
      "[1] \"3 2 -2.51161270989103\"\n",
      "[1] \"3 3 -2.50947148176195\"\n",
      "[1] \"3 4 -2.50398310931263\"\n",
      "[1] \"3 5 -2.48741146470322\"\n",
      "[1] \"4 0 -2.53118923207362\"\n",
      "[1] \"4 1 -2.52039448095585\"\n",
      "[1] \"4 2 -2.58946016466767\"\n",
      "[1] \"4 3 -2.57697112999446\"\n",
      "[1] \"4 4 -2.56298627385458\"\n",
      "[1] \"4 5 -2.48093167177124\"\n",
      "[1] \"5 0 -2.52187358144667\"\n",
      "[1] \"5 1 -2.5063474943116\"\n",
      "[1] \"5 2 -2.50705529583632\"\n",
      "[1] \"5 3 -2.52628293442688\"\n",
      "[1] \"5 4 -2.53396802711226\"\n"
     ]
    },
    {
     "name": "stderr",
     "output_type": "stream",
     "text": [
      "Warning message in arima(data, order = c(modelinc[2], 0, modelinc[3]), include.mean = modelinc[1], :\n",
      "\"possible convergence problem: optim gave code = 1\""
     ]
    },
    {
     "name": "stdout",
     "output_type": "stream",
     "text": [
      "[1] \"5 5 -2.51806870892996\"\n"
     ]
    },
    {
     "data": {
      "text/html": [
       "<table>\n",
       "<caption>A data.frame: 6 × 3</caption>\n",
       "<thead>\n",
       "\t<tr><th></th><th scope=col>p</th><th scope=col>q</th><th scope=col>BIC</th></tr>\n",
       "\t<tr><th></th><th scope=col>&lt;dbl&gt;</th><th scope=col>&lt;dbl&gt;</th><th scope=col>&lt;dbl&gt;</th></tr>\n",
       "</thead>\n",
       "<tbody>\n",
       "\t<tr><th scope=row>3</th><td>0</td><td>1</td><td>-2.569097</td></tr>\n",
       "\t<tr><th scope=row>8</th><td>1</td><td>0</td><td>-2.569152</td></tr>\n",
       "\t<tr><th scope=row>17</th><td>2</td><td>3</td><td>-2.573277</td></tr>\n",
       "\t<tr><th scope=row>29</th><td>4</td><td>3</td><td>-2.576971</td></tr>\n",
       "\t<tr><th scope=row>2</th><td>0</td><td>0</td><td>-2.583971</td></tr>\n",
       "\t<tr><th scope=row>28</th><td>4</td><td>2</td><td>-2.589460</td></tr>\n",
       "</tbody>\n",
       "</table>\n"
      ],
      "text/latex": [
       "A data.frame: 6 × 3\n",
       "\\begin{tabular}{r|lll}\n",
       "  & p & q & BIC\\\\\n",
       "  & <dbl> & <dbl> & <dbl>\\\\\n",
       "\\hline\n",
       "\t3 & 0 & 1 & -2.569097\\\\\n",
       "\t8 & 1 & 0 & -2.569152\\\\\n",
       "\t17 & 2 & 3 & -2.573277\\\\\n",
       "\t29 & 4 & 3 & -2.576971\\\\\n",
       "\t2 & 0 & 0 & -2.583971\\\\\n",
       "\t28 & 4 & 2 & -2.589460\\\\\n",
       "\\end{tabular}\n"
      ],
      "text/markdown": [
       "\n",
       "A data.frame: 6 × 3\n",
       "\n",
       "| <!--/--> | p &lt;dbl&gt; | q &lt;dbl&gt; | BIC &lt;dbl&gt; |\n",
       "|---|---|---|---|\n",
       "| 3 | 0 | 1 | -2.569097 |\n",
       "| 8 | 1 | 0 | -2.569152 |\n",
       "| 17 | 2 | 3 | -2.573277 |\n",
       "| 29 | 4 | 3 | -2.576971 |\n",
       "| 2 | 0 | 0 | -2.583971 |\n",
       "| 28 | 4 | 2 | -2.589460 |\n",
       "\n"
      ],
      "text/plain": [
       "   p q BIC      \n",
       "3  0 1 -2.569097\n",
       "8  1 0 -2.569152\n",
       "17 2 3 -2.573277\n",
       "29 4 3 -2.576971\n",
       "2  0 0 -2.583971\n",
       "28 4 2 -2.589460"
      ]
     },
     "metadata": {},
     "output_type": "display_data"
    }
   ],
   "source": [
    "#ARMA update\n",
    "#ARIMA-GARCH ARIMA order\n",
    "test_modelAGA <- function(p,q){\n",
    "  spec = ugarchspec(variance.model=list(garchOrder=c(1,3)),\n",
    "                    mean.model=list(armaOrder=c(p,q), \n",
    "                                    include.mean=T), distribution.model=\"std\")    \n",
    "  fit = ugarchfit(spec, data.growth, solver = 'hybrid')\n",
    "  current.bic = infocriteria(fit)[2]\n",
    "  df = data.frame(p,q,current.bic)\n",
    "  names(df) <- c(\"p\",\"q\",\"BIC\")\n",
    "  print(paste(p,q,current.bic,sep=\" \"))\n",
    "  return(df)\n",
    "}\n",
    "\n",
    "orders = data.frame(Inf,Inf,Inf)\n",
    "names(orders) <- c(\"p\",\"q\",\"BIC\")\n",
    "\n",
    "\n",
    "for (p in 0:5){\n",
    "  for (q in 0:5){\n",
    "    possibleError <- tryCatch(\n",
    "      orders<-rbind(orders,test_modelAGA(p,q)),\n",
    "      error=function(e) e\n",
    "    )\n",
    "    if(inherits(possibleError, \"error\")) next\n",
    "  }\n",
    "}\n",
    "orders <- orders[order(-orders$BIC),]\n",
    "tail(orders)\n",
    "\n"
   ]
  },
  {
   "cell_type": "code",
   "execution_count": 27,
   "metadata": {},
   "outputs": [
    {
     "name": "stdout",
     "output_type": "stream",
     "text": [
      "[1] \"0 0 -2.56390336439881\"\n",
      "[1] \"0 1 -2.54827402519134\"\n",
      "[1] \"0 2 -2.52640464143172\"\n",
      "[1] \"0 3 -2.52544675975462\"\n",
      "[1] \"0 4 -2.50158026423188\"\n",
      "[1] \"0 5 -2.48600991599284\"\n",
      "[1] \"1 0 -2.57150657799192\"\n",
      "[1] \"1 1 -2.54946776131211\"\n",
      "[1] \"1 2 -2.59408682446926\"\n",
      "[1] \"1 3 -2.58991217440224\"\n",
      "[1] \"1 4 -2.57448748975942\"\n",
      "[1] \"1 5 -2.56697992970445\"\n",
      "[1] \"2 0 -2.54080307924431\"\n",
      "[1] \"2 1 -2.53390384702422\"\n",
      "[1] \"2 2 -2.51887509536238\"\n",
      "[1] \"2 3 -2.57257124562824\"\n",
      "[1] \"2 4 -2.55910414800626\"\n",
      "[1] \"2 5 -2.53045113010173\"\n",
      "[1] \"3 0 -2.51373336474912\"\n",
      "[1] \"3 1 -2.57615396165413\"\n",
      "[1] \"3 2 -2.56153487812618\"\n",
      "[1] \"3 3 -2.5600680074328\"\n",
      "[1] \"3 4 -2.54392450655106\"\n",
      "[1] \"3 5 -2.52348773619365\"\n",
      "[1] \"4 0 -2.57977240061031\"\n",
      "[1] \"4 1 -2.56016498710522\"\n",
      "[1] \"4 2 -2.55382946296559\"\n",
      "[1] \"4 3 -2.53641721564414\"\n",
      "[1] \"4 4 -2.524141671058\"\n",
      "[1] \"4 5 -2.51988211513406\"\n",
      "[1] \"5 0 -2.48906745264047\"\n",
      "[1] \"5 1 -2.5466897746458\"\n",
      "[1] \"5 2 -2.54069369381193\"\n",
      "[1] \"5 3 -2.52717149802608\"\n",
      "[1] \"5 4 -2.50689748433149\"\n",
      "[1] \"5 5 -2.49210085888671\"\n"
     ]
    },
    {
     "data": {
      "text/html": [
       "<table>\n",
       "<caption>A data.frame: 6 × 3</caption>\n",
       "<thead>\n",
       "\t<tr><th></th><th scope=col>m</th><th scope=col>n</th><th scope=col>BIC</th></tr>\n",
       "\t<tr><th></th><th scope=col>&lt;dbl&gt;</th><th scope=col>&lt;dbl&gt;</th><th scope=col>&lt;dbl&gt;</th></tr>\n",
       "</thead>\n",
       "<tbody>\n",
       "\t<tr><th scope=row>17</th><td>2</td><td>3</td><td>-2.572571</td></tr>\n",
       "\t<tr><th scope=row>12</th><td>1</td><td>4</td><td>-2.574487</td></tr>\n",
       "\t<tr><th scope=row>21</th><td>3</td><td>1</td><td>-2.576154</td></tr>\n",
       "\t<tr><th scope=row>26</th><td>4</td><td>0</td><td>-2.579772</td></tr>\n",
       "\t<tr><th scope=row>11</th><td>1</td><td>3</td><td>-2.589912</td></tr>\n",
       "\t<tr><th scope=row>10</th><td>1</td><td>2</td><td>-2.594087</td></tr>\n",
       "</tbody>\n",
       "</table>\n"
      ],
      "text/latex": [
       "A data.frame: 6 × 3\n",
       "\\begin{tabular}{r|lll}\n",
       "  & m & n & BIC\\\\\n",
       "  & <dbl> & <dbl> & <dbl>\\\\\n",
       "\\hline\n",
       "\t17 & 2 & 3 & -2.572571\\\\\n",
       "\t12 & 1 & 4 & -2.574487\\\\\n",
       "\t21 & 3 & 1 & -2.576154\\\\\n",
       "\t26 & 4 & 0 & -2.579772\\\\\n",
       "\t11 & 1 & 3 & -2.589912\\\\\n",
       "\t10 & 1 & 2 & -2.594087\\\\\n",
       "\\end{tabular}\n"
      ],
      "text/markdown": [
       "\n",
       "A data.frame: 6 × 3\n",
       "\n",
       "| <!--/--> | m &lt;dbl&gt; | n &lt;dbl&gt; | BIC &lt;dbl&gt; |\n",
       "|---|---|---|---|\n",
       "| 17 | 2 | 3 | -2.572571 |\n",
       "| 12 | 1 | 4 | -2.574487 |\n",
       "| 21 | 3 | 1 | -2.576154 |\n",
       "| 26 | 4 | 0 | -2.579772 |\n",
       "| 11 | 1 | 3 | -2.589912 |\n",
       "| 10 | 1 | 2 | -2.594087 |\n",
       "\n"
      ],
      "text/plain": [
       "   m n BIC      \n",
       "17 2 3 -2.572571\n",
       "12 1 4 -2.574487\n",
       "21 3 1 -2.576154\n",
       "26 4 0 -2.579772\n",
       "11 1 3 -2.589912\n",
       "10 1 2 -2.594087"
      ]
     },
     "metadata": {},
     "output_type": "display_data"
    }
   ],
   "source": [
    "#GARCH update\n",
    "test_modelAGG <- function(m,n){\n",
    "  spec = ugarchspec(variance.model=list(garchOrder=c(m,n)),\n",
    "                    mean.model=list(armaOrder=c(4,2), \n",
    "                                    include.mean=T), distribution.model=\"std\")    \n",
    "  fit = ugarchfit(spec, data.growth, solver = 'hybrid')\n",
    "  current.bic = infocriteria(fit)[2]\n",
    "  df = data.frame(m,n,current.bic)\n",
    "  names(df) <- c(\"m\",\"n\",\"BIC\")\n",
    "  print(paste(m,n,current.bic,sep=\" \"))\n",
    "  return(df)\n",
    "}\n",
    "\n",
    "orders = data.frame(Inf,Inf,Inf)\n",
    "names(orders) <- c(\"m\",\"n\",\"BIC\")\n",
    "\n",
    "\n",
    "for (m in 0:5){\n",
    "  for (n in 0:5){\n",
    "    possibleError <- tryCatch(\n",
    "      orders<-rbind(orders,test_modelAGG(m,n)),\n",
    "      error=function(e) e\n",
    "    )\n",
    "    if(inherits(possibleError, \"error\")) next\n",
    "  }\n",
    "}\n",
    "orders <- orders[order(-orders$BIC),]\n",
    "tail(orders)"
   ]
  },
  {
   "cell_type": "code",
   "execution_count": 29,
   "metadata": {},
   "outputs": [],
   "source": [
    "spec.1 = ugarchspec(variance.model=list(garchOrder=c(1,1)),\n",
    "mean.model=list(armaOrder=c(4,4), \n",
    "include.mean=T), distribution.model=\"std\")    \n",
    "final.model.1 = ugarchfit(spec.1, data.growth, solver = 'hybrid')"
   ]
  },
  {
   "cell_type": "code",
   "execution_count": 30,
   "metadata": {
    "scrolled": false
   },
   "outputs": [
    {
     "data": {
      "text/plain": [
       "\n",
       "*---------------------------------*\n",
       "*          GARCH Model Fit        *\n",
       "*---------------------------------*\n",
       "\n",
       "Conditional Variance Dynamics \t\n",
       "-----------------------------------\n",
       "GARCH Model\t: sGARCH(1,1)\n",
       "Mean Model\t: ARFIMA(4,0,4)\n",
       "Distribution\t: std \n",
       "\n",
       "Optimal Parameters\n",
       "------------------------------------\n",
       "        Estimate  Std. Error     t value Pr(>|t|)\n",
       "mu      0.003551    0.000058    61.34056 0.000000\n",
       "ar1    -1.585297    0.000241 -6573.51249 0.000000\n",
       "ar2    -1.586401    0.000239 -6645.32971 0.000000\n",
       "ar3    -1.588512    0.000239 -6650.95802 0.000000\n",
       "ar4    -0.969576    0.000181 -5370.55326 0.000000\n",
       "ma1     1.583492    0.000261  6065.24400 0.000000\n",
       "ma2     1.552914    0.000350  4437.69680 0.000000\n",
       "ma3     1.613671    0.000404  3992.26800 0.000000\n",
       "ma4     1.070532    0.000057 18677.91436 0.000000\n",
       "omega   0.000319    0.000068     4.66770 0.000003\n",
       "alpha1  0.055050    0.058346     0.94351 0.345421\n",
       "beta1   0.850885    0.094457     9.00815 0.000000\n",
       "shape   9.671346    3.625026     2.66794 0.007632\n",
       "\n",
       "Robust Standard Errors:\n",
       "        Estimate  Std. Error     t value Pr(>|t|)\n",
       "mu      0.003551    0.000546    6.499465  0.00000\n",
       "ar1    -1.585297    0.007519 -210.828883  0.00000\n",
       "ar2    -1.586401    0.011522 -137.681369  0.00000\n",
       "ar3    -1.588512    0.009138 -173.833373  0.00000\n",
       "ar4    -0.969576    0.004346 -223.077194  0.00000\n",
       "ma1     1.583492    0.015662  101.103392  0.00000\n",
       "ma2     1.552914    0.004481  346.580210  0.00000\n",
       "ma3     1.613671    0.014109  114.371553  0.00000\n",
       "ma4     1.070532    0.001723  621.299320  0.00000\n",
       "omega   0.000319    0.005802    0.054951  0.95618\n",
       "alpha1  0.055050    1.881832    0.029253  0.97666\n",
       "beta1   0.850885    3.410428    0.249495  0.80298\n",
       "shape   9.671346   21.048786    0.459473  0.64589\n",
       "\n",
       "LogLikelihood : 542.7966 \n",
       "\n",
       "Information Criteria\n",
       "------------------------------------\n",
       "                    \n",
       "Akaike       -2.7738\n",
       "Bayes        -2.6395\n",
       "Shibata      -2.7760\n",
       "Hannan-Quinn -2.7205\n",
       "\n",
       "Weighted Ljung-Box Test on Standardized Residuals\n",
       "------------------------------------\n",
       "                         statistic p-value\n",
       "Lag[1]                       2.238  0.1346\n",
       "Lag[2*(p+q)+(p+q)-1][23]    10.056  0.9997\n",
       "Lag[4*(p+q)+(p+q)-1][39]    15.980  0.8939\n",
       "d.o.f=8\n",
       "H0 : No serial correlation\n",
       "\n",
       "Weighted Ljung-Box Test on Standardized Squared Residuals\n",
       "------------------------------------\n",
       "                        statistic p-value\n",
       "Lag[1]                     0.7287  0.3933\n",
       "Lag[2*(p+q)+(p+q)-1][5]    1.1160  0.8329\n",
       "Lag[4*(p+q)+(p+q)-1][9]    1.3401  0.9676\n",
       "d.o.f=2\n",
       "\n",
       "Weighted ARCH LM Tests\n",
       "------------------------------------\n",
       "            Statistic Shape Scale P-Value\n",
       "ARCH Lag[3]    0.2037 0.500 2.000  0.6518\n",
       "ARCH Lag[5]    0.3606 1.440 1.667  0.9238\n",
       "ARCH Lag[7]    0.4086 2.315 1.543  0.9859\n",
       "\n",
       "Nyblom stability test\n",
       "------------------------------------\n",
       "Joint Statistic:  2.4543\n",
       "Individual Statistics:              \n",
       "mu     0.07290\n",
       "ar1    0.02668\n",
       "ar2    0.06141\n",
       "ar3    0.06769\n",
       "ar4    0.06433\n",
       "ma1    0.04360\n",
       "ma2    0.04317\n",
       "ma3    0.03345\n",
       "ma4    0.03971\n",
       "omega  0.06316\n",
       "alpha1 0.04325\n",
       "beta1  0.05408\n",
       "shape  0.11802\n",
       "\n",
       "Asymptotic Critical Values (10% 5% 1%)\n",
       "Joint Statistic:     \t 2.89 3.15 3.69\n",
       "Individual Statistic:\t 0.35 0.47 0.75\n",
       "\n",
       "Sign Bias Test\n",
       "------------------------------------\n",
       "                   t-value   prob sig\n",
       "Sign Bias           0.5476 0.5843    \n",
       "Negative Sign Bias  0.5768 0.5644    \n",
       "Positive Sign Bias  0.3857 0.6999    \n",
       "Joint Effect        0.8730 0.8319    \n",
       "\n",
       "\n",
       "Adjusted Pearson Goodness-of-Fit Test:\n",
       "------------------------------------\n",
       "  group statistic p-value(g-1)\n",
       "1    20     15.49       0.6912\n",
       "2    30     24.18       0.7201\n",
       "3    40     30.36       0.8377\n",
       "4    50     39.20       0.8403\n",
       "\n",
       "\n",
       "Elapsed time : 1.017737 \n"
      ]
     },
     "metadata": {},
     "output_type": "display_data"
    }
   ],
   "source": [
    "final.model.1"
   ]
  },
  {
   "cell_type": "code",
   "execution_count": 36,
   "metadata": {},
   "outputs": [
    {
     "data": {
      "text/html": [
       "342"
      ],
      "text/latex": [
       "342"
      ],
      "text/markdown": [
       "342"
      ],
      "text/plain": [
       "[1] 342"
      ]
     },
     "metadata": {},
     "output_type": "display_data"
    },
    {
     "data": {
      "text/html": [
       "343"
      ],
      "text/latex": [
       "343"
      ],
      "text/markdown": [
       "343"
      ],
      "text/plain": [
       "[1] 343"
      ]
     },
     "metadata": {},
     "output_type": "display_data"
    }
   ],
   "source": [
    "length(data.growth)-40\n",
    "length(data.growth)-39"
   ]
  },
  {
   "cell_type": "code",
   "execution_count": 32,
   "metadata": {},
   "outputs": [],
   "source": [
    "data.train=data.growth[1:(length(data.growth)-40)]\n",
    "data.test=data.growth[(length(data.growth)-39):length(data.growth)]"
   ]
  },
  {
   "cell_type": "code",
   "execution_count": 33,
   "metadata": {},
   "outputs": [],
   "source": [
    "#Prediction of the return time series and the volatility sigma\n",
    "nfore = length(data.test)\n",
    "fore.series.1 = NULL\n",
    "fore.sigma.1 = NULL\n",
    "\n",
    "for(f in 1: nfore)\n",
    "{\n",
    "#Fit models\n",
    "data = data.train\n",
    "if(f>2)\n",
    "data = c(data.train,data.test[1:(f-1)])  \n",
    "final.model.1 = ugarchfit(spec.1, data, solver = 'hybrid')    \n",
    "\n",
    "#Forecast\n",
    "fore = ugarchforecast(final.model.1, n.ahead=1)\n",
    "fore.series.1 = c(fore.series.1, fore@forecast$seriesFor)\n",
    "fore.sigma.1 = c(fore.sigma.1, fore@forecast$sigmaFor)\n",
    "\n",
    "}\n",
    "fore.series.1[is.nan(fore.series.1)]=0"
   ]
  },
  {
   "cell_type": "code",
   "execution_count": 42,
   "metadata": {},
   "outputs": [
    {
     "data": {
      "image/png": "[encoded data removed]",
      "text/plain": [
       "Plot with title \"\""
      ]
     },
     "metadata": {},
     "output_type": "display_data"
    }
   ],
   "source": [
    "#Mean Prediction Comparison Plot\n",
    "n=length(data)\n",
    "ymin = min(c(as.vector(data.test),fore.series.1))\n",
    "ymax = max(c(as.vector(data.test),fore.series.1))\n",
    "\n",
    "plot(data.test,type=\"l\", ylim=c(ymin,ymax), xlab=\" \", \n",
    "ylab=\"Growth\",main=\"\")\n",
    "\n",
    "\n",
    "lines(fore.series.1,lwd= 2, col=\"blue\")\n",
    "\n",
    "\n"
   ]
  },
  {
   "cell_type": "code",
   "execution_count": 43,
   "metadata": {},
   "outputs": [
    {
     "data": {
      "text/html": [
       "300.536997866993"
      ],
      "text/latex": [
       "300.536997866993"
      ],
      "text/markdown": [
       "300.536997866993"
      ],
      "text/plain": [
       "[1] 300.537"
      ]
     },
     "metadata": {},
     "output_type": "display_data"
    },
    {
     "data": {
      "text/html": [
       "1.06799645489343"
      ],
      "text/latex": [
       "1.06799645489343"
      ],
      "text/markdown": [
       "1.06799645489343"
      ],
      "text/plain": [
       "[1] 1.067996"
      ]
     },
     "metadata": {},
     "output_type": "display_data"
    }
   ],
   "source": [
    "#Accuracy Measures\n",
    "preds = as.vector(fore.series.1)\n",
    "obs = as.vector(data.test)\n",
    "\n",
    "\n",
    "#Mean Absolute Percentage Measure (MAPE)\n",
    "100*mean(abs(preds-obs)/abs(obs))\n",
    "#311.66\n",
    "\n",
    "#Precision\n",
    "sum((preds-obs)^2)/sum((obs-mean(obs))^2)\n",
    "#1.14"
   ]
  }
 ],
 "metadata": {
  "kernelspec": {
   "display_name": "R",
   "language": "R",
   "name": "ir"
  },
  "language_info": {
   "codemirror_mode": "r",
   "file_extension": ".r",
   "mimetype": "text/x-r-source",
   "name": "R",
   "pygments_lexer": "r",
   "version": "3.6.1"
  }
 },
 "nbformat": 4,
 "nbformat_minor": 2
}
