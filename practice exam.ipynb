{
 "cells": [
  {
   "cell_type": "code",
   "execution_count": 17,
   "metadata": {},
   "outputs": [],
   "source": [
    "library(TSA)\n",
    "library(mgcv)"
   ]
  },
  {
   "cell_type": "code",
   "execution_count": 18,
   "metadata": {},
   "outputs": [
    {
     "data": {
      "text/html": [
       "<table>\n",
       "<thead><tr><th scope=col>Sno</th><th scope=col>Timeline</th><th scope=col>Houses_for_Sale</th><th scope=col>Employment_Ratio</th><th scope=col>GDP_Growth</th><th scope=col>Bank_Prime_Rate</th><th scope=col>SP500</th></tr></thead>\n",
       "<tbody>\n",
       "\t<tr><td> 1    </td><td>Mar-76</td><td>314   </td><td>56.7  </td><td> 3.1  </td><td>6.75  </td><td>102.77</td></tr>\n",
       "\t<tr><td> 2    </td><td>Jun-76</td><td>336   </td><td>56.8  </td><td> 2.1  </td><td>7.20  </td><td>104.28</td></tr>\n",
       "\t<tr><td> 3    </td><td>Sep-76</td><td>341   </td><td>56.9  </td><td> 3.0  </td><td>7.00  </td><td>105.24</td></tr>\n",
       "\t<tr><td> 4    </td><td>Dec-76</td><td>358   </td><td>57.0  </td><td> 4.7  </td><td>6.35  </td><td>107.46</td></tr>\n",
       "\t<tr><td> 5    </td><td>Mar-77</td><td>353   </td><td>57.4  </td><td> 8.1  </td><td>6.25  </td><td> 98.42</td></tr>\n",
       "\t<tr><td> 6    </td><td>Jun-77</td><td>369   </td><td>57.9  </td><td> 7.3  </td><td>6.75  </td><td>100.48</td></tr>\n",
       "\t<tr><td> 7    </td><td>Sep-77</td><td>392   </td><td>58.1  </td><td> 0.0  </td><td>7.13  </td><td> 96.53</td></tr>\n",
       "\t<tr><td> 8    </td><td>Dec-77</td><td>408   </td><td>58.7  </td><td> 1.4  </td><td>7.75  </td><td> 95.10</td></tr>\n",
       "\t<tr><td> 9    </td><td>Mar-78</td><td>398   </td><td>58.8  </td><td>16.5  </td><td>8.00  </td><td> 89.21</td></tr>\n",
       "\t<tr><td>10    </td><td>Jun-78</td><td>422   </td><td>59.5  </td><td> 4.0  </td><td>8.63  </td><td> 95.53</td></tr>\n",
       "</tbody>\n",
       "</table>\n"
      ],
      "text/latex": [
       "\\begin{tabular}{r|lllllll}\n",
       " Sno & Timeline & Houses\\_for\\_Sale & Employment\\_Ratio & GDP\\_Growth & Bank\\_Prime\\_Rate & SP500\\\\\n",
       "\\hline\n",
       "\t  1     & Mar-76 & 314    & 56.7   &  3.1   & 6.75   & 102.77\\\\\n",
       "\t  2     & Jun-76 & 336    & 56.8   &  2.1   & 7.20   & 104.28\\\\\n",
       "\t  3     & Sep-76 & 341    & 56.9   &  3.0   & 7.00   & 105.24\\\\\n",
       "\t  4     & Dec-76 & 358    & 57.0   &  4.7   & 6.35   & 107.46\\\\\n",
       "\t  5     & Mar-77 & 353    & 57.4   &  8.1   & 6.25   &  98.42\\\\\n",
       "\t  6     & Jun-77 & 369    & 57.9   &  7.3   & 6.75   & 100.48\\\\\n",
       "\t  7     & Sep-77 & 392    & 58.1   &  0.0   & 7.13   &  96.53\\\\\n",
       "\t  8     & Dec-77 & 408    & 58.7   &  1.4   & 7.75   &  95.10\\\\\n",
       "\t  9     & Mar-78 & 398    & 58.8   & 16.5   & 8.00   &  89.21\\\\\n",
       "\t 10     & Jun-78 & 422    & 59.5   &  4.0   & 8.63   &  95.53\\\\\n",
       "\\end{tabular}\n"
      ],
      "text/markdown": [
       "\n",
       "| Sno | Timeline | Houses_for_Sale | Employment_Ratio | GDP_Growth | Bank_Prime_Rate | SP500 |\n",
       "|---|---|---|---|---|---|---|\n",
       "|  1     | Mar-76 | 314    | 56.7   |  3.1   | 6.75   | 102.77 |\n",
       "|  2     | Jun-76 | 336    | 56.8   |  2.1   | 7.20   | 104.28 |\n",
       "|  3     | Sep-76 | 341    | 56.9   |  3.0   | 7.00   | 105.24 |\n",
       "|  4     | Dec-76 | 358    | 57.0   |  4.7   | 6.35   | 107.46 |\n",
       "|  5     | Mar-77 | 353    | 57.4   |  8.1   | 6.25   |  98.42 |\n",
       "|  6     | Jun-77 | 369    | 57.9   |  7.3   | 6.75   | 100.48 |\n",
       "|  7     | Sep-77 | 392    | 58.1   |  0.0   | 7.13   |  96.53 |\n",
       "|  8     | Dec-77 | 408    | 58.7   |  1.4   | 7.75   |  95.10 |\n",
       "|  9     | Mar-78 | 398    | 58.8   | 16.5   | 8.00   |  89.21 |\n",
       "| 10     | Jun-78 | 422    | 59.5   |  4.0   | 8.63   |  95.53 |\n",
       "\n"
      ],
      "text/plain": [
       "   Sno Timeline Houses_for_Sale Employment_Ratio GDP_Growth Bank_Prime_Rate\n",
       "1   1  Mar-76   314             56.7              3.1       6.75           \n",
       "2   2  Jun-76   336             56.8              2.1       7.20           \n",
       "3   3  Sep-76   341             56.9              3.0       7.00           \n",
       "4   4  Dec-76   358             57.0              4.7       6.35           \n",
       "5   5  Mar-77   353             57.4              8.1       6.25           \n",
       "6   6  Jun-77   369             57.9              7.3       6.75           \n",
       "7   7  Sep-77   392             58.1              0.0       7.13           \n",
       "8   8  Dec-77   408             58.7              1.4       7.75           \n",
       "9   9  Mar-78   398             58.8             16.5       8.00           \n",
       "10 10  Jun-78   422             59.5              4.0       8.63           \n",
       "   SP500 \n",
       "1  102.77\n",
       "2  104.28\n",
       "3  105.24\n",
       "4  107.46\n",
       "5   98.42\n",
       "6  100.48\n",
       "7   96.53\n",
       "8   95.10\n",
       "9   89.21\n",
       "10  95.53"
      ]
     },
     "metadata": {},
     "output_type": "display_data"
    }
   ],
   "source": [
    "data=read.csv(\"HouseData.csv\", header=TRUE)\n",
    "head(data, n=10)"
   ]
  },
  {
   "cell_type": "code",
   "execution_count": 19,
   "metadata": {},
   "outputs": [],
   "source": [
    "par(mfrow=c(2,2))\n",
    "house = as.vector((data[,3]))\n",
    "house = ts(house,start=c(1976,3),frequency=4)\n",
    "#ts.plot(house,ylab=\"Raw data\")\n",
    "\n",
    "#acf(house)\n"
   ]
  },
  {
   "cell_type": "code",
   "execution_count": 20,
   "metadata": {},
   "outputs": [],
   "source": [
    "log.house=log(house)\n",
    "growth=diff(log.house)"
   ]
  },
  {
   "cell_type": "code",
   "execution_count": 21,
   "metadata": {},
   "outputs": [],
   "source": [
    "par(mfrow=c(2,2))\n",
    "#plot(growth)\n",
    "#acf(growth)"
   ]
  },
  {
   "cell_type": "code",
   "execution_count": 6,
   "metadata": {},
   "outputs": [],
   "source": [
    "dif.season.growth=diff(growth, lag=4)"
   ]
  },
  {
   "cell_type": "code",
   "execution_count": 22,
   "metadata": {},
   "outputs": [],
   "source": [
    "par(mfrow=c(2,2))\n",
    "#plot(dif.season.growth)\n",
    "#acf(dif.season.growth, lag=4*5)\n"
   ]
  },
  {
   "cell_type": "code",
   "execution_count": 24,
   "metadata": {},
   "outputs": [],
   "source": [
    "## Estimate seasonality using ANOVA approach\n",
    "time.pts = c(1:length(house))\n",
    "time.pts = c(time.pts - min(time.pts))/max(time.pts)\n",
    "\n",
    "model.wo.season=lm(log(house)~time.pts)\n",
    "#summary(model.wo.season)\n",
    "\n",
    "\n",
    "har=harmonic(log(house),1)\n",
    "model.w.season = lm(log(house)~time.pts+har)\n",
    "#summary(model.w.season)\n",
    "\n",
    "#anova(model.wo.season,model.w.season)"
   ]
  },
  {
   "cell_type": "code",
   "execution_count": 25,
   "metadata": {},
   "outputs": [],
   "source": [
    "#Spline\n",
    "gam.fit=gam(log.house~s(time.pts)+har)\n",
    "#summary(gam.fit)\n",
    "\n",
    "par(mfrow=c(2,2))\n",
    "#plot(log.house)\n",
    "#lines(ts(fitted(gam.fit), start=c(1976,3), frequency=4), col=\"red\")\n"
   ]
  },
  {
   "cell_type": "code",
   "execution_count": 26,
   "metadata": {},
   "outputs": [],
   "source": [
    " ##Pre-process data. Split into train and test \n",
    "house.train = house[c(1:160)]\n",
    "house.test = house[-c(1:160)] \n",
    "time.pts = (c(1:length(house)) - min(1:length(house)))/max(1:length(house)) \n",
    "train.time.pts = time.pts[c(1:160)] \n",
    "test.time.pts = time.pts[-c(1:160)]\n",
    "\n",
    "\n",
    "##Fit model library(mgcv) \n",
    "param = lm(house.train~ train.time.pts+train.time.pts^2)\n",
    "loc = loess( house.train ~ train.time.pts, control=loess.control(surface=\"direct\"))\n",
    "splines = gam( house.train ~ s(train.time.pts))\n",
    " \n"
   ]
  },
  {
   "cell_type": "code",
   "execution_count": 27,
   "metadata": {},
   "outputs": [],
   "source": [
    "#Predictions\n",
    "param.pred = predict.lm( param, newdata = data.frame(train.time.pts = test.time.pts)) \n",
    "loess.pred = predict( loc, newdata = data.frame(train.time.pts = test.time.pts))\n",
    "splines.pred = mgcv::predict.gam( splines, newdata = data.frame(train.time.pts = test.time.pts))\n"
   ]
  },
  {
   "cell_type": "code",
   "execution_count": 28,
   "metadata": {},
   "outputs": [],
   "source": [
    "par(mfrow=c(2,1))\n",
    "\n",
    "#plot(house.test, type = 'l', main='Predicted vs Actual', ylim =c(min(c(house, param.pred,loess.pred,splines.pred)),max(c(house, param.pred,loess.pred,splines.pred)))) \n",
    "#lines( param.pred, col='red') \n",
    "#lines(loess.pred, col='green') \n",
    "#lines( splines.pred, col='purple')\n",
    "#legend(x=\"topleft\", legend=c(\"Param\", \"Loess\", \"Splines\"), col=c(\"red\", \"green\", \"purple\"), lty=1:2, cex=0.8)\n",
    " "
   ]
  },
  {
   "cell_type": "code",
   "execution_count": 14,
   "metadata": {},
   "outputs": [
    {
     "name": "stdout",
     "output_type": "stream",
     "text": [
      "[1] \"0 0 0 58.8495983620467\"\n",
      "[1] \"0 0 1 -133.631219559126\"\n",
      "[1] \"0 0 2 -313.41196397034\"\n",
      "[1] \"0 0 3 -386.012118474023\"\n",
      "[1] \"0 1 0 -553.874267663474\"\n",
      "[1] \"0 1 1 -585.143022611934\"\n",
      "[1] \"0 1 2 -606.414318372284\"\n",
      "[1] \"0 1 3 -604.468345968299\"\n",
      "[1] \"1 0 0 -551.767258236421\"\n",
      "[1] \"1 0 1 -584.670676430887\"\n",
      "[1] \"1 0 2 -605.599851404294\"\n",
      "[1] \"1 0 3 -598.9266521364\"\n",
      "[1] \"1 1 0 -611.136337702468\"\n",
      "[1] \"1 1 1 -626.597312931752\"\n",
      "[1] \"1 1 2 -625.108804274741\"\n",
      "[1] \"1 1 3 -624.241649477028\"\n",
      "[1] \"2 0 0 -611.643106360899\"\n",
      "[1] \"2 0 1 -550.03722592429\"\n",
      "[1] \"2 0 2 -611.783159823755\"\n"
     ]
    },
    {
     "name": "stderr",
     "output_type": "stream",
     "text": [
      "Warning message in stats::arima(x = x, order = order, seasonal = seasonal, xreg = xreg, :\n",
      "\"possible convergence problem: optim gave code = 1\""
     ]
    },
    {
     "name": "stdout",
     "output_type": "stream",
     "text": [
      "[1] \"2 0 3 -616.490556536162\"\n",
      "[1] \"2 1 0 -623.344016606811\"\n",
      "[1] \"2 1 1 -633.19045476797\"\n",
      "[1] \"2 1 2 -636.735524623087\"\n",
      "[1] \"2 1 3 -638.738503831295\"\n",
      "[1] \"3 0 0 -627.12026947298\"\n",
      "[1] \"3 0 1 -634.836923475638\"\n",
      "[1] \"3 0 2 -646.497848306649\"\n",
      "[1] \"3 0 3 -598.226257440134\"\n",
      "[1] \"3 1 0 -622.452193119966\"\n",
      "[1] \"3 1 1 -632.514109588648\"\n",
      "[1] \"3 1 2 -636.065783035183\"\n",
      "[1] \"3 1 3 -639.211629417959\"\n"
     ]
    },
    {
     "data": {
      "text/html": [
       "<table>\n",
       "<thead><tr><th></th><th scope=col>p</th><th scope=col>d</th><th scope=col>q</th><th scope=col>AIC</th></tr></thead>\n",
       "<tbody>\n",
       "\t<tr><th scope=row>27</th><td>3        </td><td>0        </td><td>1        </td><td>-634.8369</td></tr>\n",
       "\t<tr><th scope=row>32</th><td>3        </td><td>1        </td><td>2        </td><td>-636.0658</td></tr>\n",
       "\t<tr><th scope=row>24</th><td>2        </td><td>1        </td><td>2        </td><td>-636.7355</td></tr>\n",
       "\t<tr><th scope=row>25</th><td>2        </td><td>1        </td><td>3        </td><td>-638.7385</td></tr>\n",
       "\t<tr><th scope=row>33</th><td>3        </td><td>1        </td><td>3        </td><td>-639.2116</td></tr>\n",
       "\t<tr><th scope=row>28</th><td>3        </td><td>0        </td><td>2        </td><td>-646.4978</td></tr>\n",
       "</tbody>\n",
       "</table>\n"
      ],
      "text/latex": [
       "\\begin{tabular}{r|llll}\n",
       "  & p & d & q & AIC\\\\\n",
       "\\hline\n",
       "\t27 & 3         & 0         & 1         & -634.8369\\\\\n",
       "\t32 & 3         & 1         & 2         & -636.0658\\\\\n",
       "\t24 & 2         & 1         & 2         & -636.7355\\\\\n",
       "\t25 & 2         & 1         & 3         & -638.7385\\\\\n",
       "\t33 & 3         & 1         & 3         & -639.2116\\\\\n",
       "\t28 & 3         & 0         & 2         & -646.4978\\\\\n",
       "\\end{tabular}\n"
      ],
      "text/markdown": [
       "\n",
       "| <!--/--> | p | d | q | AIC |\n",
       "|---|---|---|---|---|\n",
       "| 27 | 3         | 0         | 1         | -634.8369 |\n",
       "| 32 | 3         | 1         | 2         | -636.0658 |\n",
       "| 24 | 2         | 1         | 2         | -636.7355 |\n",
       "| 25 | 2         | 1         | 3         | -638.7385 |\n",
       "| 33 | 3         | 1         | 3         | -639.2116 |\n",
       "| 28 | 3         | 0         | 2         | -646.4978 |\n",
       "\n"
      ],
      "text/plain": [
       "   p d q AIC      \n",
       "27 3 0 1 -634.8369\n",
       "32 3 1 2 -636.0658\n",
       "24 2 1 2 -636.7355\n",
       "25 2 1 3 -638.7385\n",
       "33 3 1 3 -639.2116\n",
       "28 3 0 2 -646.4978"
      ]
     },
     "metadata": {},
     "output_type": "display_data"
    }
   ],
   "source": [
    "\n",
    "test_modelA <- function(p,d,q){\n",
    "  model = arima(log.house, order=c(p,d,q), method=\"ML\")\n",
    "  current.aic = AIC(model)\n",
    "  df = data.frame(p,d,q,current.aic)\n",
    "  names(df) <- c(\"p\",\"d\",\"q\",\"AIC\")\n",
    "  print(paste(p,d,q,current.aic,sep=\" \"))\n",
    "  return(df)\n",
    "}\n",
    "\n",
    "orders = data.frame(Inf,Inf,Inf,Inf)\n",
    "names(orders) <- c(\"p\",\"d\",\"q\",\"AIC\")\n",
    "\n",
    "\n",
    "for (p in 0:3){\n",
    "  for (d in 0:1){\n",
    "    for (q in 0:3) {\n",
    "      possibleError <- tryCatch(\n",
    "        orders<-rbind(orders,test_modelA(p,d,q)),\n",
    "        error=function(e) e\n",
    "      )\n",
    "      if(inherits(possibleError, \"error\")) next\n",
    "      \n",
    "    }\n",
    "  }\n",
    "}\n",
    "orders <- orders[order(-orders$AIC),]\n",
    "tail(orders)\n"
   ]
  },
  {
   "cell_type": "code",
   "execution_count": 29,
   "metadata": {},
   "outputs": [],
   "source": [
    "arima.fit=arima(log.house, order = c(3,1,2), seasonal=list(order=c(0,1,0),period=4), method = \"ML\")\n",
    "#coef(arima.fit)\n",
    "#arima.fit\n",
    "\n"
   ]
  },
  {
   "cell_type": "code",
   "execution_count": 30,
   "metadata": {},
   "outputs": [],
   "source": [
    "#abs(polyroot(c(1, coef(arima.fit)[1:3])))\n",
    "#abs(polyroot(c(1, coef(arima.fit)[4:5])))"
   ]
  }
 ],
 "metadata": {
  "celltoolbar": "Raw Cell Format",
  "kernelspec": {
   "display_name": "R",
   "language": "R",
   "name": "ir"
  },
  "language_info": {
   "codemirror_mode": "r",
   "file_extension": ".r",
   "mimetype": "text/x-r-source",
   "name": "R",
   "pygments_lexer": "r",
   "version": "3.6.1"
  }
 },
 "nbformat": 4,
 "nbformat_minor": 2
}
